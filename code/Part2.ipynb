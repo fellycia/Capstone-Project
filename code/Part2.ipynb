{
 "cells": [
  {
   "cell_type": "markdown",
   "id": "32500118",
   "metadata": {
    "id": "32500118"
   },
   "source": [
    "# Sentiment Analysis on Food reviews\n",
    "# Part 2"
   ]
  },
  {
   "cell_type": "markdown",
   "id": "782936bb",
   "metadata": {},
   "source": [
    "## Executive Summary\n",
    "\n",
    "#### Classical Machine Learning\n",
    "Count Vectorizer and TF-IDF Vectorizer are methods for converting text data into vectors via Bag of Words (BoW) and N-gram encoding. Count Vectorizer uses frequency of words in the corpus. While TF-IDF take into account the importance of words in a document compared to other documents. Words showing up more often one document and not in other documents have more weightage.\n",
    "\n",
    "Gridsearching will be done together with vectorizing and fitting machine learning model (Logistic Regression, Naive Bayes and Linear Support Vector Classifier) on the training data to obtain the best hyperparameters followed by evaluating on the models' performance on the validation dataset.\n",
    "\n",
    "#### Deep learning\n",
    "We will use Recurrent Neural Network (RNN) as our deep learning model as it is suitable for Sequence Data, like text. In order to learn long-term dependencies, Long Short-Term Memory (LSTM) would be use. This is to ensure that a word at the beginning of the sentence could be remembered by a word at far end of the sentence.\n",
    "\n",
    "\n",
    "#### Evaluations\n",
    "Comparing classical machine learning and deep learning for sentiment analysis, the best model would be chosen based on accuracy and recall on the validation set.\n",
    "\n",
    "Deep learning outperformed all classical machine learning models and therefore is the best model in classifying sentiment of customers.\n",
    "\n",
    "Topics that customers were dissatisfied about - Instant coffee and tea, bottled drinks, ingredient quality, pricey products, sugary snacks and pet food. Manufacturers could focus on improving their products, focuses on qualities that customers are concerned about and offering discounts to low quality products."
   ]
  },
  {
   "cell_type": "markdown",
   "id": "d560af67",
   "metadata": {},
   "source": [
    "## Data Dictionary"
   ]
  },
  {
   "cell_type": "markdown",
   "id": "3891eb8a",
   "metadata": {},
   "source": [
    "|Feature|Type|Dataset|Description|\n",
    "|---|---|---|---|\n",
    "|merge_processed|object|train/test|pre-processed summary and text of reviews for machine learning| \n",
    "|merge|object|train/test|raw summary and text of reviews| \n",
    "|score|int|train/test|review ratings (1 to 5)| \n",
    "|label|int|train/test/reviews|sentiment labels (1: negative) (0: positive)| \n",
    "|merge_dl|object|reviews|pre-processed summary and text of reviews for deep learning| "
   ]
  },
  {
   "cell_type": "markdown",
   "id": "548d8abb",
   "metadata": {},
   "source": [
    "## Contents\n",
    "- [Import libraries](#Import-libraries)\n",
    "- [Read in dataset](#Read-in-dataset)\n",
    "- [Logistic regression](#Modeling)\n",
    "- [Multinomial naive-bayes](#Multinomial-naive-bayes)\n",
    "- [Linear support vector classifer](#Linear-support-vector-classifer)\n",
    "- [Recurrent neural network](#Recurrent-neural-network)\n",
    "- [Model evaluation](#Model-evaluation)\n",
    "- [Predictive words for machine learning](#Predictive-words-for-machine-learning)\n",
    "- [Test on unseen data](#Test-on-unseen-data)\n",
    "- [Topic modeling](#Topic-modeling)\n",
    "- [Recommendations and conclusions](#Recommendations-and-conclusions)"
   ]
  },
  {
   "cell_type": "markdown",
   "id": "1523f881",
   "metadata": {
    "id": "1523f881"
   },
   "source": [
    "## Import Libraries"
   ]
  },
  {
   "cell_type": "code",
   "execution_count": 1,
   "id": "050398e2",
   "metadata": {
    "id": "050398e2"
   },
   "outputs": [],
   "source": [
    "import pandas as pd\n",
    "import numpy as np\n",
    "import matplotlib.pyplot as plt"
   ]
  },
  {
   "cell_type": "code",
   "execution_count": 6,
   "id": "b37c3632",
   "metadata": {
    "id": "b37c3632",
    "scrolled": true
   },
   "outputs": [],
   "source": [
    "from sklearn.model_selection import GridSearchCV, train_test_split\n",
    "from sklearn.feature_extraction.text import CountVectorizer, TfidfVectorizer\n",
    "from sklearn.pipeline import Pipeline\n",
    "from sklearn.linear_model import LogisticRegression\n",
    "from sklearn.naive_bayes import MultinomialNB\n",
    "from sklearn.svm import SVC, LinearSVC\n",
    "from sklearn.ensemble import VotingClassifier\n",
    "from sklearn.metrics import accuracy_score, classification_report, confusion_matrix\n",
    "from sklearn.calibration import CalibratedClassifierCV"
   ]
  },
  {
   "cell_type": "code",
   "execution_count": 7,
   "id": "0498c142",
   "metadata": {
    "id": "0498c142"
   },
   "outputs": [],
   "source": [
    "import tensorflow as tf\n",
    "from tensorflow import keras\n",
    "from tensorflow.keras.preprocessing.text import Tokenizer\n",
    "from tensorflow.keras.preprocessing.sequence import pad_sequences\n",
    "from tensorflow.keras import Sequential\n",
    "from tensorflow.keras.layers import Dense, Embedding, Bidirectional, LSTM, SpatialDropout1D, Dropout, GlobalAveragePooling1D\n",
    "from tensorflow.keras.layers.experimental.preprocessing import TextVectorization\n",
    "from tensorflow.keras.optimizers import Adam\n",
    "from tensorflow.keras.callbacks import ModelCheckpoint, EarlyStopping"
   ]
  },
  {
   "cell_type": "code",
   "execution_count": 3,
   "id": "cd933e99",
   "metadata": {
    "id": "cd933e99",
    "outputId": "e05ec125-c9da-4725-cb03-5cd384863933",
    "scrolled": true
   },
   "outputs": [],
   "source": [
    "# Topic modeling libraries\n",
    "import gensim\n",
    "from gensim.corpora import Dictionary\n",
    "from gensim.utils import simple_preprocess\n",
    "import spacy\n",
    "import pyLDAvis\n",
    "import pyLDAvis.gensim_models as gensimvis\n",
    "from nltk.corpus import stopwords\n",
    "from wordcloud import WordCloud, STOPWORDS\n",
    "import matplotlib.colors as mcolors"
   ]
  },
  {
   "cell_type": "markdown",
   "id": "ad4b115a",
   "metadata": {
    "id": "ad4b115a"
   },
   "source": [
    "## Read in dataset"
   ]
  },
  {
   "cell_type": "code",
   "execution_count": 10,
   "id": "39e58ecf",
   "metadata": {
    "id": "39e58ecf"
   },
   "outputs": [],
   "source": [
    "# read in clean dataset\n",
    "train = pd.read_csv('../datasets/train_stem.csv')\n",
    "test = pd.read_csv('../datasets/test_stem.csv')\n",
    "\n",
    "reviews = pd.read_csv('../datasets/dl_reviews.csv')\n",
    "\n",
    "pd.set_option('display.max_colwidth', None)"
   ]
  },
  {
   "cell_type": "code",
   "execution_count": 6,
   "id": "c96979f5",
   "metadata": {
    "id": "c96979f5",
    "outputId": "5fe3f1ab-1d89-4fa2-95c8-bfb99d454b3f"
   },
   "outputs": [
    {
     "data": {
      "text/html": [
       "<div>\n",
       "<style scoped>\n",
       "    .dataframe tbody tr th:only-of-type {\n",
       "        vertical-align: middle;\n",
       "    }\n",
       "\n",
       "    .dataframe tbody tr th {\n",
       "        vertical-align: top;\n",
       "    }\n",
       "\n",
       "    .dataframe thead th {\n",
       "        text-align: right;\n",
       "    }\n",
       "</style>\n",
       "<table border=\"1\" class=\"dataframe\">\n",
       "  <thead>\n",
       "    <tr style=\"text-align: right;\">\n",
       "      <th></th>\n",
       "      <th>merge_processed</th>\n",
       "      <th>merge</th>\n",
       "      <th>score</th>\n",
       "      <th>label</th>\n",
       "    </tr>\n",
       "  </thead>\n",
       "  <tbody>\n",
       "    <tr>\n",
       "      <th>0</th>\n",
       "      <td>pretti good thumb banana nut bread good love banana bread soft bake bar alli</td>\n",
       "      <td>Pretty Good Thumbs up!&lt;br /&gt;&lt;br /&gt;Banana Nut Bread is good, if you love banana bread this soft bake bar is up your ally.</td>\n",
       "      <td>4</td>\n",
       "      <td>0</td>\n",
       "    </tr>\n",
       "    <tr>\n",
       "      <th>1</th>\n",
       "      <td>tasti tasti flavor one could drink everyday honey flavor make littl sweet palett dessert coffe work wonder everyday repeat use good special treat flavor</td>\n",
       "      <td>Tasty This is a tasty flavor but not one I could drink everyday.  The honey flavor makes it a little sweet for my palette but for a dessert coffee it works wonderfully.  I won't but this for everyday repeated use but it is a good special treat flavor.</td>\n",
       "      <td>4</td>\n",
       "      <td>0</td>\n",
       "    </tr>\n",
       "    <tr>\n",
       "      <th>2</th>\n",
       "      <td>quick simpl sour someon develop starter learn patienc failur worri within hour starter bubbl away strong sour nose time began also start commerci dri starter day away readi start wait week starter highli recommend live one</td>\n",
       "      <td>Quick simple and sour As someone who develops his own starters I have learned about patience and failure. No such worries here within 24 hours starter was bubbling away with a strong sour nose to it. At the same time as I began this I also started 2 other \"commercial\" dried starters.  Both are days away from being ready.  If just starting out or can't wait a week for a starter I highly recommend this live one.</td>\n",
       "      <td>5</td>\n",
       "      <td>0</td>\n",
       "    </tr>\n",
       "    <tr>\n",
       "      <th>3</th>\n",
       "      <td>best tast tast excel mix berri almond milk forget ice also tri peach cream lost pound powder shake</td>\n",
       "      <td>best taste Taste excellent with mix berries and almond milk don't forget the ice, also try the peaches and cream I've lost 20 pounds with this powder shake.</td>\n",
       "      <td>5</td>\n",
       "      <td>0</td>\n",
       "    </tr>\n",
       "    <tr>\n",
       "      <th>4</th>\n",
       "      <td>bland tast bought tri lower fat altern peanut found tast bland chalki go organ product pre portion one ounc bag conveni carri purs bag high protein low fat realli tast sea salt flavor though</td>\n",
       "      <td>Bland tasting I bought these to try as a lower fat alternative to peanuts. I found the taste to be bland and chalky. What it does have going for it: it's an organic product, and the pre-portioned one ounce bags are convenient to carry in a purse or bag. It's high in protein and low in fat. I couldn't really taste the sea salt flavor though.</td>\n",
       "      <td>3</td>\n",
       "      <td>1</td>\n",
       "    </tr>\n",
       "  </tbody>\n",
       "</table>\n",
       "</div>"
      ],
      "text/plain": [
       "                                                                                                                                                                                                                  merge_processed  \\\n",
       "0                                                                                                                                                    pretti good thumb banana nut bread good love banana bread soft bake bar alli   \n",
       "1                                                                        tasti tasti flavor one could drink everyday honey flavor make littl sweet palett dessert coffe work wonder everyday repeat use good special treat flavor   \n",
       "2  quick simpl sour someon develop starter learn patienc failur worri within hour starter bubbl away strong sour nose time began also start commerci dri starter day away readi start wait week starter highli recommend live one   \n",
       "3                                                                                                                              best tast tast excel mix berri almond milk forget ice also tri peach cream lost pound powder shake   \n",
       "4                                  bland tast bought tri lower fat altern peanut found tast bland chalki go organ product pre portion one ounc bag conveni carri purs bag high protein low fat realli tast sea salt flavor though   \n",
       "\n",
       "                                                                                                                                                                                                                                                                                                                                                                                                                           merge  \\\n",
       "0                                                                                                                                                                                                                                                                                                       Pretty Good Thumbs up!<br /><br />Banana Nut Bread is good, if you love banana bread this soft bake bar is up your ally.   \n",
       "1                                                                                                                                                                    Tasty This is a tasty flavor but not one I could drink everyday.  The honey flavor makes it a little sweet for my palette but for a dessert coffee it works wonderfully.  I won't but this for everyday repeated use but it is a good special treat flavor.   \n",
       "2  Quick simple and sour As someone who develops his own starters I have learned about patience and failure. No such worries here within 24 hours starter was bubbling away with a strong sour nose to it. At the same time as I began this I also started 2 other \"commercial\" dried starters.  Both are days away from being ready.  If just starting out or can't wait a week for a starter I highly recommend this live one.   \n",
       "3                                                                                                                                                                                                                                                                   best taste Taste excellent with mix berries and almond milk don't forget the ice, also try the peaches and cream I've lost 20 pounds with this powder shake.   \n",
       "4                                                                         Bland tasting I bought these to try as a lower fat alternative to peanuts. I found the taste to be bland and chalky. What it does have going for it: it's an organic product, and the pre-portioned one ounce bags are convenient to carry in a purse or bag. It's high in protein and low in fat. I couldn't really taste the sea salt flavor though.   \n",
       "\n",
       "   score  label  \n",
       "0      4      0  \n",
       "1      4      0  \n",
       "2      5      0  \n",
       "3      5      0  \n",
       "4      3      1  "
      ]
     },
     "execution_count": 6,
     "metadata": {},
     "output_type": "execute_result"
    }
   ],
   "source": [
    "train.head()"
   ]
  },
  {
   "cell_type": "code",
   "execution_count": 7,
   "id": "50ff0c73",
   "metadata": {
    "id": "50ff0c73",
    "outputId": "f4db8be8-4245-4f4e-d858-f86595bebffc"
   },
   "outputs": [
    {
     "data": {
      "text/plain": [
       "(79999, 4)"
      ]
     },
     "execution_count": 7,
     "metadata": {},
     "output_type": "execute_result"
    }
   ],
   "source": [
    "train.shape"
   ]
  },
  {
   "cell_type": "code",
   "execution_count": 8,
   "id": "9469023b",
   "metadata": {
    "id": "9469023b"
   },
   "outputs": [],
   "source": [
    "# set up x and y\n",
    "X = train['merge_processed']\n",
    "y = train['label']"
   ]
  },
  {
   "cell_type": "code",
   "execution_count": 9,
   "id": "231f8781",
   "metadata": {
    "id": "231f8781"
   },
   "outputs": [],
   "source": [
    "# train test split for Machine learning models\n",
    "X_train, X_val, y_train, y_val = train_test_split(X, y, test_size=0.2, random_state=40, stratify=y)"
   ]
  },
  {
   "cell_type": "code",
   "execution_count": 10,
   "id": "d2681fc0",
   "metadata": {
    "id": "d2681fc0",
    "outputId": "32d05c6e-4289-40c1-b947-e5ac25e9af06",
    "scrolled": false
   },
   "outputs": [
    {
     "data": {
      "text/plain": [
       "0    0.664854\n",
       "1    0.335146\n",
       "Name: label, dtype: float64"
      ]
     },
     "execution_count": 10,
     "metadata": {},
     "output_type": "execute_result"
    }
   ],
   "source": [
    "y_train.value_counts(normalize=True)"
   ]
  },
  {
   "cell_type": "code",
   "execution_count": 11,
   "id": "d1be3dc2",
   "metadata": {},
   "outputs": [
    {
     "data": {
      "text/html": [
       "<div>\n",
       "<style scoped>\n",
       "    .dataframe tbody tr th:only-of-type {\n",
       "        vertical-align: middle;\n",
       "    }\n",
       "\n",
       "    .dataframe tbody tr th {\n",
       "        vertical-align: top;\n",
       "    }\n",
       "\n",
       "    .dataframe thead th {\n",
       "        text-align: right;\n",
       "    }\n",
       "</style>\n",
       "<table border=\"1\" class=\"dataframe\">\n",
       "  <thead>\n",
       "    <tr style=\"text-align: right;\">\n",
       "      <th></th>\n",
       "      <th>label</th>\n",
       "      <th>merge_dl</th>\n",
       "    </tr>\n",
       "  </thead>\n",
       "  <tbody>\n",
       "    <tr>\n",
       "      <th>0</th>\n",
       "      <td>1</td>\n",
       "      <td>not as advertised product arrived labeled as jumbo salted peanuts the peanuts were actually small sized unsalted not sure if this was an error or if the vendor intended to represent the product as jumbo</td>\n",
       "    </tr>\n",
       "    <tr>\n",
       "      <th>1</th>\n",
       "      <td>0</td>\n",
       "      <td>nice taffy i got a wild hair for taffy and ordered this five pound bag the taffy was all very enjoyable with many flavors watermelon root beer melon peppermint grape etc my only complaint is there was a bit too much red black licorice flavored pieces just not my particular favorites between me my kids and my husband this lasted only two weeks i would recommend this brand of taffy it was a delightful treat</td>\n",
       "    </tr>\n",
       "    <tr>\n",
       "      <th>2</th>\n",
       "      <td>1</td>\n",
       "      <td>my cats are not fans of the new food my cats have been happily eating felidae platinum for more than two years i just got a new bag and the shape of the food is different they tried the new food when i first put it in their bowls and now the bowls sit full and the kitties will not touch the food i ve noticed similar reviews related to formula changes in the past unfortunately i now need to find a new food that my cats will eat</td>\n",
       "    </tr>\n",
       "    <tr>\n",
       "      <th>3</th>\n",
       "      <td>1</td>\n",
       "      <td>poor taste i love eating them and they are good for watching tv and looking at movies it is not too sweet i like to transfer them to a zip lock baggie so they stay fresh so i can take my time eating them</td>\n",
       "    </tr>\n",
       "    <tr>\n",
       "      <th>4</th>\n",
       "      <td>1</td>\n",
       "      <td>nasty no flavor the candy is just red no flavor just plan and chewy i would never buy them again</td>\n",
       "    </tr>\n",
       "  </tbody>\n",
       "</table>\n",
       "</div>"
      ],
      "text/plain": [
       "   label  \\\n",
       "0      1   \n",
       "1      0   \n",
       "2      1   \n",
       "3      1   \n",
       "4      1   \n",
       "\n",
       "                                                                                                                                                                                                                                                                                                                                                                                                                                         merge_dl  \n",
       "0                                                                                                                                                                                                                                      not as advertised product arrived labeled as jumbo salted peanuts the peanuts were actually small sized unsalted not sure if this was an error or if the vendor intended to represent the product as jumbo  \n",
       "1                        nice taffy i got a wild hair for taffy and ordered this five pound bag the taffy was all very enjoyable with many flavors watermelon root beer melon peppermint grape etc my only complaint is there was a bit too much red black licorice flavored pieces just not my particular favorites between me my kids and my husband this lasted only two weeks i would recommend this brand of taffy it was a delightful treat  \n",
       "2  my cats are not fans of the new food my cats have been happily eating felidae platinum for more than two years i just got a new bag and the shape of the food is different they tried the new food when i first put it in their bowls and now the bowls sit full and the kitties will not touch the food i ve noticed similar reviews related to formula changes in the past unfortunately i now need to find a new food that my cats will eat  \n",
       "3                                                                                                                                                                                                                                     poor taste i love eating them and they are good for watching tv and looking at movies it is not too sweet i like to transfer them to a zip lock baggie so they stay fresh so i can take my time eating them  \n",
       "4                                                                                                                                                                                                                                                                                                                                                nasty no flavor the candy is just red no flavor just plan and chewy i would never buy them again  "
      ]
     },
     "execution_count": 11,
     "metadata": {},
     "output_type": "execute_result"
    }
   ],
   "source": [
    "reviews.head()"
   ]
  },
  {
   "cell_type": "code",
   "execution_count": 12,
   "id": "a312eba0",
   "metadata": {
    "id": "a312eba0"
   },
   "outputs": [],
   "source": [
    "X1 = reviews['merge_dl']\n",
    "y1 = reviews['label']"
   ]
  },
  {
   "cell_type": "code",
   "execution_count": 13,
   "id": "4b8c96ba",
   "metadata": {
    "id": "4b8c96ba"
   },
   "outputs": [],
   "source": [
    "# train test split for deep learning\n",
    "X1_train, X1_val, y1_train, y1_val = train_test_split(X1, y1, test_size=0.2, random_state=40, stratify=y1)"
   ]
  },
  {
   "cell_type": "code",
   "execution_count": 14,
   "id": "9cffc0cb",
   "metadata": {
    "colab": {
     "base_uri": "https://localhost:8080/"
    },
    "id": "9cffc0cb",
    "outputId": "51b49c17-514d-4b15-b1ba-cc2300b21674",
    "scrolled": false
   },
   "outputs": [
    {
     "data": {
      "text/plain": [
       "0    0.664858\n",
       "1    0.335142\n",
       "Name: label, dtype: float64"
      ]
     },
     "execution_count": 14,
     "metadata": {},
     "output_type": "execute_result"
    }
   ],
   "source": [
    "y1_train.value_counts(normalize=True)"
   ]
  },
  {
   "cell_type": "markdown",
   "id": "37b75c22",
   "metadata": {
    "id": "37b75c22"
   },
   "source": [
    "## Logistic regression"
   ]
  },
  {
   "cell_type": "markdown",
   "id": "ea74ad19",
   "metadata": {
    "id": "ea74ad19"
   },
   "source": [
    "Most basic model for classification that we will start with"
   ]
  },
  {
   "cell_type": "markdown",
   "id": "b2da3b55",
   "metadata": {
    "id": "b2da3b55"
   },
   "source": [
    "#### Count Vectorizer"
   ]
  },
  {
   "cell_type": "code",
   "execution_count": 11,
   "id": "c67df629",
   "metadata": {
    "id": "c67df629",
    "outputId": "6530ad0d-725e-4541-f55a-93837e2ca09b",
    "scrolled": true
   },
   "outputs": [
    {
     "name": "stdout",
     "output_type": "stream",
     "text": [
      "Best parameters: {'cvec__max_df': 0.4, 'cvec__max_features': 21000, 'cvec__min_df': 2, 'cvec__ngram_range': (1, 2), 'lr__C': 0.1, 'lr__max_iter': 500, 'lr__penalty': 'l2'}\n",
      "Best CV accuracy score: 0.8690760179017893\n",
      "Training accuracy score: 0.9179049672651135\n",
      "Validation accuracy score: 0.8668125\n"
     ]
    }
   ],
   "source": [
    "# pipeline\n",
    "pipe_cvec_lr = Pipeline([\n",
    "    ('cvec', CountVectorizer(stop_words='english')), \n",
    "    ('lr', LogisticRegression())\n",
    "])\n",
    "\n",
    "# search over hyperparameters\n",
    "pipe_cvec_lr_params = {\n",
    "    'cvec__max_features': [21000], #13000,14000,15000,16000,17000,18000,19000,20000,21000,22000,23000,24000,25000\n",
    "    'cvec__min_df': [2], # 1,2,3,4,5,6\n",
    "    'cvec__max_df': [0.4], # 0.3,0.4,0.5\n",
    "    'cvec__ngram_range':[(1,2)],  #(1,1),(1,2)\n",
    "    'lr__penalty': ['l2'],\n",
    "    'lr__C': [0.1], # 0.01,0.1,1\n",
    "    'lr__max_iter': [500]\n",
    "}\n",
    "\n",
    "# gridsearch\n",
    "gs_cvec_lr = GridSearchCV(pipe_cvec_lr,\n",
    "                          param_grid = pipe_cvec_lr_params,\n",
    "                          cv=5) \n",
    "\n",
    "# fit model\n",
    "gs_cvec_lr.fit(X_train, y_train)\n",
    "\n",
    "# best param\n",
    "print(f'Best parameters: {gs_cvec_lr.best_params_}')\n",
    "# accuracy score\n",
    "print(f'Best CV accuracy score: {gs_cvec_lr.best_score_}')\n",
    "print(f'Training accuracy score: {gs_cvec_lr.score(X_train, y_train)}')\n",
    "print(f'Validation accuracy score: {gs_cvec_lr.score(X_val, y_val)}')"
   ]
  },
  {
   "cell_type": "code",
   "execution_count": null,
   "id": "5f3b0bae",
   "metadata": {
    "id": "5f3b0bae",
    "outputId": "a6194a2f-8a80-4bb2-ea93-b8b0ed5bb292",
    "scrolled": true
   },
   "outputs": [
    {
     "name": "stdout",
     "output_type": "stream",
     "text": [
      "              precision    recall  f1-score   support\n",
      "\n",
      "           0       0.88      0.92      0.90     10638\n",
      "           1       0.83      0.76      0.79      5362\n",
      "\n",
      "    accuracy                           0.87     16000\n",
      "   macro avg       0.86      0.84      0.85     16000\n",
      "weighted avg       0.87      0.87      0.87     16000\n",
      "\n"
     ]
    }
   ],
   "source": [
    "# classification report\n",
    "print(classification_report(y_val, gs_cvec_lr.predict(X_val)))"
   ]
  },
  {
   "cell_type": "code",
   "execution_count": null,
   "id": "fdc312e9",
   "metadata": {
    "id": "fdc312e9",
    "outputId": "13558b11-859f-47f3-91e2-d4ee5dac1c36"
   },
   "outputs": [
    {
     "data": {
      "text/html": [
       "<div>\n",
       "<style scoped>\n",
       "    .dataframe tbody tr th:only-of-type {\n",
       "        vertical-align: middle;\n",
       "    }\n",
       "\n",
       "    .dataframe tbody tr th {\n",
       "        vertical-align: top;\n",
       "    }\n",
       "\n",
       "    .dataframe thead th {\n",
       "        text-align: right;\n",
       "    }\n",
       "</style>\n",
       "<table border=\"1\" class=\"dataframe\">\n",
       "  <thead>\n",
       "    <tr style=\"text-align: right;\">\n",
       "      <th></th>\n",
       "      <th>Pred Positive Sentiment</th>\n",
       "      <th>Pred Negative Sentiment</th>\n",
       "    </tr>\n",
       "  </thead>\n",
       "  <tbody>\n",
       "    <tr>\n",
       "      <th>Actual Positive Sentiment</th>\n",
       "      <td>9796</td>\n",
       "      <td>842</td>\n",
       "    </tr>\n",
       "    <tr>\n",
       "      <th>Actual Negative Sentiment</th>\n",
       "      <td>1289</td>\n",
       "      <td>4073</td>\n",
       "    </tr>\n",
       "  </tbody>\n",
       "</table>\n",
       "</div>"
      ],
      "text/plain": [
       "                           Pred Positive Sentiment  Pred Negative Sentiment\n",
       "Actual Positive Sentiment                     9796                      842\n",
       "Actual Negative Sentiment                     1289                     4073"
      ]
     },
     "execution_count": 11,
     "metadata": {
      "tags": []
     },
     "output_type": "execute_result"
    }
   ],
   "source": [
    "# confusion matrix\n",
    "cm = confusion_matrix(y_val, gs_cvec_lr.predict(X_val))\n",
    "cm_df = pd.DataFrame(\n",
    "    cm,\n",
    "    columns = ['Pred Positive Sentiment', 'Pred Negative Sentiment'],\n",
    "    index=['Actual Positive Sentiment', 'Actual Negative Sentiment']\n",
    ")\n",
    "cm_df"
   ]
  },
  {
   "cell_type": "markdown",
   "id": "623de6d2",
   "metadata": {
    "id": "623de6d2"
   },
   "source": [
    "#### TF-IDF Vectorizer"
   ]
  },
  {
   "cell_type": "code",
   "execution_count": null,
   "id": "54d2ee8c",
   "metadata": {
    "id": "54d2ee8c",
    "outputId": "2f944032-3fc6-49a5-da1b-0ccb2bb55c44",
    "scrolled": false
   },
   "outputs": [
    {
     "name": "stdout",
     "output_type": "stream",
     "text": [
      "Best parameters: {'lr__C': 1, 'lr__max_iter': 500, 'lr__penalty': 'l2', 'tvec__max_df': 0.4, 'tvec__max_features': 21000, 'tvec__min_df': 13, 'tvec__ngram_range': (1, 2)}\n",
      "Best CV accuracy score: 0.8705916892921323\n",
      "Training accuracy score: 0.901045328833263\n",
      "Validation accuracy score: 0.8668125\n"
     ]
    }
   ],
   "source": [
    "# pipeline\n",
    "pipe_tvec_lr = Pipeline([\n",
    "    ('tvec', TfidfVectorizer(stop_words='english')),\n",
    "    ('lr', LogisticRegression())\n",
    "])\n",
    "\n",
    "# search over hyperparameters\n",
    "pipe_tvec_lr_params = {\n",
    "    'tvec__max_features': [21000], #9000,10000,11000,12000,13000,14000,15000,16000,17000,18000,19000,20000,21000,22000\n",
    "    'tvec__min_df': [13], #3,4,5,6,7,8,9,10,11,12,13,14\n",
    "    'tvec__max_df': [0.4], #0.3,0.4,0.5,0.6,0.7,0.8\n",
    "    'tvec__ngram_range':[(1,2)], #(1,2),(2,2)\n",
    "    'lr__penalty': ['l2'],\n",
    "    'lr__C': [1], #0.01,0.1,1\n",
    "    'lr__max_iter': [500]\n",
    "}\n",
    "\n",
    "# gridsearch\n",
    "gs_tvec_lr = GridSearchCV(pipe_tvec_lr,\n",
    "                          param_grid = pipe_tvec_lr_params,\n",
    "                          cv=5)\n",
    "\n",
    "# fit model\n",
    "gs_tvec_lr.fit(X_train, y_train)\n",
    "\n",
    "# best param\n",
    "print(f'Best parameters: {gs_tvec_lr.best_params_}')\n",
    "# accuracy score\n",
    "print(f'Best CV accuracy score: {gs_tvec_lr.best_score_}')\n",
    "print(f'Training accuracy score: {gs_tvec_lr.score(X_train, y_train)}')\n",
    "print(f'Validation accuracy score: {gs_tvec_lr.score(X_val, y_val)}')"
   ]
  },
  {
   "cell_type": "code",
   "execution_count": null,
   "id": "63ef3b21",
   "metadata": {
    "id": "63ef3b21",
    "outputId": "e7f36e89-25b1-4080-daf7-079502633406"
   },
   "outputs": [
    {
     "name": "stdout",
     "output_type": "stream",
     "text": [
      "              precision    recall  f1-score   support\n",
      "\n",
      "           0       0.88      0.93      0.90     10638\n",
      "           1       0.84      0.74      0.79      5362\n",
      "\n",
      "    accuracy                           0.87     16000\n",
      "   macro avg       0.86      0.84      0.85     16000\n",
      "weighted avg       0.87      0.87      0.86     16000\n",
      "\n"
     ]
    }
   ],
   "source": [
    "# classification report\n",
    "print(classification_report(y_val, gs_tvec_lr.predict(X_val)))"
   ]
  },
  {
   "cell_type": "code",
   "execution_count": null,
   "id": "eed7ae1e",
   "metadata": {
    "id": "eed7ae1e",
    "outputId": "4fecb3fb-6827-4819-ee95-ffefa408481c"
   },
   "outputs": [
    {
     "data": {
      "text/html": [
       "<div>\n",
       "<style scoped>\n",
       "    .dataframe tbody tr th:only-of-type {\n",
       "        vertical-align: middle;\n",
       "    }\n",
       "\n",
       "    .dataframe tbody tr th {\n",
       "        vertical-align: top;\n",
       "    }\n",
       "\n",
       "    .dataframe thead th {\n",
       "        text-align: right;\n",
       "    }\n",
       "</style>\n",
       "<table border=\"1\" class=\"dataframe\">\n",
       "  <thead>\n",
       "    <tr style=\"text-align: right;\">\n",
       "      <th></th>\n",
       "      <th>Pred Positive Sentiment</th>\n",
       "      <th>Pred Negative Sentiment</th>\n",
       "    </tr>\n",
       "  </thead>\n",
       "  <tbody>\n",
       "    <tr>\n",
       "      <th>Actual Positive Sentiment</th>\n",
       "      <td>9885</td>\n",
       "      <td>753</td>\n",
       "    </tr>\n",
       "    <tr>\n",
       "      <th>Actual Negative Sentiment</th>\n",
       "      <td>1378</td>\n",
       "      <td>3984</td>\n",
       "    </tr>\n",
       "  </tbody>\n",
       "</table>\n",
       "</div>"
      ],
      "text/plain": [
       "                           Pred Positive Sentiment  Pred Negative Sentiment\n",
       "Actual Positive Sentiment                     9885                      753\n",
       "Actual Negative Sentiment                     1378                     3984"
      ]
     },
     "execution_count": 14,
     "metadata": {
      "tags": []
     },
     "output_type": "execute_result"
    }
   ],
   "source": [
    "# confusion matrix\n",
    "cm = confusion_matrix(y_val, gs_tvec_lr.predict(X_val))\n",
    "cm_df = pd.DataFrame(\n",
    "    cm,\n",
    "    columns = ['Pred Positive Sentiment', 'Pred Negative Sentiment'],\n",
    "    index=['Actual Positive Sentiment', 'Actual Negative Sentiment']\n",
    ")\n",
    "cm_df"
   ]
  },
  {
   "cell_type": "markdown",
   "id": "ed527f2d",
   "metadata": {
    "id": "ed527f2d"
   },
   "source": [
    "## Multinomial naive-bayes"
   ]
  },
  {
   "cell_type": "markdown",
   "id": "1a579bcd",
   "metadata": {
    "id": "1a579bcd"
   },
   "source": [
    "The multinomial Naive Bayes classifier is suitable for classification with discrete features, like word counts for text classification."
   ]
  },
  {
   "cell_type": "markdown",
   "id": "63490ee0",
   "metadata": {
    "id": "63490ee0"
   },
   "source": [
    "#### Count Vectorizer"
   ]
  },
  {
   "cell_type": "code",
   "execution_count": null,
   "id": "e130da4b",
   "metadata": {
    "id": "e130da4b",
    "outputId": "2b525d1a-85d3-4a03-ad43-439ccad1c01e",
    "scrolled": true
   },
   "outputs": [
    {
     "name": "stdout",
     "output_type": "stream",
     "text": [
      "Best parameters: {'cvec__max_df': 0.4, 'cvec__max_features': 25000, 'cvec__min_df': 2, 'cvec__ngram_range': (1, 2), 'nb__alpha': 0.05}\n",
      "Best CV accuracy score: 0.8506070261836862\n",
      "Training accuracy score: 0.8767636994328036\n",
      "Validation accuracy score: 0.8480625\n"
     ]
    }
   ],
   "source": [
    "# pipeline\n",
    "pipe_cvec_nb = Pipeline([\n",
    "    ('cvec', CountVectorizer(stop_words='english')), \n",
    "    ('nb', MultinomialNB())\n",
    "])\n",
    "\n",
    "# search over hyperparameters\n",
    "pipe_cvec_nb_params = {\n",
    "    'cvec__max_features': [25000], #21000,22000,23000,24000,25000,26000\n",
    "    'cvec__min_df': [2], #1,2,3\n",
    "    'cvec__max_df': [0.4], #0.3,0.4,0.5,0.6,0.7,0.8\n",
    "    'cvec__ngram_range':[(1,2)], \n",
    "    'nb__alpha': [0.05] #0.001,0.01,0.05,0.1,0.5,1\n",
    "}\n",
    "\n",
    "# gridsearch\n",
    "gs_cvec_nb = GridSearchCV(pipe_cvec_nb,\n",
    "                          param_grid = pipe_cvec_nb_params,\n",
    "                          cv=5) \n",
    "\n",
    "# fit model\n",
    "gs_cvec_nb.fit(X_train, y_train)\n",
    "\n",
    "# best paramS\n",
    "print(f'Best parameters: {gs_cvec_nb.best_params_}')\n",
    "# accuracy score\n",
    "print(f'Best CV accuracy score: {gs_cvec_nb.best_score_}')\n",
    "print(f'Training accuracy score: {gs_cvec_nb.score(X_train, y_train)}')\n",
    "print(f'Validation accuracy score: {gs_cvec_nb.score(X_val, y_val)}')"
   ]
  },
  {
   "cell_type": "code",
   "execution_count": null,
   "id": "6c934c9e",
   "metadata": {
    "id": "6c934c9e",
    "outputId": "a2287d11-1ba1-4b84-ca6f-1ed80f065ac2"
   },
   "outputs": [
    {
     "name": "stdout",
     "output_type": "stream",
     "text": [
      "              precision    recall  f1-score   support\n",
      "\n",
      "           0       0.89      0.88      0.89     10638\n",
      "           1       0.77      0.78      0.77      5362\n",
      "\n",
      "    accuracy                           0.85     16000\n",
      "   macro avg       0.83      0.83      0.83     16000\n",
      "weighted avg       0.85      0.85      0.85     16000\n",
      "\n"
     ]
    }
   ],
   "source": [
    "# classification report\n",
    "print(classification_report(y_val, gs_cvec_nb.predict(X_val)))"
   ]
  },
  {
   "cell_type": "code",
   "execution_count": null,
   "id": "8d9e243d",
   "metadata": {
    "id": "8d9e243d",
    "outputId": "c4fc70c3-8af9-4e1a-c117-4ac02c29995c"
   },
   "outputs": [
    {
     "data": {
      "text/html": [
       "<div>\n",
       "<style scoped>\n",
       "    .dataframe tbody tr th:only-of-type {\n",
       "        vertical-align: middle;\n",
       "    }\n",
       "\n",
       "    .dataframe tbody tr th {\n",
       "        vertical-align: top;\n",
       "    }\n",
       "\n",
       "    .dataframe thead th {\n",
       "        text-align: right;\n",
       "    }\n",
       "</style>\n",
       "<table border=\"1\" class=\"dataframe\">\n",
       "  <thead>\n",
       "    <tr style=\"text-align: right;\">\n",
       "      <th></th>\n",
       "      <th>Pred Positive Sentiment</th>\n",
       "      <th>Pred Negative Sentiment</th>\n",
       "    </tr>\n",
       "  </thead>\n",
       "  <tbody>\n",
       "    <tr>\n",
       "      <th>Actual Positive Sentiment</th>\n",
       "      <td>9409</td>\n",
       "      <td>1229</td>\n",
       "    </tr>\n",
       "    <tr>\n",
       "      <th>Actual Negative Sentiment</th>\n",
       "      <td>1202</td>\n",
       "      <td>4160</td>\n",
       "    </tr>\n",
       "  </tbody>\n",
       "</table>\n",
       "</div>"
      ],
      "text/plain": [
       "                           Pred Positive Sentiment  Pred Negative Sentiment\n",
       "Actual Positive Sentiment                     9409                     1229\n",
       "Actual Negative Sentiment                     1202                     4160"
      ]
     },
     "execution_count": 18,
     "metadata": {
      "tags": []
     },
     "output_type": "execute_result"
    }
   ],
   "source": [
    "# confusion matrix\n",
    "cm = confusion_matrix(y_val, gs_cvec_nb.predict(X_val))\n",
    "cm_df = pd.DataFrame(\n",
    "    cm,\n",
    "    columns = ['Pred Positive Sentiment', 'Pred Negative Sentiment'],\n",
    "    index=['Actual Positive Sentiment', 'Actual Negative Sentiment']\n",
    ")\n",
    "cm_df"
   ]
  },
  {
   "cell_type": "markdown",
   "id": "e033053b",
   "metadata": {
    "id": "e033053b"
   },
   "source": [
    "#### TF-IDF Vectorizer"
   ]
  },
  {
   "cell_type": "code",
   "execution_count": null,
   "id": "59835a8f",
   "metadata": {
    "id": "59835a8f",
    "outputId": "50b37cfd-750c-49b1-ee02-5e4a526ce0b7",
    "scrolled": true
   },
   "outputs": [
    {
     "name": "stdout",
     "output_type": "stream",
     "text": [
      "Best parameters: {'nb__alpha': 0.05, 'tvec__max_df': 0.5, 'tvec__max_features': 23000, 'tvec__min_df': 1, 'tvec__ngram_range': (1, 2)}\n",
      "Best CV accuracy score: 0.8443100718317836\n",
      "Training accuracy score: 0.8750761730652041\n",
      "Validation accuracy score: 0.841375\n"
     ]
    }
   ],
   "source": [
    "# pipeline\n",
    "pipe_tvec_nb = Pipeline([\n",
    "    ('tvec', TfidfVectorizer(stop_words='english')), \n",
    "    ('nb', MultinomialNB())\n",
    "])\n",
    "\n",
    "# search over hyperparameters\n",
    "pipe_tvec_nb_params = {\n",
    "    'tvec__max_features': [23000], #21000,22000,23000,24000\n",
    "    'tvec__min_df': [1], #1,2,3\n",
    "    'tvec__max_df': [0.5], #0.4,0.5,0.6,0.7,0.8\n",
    "    'tvec__ngram_range':[(1,2)],  #(1,2)\n",
    "    'nb__alpha': [0.05] #0.001,0.05,0.01,0.5,1\n",
    "}\n",
    "\n",
    "# gridsearch\n",
    "gs_tvec_nb = GridSearchCV(pipe_tvec_nb,\n",
    "                          param_grid = pipe_tvec_nb_params,\n",
    "                          cv=5) \n",
    "\n",
    "# fit model\n",
    "gs_tvec_nb.fit(X_train, y_train)\n",
    "\n",
    "# best param\n",
    "print(f'Best parameters: {gs_tvec_nb.best_params_}')\n",
    "# accuracy score\n",
    "print(f'Best CV accuracy score: {gs_tvec_nb.best_score_}')\n",
    "print(f'Training accuracy score: {gs_tvec_nb.score(X_train, y_train)}')\n",
    "print(f'Validation accuracy score: {gs_tvec_nb.score(X_val, y_val)}')"
   ]
  },
  {
   "cell_type": "code",
   "execution_count": null,
   "id": "8893cd2a",
   "metadata": {
    "id": "8893cd2a",
    "outputId": "9eb35bf1-8891-4535-96d8-3fbbe1a50f43"
   },
   "outputs": [
    {
     "name": "stdout",
     "output_type": "stream",
     "text": [
      "              precision    recall  f1-score   support\n",
      "\n",
      "           0       0.84      0.94      0.89     10638\n",
      "           1       0.84      0.65      0.73      5362\n",
      "\n",
      "    accuracy                           0.84     16000\n",
      "   macro avg       0.84      0.79      0.81     16000\n",
      "weighted avg       0.84      0.84      0.84     16000\n",
      "\n"
     ]
    }
   ],
   "source": [
    "# classification report\n",
    "print(classification_report(y_val, gs_tvec_nb.predict(X_val)))"
   ]
  },
  {
   "cell_type": "code",
   "execution_count": null,
   "id": "10ecf978",
   "metadata": {
    "id": "10ecf978",
    "outputId": "ed913b67-0f1e-4756-c811-d28a0e114f2f"
   },
   "outputs": [
    {
     "data": {
      "text/html": [
       "<div>\n",
       "<style scoped>\n",
       "    .dataframe tbody tr th:only-of-type {\n",
       "        vertical-align: middle;\n",
       "    }\n",
       "\n",
       "    .dataframe tbody tr th {\n",
       "        vertical-align: top;\n",
       "    }\n",
       "\n",
       "    .dataframe thead th {\n",
       "        text-align: right;\n",
       "    }\n",
       "</style>\n",
       "<table border=\"1\" class=\"dataframe\">\n",
       "  <thead>\n",
       "    <tr style=\"text-align: right;\">\n",
       "      <th></th>\n",
       "      <th>Pred Positive Sentiment</th>\n",
       "      <th>Pred Negative Sentiment</th>\n",
       "    </tr>\n",
       "  </thead>\n",
       "  <tbody>\n",
       "    <tr>\n",
       "      <th>Actual Positive Sentiment</th>\n",
       "      <td>9990</td>\n",
       "      <td>648</td>\n",
       "    </tr>\n",
       "    <tr>\n",
       "      <th>Actual Negative Sentiment</th>\n",
       "      <td>1890</td>\n",
       "      <td>3472</td>\n",
       "    </tr>\n",
       "  </tbody>\n",
       "</table>\n",
       "</div>"
      ],
      "text/plain": [
       "                           Pred Positive Sentiment  Pred Negative Sentiment\n",
       "Actual Positive Sentiment                     9990                      648\n",
       "Actual Negative Sentiment                     1890                     3472"
      ]
     },
     "execution_count": 21,
     "metadata": {
      "tags": []
     },
     "output_type": "execute_result"
    }
   ],
   "source": [
    "# confusion matrix\n",
    "cm = confusion_matrix(y_val, gs_tvec_nb.predict(X_val))\n",
    "cm_df = pd.DataFrame(\n",
    "    cm,\n",
    "    columns = ['Pred Positive Sentiment', 'Pred Negative Sentiment'],\n",
    "    index=['Actual Positive Sentiment', 'Actual Negative Sentiment']\n",
    ")\n",
    "cm_df"
   ]
  },
  {
   "cell_type": "markdown",
   "id": "902608e6",
   "metadata": {
    "id": "902608e6"
   },
   "source": [
    "## Linear support vector classifer"
   ]
  },
  {
   "cell_type": "markdown",
   "id": "532d84bd",
   "metadata": {
    "id": "532d84bd"
   },
   "source": [
    "'Linear' kernel was chose when Support Vector Classifier was fitted on a smaller dataset. Due it the bigger set of sample, linear Support Vector Classifier would be used instead. It is a supervised machine learning model that uses classification algorithms for classification problems."
   ]
  },
  {
   "cell_type": "markdown",
   "id": "4f2e285f",
   "metadata": {
    "id": "4f2e285f"
   },
   "source": [
    "#### Count Vectorizer"
   ]
  },
  {
   "cell_type": "code",
   "execution_count": null,
   "id": "df61c7e6",
   "metadata": {
    "id": "df61c7e6",
    "outputId": "0747d15c-d7ce-49a0-ea19-22a2a7a86fbf",
    "scrolled": true
   },
   "outputs": [
    {
     "name": "stdout",
     "output_type": "stream",
     "text": [
      "Best parameters: {'cvec__max_df': 0.4, 'cvec__max_features': 27000, 'cvec__min_df': 6, 'cvec__ngram_range': (1, 2), 'lsvc__C': 0.05, 'lsvc__loss': 'hinge', 'lsvc__max_iter': 5000}\n",
      "Best CV accuracy score: 0.8682010508633488\n",
      "Training accuracy score: 0.9320458132158315\n",
      "Validation accuracy score: 0.8648125\n"
     ]
    }
   ],
   "source": [
    "# pipeline\n",
    "pipe_cvec_lsvc = Pipeline([\n",
    "    ('cvec', CountVectorizer(stop_words='english')), \n",
    "    ('lsvc', LinearSVC())])\n",
    "\n",
    "# search over hyperparameters\n",
    "pipe_cvec_lsvc_params = {\n",
    "    'cvec__max_features': [27000], # 24000,25000,26000,27000,28000,29000,30000\n",
    "    'cvec__min_df': [6], # 2,3,4,5,6,7,8\n",
    "    'cvec__max_df': [0.4], # 0.3,0.4,0.5,0.6,0.7\n",
    "    'cvec__ngram_range': [(1,2)],  \n",
    "    'lsvc__C': [0.05], #0.001,0.01,0.05,0.1\n",
    "    'lsvc__loss': ['hinge'],\n",
    "    'lsvc__max_iter': [5000]\n",
    "}\n",
    "\n",
    "# gridsearch\n",
    "gs_cvec_lsvc = GridSearchCV(pipe_cvec_lsvc,\n",
    "                          param_grid = pipe_cvec_lsvc_params,\n",
    "                          cv=5) \n",
    "\n",
    "# fit model\n",
    "gs_cvec_lsvc.fit(X_train, y_train)\n",
    "\n",
    "# best param\n",
    "print(f'Best parameters: {gs_cvec_lsvc.best_params_}')\n",
    "# accuracy score\n",
    "print(f'Best CV accuracy score: {gs_cvec_lsvc.best_score_}')\n",
    "print(f'Training accuracy score: {gs_cvec_lsvc.score(X_train, y_train)}')\n",
    "print(f'Validation accuracy score: {gs_cvec_lsvc.score(X_val, y_val)}')"
   ]
  },
  {
   "cell_type": "code",
   "execution_count": null,
   "id": "a0ea2dd7",
   "metadata": {
    "id": "a0ea2dd7",
    "outputId": "756cdd1f-28fe-4e4a-f64f-0064a1e954ad"
   },
   "outputs": [
    {
     "name": "stdout",
     "output_type": "stream",
     "text": [
      "              precision    recall  f1-score   support\n",
      "\n",
      "           0       0.88      0.92      0.90     10638\n",
      "           1       0.82      0.76      0.79      5362\n",
      "\n",
      "    accuracy                           0.86     16000\n",
      "   macro avg       0.85      0.84      0.85     16000\n",
      "weighted avg       0.86      0.86      0.86     16000\n",
      "\n"
     ]
    }
   ],
   "source": [
    "# classification report\n",
    "print(classification_report(y_val, gs_cvec_lsvc.predict(X_val)))"
   ]
  },
  {
   "cell_type": "code",
   "execution_count": null,
   "id": "0c90b0f7",
   "metadata": {
    "id": "0c90b0f7",
    "outputId": "b99672c5-4f62-4ae8-fdfe-ee5723816ad4"
   },
   "outputs": [
    {
     "data": {
      "text/html": [
       "<div>\n",
       "<style scoped>\n",
       "    .dataframe tbody tr th:only-of-type {\n",
       "        vertical-align: middle;\n",
       "    }\n",
       "\n",
       "    .dataframe tbody tr th {\n",
       "        vertical-align: top;\n",
       "    }\n",
       "\n",
       "    .dataframe thead th {\n",
       "        text-align: right;\n",
       "    }\n",
       "</style>\n",
       "<table border=\"1\" class=\"dataframe\">\n",
       "  <thead>\n",
       "    <tr style=\"text-align: right;\">\n",
       "      <th></th>\n",
       "      <th>Pred Positive Sentiment</th>\n",
       "      <th>Pred Negative Sentiment</th>\n",
       "    </tr>\n",
       "  </thead>\n",
       "  <tbody>\n",
       "    <tr>\n",
       "      <th>Actual Positive Sentiment</th>\n",
       "      <td>9747</td>\n",
       "      <td>891</td>\n",
       "    </tr>\n",
       "    <tr>\n",
       "      <th>Actual Negative Sentiment</th>\n",
       "      <td>1272</td>\n",
       "      <td>4090</td>\n",
       "    </tr>\n",
       "  </tbody>\n",
       "</table>\n",
       "</div>"
      ],
      "text/plain": [
       "                           Pred Positive Sentiment  Pred Negative Sentiment\n",
       "Actual Positive Sentiment                     9747                      891\n",
       "Actual Negative Sentiment                     1272                     4090"
      ]
     },
     "execution_count": 66,
     "metadata": {
      "tags": []
     },
     "output_type": "execute_result"
    }
   ],
   "source": [
    "# confusion matrix\n",
    "cm = confusion_matrix(y_val, gs_cvec_lsvc.predict(X_val))\n",
    "cm_df = pd.DataFrame(\n",
    "    cm,\n",
    "    columns = ['Pred Positive Sentiment', 'Pred Negative Sentiment'],\n",
    "    index=['Actual Positive Sentiment', 'Actual Negative Sentiment']\n",
    ")\n",
    "cm_df"
   ]
  },
  {
   "cell_type": "markdown",
   "id": "a32a4e9f",
   "metadata": {
    "id": "a32a4e9f"
   },
   "source": [
    "#### TF-IDF Vectorizer"
   ]
  },
  {
   "cell_type": "code",
   "execution_count": null,
   "id": "e870f546",
   "metadata": {
    "id": "e870f546",
    "outputId": "90a7f99c-b398-4749-9d38-c690e44850d8"
   },
   "outputs": [
    {
     "name": "stdout",
     "output_type": "stream",
     "text": [
      "Best parameters: {'lsvc__C': 0.5, 'lsvc__loss': 'hinge', 'lsvc__max_iter': 5000, 'tvec__max_df': 0.4, 'tvec__max_features': 27000, 'tvec__min_df': 4, 'tvec__ngram_range': (1, 2)}\n",
      "Best CV accuracy score: 0.8710916966169233\n",
      "Training accuracy score: 0.9107329802028157\n",
      "Validation accuracy score: 0.8684375\n"
     ]
    }
   ],
   "source": [
    "# pipeline\n",
    "pipe_tvec_lsvc = Pipeline([\n",
    "    ('tvec', TfidfVectorizer(stop_words='english')), \n",
    "    ('lsvc', LinearSVC())])\n",
    "\n",
    "# search over hyperparameters\n",
    "pipe_tvec_lsvc_params = {\n",
    "    'tvec__max_features': [27000], # 27000,30000\n",
    "    'tvec__min_df': [4], # 3,4,5,6,7,8\n",
    "    'tvec__max_df': [0.4], # 0.3,0.4,0.5,0.6,0.7\n",
    "    'tvec__ngram_range': [(1,2)],  \n",
    "    'lsvc__C': [0.5], #0.01,0.05,0.1,0.5\n",
    "    'lsvc__loss': ['hinge'],\n",
    "    'lsvc__max_iter': [5000]\n",
    "}\n",
    "\n",
    "# gridsearch\n",
    "gs_tvec_lsvc = GridSearchCV(pipe_tvec_lsvc,\n",
    "                          param_grid = pipe_tvec_lsvc_params,\n",
    "                          cv=5) \n",
    "\n",
    "# fit model\n",
    "gs_tvec_lsvc.fit(X_train, y_train)\n",
    "\n",
    "# best param\n",
    "print(f'Best parameters: {gs_tvec_lsvc.best_params_}')\n",
    "# accuracy score\n",
    "print(f'Best CV accuracy score: {gs_tvec_lsvc.best_score_}')\n",
    "print(f'Training accuracy score: {gs_tvec_lsvc.score(X_train, y_train)}')\n",
    "print(f'Validation accuracy score: {gs_tvec_lsvc.score(X_val, y_val)}')"
   ]
  },
  {
   "cell_type": "code",
   "execution_count": null,
   "id": "b1a3bdf3",
   "metadata": {
    "id": "b1a3bdf3",
    "outputId": "3c7be82e-bd95-4ef1-c84c-e168929c38a3"
   },
   "outputs": [
    {
     "name": "stdout",
     "output_type": "stream",
     "text": [
      "              precision    recall  f1-score   support\n",
      "\n",
      "           0       0.88      0.93      0.90     10638\n",
      "           1       0.84      0.75      0.79      5362\n",
      "\n",
      "    accuracy                           0.87     16000\n",
      "   macro avg       0.86      0.84      0.85     16000\n",
      "weighted avg       0.87      0.87      0.87     16000\n",
      "\n"
     ]
    }
   ],
   "source": [
    "# classification report\n",
    "print(classification_report(y_val, gs_tvec_lsvc.predict(X_val)))"
   ]
  },
  {
   "cell_type": "code",
   "execution_count": null,
   "id": "2a0296d9",
   "metadata": {
    "id": "2a0296d9",
    "outputId": "d7fa60bb-a2f0-43e7-e8e6-92bb307a3037"
   },
   "outputs": [
    {
     "data": {
      "text/html": [
       "<div>\n",
       "<style scoped>\n",
       "    .dataframe tbody tr th:only-of-type {\n",
       "        vertical-align: middle;\n",
       "    }\n",
       "\n",
       "    .dataframe tbody tr th {\n",
       "        vertical-align: top;\n",
       "    }\n",
       "\n",
       "    .dataframe thead th {\n",
       "        text-align: right;\n",
       "    }\n",
       "</style>\n",
       "<table border=\"1\" class=\"dataframe\">\n",
       "  <thead>\n",
       "    <tr style=\"text-align: right;\">\n",
       "      <th></th>\n",
       "      <th>Pred Positive Sentiment</th>\n",
       "      <th>Pred Negative Sentiment</th>\n",
       "    </tr>\n",
       "  </thead>\n",
       "  <tbody>\n",
       "    <tr>\n",
       "      <th>Actual Positive Sentiment</th>\n",
       "      <td>9871</td>\n",
       "      <td>767</td>\n",
       "    </tr>\n",
       "    <tr>\n",
       "      <th>Actual Negative Sentiment</th>\n",
       "      <td>1338</td>\n",
       "      <td>4024</td>\n",
       "    </tr>\n",
       "  </tbody>\n",
       "</table>\n",
       "</div>"
      ],
      "text/plain": [
       "                           Pred Positive Sentiment  Pred Negative Sentiment\n",
       "Actual Positive Sentiment                     9871                      767\n",
       "Actual Negative Sentiment                     1338                     4024"
      ]
     },
     "execution_count": 68,
     "metadata": {
      "tags": []
     },
     "output_type": "execute_result"
    }
   ],
   "source": [
    "# confusion matrix\n",
    "cm = confusion_matrix(y_val, gs_tvec_lsvc.predict(X_val))\n",
    "cm_df = pd.DataFrame(\n",
    "    cm,\n",
    "    columns = ['Pred Positive Sentiment', 'Pred Negative Sentiment'],\n",
    "    index=['Actual Positive Sentiment', 'Actual Negative Sentiment']\n",
    ")\n",
    "cm_df"
   ]
  },
  {
   "cell_type": "markdown",
   "id": "2fb28d08",
   "metadata": {
    "id": "2fb28d08"
   },
   "source": [
    "## Recurrent neural network"
   ]
  },
  {
   "cell_type": "markdown",
   "id": "dZKJZjkF1T1f",
   "metadata": {
    "id": "dZKJZjkF1T1f"
   },
   "source": [
    "We will be using corpus embedding to build a deep network."
   ]
  },
  {
   "cell_type": "markdown",
   "id": "e67df6a2",
   "metadata": {
    "id": "e67df6a2"
   },
   "source": [
    "### Bidirection Long Short Term Memory\n",
    "Ensure complete, sequential information about all points before and after it. By processing the data in both directions with two separate hidden layers, which are then fed forwards to the same output layer."
   ]
  },
  {
   "cell_type": "code",
   "execution_count": 15,
   "id": "c4dc90ff",
   "metadata": {
    "id": "c4dc90ff"
   },
   "outputs": [],
   "source": [
    "# set up train and validation set\n",
    "train_sentence = X1_train.values\n",
    "val_sentence = X1_val.values\n",
    "train_label = y1_train.values\n",
    "val_label = y1_val.values"
   ]
  },
  {
   "cell_type": "code",
   "execution_count": 12,
   "id": "5d077b8a",
   "metadata": {},
   "outputs": [
    {
     "data": {
      "text/plain": [
       "(79999,)"
      ]
     },
     "execution_count": 12,
     "metadata": {},
     "output_type": "execute_result"
    }
   ],
   "source": [
    "train_sentence.shape"
   ]
  },
  {
   "cell_type": "code",
   "execution_count": 13,
   "id": "9c9f0350",
   "metadata": {},
   "outputs": [
    {
     "data": {
      "text/plain": [
       "(20000,)"
      ]
     },
     "execution_count": 13,
     "metadata": {},
     "output_type": "execute_result"
    }
   ],
   "source": [
    "val_sentence.shape"
   ]
  },
  {
   "cell_type": "code",
   "execution_count": 16,
   "id": "b67d4857",
   "metadata": {
    "colab": {
     "base_uri": "https://localhost:8080/"
    },
    "id": "b67d4857",
    "outputId": "6b7d9b81-56e1-4d98-d228-9d7740ed7325"
   },
   "outputs": [
    {
     "name": "stdout",
     "output_type": "stream",
     "text": [
      "Unique tokens:  57961\n"
     ]
    }
   ],
   "source": [
    "# Encoding, sequencing, padding\n",
    "\n",
    "max_length = 100 # Max number of words in each review (avg no. of words in negative review is 97 and positive review is 86)\n",
    "\n",
    "max_words = 2000 # The maximum number of words to be used. (most frequent)\n",
    "                 # model overfitted when using 10000 and 20000 words.\n",
    "\n",
    "tokenizer = Tokenizer(num_words=max_words)\n",
    "tokenizer.fit_on_texts(list(train_sentence)) # create associations of words with numbers \n",
    "\n",
    "# include padded 0 as valid word\n",
    "vocab_size = len(tokenizer.word_index) + 1\n",
    "print('Unique tokens: ' ,vocab_size)\n",
    "\n",
    "train_seq = tokenizer.texts_to_sequences(train_sentence)\n",
    "train_pad = pad_sequences(train_seq,\n",
    "                          maxlen=max_length)\n",
    "\n",
    "val_seq = tokenizer.texts_to_sequences(val_sentence)\n",
    "val_pad = pad_sequences(val_seq,\n",
    "                        maxlen=max_length)\n"
   ]
  },
  {
   "cell_type": "code",
   "execution_count": 28,
   "id": "2e4d7734",
   "metadata": {},
   "outputs": [
    {
     "name": "stdout",
     "output_type": "stream",
     "text": [
      "Example of Padded sentence:\n",
      "\n",
      "[   0    0    0    0    0    0    0    0    0    0    0    0    0    0\n",
      "    0    0    0    0    0    0    0    0    0    0    0    0    0    0\n",
      "    0    0    0    0    0    0    0    0  104    2  138  302    9   18\n",
      "  490 1000    2  182    9   17    1  202 1861  382  327    7  327    7\n",
      "  467 1843   58 1852   17  202   27   71  117  143  121    3  409  299\n",
      "   66   32  959  570   38   16  158    6   19    4  373  355    7  168\n",
      " 1249   58  200 1025   11 1580  193  199  629    3  202  312  509   17\n",
      "    9  753]\n",
      "\n",
      "\n",
      "Padded shape:  (79999, 100)\n"
     ]
    }
   ],
   "source": [
    "print('Example of Padded sentence:\\n')\n",
    "print(train_pad[9])\n",
    "print('\\n')\n",
    "print('Padded shape: ', train_pad.shape)"
   ]
  },
  {
   "cell_type": "markdown",
   "id": "TRjklJ5Q2B1f",
   "metadata": {
    "id": "TRjklJ5Q2B1f"
   },
   "source": [
    "The training data is first fed to a 3 layer neural network. The first layer is a Bidirectional LSTM with 50 nodes. The second layer is a dense layer with 10 nodes and the output layer has 1 node."
   ]
  },
  {
   "cell_type": "code",
   "execution_count": 17,
   "id": "b0c3bae1",
   "metadata": {
    "id": "b0c3bae1",
    "scrolled": true
   },
   "outputs": [],
   "source": [
    "# model architecture\n",
    "\n",
    "model = Sequential()\n",
    "\n",
    "# Turns positive integers (indexes) into dense vectors of fixed size.\n",
    "model.add(Embedding(input_dim=vocab_size, output_dim=30, input_length=max_length))\n",
    "\n",
    "# drops entire 1D feature maps instead of individual elements\n",
    "model.add(SpatialDropout1D(0.2)) \n",
    "\n",
    "# bidirectional LSTM\n",
    "model.add(Bidirectional(LSTM(30, dropout=0.2)))\n",
    "\n",
    "# dense layer\n",
    "model.add(Dense(10, activation='relu'))\n",
    "\n",
    "# output layer\n",
    "model.add(Dense(1, activation='sigmoid'))\n",
    "\n",
    "# compile model \n",
    "adam = Adam(learning_rate=0.001)\n",
    "model.compile(loss='binary_crossentropy', \n",
    "              optimizer=adam, \n",
    "              metrics=['accuracy'])"
   ]
  },
  {
   "cell_type": "code",
   "execution_count": 15,
   "id": "8153cb18",
   "metadata": {
    "colab": {
     "base_uri": "https://localhost:8080/"
    },
    "id": "8153cb18",
    "outputId": "c7ed8da9-52bc-46c2-a569-479082185d78"
   },
   "outputs": [
    {
     "name": "stdout",
     "output_type": "stream",
     "text": [
      "Model: \"sequential\"\n",
      "_________________________________________________________________\n",
      "Layer (type)                 Output Shape              Param #   \n",
      "=================================================================\n",
      "embedding (Embedding)        (None, 100, 30)           1738830   \n",
      "_________________________________________________________________\n",
      "spatial_dropout1d (SpatialDr (None, 100, 30)           0         \n",
      "_________________________________________________________________\n",
      "bidirectional (Bidirectional (None, 60)                14640     \n",
      "_________________________________________________________________\n",
      "dense (Dense)                (None, 10)                610       \n",
      "_________________________________________________________________\n",
      "dense_1 (Dense)              (None, 1)                 11        \n",
      "=================================================================\n",
      "Total params: 1,754,091\n",
      "Trainable params: 1,754,091\n",
      "Non-trainable params: 0\n",
      "_________________________________________________________________\n"
     ]
    }
   ],
   "source": [
    "model.summary()"
   ]
  },
  {
   "cell_type": "code",
   "execution_count": 16,
   "id": "2d24e1b6",
   "metadata": {
    "colab": {
     "base_uri": "https://localhost:8080/"
    },
    "id": "2d24e1b6",
    "outputId": "95eb627c-b46f-404e-b18f-08422567e9ab"
   },
   "outputs": [
    {
     "name": "stdout",
     "output_type": "stream",
     "text": [
      "Epoch 1/10\n",
      "1250/1250 [==============================] - 91s 73ms/step - loss: 0.3727 - accuracy: 0.8326 - val_loss: 0.3064 - val_accuracy: 0.8684\n",
      "Epoch 2/10\n",
      "1250/1250 [==============================] - 91s 73ms/step - loss: 0.2982 - accuracy: 0.8739 - val_loss: 0.2891 - val_accuracy: 0.8749\n",
      "Epoch 3/10\n",
      "1250/1250 [==============================] - 91s 73ms/step - loss: 0.2761 - accuracy: 0.8842 - val_loss: 0.2716 - val_accuracy: 0.8848\n",
      "Epoch 4/10\n",
      "1250/1250 [==============================] - 91s 73ms/step - loss: 0.2617 - accuracy: 0.8906 - val_loss: 0.2649 - val_accuracy: 0.8883\n",
      "Epoch 5/10\n",
      "1250/1250 [==============================] - 91s 73ms/step - loss: 0.2497 - accuracy: 0.8962 - val_loss: 0.2654 - val_accuracy: 0.8897\n",
      "Epoch 6/10\n",
      "1250/1250 [==============================] - 91s 73ms/step - loss: 0.2419 - accuracy: 0.8998 - val_loss: 0.2618 - val_accuracy: 0.8910\n",
      "Epoch 7/10\n",
      "1250/1250 [==============================] - 91s 73ms/step - loss: 0.2350 - accuracy: 0.9029 - val_loss: 0.2596 - val_accuracy: 0.8917\n",
      "Epoch 8/10\n",
      "1250/1250 [==============================] - 91s 73ms/step - loss: 0.2286 - accuracy: 0.9050 - val_loss: 0.2708 - val_accuracy: 0.8913\n",
      "Epoch 9/10\n",
      "1250/1250 [==============================] - 91s 73ms/step - loss: 0.2226 - accuracy: 0.9077 - val_loss: 0.2648 - val_accuracy: 0.8880\n",
      "Epoch 10/10\n",
      "1250/1250 [==============================] - 91s 73ms/step - loss: 0.2170 - accuracy: 0.9111 - val_loss: 0.2863 - val_accuracy: 0.8887\n"
     ]
    }
   ],
   "source": [
    "folder = './savemodels'\n",
    "filepath = folder + \"/model-{epoch:02d}.hdf5\"\n",
    "\n",
    "create checkpoint callback\n",
    "cp_callback = ModelCheckpoint(filepath, save_weights_only=False, save_freq=1, save_best_only=False)\n",
    "\n",
    "history = model.fit(train_pad, \n",
    "                    train_label, \n",
    "                    validation_data=(val_pad, val_label),\n",
    "                    batch_size=64,\n",
    "                    epochs=10, \n",
    "                    verbose=1\n",
    "                    callbacks=[cp_callback])"
   ]
  },
  {
   "cell_type": "code",
   "execution_count": 17,
   "id": "b364cbc8",
   "metadata": {
    "colab": {
     "base_uri": "https://localhost:8080/",
     "height": 352
    },
    "id": "b364cbc8",
    "outputId": "037707c2-80c5-4de4-be2c-deb8ee6dfd37"
   },
   "outputs": [
    {
     "data": {
      "image/png": "[encoded data removed]",
      "text/plain": [
       "<Figure size 1080x360 with 1 Axes>"
      ]
     },
     "metadata": {
      "needs_background": "light"
     },
     "output_type": "display_data"
    }
   ],
   "source": [
    "# plot the training history\n",
    "\n",
    "plt.figure(figsize=(15,5))\n",
    "plt.plot(history.history['accuracy'], label='Train accuracy')\n",
    "plt.plot(history.history['val_accuracy'], label='Val accuracy')\n",
    "plt.legend()\n",
    "plt.title('Training and Validation accuracy by epoch')\n",
    "plt.xlabel('Epochs')\n",
    "plt.ylabel('Accuracy');"
   ]
  },
  {
   "cell_type": "code",
   "execution_count": 18,
   "id": "c60e0fd7",
   "metadata": {
    "colab": {
     "base_uri": "https://localhost:8080/",
     "height": 352
    },
    "id": "c60e0fd7",
    "outputId": "a7209971-6ed1-43d9-b032-b8534e9f9ac1",
    "scrolled": true
   },
   "outputs": [
    {
     "data": {
      "image/png": "[encoded data removed]",
      "text/plain": [
       "<Figure size 1080x360 with 1 Axes>"
      ]
     },
     "metadata": {
      "needs_background": "light"
     },
     "output_type": "display_data"
    }
   ],
   "source": [
    "#plot the training history\n",
    "\n",
    "plt.figure(figsize=(15,5))\n",
    "plt.plot(history.history['loss'], label='Train loss')\n",
    "plt.plot(history.history['val_loss'], label='Val loss')\n",
    "plt.legend()\n",
    "plt.title('Training and Validation loss by epoch')\n",
    "plt.xlabel('Epochs')\n",
    "plt.ylabel('Loss');"
   ]
  },
  {
   "cell_type": "markdown",
   "id": "37f93674",
   "metadata": {},
   "source": [
    "We will use epoch 7 since it gives the lowest validation loss and best validation accuracy."
   ]
  },
  {
   "cell_type": "code",
   "execution_count": 18,
   "id": "ebf8bed9",
   "metadata": {},
   "outputs": [],
   "source": [
    "# load weight and compile model\n",
    "model.load_weights('../savemodels/model-07.hdf5')\n",
    "\n",
    "adam = Adam(learning_rate=0.001)\n",
    "model.compile(loss='binary_crossentropy', optimizer=adam, metrics=['accuracy'])"
   ]
  },
  {
   "cell_type": "code",
   "execution_count": 16,
   "id": "20820ab5",
   "metadata": {
    "scrolled": true
   },
   "outputs": [
    {
     "data": {
      "text/plain": [
       "<tensorflow.python.keras.engine.sequential.Sequential at 0x1639acbe3a0>"
      ]
     },
     "execution_count": 16,
     "metadata": {},
     "output_type": "execute_result"
    }
   ],
   "source": [
    "model"
   ]
  },
  {
   "cell_type": "code",
   "execution_count": 17,
   "id": "13ae5537",
   "metadata": {},
   "outputs": [],
   "source": [
    "# create predicted labels\n",
    "predictions = (model.predict(val_pad) > 0.5).astype(int)"
   ]
  },
  {
   "cell_type": "code",
   "execution_count": 18,
   "id": "988ffcdd",
   "metadata": {},
   "outputs": [],
   "source": [
    "val_preds = predictions.T[0]"
   ]
  },
  {
   "cell_type": "code",
   "execution_count": 19,
   "id": "d978c8a8",
   "metadata": {},
   "outputs": [
    {
     "data": {
      "text/plain": [
       "array([0, 1, 1, ..., 0, 1, 1])"
      ]
     },
     "execution_count": 19,
     "metadata": {},
     "output_type": "execute_result"
    }
   ],
   "source": [
    "val_preds"
   ]
  },
  {
   "cell_type": "code",
   "execution_count": 20,
   "id": "7be4c39e",
   "metadata": {},
   "outputs": [
    {
     "data": {
      "text/plain": [
       "array([0, 1, 1, ..., 0, 1, 0], dtype=int64)"
      ]
     },
     "execution_count": 20,
     "metadata": {},
     "output_type": "execute_result"
    }
   ],
   "source": [
    "val_label"
   ]
  },
  {
   "cell_type": "code",
   "execution_count": 21,
   "id": "9045da51",
   "metadata": {
    "scrolled": true
   },
   "outputs": [
    {
     "name": "stdout",
     "output_type": "stream",
     "text": [
      "              precision    recall  f1-score   support\n",
      "\n",
      "           0       0.90      0.94      0.92     13297\n",
      "           1       0.86      0.80      0.83      6703\n",
      "\n",
      "    accuracy                           0.89     20000\n",
      "   macro avg       0.88      0.87      0.88     20000\n",
      "weighted avg       0.89      0.89      0.89     20000\n",
      "\n"
     ]
    }
   ],
   "source": [
    "# classification report\n",
    "print(classification_report(val_label, val_preds))"
   ]
  },
  {
   "cell_type": "code",
   "execution_count": 22,
   "id": "9b503b14",
   "metadata": {
    "scrolled": true
   },
   "outputs": [
    {
     "data": {
      "text/html": [
       "<div>\n",
       "<style scoped>\n",
       "    .dataframe tbody tr th:only-of-type {\n",
       "        vertical-align: middle;\n",
       "    }\n",
       "\n",
       "    .dataframe tbody tr th {\n",
       "        vertical-align: top;\n",
       "    }\n",
       "\n",
       "    .dataframe thead th {\n",
       "        text-align: right;\n",
       "    }\n",
       "</style>\n",
       "<table border=\"1\" class=\"dataframe\">\n",
       "  <thead>\n",
       "    <tr style=\"text-align: right;\">\n",
       "      <th></th>\n",
       "      <th>Pred Positive Sentiment</th>\n",
       "      <th>Pred Negative Sentiment</th>\n",
       "    </tr>\n",
       "  </thead>\n",
       "  <tbody>\n",
       "    <tr>\n",
       "      <th>Actual Positive Sentiment</th>\n",
       "      <td>12444</td>\n",
       "      <td>853</td>\n",
       "    </tr>\n",
       "    <tr>\n",
       "      <th>Actual Negative Sentiment</th>\n",
       "      <td>1313</td>\n",
       "      <td>5390</td>\n",
       "    </tr>\n",
       "  </tbody>\n",
       "</table>\n",
       "</div>"
      ],
      "text/plain": [
       "                           Pred Positive Sentiment  Pred Negative Sentiment\n",
       "Actual Positive Sentiment                    12444                      853\n",
       "Actual Negative Sentiment                     1313                     5390"
      ]
     },
     "execution_count": 22,
     "metadata": {},
     "output_type": "execute_result"
    }
   ],
   "source": [
    "# confusion matrix\n",
    "cm = confusion_matrix(val_label, val_preds)\n",
    "cm_df = pd.DataFrame(\n",
    "    cm,\n",
    "    columns = ['Pred Positive Sentiment', 'Pred Negative Sentiment'],\n",
    "    index=['Actual Positive Sentiment', 'Actual Negative Sentiment']\n",
    ")\n",
    "cm_df"
   ]
  },
  {
   "cell_type": "markdown",
   "id": "ad5651c5",
   "metadata": {},
   "source": [
    "Deep learing outperformed the machine learning classifiers, in terms of accuracy and recall score."
   ]
  },
  {
   "cell_type": "markdown",
   "id": "b8a957a2",
   "metadata": {},
   "source": [
    "## Model evaluation"
   ]
  },
  {
   "attachments": {
    "1.png": {
     "image/png": "[encoded data removed]"
    }
   },
   "cell_type": "markdown",
   "id": "3d67415e",
   "metadata": {},
   "source": [
    "![1.png](attachment:1.png)"
   ]
  },
  {
   "cell_type": "markdown",
   "id": "8af2df2b",
   "metadata": {},
   "source": [
    "The table above shows the accuracy and recall scores for the different models. Bidirectional LSTM proved to be the best model as it has the highest accuracy and recall scores on validation dataset. With 80% of the time being able to correctly predict on negative reviews, product manager can identify negative sentiment within a large dataset of reviews. Moreover, it beat the baseline model (VADER) as well."
   ]
  },
  {
   "cell_type": "markdown",
   "id": "c0526ef4",
   "metadata": {
    "id": "c0526ef4"
   },
   "source": [
    "### Predictive words for machine learning"
   ]
  },
  {
   "cell_type": "markdown",
   "id": "dab85568",
   "metadata": {
    "id": "dab85568"
   },
   "source": [
    "#### Logistic regression"
   ]
  },
  {
   "cell_type": "code",
   "execution_count": 12,
   "id": "08716870",
   "metadata": {
    "id": "08716870"
   },
   "outputs": [],
   "source": [
    "# create a df of words used\n",
    "coef_lr = pd.DataFrame(gs_cvec_lr.best_estimator_.named_steps['cvec'].get_feature_names(), columns=['tokens'])\n",
    "\n",
    "# add log reg exp coef\n",
    "coef_lr['e_coef'] = np.exp(gs_cvec_lr.best_estimator_.named_steps['lr'].coef_)[0]\n",
    "\n",
    "# find positive and negative words\n",
    "pos_words_lr = coef_lr.sort_values(by=['e_coef']).head(10)\n",
    "neg_words_lr = coef_lr.sort_values(by=['e_coef']).tail(10)"
   ]
  },
  {
   "cell_type": "code",
   "execution_count": 13,
   "id": "b59cc113",
   "metadata": {
    "id": "b59cc113",
    "outputId": "564b2045-32f6-4432-a4c3-2891ca94b968",
    "scrolled": true
   },
   "outputs": [
    {
     "data": {
      "image/png": "[encoded data removed]",
      "text/plain": [
       "<Figure size 1080x360 with 1 Axes>"
      ]
     },
     "metadata": {
      "needs_background": "light"
     },
     "output_type": "display_data"
    }
   ],
   "source": [
    "# plot negative words\n",
    "neg_words_lr.plot.barh('tokens', \n",
    "                       'e_coef', \n",
    "                       figsize=(15,5), \n",
    "                       legend=False, \n",
    "                       title='Top 10 words used for negative sentiment prediction', \n",
    "                       color='red');"
   ]
  },
  {
   "cell_type": "markdown",
   "id": "dd86dcb1",
   "metadata": {
    "id": "dd86dcb1"
   },
   "source": [
    "'Worst', 'Aw', 'Disappoint' are top words that are most associated with negative sentiment. The word 'worst' will make negative sentiment more likely than positive sentiment by more than 4 times. Customers probably had a higher expectations for the product that they bought."
   ]
  },
  {
   "cell_type": "code",
   "execution_count": 14,
   "id": "73b9dd4b",
   "metadata": {
    "id": "73b9dd4b",
    "outputId": "248a8386-9d00-4d16-c3dc-168ccf8126f9",
    "scrolled": true
   },
   "outputs": [
    {
     "data": {
      "image/png": "[encoded data removed]",
      "text/plain": [
       "<Figure size 1080x360 with 1 Axes>"
      ]
     },
     "metadata": {
      "needs_background": "light"
     },
     "output_type": "display_data"
    }
   ],
   "source": [
    "# plot positive words\n",
    "pos_words_lr.sort_values(by=['e_coef'], ascending=False).plot.barh('tokens', \n",
    "                                                                   'e_coef', \n",
    "                                                                   figsize=(15,5), \n",
    "                                                                   legend=False, \n",
    "                                                                   title='Top 10 words used for postive sentiment prediction',\n",
    "                                                                   color='green');"
   ]
  },
  {
   "cell_type": "markdown",
   "id": "9753061b",
   "metadata": {
    "id": "9753061b"
   },
   "source": [
    "'Yum', 'Excel', 'Highli recommend' are words associated with positive sentiment. Words that praise the taste of food/product."
   ]
  },
  {
   "cell_type": "markdown",
   "id": "7a35ca3b",
   "metadata": {
    "id": "7a35ca3b"
   },
   "source": [
    "#### Linear support vector classifier"
   ]
  },
  {
   "cell_type": "code",
   "execution_count": null,
   "id": "5d5f634e",
   "metadata": {
    "id": "5d5f634e"
   },
   "outputs": [],
   "source": [
    "# create a df of words used\n",
    "coef_lsvc = pd.DataFrame(gs_tvec_lsvc.best_estimator_.named_steps['tvec'].get_feature_names(), columns=['tokens'])\n",
    "\n",
    "# add log reg exp coef\n",
    "coef_lsvc['coef'] = gs_tvec_lsvc.best_estimator_.named_steps['lsvc'].coef_[0]\n",
    "\n",
    "# find positive and negative words\n",
    "pos_words_lsvc = coef_lsvc.sort_values(by=['coef']).head(10)\n",
    "neg_words_lsvc = coef_lsvc.sort_values(by=['coef']).tail(10)"
   ]
  },
  {
   "cell_type": "code",
   "execution_count": null,
   "id": "a181b087",
   "metadata": {
    "id": "a181b087",
    "outputId": "6e28cba8-3f4b-49ea-ea6a-61c4e8e883f2",
    "scrolled": true
   },
   "outputs": [
    {
     "data": {
      "image/png": "[encoded data removed]",
      "text/plain": [
       "<Figure size 1080x360 with 1 Axes>"
      ]
     },
     "metadata": {
      "needs_background": "light",
      "tags": []
     },
     "output_type": "display_data"
    }
   ],
   "source": [
    "# plot negative words\n",
    "neg_words_lsvc.plot.barh('tokens', 'coef', figsize=(15,5), legend=False, title='Top 10 words for negative sentiment prediction', color='red');"
   ]
  },
  {
   "cell_type": "markdown",
   "id": "86fda5ac",
   "metadata": {
    "id": "86fda5ac"
   },
   "source": [
    "Top feature importance for negative sentiment are 'disappoint', 'ok', 'okay'."
   ]
  },
  {
   "cell_type": "code",
   "execution_count": null,
   "id": "a2a4550e",
   "metadata": {
    "id": "a2a4550e",
    "outputId": "2f5e0cee-6692-4d93-c272-66d78d3177d2"
   },
   "outputs": [
    {
     "data": {
      "image/png": "[encoded data removed]",
      "text/plain": [
       "<Figure size 1080x360 with 1 Axes>"
      ]
     },
     "metadata": {
      "needs_background": "light",
      "tags": []
     },
     "output_type": "display_data"
    }
   ],
   "source": [
    "# plot positive words\n",
    "pos_words_lsvc.sort_values(by=['coef'], ascending=False).plot.barh('tokens', \n",
    "                                                                   'coef', \n",
    "                                                                   figsize=(15,5), \n",
    "                                                                   legend=False, \n",
    "                                                                   title='Top 10 words used for postive sentiment prediction',\n",
    "                                                                   color='green');"
   ]
  },
  {
   "cell_type": "markdown",
   "id": "0c3eb254",
   "metadata": {
    "id": "0c3eb254"
   },
   "source": [
    "Top feature importance for positive sentiments are 'great', 'best', 'delici'."
   ]
  },
  {
   "cell_type": "markdown",
   "id": "2973d597",
   "metadata": {
    "id": "2973d597"
   },
   "source": [
    "### Misclassified reviews for deep learning"
   ]
  },
  {
   "cell_type": "markdown",
   "id": "8c09c6e1",
   "metadata": {},
   "source": [
    "We will look at the misclassification on validation set to understand why it predicted wrongly."
   ]
  },
  {
   "cell_type": "code",
   "execution_count": 23,
   "id": "45ed7027",
   "metadata": {
    "id": "45ed7027"
   },
   "outputs": [],
   "source": [
    "# create df to compare actual labels and predicted labels\n",
    "val = reviews.loc[X1_val.index,:] \n",
    "val['pred_label'] = val_preds\n",
    "val['correct_label'] = (val['pred_label'] == val['label'])"
   ]
  },
  {
   "cell_type": "code",
   "execution_count": 24,
   "id": "2c193b0f",
   "metadata": {
    "id": "2c193b0f",
    "outputId": "59d1cb35-4d50-4645-b9a3-a98ec62fc70e",
    "scrolled": true
   },
   "outputs": [
    {
     "data": {
      "text/plain": [
       "(2166, 4)"
      ]
     },
     "execution_count": 24,
     "metadata": {},
     "output_type": "execute_result"
    }
   ],
   "source": [
    "# misclassified reviews\n",
    "val[val['correct_label']==0].shape"
   ]
  },
  {
   "cell_type": "code",
   "execution_count": 25,
   "id": "6f29369d",
   "metadata": {
    "id": "6f29369d",
    "outputId": "3cbafa0f-d32c-4957-cb21-b3994e57a03c"
   },
   "outputs": [
    {
     "data": {
      "text/plain": [
       "(853, 4)"
      ]
     },
     "execution_count": 25,
     "metadata": {},
     "output_type": "execute_result"
    }
   ],
   "source": [
    "# number of false positive\n",
    "val[(val['label']==0) & (val['pred_label']==1)].shape"
   ]
  },
  {
   "cell_type": "code",
   "execution_count": 26,
   "id": "c123f329",
   "metadata": {
    "id": "c123f329",
    "outputId": "0111dcd9-b493-4773-e3c4-9f7abfa7cced"
   },
   "outputs": [
    {
     "data": {
      "text/plain": [
       "(1313, 4)"
      ]
     },
     "execution_count": 26,
     "metadata": {},
     "output_type": "execute_result"
    }
   ],
   "source": [
    "# number of false negative\n",
    "val[(val['label']==1) & (val['pred_label']==0)].shape"
   ]
  },
  {
   "cell_type": "code",
   "execution_count": 27,
   "id": "b28b0e9e",
   "metadata": {
    "id": "b28b0e9e",
    "outputId": "a03f28ae-360e-4136-ecb2-c89c8be5edd2",
    "scrolled": true
   },
   "outputs": [
    {
     "data": {
      "text/html": [
       "<div>\n",
       "<style scoped>\n",
       "    .dataframe tbody tr th:only-of-type {\n",
       "        vertical-align: middle;\n",
       "    }\n",
       "\n",
       "    .dataframe tbody tr th {\n",
       "        vertical-align: top;\n",
       "    }\n",
       "\n",
       "    .dataframe thead th {\n",
       "        text-align: right;\n",
       "    }\n",
       "</style>\n",
       "<table border=\"1\" class=\"dataframe\">\n",
       "  <thead>\n",
       "    <tr style=\"text-align: right;\">\n",
       "      <th></th>\n",
       "      <th>label</th>\n",
       "      <th>merge_dl</th>\n",
       "      <th>pred_label</th>\n",
       "      <th>correct_label</th>\n",
       "    </tr>\n",
       "  </thead>\n",
       "  <tbody>\n",
       "    <tr>\n",
       "      <th>33914</th>\n",
       "      <td>0</td>\n",
       "      <td>favorite but don t buy them i want them for me these are smoother than red bull and my favorite citrus with a twang dont buy these i want them all for me</td>\n",
       "      <td>1</td>\n",
       "      <td>False</td>\n",
       "    </tr>\n",
       "    <tr>\n",
       "      <th>23715</th>\n",
       "      <td>0</td>\n",
       "      <td>peach tea not our favorite length minsour family has tried a number of different types of mio unfortunately the peach tea is definitely not a favorite in our home my daughter actually mixes it with the mio mango peach ounce pack of and prefers that flavor</td>\n",
       "      <td>1</td>\n",
       "      <td>False</td>\n",
       "    </tr>\n",
       "    <tr>\n",
       "      <th>63160</th>\n",
       "      <td>0</td>\n",
       "      <td>critter ridder caring control for pets and wildlife about a year ago a female groundhog burrowed underneath my front porch until i did a little online research i didn t know just how annoying and destructive these rodents can be among other names these critters are also called woodchucks and whistle pigs having one of these near your foundation and my basement makes getting rid of them extremely difficult according to online experts the usual extricating methods are putting a water hose down the burrow or pumping carbon dioxide in from the exhaust pipe of your vehicle of course for my situation these methods are neither practical nor safe for the house or the occupants so short of catching her outside the burrow when she happens to be out for a stroll or foraging for a snack what could i do critter ridder manufactured by havahart caring control for pets and wildlife i m not making this up seemed like my only solution the company claims that their product is the selling multi species animal repellent on the market the product i obtained came in a pound jug and according to the label the granules repel skunks groundhogs chipmunks and raccoons further information in the small print on the back indicate this can also be used to discourage domestic pets like dogs and cats from coming into your yard flowerbeds tagging your property and damaging your lawn gardens and other mischief the label also stated that the formula is patented proven technology and sounded like just what i needed it came with an adjustable shaker spout and a comfort grip handle each application is only good for up to days and must be reapplied for maximum effectiveness the instructions are very explicit that gloves must be used when applying the printed red sticker on the label can be seen in the product photo had a curious claim x more than lbs though i didn t expect there would be math involved i soon realized this was a mildly clever but completely unnecessary way of letting prospective customers know that this jug contained times more granules than their pound jug in plain english the seal affirmed that the jug i had contained a full pounds of granules some advertising is just plain unnecessary after filling the hole with as much dirt as it would allow i sprinkled the havahart granules in the opening and around the burrow according to the instructions on the container every good burrow has a backdoor so i did the same with that exit since it is spring almost summer this is a popular time for rodents to emerge from a long winter hibernation and stock up on food i sprinkled the product about a month ago and so far there is no signs of any activity either digging in or out of her burrow aka my home which is a thumbs up for this product so far caution when i opened the box containing the jug of critter ridder i noticed that the lid had a built in pop up spout for pouring out the ingredients the label on the container has the expected number of cautionary statements on concerning hazards to exposed skin eye clothing and domestic animals one thing i also noticed there was no protective seal on the cap and spout also after screwing off the cap in search of a safety seal i noted that there was a seal over the opening of the jug but the seal was broken and some of the contents were missing i doubt that this is the manufacturer s fault i was probably sent a used container from amazon com i will take that up with them and this discovery will not factor in my product rating i do think however if the manufacturer would put an external seal over the outside of the cap with a warning not to use product if the seal is broken it would go a long way in preventing this kind of mistake in the case of my package there could have been a spill inside the box during shipment i plan to add periodic updates to this review as postscripts to provide a complete picture of this products effectiveness over time</td>\n",
       "      <td>1</td>\n",
       "      <td>False</td>\n",
       "    </tr>\n",
       "    <tr>\n",
       "      <th>609</th>\n",
       "      <td>0</td>\n",
       "      <td>newman s own organics adult dog food formula pound bag good product dogs are vary satified with it would like to have in a larger bag lbs if this could would be an option</td>\n",
       "      <td>1</td>\n",
       "      <td>False</td>\n",
       "    </tr>\n",
       "    <tr>\n",
       "      <th>60606</th>\n",
       "      <td>0</td>\n",
       "      <td>a novelty as far as a novelty for the grandchildren this is star i purchased these for halloween but had to try one myself first no salt no butter that s good</td>\n",
       "      <td>1</td>\n",
       "      <td>False</td>\n",
       "    </tr>\n",
       "  </tbody>\n",
       "</table>\n",
       "</div>"
      ],
      "text/plain": [
       "       label  \\\n",
       "33914      0   \n",
       "23715      0   \n",
       "63160      0   \n",
       "609        0   \n",
       "60606      0   \n",
       "\n",
       "                                                                                                                                                                                                                                                                                                                                                                                                                                                                                                                                                                                                                                                                                                                                                                                                                                                                                                                                                                                                                                                                                                                                                                                                                                                                                                                                                                                                                                                                                                                                                                                                                                                                                                                                                                                                                                                                                                                                                                                                                                                                                                                                                                                                                                                                                                                                                                                                                                                                                                                                                                                                                                                                                                                                                                                                                                                                                                                                                                                                                                                                                                                                                                                                                                                                                                                                                                                                                                                                                                                                                                                                                                                                                                                                                                                                                                                                                                                                                                                                                                                                                merge_dl  \\\n",
       "33914                                                                                                                                                                                                                                                                                                                                                                                                                                                                                                                                                                                                                                                                                                                                                                                                                                                                                                                                                                                                                                                                                                                                                                                                                                                                                                                                                                                                                                                                                                                                                                                                                                                                                                                                                                                                                                                                                                                                                                                                                                                                                                                                                                                                                                                                                                                                                                                                                                                                                                                                                                                                                                                                                                                                                                                                                                                                                                                                                                                                                                                                                                                                                                                                                                                                                                                                                                                                                                                                                                                                                                                                                                                                                                                                                                                                                                                                                                                          favorite but don t buy them i want them for me these are smoother than red bull and my favorite citrus with a twang dont buy these i want them all for me   \n",
       "23715                                                                                                                                                                                                                                                                                                                                                                                                                                                                                                                                                                                                                                                                                                                                                                                                                                                                                                                                                                                                                                                                                                                                                                                                                                                                                                                                                                                                                                                                                                                                                                                                                                                                                                                                                                                                                                                                                                                                                                                                                                                                                                                                                                                                                                                                                                                                                                                                                                                                                                                                                                                                                                                                                                                                                                                                                                                                                                                                                                                                                                                                                                                                                                                                                                                                                                                                                                                                                                                                                                                                                                                                                                                                                                                                                                                                                    peach tea not our favorite length minsour family has tried a number of different types of mio unfortunately the peach tea is definitely not a favorite in our home my daughter actually mixes it with the mio mango peach ounce pack of and prefers that flavor   \n",
       "63160  critter ridder caring control for pets and wildlife about a year ago a female groundhog burrowed underneath my front porch until i did a little online research i didn t know just how annoying and destructive these rodents can be among other names these critters are also called woodchucks and whistle pigs having one of these near your foundation and my basement makes getting rid of them extremely difficult according to online experts the usual extricating methods are putting a water hose down the burrow or pumping carbon dioxide in from the exhaust pipe of your vehicle of course for my situation these methods are neither practical nor safe for the house or the occupants so short of catching her outside the burrow when she happens to be out for a stroll or foraging for a snack what could i do critter ridder manufactured by havahart caring control for pets and wildlife i m not making this up seemed like my only solution the company claims that their product is the selling multi species animal repellent on the market the product i obtained came in a pound jug and according to the label the granules repel skunks groundhogs chipmunks and raccoons further information in the small print on the back indicate this can also be used to discourage domestic pets like dogs and cats from coming into your yard flowerbeds tagging your property and damaging your lawn gardens and other mischief the label also stated that the formula is patented proven technology and sounded like just what i needed it came with an adjustable shaker spout and a comfort grip handle each application is only good for up to days and must be reapplied for maximum effectiveness the instructions are very explicit that gloves must be used when applying the printed red sticker on the label can be seen in the product photo had a curious claim x more than lbs though i didn t expect there would be math involved i soon realized this was a mildly clever but completely unnecessary way of letting prospective customers know that this jug contained times more granules than their pound jug in plain english the seal affirmed that the jug i had contained a full pounds of granules some advertising is just plain unnecessary after filling the hole with as much dirt as it would allow i sprinkled the havahart granules in the opening and around the burrow according to the instructions on the container every good burrow has a backdoor so i did the same with that exit since it is spring almost summer this is a popular time for rodents to emerge from a long winter hibernation and stock up on food i sprinkled the product about a month ago and so far there is no signs of any activity either digging in or out of her burrow aka my home which is a thumbs up for this product so far caution when i opened the box containing the jug of critter ridder i noticed that the lid had a built in pop up spout for pouring out the ingredients the label on the container has the expected number of cautionary statements on concerning hazards to exposed skin eye clothing and domestic animals one thing i also noticed there was no protective seal on the cap and spout also after screwing off the cap in search of a safety seal i noted that there was a seal over the opening of the jug but the seal was broken and some of the contents were missing i doubt that this is the manufacturer s fault i was probably sent a used container from amazon com i will take that up with them and this discovery will not factor in my product rating i do think however if the manufacturer would put an external seal over the outside of the cap with a warning not to use product if the seal is broken it would go a long way in preventing this kind of mistake in the case of my package there could have been a spill inside the box during shipment i plan to add periodic updates to this review as postscripts to provide a complete picture of this products effectiveness over time   \n",
       "609                                                                                                                                                                                                                                                                                                                                                                                                                                                                                                                                                                                                                                                                                                                                                                                                                                                                                                                                                                                                                                                                                                                                                                                                                                                                                                                                                                                                                                                                                                                                                                                                                                                                                                                                                                                                                                                                                                                                                                                                                                                                                                                                                                                                                                                                                                                                                                                                                                                                                                                                                                                                                                                                                                                                                                                                                                                                                                                                                                                                                                                                                                                                                                                                                                                                                                                                                                                                                                                                                                                                                                                                                                                                                                                                                                                                                                                                                                           newman s own organics adult dog food formula pound bag good product dogs are vary satified with it would like to have in a larger bag lbs if this could would be an option   \n",
       "60606                                                                                                                                                                                                                                                                                                                                                                                                                                                                                                                                                                                                                                                                                                                                                                                                                                                                                                                                                                                                                                                                                                                                                                                                                                                                                                                                                                                                                                                                                                                                                                                                                                                                                                                                                                                                                                                                                                                                                                                                                                                                                                                                                                                                                                                                                                                                                                                                                                                                                                                                                                                                                                                                                                                                                                                                                                                                                                                                                                                                                                                                                                                                                                                                                                                                                                                                                                                                                                                                                                                                                                                                                                                                                                                                                                                                                                                                                                                     a novelty as far as a novelty for the grandchildren this is star i purchased these for halloween but had to try one myself first no salt no butter that s good   \n",
       "\n",
       "       pred_label  correct_label  \n",
       "33914           1          False  \n",
       "23715           1          False  \n",
       "63160           1          False  \n",
       "609             1          False  \n",
       "60606           1          False  "
      ]
     },
     "execution_count": 27,
     "metadata": {},
     "output_type": "execute_result"
    }
   ],
   "source": [
    "# false positive (predicted negative sentiment but actually is positive sentiment)\n",
    "val[(val['label']==0) & (val['pred_label']==1)].head()"
   ]
  },
  {
   "cell_type": "code",
   "execution_count": 31,
   "id": "587e2c17",
   "metadata": {},
   "outputs": [
    {
     "data": {
      "text/plain": [
       "'peach tea not our favorite length minsour family has tried a number of different types of mio unfortunately the peach tea is definitely not a favorite in our home my daughter actually mixes it with the mio mango peach ounce pack of and prefers that flavor'"
      ]
     },
     "execution_count": 31,
     "metadata": {},
     "output_type": "execute_result"
    }
   ],
   "source": [
    "# an example\n",
    "val.loc[23715]['merge_dl']"
   ]
  },
  {
   "cell_type": "markdown",
   "id": "5480d9cf",
   "metadata": {},
   "source": [
    "The neural network predicted reviews to be negative when it was actually positive sentiment and they seem even confusing to humans too."
   ]
  },
  {
   "cell_type": "code",
   "execution_count": 28,
   "id": "24005122",
   "metadata": {
    "id": "24005122",
    "outputId": "ab6e2537-5559-4a70-bfca-4ee0ce4d98e5",
    "scrolled": false
   },
   "outputs": [
    {
     "data": {
      "text/html": [
       "<div>\n",
       "<style scoped>\n",
       "    .dataframe tbody tr th:only-of-type {\n",
       "        vertical-align: middle;\n",
       "    }\n",
       "\n",
       "    .dataframe tbody tr th {\n",
       "        vertical-align: top;\n",
       "    }\n",
       "\n",
       "    .dataframe thead th {\n",
       "        text-align: right;\n",
       "    }\n",
       "</style>\n",
       "<table border=\"1\" class=\"dataframe\">\n",
       "  <thead>\n",
       "    <tr style=\"text-align: right;\">\n",
       "      <th></th>\n",
       "      <th>label</th>\n",
       "      <th>merge_dl</th>\n",
       "      <th>pred_label</th>\n",
       "      <th>correct_label</th>\n",
       "    </tr>\n",
       "  </thead>\n",
       "  <tbody>\n",
       "    <tr>\n",
       "      <th>58316</th>\n",
       "      <td>1</td>\n",
       "      <td>tiger pops review unfortunately i was hoping to get jumbo tiger pops which are absolutely delicious i have since found out that they may no longer be available in the usa jumbo tp come in four flavors cherry watermelon grape and orange and are round if anyone knows where they can be found please post the answer they are wonderful</td>\n",
       "      <td>0</td>\n",
       "      <td>False</td>\n",
       "    </tr>\n",
       "    <tr>\n",
       "      <th>8613</th>\n",
       "      <td>1</td>\n",
       "      <td>kool aid for adults blackberry pomegranate has never let me down before when it comes to flavored drinks when i saw this offering and it claimed to be natural i became very interested from a packaging stand point i love the way these little packets can be thrown in a glove compartment purse diaper bag or book bag they travel well and open easily upon opening the packet i would pour the powder into a standard water bottle fl oz and shake very very vigorously i found that if the water was not ice cold and i did not continue to shake vigorously for a minute then there would be flavor crystal sediment on the bottom if the water was ice cold the powder would incorporate well the color does stain so that may be a concern for some now for the flavor aspect personally this iced green tea mix is just too sweet and artificial flavored from the first sip i was assaulted by a cloyingly sweet and rather sickening flavor i resorted to sort of holding my breath and guzzling down when it came to the last quarter of the bottle i would always dump it just too sweet for me it tasted very much like what i remember red kool aid tasting like when i was young i personally don t allow my children to drink red kool aid they loved this stuff a bit too enthusiastically for my liking they would fight over the bottle which was just plain odd two days passed and when i returned to the cabinet i had discovered that the kids has been sneaking the packets and polished off the whole box my husband on the other hand hated it and he loves sweet drinks he didn t like the sweet fake aftertaste his words if you like very very sweet tasting drinks and prefer when drinks have that fake aspartame taste then this should be a winner for you our kids aged and loved it they found it easy enough to mix on their own apparently i just wish that the product was a bit more natural and less diet recommend only if you fit the the profile of a customer that would enjoy it if you love kool aid mixed with way too many portions then you might just enjoy this kudos on the packaging which is very much like crystal light thumbs down on a very kiddie oriented flavor profile blackberry pomegranate sounds very adult kool aid not so much</td>\n",
       "      <td>0</td>\n",
       "      <td>False</td>\n",
       "    </tr>\n",
       "    <tr>\n",
       "      <th>99266</th>\n",
       "      <td>1</td>\n",
       "      <td>delicious but these are really pricey after going to england and then to scotland as well and trying these snacks i was hooked unfortunately they can be difficult to find in the us difficult but not impossible if the price on these drops a bit more i will definitely be picking some up but because the bars are chocolate and can be crushed or melt in transit i don t want to risk spending in the range of dollars to get several packs that have been mis handled and crushed melted the flavor alone for me merits stars but the price drops the rating a bit and keeps me from grabbing these up this very moment</td>\n",
       "      <td>0</td>\n",
       "      <td>False</td>\n",
       "    </tr>\n",
       "    <tr>\n",
       "      <th>97698</th>\n",
       "      <td>1</td>\n",
       "      <td>great food horrific price my cat had critically high protein levels in her kidneys prompting my vet to put her on a strict kidney protection program since there are no animal organ transplant operations being done i just couldnt let her suffer luckily this food she actually eats best of all it works her kidney enzimes are back in the normal range thanks to strictly keeping her on this diet unfortunately the price of this food is outrageous for a lb bag c mon that is rediculous i am stuck since she cannot have any other food without deadly consequences i have no cable no phone no cell no movies nothing just to afford this food for her yes it does work but my god get real on the price people i would google other places than here because the sellers are ripping you off</td>\n",
       "      <td>0</td>\n",
       "      <td>False</td>\n",
       "    </tr>\n",
       "    <tr>\n",
       "      <th>59149</th>\n",
       "      <td>1</td>\n",
       "      <td>very spicey i would caution anyone who wants to buy this jerky the jerky is very over seasoned you will need a glass of water handy when you eat these only good when you heat them for like seconds next time i will order the original flavor</td>\n",
       "      <td>0</td>\n",
       "      <td>False</td>\n",
       "    </tr>\n",
       "  </tbody>\n",
       "</table>\n",
       "</div>"
      ],
      "text/plain": [
       "       label  \\\n",
       "58316      1   \n",
       "8613       1   \n",
       "99266      1   \n",
       "97698      1   \n",
       "59149      1   \n",
       "\n",
       "                                                                                                                                                                                                                                                                                                                                                                                                                                                                                                                                                                                                                                                                                                                                                                                                                                                                                                                                                                                                                                                                                                                                                                                                                                                                                                                                                                                                                                                                                                                                                                                                                                                                                                                                                                                                                                                                                                                                                                                                                                                                                                                                                                                                                                                                                                    merge_dl  \\\n",
       "58316                                                                                                                                                                                                                                                                                                                                                                                                                                                                                                                                                                                                                                                                                                                                                                                                                                                                                                                                                                                                                                                                                                                                                                                                                                                                                                                                                                                                                                                                                                                                                                                                                                                                                                                                                                                                                                                                                                                                                            tiger pops review unfortunately i was hoping to get jumbo tiger pops which are absolutely delicious i have since found out that they may no longer be available in the usa jumbo tp come in four flavors cherry watermelon grape and orange and are round if anyone knows where they can be found please post the answer they are wonderful   \n",
       "8613   kool aid for adults blackberry pomegranate has never let me down before when it comes to flavored drinks when i saw this offering and it claimed to be natural i became very interested from a packaging stand point i love the way these little packets can be thrown in a glove compartment purse diaper bag or book bag they travel well and open easily upon opening the packet i would pour the powder into a standard water bottle fl oz and shake very very vigorously i found that if the water was not ice cold and i did not continue to shake vigorously for a minute then there would be flavor crystal sediment on the bottom if the water was ice cold the powder would incorporate well the color does stain so that may be a concern for some now for the flavor aspect personally this iced green tea mix is just too sweet and artificial flavored from the first sip i was assaulted by a cloyingly sweet and rather sickening flavor i resorted to sort of holding my breath and guzzling down when it came to the last quarter of the bottle i would always dump it just too sweet for me it tasted very much like what i remember red kool aid tasting like when i was young i personally don t allow my children to drink red kool aid they loved this stuff a bit too enthusiastically for my liking they would fight over the bottle which was just plain odd two days passed and when i returned to the cabinet i had discovered that the kids has been sneaking the packets and polished off the whole box my husband on the other hand hated it and he loves sweet drinks he didn t like the sweet fake aftertaste his words if you like very very sweet tasting drinks and prefer when drinks have that fake aspartame taste then this should be a winner for you our kids aged and loved it they found it easy enough to mix on their own apparently i just wish that the product was a bit more natural and less diet recommend only if you fit the the profile of a customer that would enjoy it if you love kool aid mixed with way too many portions then you might just enjoy this kudos on the packaging which is very much like crystal light thumbs down on a very kiddie oriented flavor profile blackberry pomegranate sounds very adult kool aid not so much   \n",
       "99266                                                                                                                                                                                                                                                                                                                                                                                                                                                                                                                                                                                                                                                                                                                                                                                                                                                                                                                                                                                                                                                                                                                                                                                                                                                                                                                                                                                                                                                                                                                                                                                                                                                                         delicious but these are really pricey after going to england and then to scotland as well and trying these snacks i was hooked unfortunately they can be difficult to find in the us difficult but not impossible if the price on these drops a bit more i will definitely be picking some up but because the bars are chocolate and can be crushed or melt in transit i don t want to risk spending in the range of dollars to get several packs that have been mis handled and crushed melted the flavor alone for me merits stars but the price drops the rating a bit and keeps me from grabbing these up this very moment   \n",
       "97698                                                                                                                                                                                                                                                                                                                                                                                                                                                                                                                                                                                                                                                                                                                                                                                                                                                                                                                                                                                                                                                                                                                                                                                                                                                                                                                                                                                                                                                                                               great food horrific price my cat had critically high protein levels in her kidneys prompting my vet to put her on a strict kidney protection program since there are no animal organ transplant operations being done i just couldnt let her suffer luckily this food she actually eats best of all it works her kidney enzimes are back in the normal range thanks to strictly keeping her on this diet unfortunately the price of this food is outrageous for a lb bag c mon that is rediculous i am stuck since she cannot have any other food without deadly consequences i have no cable no phone no cell no movies nothing just to afford this food for her yes it does work but my god get real on the price people i would google other places than here because the sellers are ripping you off   \n",
       "59149                                                                                                                                                                                                                                                                                                                                                                                                                                                                                                                                                                                                                                                                                                                                                                                                                                                                                                                                                                                                                                                                                                                                                                                                                                                                                                                                                                                                                                                                                                                                                                                                                                                                                                                                                                                                                                                                                                                                                                                                                                                        very spicey i would caution anyone who wants to buy this jerky the jerky is very over seasoned you will need a glass of water handy when you eat these only good when you heat them for like seconds next time i will order the original flavor   \n",
       "\n",
       "       pred_label  correct_label  \n",
       "58316           0          False  \n",
       "8613            0          False  \n",
       "99266           0          False  \n",
       "97698           0          False  \n",
       "59149           0          False  "
      ]
     },
     "execution_count": 28,
     "metadata": {},
     "output_type": "execute_result"
    }
   ],
   "source": [
    "# false negative (predicted positive sentiment but actually is negative sentiment)\n",
    "val[(val['label']==1) & (val['pred_label']==0)].head()"
   ]
  },
  {
   "cell_type": "code",
   "execution_count": 32,
   "id": "94b9e6df",
   "metadata": {},
   "outputs": [
    {
     "data": {
      "text/plain": [
       "'tiger pops review unfortunately i was hoping to get jumbo tiger pops which are absolutely delicious i have since found out that they may no longer be available in the usa jumbo tp come in four flavors cherry watermelon grape and orange and are round if anyone knows where they can be found please post the answer they are wonderful'"
      ]
     },
     "execution_count": 32,
     "metadata": {},
     "output_type": "execute_result"
    }
   ],
   "source": [
    "# an example\n",
    "val.loc[58316]['merge_dl']"
   ]
  },
  {
   "cell_type": "markdown",
   "id": "e4452ead",
   "metadata": {},
   "source": [
    "The neural network predicted reviews to be positive when it was actually negative sentiment and humans might not identify them correctly too."
   ]
  },
  {
   "cell_type": "markdown",
   "id": "06349840",
   "metadata": {},
   "source": [
    "## Test on unseen data"
   ]
  },
  {
   "cell_type": "markdown",
   "id": "18480f62",
   "metadata": {},
   "source": [
    "Using the remaining data, apart from the 100,000 that we used as train and test set."
   ]
  },
  {
   "cell_type": "code",
   "execution_count": 3,
   "id": "6ba74419",
   "metadata": {},
   "outputs": [],
   "source": [
    "# unseen data, years before 2012 and rating 5 reviews that have been taken out from the start\n",
    "unseen = pd.read_csv('../datasets/unseen_data.csv')"
   ]
  },
  {
   "cell_type": "code",
   "execution_count": 4,
   "id": "8e2c365a",
   "metadata": {},
   "outputs": [
    {
     "data": {
      "text/plain": [
       "(294970, 4)"
      ]
     },
     "execution_count": 4,
     "metadata": {},
     "output_type": "execute_result"
    }
   ],
   "source": [
    "unseen.shape"
   ]
  },
  {
   "cell_type": "code",
   "execution_count": 34,
   "id": "fb9a24b6",
   "metadata": {},
   "outputs": [
    {
     "data": {
      "text/plain": [
       "0    0.818053\n",
       "1    0.181947\n",
       "Name: label, dtype: float64"
      ]
     },
     "execution_count": 34,
     "metadata": {},
     "output_type": "execute_result"
    }
   ],
   "source": [
    "# unbalanced dataset\n",
    "unseen['label'].value_counts(normalize=True)"
   ]
  },
  {
   "cell_type": "code",
   "execution_count": 19,
   "id": "882b468c",
   "metadata": {},
   "outputs": [],
   "source": [
    "unseen_sentence = unseen['merge_dl'].values\n",
    "unseen_label = unseen['label'].values"
   ]
  },
  {
   "cell_type": "code",
   "execution_count": 22,
   "id": "6992c649",
   "metadata": {},
   "outputs": [],
   "source": [
    "unseen_seq = tokenizer.texts_to_sequences(unseen_sentence)\n",
    "unseen_pad = pad_sequences(unseen_seq, maxlen=max_length)"
   ]
  },
  {
   "cell_type": "code",
   "execution_count": 23,
   "id": "767fbcf3",
   "metadata": {},
   "outputs": [],
   "source": [
    "unseen_pred = (model.predict(unseen_pad) > 0.5).astype(int)"
   ]
  },
  {
   "cell_type": "code",
   "execution_count": 24,
   "id": "62ef6db7",
   "metadata": {},
   "outputs": [],
   "source": [
    "unseen_pred = unseen_pred.T[0]"
   ]
  },
  {
   "cell_type": "code",
   "execution_count": 25,
   "id": "20286b3f",
   "metadata": {},
   "outputs": [
    {
     "data": {
      "text/plain": [
       "array([0, 0, 1, ..., 0, 0, 0])"
      ]
     },
     "execution_count": 25,
     "metadata": {},
     "output_type": "execute_result"
    }
   ],
   "source": [
    "unseen_pred"
   ]
  },
  {
   "cell_type": "code",
   "execution_count": 26,
   "id": "1562de2d",
   "metadata": {
    "scrolled": false
   },
   "outputs": [
    {
     "name": "stdout",
     "output_type": "stream",
     "text": [
      "              precision    recall  f1-score   support\n",
      "\n",
      "           0       0.95      0.95      0.95    241301\n",
      "           1       0.78      0.79      0.78     53669\n",
      "\n",
      "    accuracy                           0.92    294970\n",
      "   macro avg       0.87      0.87      0.87    294970\n",
      "weighted avg       0.92      0.92      0.92    294970\n",
      "\n"
     ]
    }
   ],
   "source": [
    "# classification report\n",
    "print(classification_report(unseen_label, unseen_pred))"
   ]
  },
  {
   "cell_type": "markdown",
   "id": "9d29cb6e",
   "metadata": {},
   "source": [
    "Even though it was an unbalanced dataset, recall score for negative sentiment is 79% which is quite good, given that only 18% of the dataset was from negative sentiment."
   ]
  },
  {
   "cell_type": "code",
   "execution_count": 27,
   "id": "02d19576",
   "metadata": {
    "scrolled": false
   },
   "outputs": [
    {
     "data": {
      "text/html": [
       "<div>\n",
       "<style scoped>\n",
       "    .dataframe tbody tr th:only-of-type {\n",
       "        vertical-align: middle;\n",
       "    }\n",
       "\n",
       "    .dataframe tbody tr th {\n",
       "        vertical-align: top;\n",
       "    }\n",
       "\n",
       "    .dataframe thead th {\n",
       "        text-align: right;\n",
       "    }\n",
       "</style>\n",
       "<table border=\"1\" class=\"dataframe\">\n",
       "  <thead>\n",
       "    <tr style=\"text-align: right;\">\n",
       "      <th></th>\n",
       "      <th>Pred Positive Sentiment</th>\n",
       "      <th>Pred Negative Sentiment</th>\n",
       "    </tr>\n",
       "  </thead>\n",
       "  <tbody>\n",
       "    <tr>\n",
       "      <th>Actual Positive Sentiment</th>\n",
       "      <td>229321</td>\n",
       "      <td>11980</td>\n",
       "    </tr>\n",
       "    <tr>\n",
       "      <th>Actual Negative Sentiment</th>\n",
       "      <td>11523</td>\n",
       "      <td>42146</td>\n",
       "    </tr>\n",
       "  </tbody>\n",
       "</table>\n",
       "</div>"
      ],
      "text/plain": [
       "                           Pred Positive Sentiment  Pred Negative Sentiment\n",
       "Actual Positive Sentiment                   229321                    11980\n",
       "Actual Negative Sentiment                    11523                    42146"
      ]
     },
     "execution_count": 27,
     "metadata": {},
     "output_type": "execute_result"
    }
   ],
   "source": [
    "# confusion matrix\n",
    "cm = confusion_matrix(unseen_label, unseen_pred)\n",
    "cm_df = pd.DataFrame(\n",
    "    cm,\n",
    "    columns = ['Pred Positive Sentiment', 'Pred Negative Sentiment'],\n",
    "    index=['Actual Positive Sentiment', 'Actual Negative Sentiment']\n",
    ")\n",
    "cm_df"
   ]
  },
  {
   "cell_type": "markdown",
   "id": "2562f050",
   "metadata": {},
   "source": [
    "### Misclassifications"
   ]
  },
  {
   "cell_type": "code",
   "execution_count": 29,
   "id": "342fd13d",
   "metadata": {},
   "outputs": [],
   "source": [
    "# create df to compare actual labels and predicted labels\n",
    "unseen['pred_label'] = unseen_pred\n",
    "unseen['correct_label'] = (unseen['pred_label'] == unseen['label'])"
   ]
  },
  {
   "cell_type": "code",
   "execution_count": 31,
   "id": "8aac081c",
   "metadata": {
    "scrolled": false
   },
   "outputs": [
    {
     "data": {
      "text/html": [
       "<div>\n",
       "<style scoped>\n",
       "    .dataframe tbody tr th:only-of-type {\n",
       "        vertical-align: middle;\n",
       "    }\n",
       "\n",
       "    .dataframe tbody tr th {\n",
       "        vertical-align: top;\n",
       "    }\n",
       "\n",
       "    .dataframe thead th {\n",
       "        text-align: right;\n",
       "    }\n",
       "</style>\n",
       "<table border=\"1\" class=\"dataframe\">\n",
       "  <thead>\n",
       "    <tr style=\"text-align: right;\">\n",
       "      <th></th>\n",
       "      <th>label</th>\n",
       "      <th>merge_dl</th>\n",
       "      <th>merge</th>\n",
       "      <th>score</th>\n",
       "      <th>pred_label</th>\n",
       "      <th>correct_label</th>\n",
       "    </tr>\n",
       "  </thead>\n",
       "  <tbody>\n",
       "    <tr>\n",
       "      <th>16</th>\n",
       "      <td>0</td>\n",
       "      <td>twizzlers strawberry product received is as advertised twizzlers strawberry ounce bags pack of</td>\n",
       "      <td>Twizzlers - Strawberry Product received is as advertised.&lt;br /&gt;&lt;br /&gt;&lt;a href=\"http://www.amazon.com/gp/product/B001GVISJM\"&gt;Twizzlers, Strawberry, 16-Ounce Bags (Pack of 6)&lt;/a&gt;</td>\n",
       "      <td>5</td>\n",
       "      <td>1</td>\n",
       "      <td>False</td>\n",
       "    </tr>\n",
       "    <tr>\n",
       "      <th>34</th>\n",
       "      <td>0</td>\n",
       "      <td>very good but next time i won t order the variety pack i really like the maple and brown sugar flavor the regular is fine with brown sugar added the apples and cinnamon flavor is ok this is a very quick easy and satisfying breakfast and i ll order this brand again but not the variety i ll get all maple and brown sugar</td>\n",
       "      <td>Very good but next time I won't order the Variety Pack I really like the Maple and Brown Sugar flavor. The regular is fine with brown sugar added. The Apples and Cinnamon flavor is OK. This is a very quick, easy and satisfying breakfast and I'll order this brand again, but not the variety. I'll get all Maple and Brown Sugar.</td>\n",
       "      <td>4</td>\n",
       "      <td>1</td>\n",
       "      <td>False</td>\n",
       "    </tr>\n",
       "    <tr>\n",
       "      <th>46</th>\n",
       "      <td>0</td>\n",
       "      <td>pretzel haven this was sooooo deliscious but too bad i ate em too fast and gained pds my fault</td>\n",
       "      <td>pretzel haven! this was sooooo deliscious but too bad i ate em too fast and gained 2 pds! my fault</td>\n",
       "      <td>5</td>\n",
       "      <td>1</td>\n",
       "      <td>False</td>\n",
       "    </tr>\n",
       "    <tr>\n",
       "      <th>62</th>\n",
       "      <td>0</td>\n",
       "      <td>taste wise it is a star item the mouth says how do i love thee let me count the ways if you like apple products a must have item the only draw back shipping cost these are very heavy</td>\n",
       "      <td>Taste wise it is a 6 star item The mouth says, \"How do I love thee, let me count the ways...\"&lt;br /&gt;If you like apple products a must have item.  The only draw back, shipping cost.  These are very heavy.</td>\n",
       "      <td>5</td>\n",
       "      <td>1</td>\n",
       "      <td>False</td>\n",
       "    </tr>\n",
       "    <tr>\n",
       "      <th>101</th>\n",
       "      <td>0</td>\n",
       "      <td>realemon juice from amazon this is not as good as the frozen lemon juice but it is good it has a slightly odd flavor perhaps from a preservative sure wish i could order the frozen juice</td>\n",
       "      <td>ReaLemon Juice from Amazon. This is not as good as the Frozen Lemon juice, but it is good. It has a slightly odd flavor, perhaps from a preservative. Sure wish I could order the frozen juice!</td>\n",
       "      <td>4</td>\n",
       "      <td>1</td>\n",
       "      <td>False</td>\n",
       "    </tr>\n",
       "  </tbody>\n",
       "</table>\n",
       "</div>"
      ],
      "text/plain": [
       "     label  \\\n",
       "16       0   \n",
       "34       0   \n",
       "46       0   \n",
       "62       0   \n",
       "101      0   \n",
       "\n",
       "                                                                                                                                                                                                                                                                                                                            merge_dl  \\\n",
       "16                                                                                                                                                                                                                                    twizzlers strawberry product received is as advertised twizzlers strawberry ounce bags pack of   \n",
       "34   very good but next time i won t order the variety pack i really like the maple and brown sugar flavor the regular is fine with brown sugar added the apples and cinnamon flavor is ok this is a very quick easy and satisfying breakfast and i ll order this brand again but not the variety i ll get all maple and brown sugar   \n",
       "46                                                                                                                                                                                                                                    pretzel haven this was sooooo deliscious but too bad i ate em too fast and gained pds my fault   \n",
       "62                                                                                                                                            taste wise it is a star item the mouth says how do i love thee let me count the ways if you like apple products a must have item the only draw back shipping cost these are very heavy   \n",
       "101                                                                                                                                        realemon juice from amazon this is not as good as the frozen lemon juice but it is good it has a slightly odd flavor perhaps from a preservative sure wish i could order the frozen juice   \n",
       "\n",
       "                                                                                                                                                                                                                                                                                                                                      merge  \\\n",
       "16                                                                                                                                                          Twizzlers - Strawberry Product received is as advertised.<br /><br /><a href=\"http://www.amazon.com/gp/product/B001GVISJM\">Twizzlers, Strawberry, 16-Ounce Bags (Pack of 6)</a>   \n",
       "34   Very good but next time I won't order the Variety Pack I really like the Maple and Brown Sugar flavor. The regular is fine with brown sugar added. The Apples and Cinnamon flavor is OK. This is a very quick, easy and satisfying breakfast and I'll order this brand again, but not the variety. I'll get all Maple and Brown Sugar.   \n",
       "46                                                                                                                                                                                                                                       pretzel haven! this was sooooo deliscious but too bad i ate em too fast and gained 2 pds! my fault   \n",
       "62                                                                                                                               Taste wise it is a 6 star item The mouth says, \"How do I love thee, let me count the ways...\"<br />If you like apple products a must have item.  The only draw back, shipping cost.  These are very heavy.   \n",
       "101                                                                                                                                         ReaLemon Juice from Amazon. This is not as good as the Frozen Lemon juice, but it is good. It has a slightly odd flavor, perhaps from a preservative. Sure wish I could order the frozen juice!   \n",
       "\n",
       "     score  pred_label  correct_label  \n",
       "16       5           1          False  \n",
       "34       4           1          False  \n",
       "46       5           1          False  \n",
       "62       5           1          False  \n",
       "101      4           1          False  "
      ]
     },
     "execution_count": 31,
     "metadata": {},
     "output_type": "execute_result"
    }
   ],
   "source": [
    "# false positive (predicted negative sentiment but actually is positive sentiment)\n",
    "unseen[(unseen['label']==0) & (unseen['pred_label']==1)].head()"
   ]
  },
  {
   "cell_type": "code",
   "execution_count": 42,
   "id": "7168084e",
   "metadata": {},
   "outputs": [
    {
     "data": {
      "text/plain": [
       "'Taste wise it is a 6 star item The mouth says, \"How do I love thee, let me count the ways...\"<br />If you like apple products a must have item.  The only draw back, shipping cost.  These are very heavy.'"
      ]
     },
     "execution_count": 42,
     "metadata": {},
     "output_type": "execute_result"
    }
   ],
   "source": [
    "unseen.loc[62]['merge']"
   ]
  },
  {
   "cell_type": "markdown",
   "id": "598ad3aa",
   "metadata": {},
   "source": [
    "Product was good but there was a mix of feelings later about the shipping cost. Also, probably because the number 6 was not fed into the model too."
   ]
  },
  {
   "cell_type": "code",
   "execution_count": 32,
   "id": "ea016d1c",
   "metadata": {
    "scrolled": true
   },
   "outputs": [
    {
     "data": {
      "text/html": [
       "<div>\n",
       "<style scoped>\n",
       "    .dataframe tbody tr th:only-of-type {\n",
       "        vertical-align: middle;\n",
       "    }\n",
       "\n",
       "    .dataframe tbody tr th {\n",
       "        vertical-align: top;\n",
       "    }\n",
       "\n",
       "    .dataframe thead th {\n",
       "        text-align: right;\n",
       "    }\n",
       "</style>\n",
       "<table border=\"1\" class=\"dataframe\">\n",
       "  <thead>\n",
       "    <tr style=\"text-align: right;\">\n",
       "      <th></th>\n",
       "      <th>label</th>\n",
       "      <th>merge_dl</th>\n",
       "      <th>merge</th>\n",
       "      <th>score</th>\n",
       "      <th>pred_label</th>\n",
       "      <th>correct_label</th>\n",
       "    </tr>\n",
       "  </thead>\n",
       "  <tbody>\n",
       "    <tr>\n",
       "      <th>42</th>\n",
       "      <td>1</td>\n",
       "      <td>better price for this at target watch your prices with this while the assortment was good and i did get this on a gold box purchase the price for this was less at target</td>\n",
       "      <td>Better price for this at Target Watch your prices with this.  While the assortment was good, and I did get this on a gold box purchase, the price for this was&lt;br /&gt;$3-4 less at Target.</td>\n",
       "      <td>3</td>\n",
       "      <td>0</td>\n",
       "      <td>False</td>\n",
       "    </tr>\n",
       "    <tr>\n",
       "      <th>45</th>\n",
       "      <td>1</td>\n",
       "      <td>how much would you pay for a bag of chocolate pretzels if you re impulsive like me then is ok don t get me wrong the quality of these babies is very good and i have no complaints but in retrospect the price is a little ridiculous esp when you add on the shipping</td>\n",
       "      <td>How much would you pay for a bag of chocolate pretzels? If you're impulsive like me, then $6 is ok. Don't get me wrong, the quality of these babies is very good and I have no complaints. But in retrospect, the price is a little ridiculous (esp. when you add on the shipping).</td>\n",
       "      <td>3</td>\n",
       "      <td>0</td>\n",
       "      <td>False</td>\n",
       "    </tr>\n",
       "    <tr>\n",
       "      <th>53</th>\n",
       "      <td>1</td>\n",
       "      <td>natural balance lamb and rice while my dogs like all of the flavors that we have tried of this dog food for some reason their itching increased when i tried the lamb and rice i have some very itchy dogs and am giving them a limited ingredient dog food to try to help the duck and sweet potato cut down on the itching significantly but when we tried lamb and rice they started itching more once again i like natural balance for the quality ingredients</td>\n",
       "      <td>Natural Balance Lamb and Rice While my dogs like all of the flavors that we have tried of this dog food, for some reason their itching increased when I tried the lamb and rice. I have some very itchy dogs and am giving them a limited ingredient dog food to try to help. The duck and sweet potato cut down on the itching significantly, but when we tried lamb and rice they started itching more once again. I like Natural Balance for the quality ingredients.</td>\n",
       "      <td>3</td>\n",
       "      <td>0</td>\n",
       "      <td>False</td>\n",
       "    </tr>\n",
       "    <tr>\n",
       "      <th>54</th>\n",
       "      <td>1</td>\n",
       "      <td>increased my dogs itching awesome dog food however when given to my boston who has severe reactions to some food ingredients his itching increased to violent jumping out of bed at night scratching as soon as i changed to a different formula the scratching stopped so glad natural balance has other choices i guess you have to try each until you find what s best for your pet</td>\n",
       "      <td>INCREASED MY DOGS ITCHING Awesome dog food. However, when given to my \"Boston\", who has severe reactions to some food ingredients; his itching increased to violent jumping out of bed at night, scratching. As soon as I changed to a different formula, the scratching stopped. So glad Natural Balance has other choices. I guess you have to try each, until you find what's best for your pet.</td>\n",
       "      <td>3</td>\n",
       "      <td>0</td>\n",
       "      <td>False</td>\n",
       "    </tr>\n",
       "    <tr>\n",
       "      <th>120</th>\n",
       "      <td>1</td>\n",
       "      <td>these just don t do it for me as breath mints to me these are nothing like the regular altoids and are not breath mints they are pleasant tasting little candies in a cute convenient tin and that s as far as it goes the mintiness is just not strong and the wintergreens are definitely weaker than the peppermint minis i m not a dragon breath person but still one of these mints is too small to have any effect on my breath four or five will freshen my breath for a short while maybe minutes at this point i think the icebreakers frost mints are the best as sugar free breath mints</td>\n",
       "      <td>These just don't do it for me as breath mints To me, these are nothing like the regular Altoids and are not breath mints. They are pleasant-tasting little candies in a cute convenient tin, and that's as far as it goes. The mintiness is just not strong, and the wintergreens are definitely weaker than the peppermint minis. I'm not a dragon-breath person, but still, one of these mints is too small to have any effect on my breath. Four or five will freshen my breath for a short while - maybe 15 minutes. At this point, I think the Icebreakers Frost mints are the best as sugar free breath mints.</td>\n",
       "      <td>1</td>\n",
       "      <td>0</td>\n",
       "      <td>False</td>\n",
       "    </tr>\n",
       "  </tbody>\n",
       "</table>\n",
       "</div>"
      ],
      "text/plain": [
       "     label  \\\n",
       "42       1   \n",
       "45       1   \n",
       "53       1   \n",
       "54       1   \n",
       "120      1   \n",
       "\n",
       "                                                                                                                                                                                                                                                                                                                                                                                                                                                                                                                                                                                                merge_dl  \\\n",
       "42                                                                                                                                                                                                                                                                                                                                                                                                                             better price for this at target watch your prices with this while the assortment was good and i did get this on a gold box purchase the price for this was less at target   \n",
       "45                                                                                                                                                                                                                                                                                                                                how much would you pay for a bag of chocolate pretzels if you re impulsive like me then is ok don t get me wrong the quality of these babies is very good and i have no complaints but in retrospect the price is a little ridiculous esp when you add on the shipping   \n",
       "53                                                                                                                                    natural balance lamb and rice while my dogs like all of the flavors that we have tried of this dog food for some reason their itching increased when i tried the lamb and rice i have some very itchy dogs and am giving them a limited ingredient dog food to try to help the duck and sweet potato cut down on the itching significantly but when we tried lamb and rice they started itching more once again i like natural balance for the quality ingredients   \n",
       "54                                                                                                                                                                                                                increased my dogs itching awesome dog food however when given to my boston who has severe reactions to some food ingredients his itching increased to violent jumping out of bed at night scratching as soon as i changed to a different formula the scratching stopped so glad natural balance has other choices i guess you have to try each until you find what s best for your pet   \n",
       "120  these just don t do it for me as breath mints to me these are nothing like the regular altoids and are not breath mints they are pleasant tasting little candies in a cute convenient tin and that s as far as it goes the mintiness is just not strong and the wintergreens are definitely weaker than the peppermint minis i m not a dragon breath person but still one of these mints is too small to have any effect on my breath four or five will freshen my breath for a short while maybe minutes at this point i think the icebreakers frost mints are the best as sugar free breath mints   \n",
       "\n",
       "                                                                                                                                                                                                                                                                                                                                                                                                                                                                                                                                                                                                                    merge  \\\n",
       "42                                                                                                                                                                                                                                                                                                                                                                                                                               Better price for this at Target Watch your prices with this.  While the assortment was good, and I did get this on a gold box purchase, the price for this was<br />$3-4 less at Target.   \n",
       "45                                                                                                                                                                                                                                                                                                                                    How much would you pay for a bag of chocolate pretzels? If you're impulsive like me, then $6 is ok. Don't get me wrong, the quality of these babies is very good and I have no complaints. But in retrospect, the price is a little ridiculous (esp. when you add on the shipping).   \n",
       "53                                                                                                                                               Natural Balance Lamb and Rice While my dogs like all of the flavors that we have tried of this dog food, for some reason their itching increased when I tried the lamb and rice. I have some very itchy dogs and am giving them a limited ingredient dog food to try to help. The duck and sweet potato cut down on the itching significantly, but when we tried lamb and rice they started itching more once again. I like Natural Balance for the quality ingredients.   \n",
       "54                                                                                                                                                                                                                    INCREASED MY DOGS ITCHING Awesome dog food. However, when given to my \"Boston\", who has severe reactions to some food ingredients; his itching increased to violent jumping out of bed at night, scratching. As soon as I changed to a different formula, the scratching stopped. So glad Natural Balance has other choices. I guess you have to try each, until you find what's best for your pet.   \n",
       "120  These just don't do it for me as breath mints To me, these are nothing like the regular Altoids and are not breath mints. They are pleasant-tasting little candies in a cute convenient tin, and that's as far as it goes. The mintiness is just not strong, and the wintergreens are definitely weaker than the peppermint minis. I'm not a dragon-breath person, but still, one of these mints is too small to have any effect on my breath. Four or five will freshen my breath for a short while - maybe 15 minutes. At this point, I think the Icebreakers Frost mints are the best as sugar free breath mints.   \n",
       "\n",
       "     score  pred_label  correct_label  \n",
       "42       3           0          False  \n",
       "45       3           0          False  \n",
       "53       3           0          False  \n",
       "54       3           0          False  \n",
       "120      1           0          False  "
      ]
     },
     "execution_count": 32,
     "metadata": {},
     "output_type": "execute_result"
    }
   ],
   "source": [
    "# false negative (predicted positive sentiment but actually is negative sentiment)\n",
    "unseen[(unseen['label']==1) & (unseen['pred_label']==0)].head()"
   ]
  },
  {
   "cell_type": "code",
   "execution_count": 37,
   "id": "5d77fe21",
   "metadata": {
    "scrolled": true
   },
   "outputs": [
    {
     "data": {
      "text/plain": [
       "\"How much would you pay for a bag of chocolate pretzels? If you're impulsive like me, then $6 is ok. Don't get me wrong, the quality of these babies is very good and I have no complaints. But in retrospect, the price is a little ridiculous (esp. when you add on the shipping).\""
      ]
     },
     "execution_count": 37,
     "metadata": {},
     "output_type": "execute_result"
    }
   ],
   "source": [
    "# an example\n",
    "unseen.loc[45]['merge']"
   ]
  },
  {
   "cell_type": "markdown",
   "id": "49bd10e1",
   "metadata": {},
   "source": [
    "The quality of product is great but the price caused rating to be bad."
   ]
  },
  {
   "cell_type": "markdown",
   "id": "1398bb16",
   "metadata": {
    "id": "1398bb16"
   },
   "source": [
    "## Topic modeling"
   ]
  },
  {
   "cell_type": "markdown",
   "id": "1bbb1192",
   "metadata": {
    "id": "1bbb1192"
   },
   "source": [
    "Using Gensim's Latent Dirichlet Allocation (LDA) to identify the key topics that customers are facing.\n",
    "\n",
    "Before running LDA, we will first perform a simple pre-processing, tokenizing, removing stopwords, lemmatizing and keep tokens that are nouns, adjectives, verbs or adverbs for better topics output."
   ]
  },
  {
   "cell_type": "markdown",
   "id": "f1115e9c",
   "metadata": {},
   "source": [
    "Reference:\n",
    "https://www.machinelearningplus.com/nlp/topic-modeling-visualization-how-to-present-results-lda-models/"
   ]
  },
  {
   "cell_type": "markdown",
   "id": "5ff10fd2",
   "metadata": {
    "id": "5ff10fd2"
   },
   "source": [
    "### Negative Sentiment"
   ]
  },
  {
   "cell_type": "code",
   "execution_count": 5,
   "id": "2b79c784",
   "metadata": {
    "id": "2b79c784",
    "outputId": "601ec27f-75bb-4e72-9583-18ff05e80964"
   },
   "outputs": [
    {
     "data": {
      "text/plain": [
       "['not as advertised product arrived labeled as jumbo salted peanuts the peanuts were actually small sized unsalted not sure if this was an error or if the vendor intended to represent the product as jumbo']"
      ]
     },
     "execution_count": 5,
     "metadata": {},
     "output_type": "execute_result"
    }
   ],
   "source": [
    "# negative sentiment reviews\n",
    "docs = list(reviews.loc[reviews['label']==1]['merge_dl'].values)\n",
    "\n",
    "# first negative review\n",
    "docs[:1]"
   ]
  },
  {
   "cell_type": "markdown",
   "id": "507130f7",
   "metadata": {},
   "source": [
    "##### Tokenize"
   ]
  },
  {
   "cell_type": "code",
   "execution_count": 6,
   "id": "3272f83d",
   "metadata": {
    "id": "3272f83d"
   },
   "outputs": [],
   "source": [
    "def sent_to_words(sentences):\n",
    "    for sentence in sentences:\n",
    "        yield(simple_preprocess(str(sentence)))"
   ]
  },
  {
   "cell_type": "code",
   "execution_count": 7,
   "id": "fcddf7bc",
   "metadata": {
    "id": "fcddf7bc"
   },
   "outputs": [],
   "source": [
    "words = list(sent_to_words(docs))"
   ]
  },
  {
   "cell_type": "code",
   "execution_count": 8,
   "id": "a41aeb58",
   "metadata": {
    "id": "a41aeb58",
    "outputId": "607b06ee-09d7-4276-eb03-ca0da81601de",
    "scrolled": false
   },
   "outputs": [
    {
     "name": "stdout",
     "output_type": "stream",
     "text": [
      "[['not', 'as', 'advertised', 'product', 'arrived', 'labeled', 'as', 'jumbo', 'salted', 'peanuts', 'the', 'peanuts', 'were', 'actually', 'small', 'sized', 'unsalted', 'not', 'sure', 'if', 'this', 'was', 'an', 'error', 'or', 'if', 'the', 'vendor', 'intended', 'to', 'represent', 'the', 'product', 'as', 'jumbo']]\n"
     ]
    }
   ],
   "source": [
    "print(words[:1])"
   ]
  },
  {
   "cell_type": "markdown",
   "id": "60bd0669",
   "metadata": {},
   "source": [
    "##### Remove stopwords"
   ]
  },
  {
   "cell_type": "code",
   "execution_count": 9,
   "id": "7d2711f5",
   "metadata": {},
   "outputs": [
    {
     "name": "stdout",
     "output_type": "stream",
     "text": [
      "['i', 'me', 'my', 'myself', 'we', 'our', 'ours', 'ourselves', 'you', \"you're\", \"you've\", \"you'll\", \"you'd\", 'your', 'yours', 'yourself', 'yourselves', 'he', 'him', 'his', 'himself', 'she', \"she's\", 'her', 'hers', 'herself', 'it', \"it's\", 'its', 'itself', 'they', 'them', 'their', 'theirs', 'themselves', 'what', 'which', 'who', 'whom', 'this', 'that', \"that'll\", 'these', 'those', 'am', 'is', 'are', 'was', 'were', 'be', 'been', 'being', 'have', 'has', 'had', 'having', 'do', 'does', 'did', 'doing', 'a', 'an', 'the', 'and', 'but', 'if', 'or', 'because', 'as', 'until', 'while', 'of', 'at', 'by', 'for', 'with', 'about', 'against', 'between', 'into', 'through', 'during', 'before', 'after', 'above', 'below', 'to', 'from', 'up', 'down', 'in', 'out', 'on', 'off', 'over', 'under', 'again', 'further', 'then', 'once', 'here', 'there', 'when', 'where', 'why', 'how', 'all', 'any', 'both', 'each', 'few', 'more', 'most', 'other', 'some', 'such', 'no', 'nor', 'not', 'only', 'own', 'same', 'so', 'than', 'too', 'very', 's', 't', 'can', 'will', 'just', 'don', \"don't\", 'should', \"should've\", 'now', 'd', 'll', 'm', 'o', 're', 've', 'y', 'ain', 'aren', \"aren't\", 'couldn', \"couldn't\", 'didn', \"didn't\", 'doesn', \"doesn't\", 'hadn', \"hadn't\", 'hasn', \"hasn't\", 'haven', \"haven't\", 'isn', \"isn't\", 'ma', 'mightn', \"mightn't\", 'mustn', \"mustn't\", 'needn', \"needn't\", 'shan', \"shan't\", 'shouldn', \"shouldn't\", 'wasn', \"wasn't\", 'weren', \"weren't\", 'won', \"won't\", 'wouldn', \"wouldn't\"]\n"
     ]
    }
   ],
   "source": [
    "sw = stopwords.words('english')\n",
    "print(sw)"
   ]
  },
  {
   "cell_type": "code",
   "execution_count": 10,
   "id": "9a28bf6a",
   "metadata": {
    "id": "9a28bf6a"
   },
   "outputs": [],
   "source": [
    "def remove_stopwords(texts):\n",
    "    return [[word for word in simple_preprocess(str(doc)) if word not in sw] for doc in texts]"
   ]
  },
  {
   "cell_type": "code",
   "execution_count": 11,
   "id": "1506e000",
   "metadata": {
    "id": "1506e000",
    "outputId": "0c9a414e-e7ef-4ba4-9c7e-9778904b8c68"
   },
   "outputs": [
    {
     "name": "stdout",
     "output_type": "stream",
     "text": [
      "[['advertised', 'product', 'arrived', 'labeled', 'jumbo', 'salted', 'peanuts', 'peanuts', 'actually', 'small', 'sized', 'unsalted', 'sure', 'error', 'vendor', 'intended', 'represent', 'product', 'jumbo']]\n"
     ]
    }
   ],
   "source": [
    "words = remove_stopwords(words)\n",
    "print(words[:1])"
   ]
  },
  {
   "cell_type": "markdown",
   "id": "cb5fd5c6",
   "metadata": {},
   "source": [
    "##### Lemmatize"
   ]
  },
  {
   "cell_type": "markdown",
   "id": "4b3e15fd",
   "metadata": {},
   "source": [
    "To root form of word and only keep tokens that are nouns, adjectives, verbs or adverbs to get better key topics"
   ]
  },
  {
   "cell_type": "code",
   "execution_count": 12,
   "id": "cd3c2719",
   "metadata": {
    "id": "cd3c2719"
   },
   "outputs": [],
   "source": [
    "nlp = spacy.load('en_core_web_sm', disable=['parser', 'ner'])\n",
    "\n",
    "def lemmatization(texts, postag=['NOUN', 'ADJ', 'VERB', 'ADV']):\n",
    "    texts_out = []\n",
    "    for sent in texts:\n",
    "        doc = nlp(\" \".join(sent))\n",
    "        texts_out.append([token.lemma_ for token in doc if token.pos_ in postag])\n",
    "    return texts_out"
   ]
  },
  {
   "cell_type": "code",
   "execution_count": 13,
   "id": "26879ac9",
   "metadata": {
    "id": "26879ac9"
   },
   "outputs": [],
   "source": [
    "lem_words = lemmatization(words)"
   ]
  },
  {
   "cell_type": "code",
   "execution_count": 14,
   "id": "83c43775",
   "metadata": {
    "id": "83c43775",
    "outputId": "bdc06a0a-79b3-43be-8622-dfe3cf1ce62c",
    "scrolled": true
   },
   "outputs": [
    {
     "name": "stdout",
     "output_type": "stream",
     "text": [
      "[['advertise', 'product', 'arrive', 'label', 'salt', 'peanut', 'peanut', 'actually', 'small', 'sized', 'unsalted', 'sure', 'error', 'vendor', 'intend', 'represent', 'product', 'jumbo']]\n"
     ]
    }
   ],
   "source": [
    "print(lem_words[:1])"
   ]
  },
  {
   "cell_type": "markdown",
   "id": "e9ea933f",
   "metadata": {},
   "source": [
    "##### Creating a BoW Corpus"
   ]
  },
  {
   "cell_type": "markdown",
   "id": "07316d5a",
   "metadata": {},
   "source": [
    "In Gensim, the corpus contains the word id and its frequency in every document."
   ]
  },
  {
   "cell_type": "code",
   "execution_count": 15,
   "id": "99d0f8e9",
   "metadata": {
    "id": "99d0f8e9"
   },
   "outputs": [],
   "source": [
    "# create dictionary and corpus for topic modeling, a mapping between words and their integer ids.\n",
    "id2word = Dictionary(lem_words)"
   ]
  },
  {
   "cell_type": "code",
   "execution_count": 16,
   "id": "14243ec4",
   "metadata": {
    "id": "14243ec4",
    "outputId": "74152eb4-57cc-49c2-f677-39da2c1b4526",
    "scrolled": true
   },
   "outputs": [
    {
     "name": "stdout",
     "output_type": "stream",
     "text": [
      "Dictionary(24507 unique tokens: ['actually', 'advertise', 'arrive', 'error', 'intend']...)\n"
     ]
    }
   ],
   "source": [
    "print(id2word)"
   ]
  },
  {
   "cell_type": "code",
   "execution_count": 17,
   "id": "cf7378cc",
   "metadata": {
    "id": "cf7378cc"
   },
   "outputs": [],
   "source": [
    "# convert document (a list of words) into the bag-of-words format -> list of (token_id, token_count) 2-tuples.\n",
    "corpus = [id2word.doc2bow(text) for text in lem_words]"
   ]
  },
  {
   "cell_type": "code",
   "execution_count": 31,
   "id": "33a96ab9",
   "metadata": {
    "id": "33a96ab9"
   },
   "outputs": [],
   "source": [
    "# build lda model\n",
    "lda_model = gensim.models.ldamodel.LdaModel(corpus=corpus,\n",
    "                                            id2word=id2word,\n",
    "                                            num_topics=6, \n",
    "                                            random_state=40,\n",
    "                                            update_every=1, # model params updated\n",
    "                                            chunksize=100, # no. of docs to consider at once\n",
    "                                            passes=10, # times algo pass over whole corpus\n",
    "                                            per_word_topics=True) # extract most likely topics given a word"
   ]
  },
  {
   "cell_type": "code",
   "execution_count": 32,
   "id": "cb1bd8f9",
   "metadata": {
    "id": "cb1bd8f9",
    "outputId": "e3dadc11-86d8-4fe0-c5f0-3120c109904d",
    "scrolled": false
   },
   "outputs": [
    {
     "name": "stdout",
     "output_type": "stream",
     "text": [
      "(0, '0.066*\"tea\" + 0.057*\"coffee\" + 0.039*\"flavor\" + 0.022*\"taste\" + 0.020*\"cup\" + 0.019*\"strong\" + 0.017*\"good\" + 0.015*\"bean\" + 0.014*\"bag\" + 0.012*\"drink\"')\n",
      "\n",
      "\n",
      "(1, '0.051*\"taste\" + 0.025*\"water\" + 0.019*\"try\" + 0.018*\"drink\" + 0.018*\"bad\" + 0.016*\"bottle\" + 0.012*\"smell\" + 0.012*\"would\" + 0.011*\"squeeze\" + 0.011*\"really\"')\n",
      "\n",
      "\n",
      "(2, '0.051*\"oil\" + 0.047*\"product\" + 0.044*\"ingredient\" + 0.023*\"natural\" + 0.022*\"contain\" + 0.021*\"list\" + 0.021*\"food\" + 0.014*\"make\" + 0.014*\"corn\" + 0.013*\"weak\"')\n",
      "\n",
      "\n",
      "(3, '0.022*\"use\" + 0.017*\"hair\" + 0.017*\"product\" + 0.013*\"price\" + 0.013*\"good\" + 0.011*\"buy\" + 0.011*\"food\" + 0.010*\"make\" + 0.010*\"well\" + 0.010*\"go\"')\n",
      "\n",
      "\n",
      "(4, '0.032*\"taste\" + 0.025*\"cookie\" + 0.024*\"vitamin\" + 0.023*\"flavor\" + 0.019*\"good\" + 0.018*\"chocolate\" + 0.018*\"sugar\" + 0.014*\"eat\" + 0.012*\"fruit\" + 0.012*\"much\"')\n",
      "\n",
      "\n",
      "(5, '0.026*\"order\" + 0.025*\"product\" + 0.022*\"bag\" + 0.020*\"dog\" + 0.014*\"box\" + 0.014*\"package\" + 0.013*\"receive\" + 0.013*\"get\" + 0.013*\"buy\" + 0.013*\"item\"')\n",
      "\n",
      "\n"
     ]
    }
   ],
   "source": [
    "# 6 topics\n",
    "for i in lda_model.print_topics():\n",
    "    print(i)\n",
    "    print('\\n')"
   ]
  },
  {
   "cell_type": "markdown",
   "id": "c691c0db",
   "metadata": {},
   "source": [
    "#### Each document is composed of multiple topics. We will find the dominant topic for each sentence below."
   ]
  },
  {
   "cell_type": "code",
   "execution_count": 33,
   "id": "96631aff",
   "metadata": {
    "scrolled": true
   },
   "outputs": [
    {
     "data": {
      "text/html": [
       "<div>\n",
       "<style scoped>\n",
       "    .dataframe tbody tr th:only-of-type {\n",
       "        vertical-align: middle;\n",
       "    }\n",
       "\n",
       "    .dataframe tbody tr th {\n",
       "        vertical-align: top;\n",
       "    }\n",
       "\n",
       "    .dataframe thead th {\n",
       "        text-align: right;\n",
       "    }\n",
       "</style>\n",
       "<table border=\"1\" class=\"dataframe\">\n",
       "  <thead>\n",
       "    <tr style=\"text-align: right;\">\n",
       "      <th></th>\n",
       "      <th>Document_No</th>\n",
       "      <th>Dominant_Topic</th>\n",
       "      <th>Topic_Perc_Contrib</th>\n",
       "      <th>Keywords</th>\n",
       "      <th>Text</th>\n",
       "    </tr>\n",
       "  </thead>\n",
       "  <tbody>\n",
       "    <tr>\n",
       "      <th>0</th>\n",
       "      <td>0</td>\n",
       "      <td>2.0</td>\n",
       "      <td>0.3879</td>\n",
       "      <td>oil, product, ingredient, natural, contain, list, food, make, corn, weak</td>\n",
       "      <td>[advertise, product, arrive, label, salt, peanut, peanut, actually, small, sized, unsalted, sure, error, vendor, intend, represent, product, jumbo]</td>\n",
       "    </tr>\n",
       "    <tr>\n",
       "      <th>1</th>\n",
       "      <td>1</td>\n",
       "      <td>3.0</td>\n",
       "      <td>0.9489</td>\n",
       "      <td>use, hair, product, price, good, buy, food, make, well, go</td>\n",
       "      <td>[cat, fan, new, food, cat, happily, eat, felidae, platinum, year, get, new, bag, shape, food, different, try, new, food, first, put, bowl, bowl, sit, full, kitty, touch, food, notice, similar, review, relate, formula, change, unfortunately, need, find, new, food, cat, eat]</td>\n",
       "    </tr>\n",
       "    <tr>\n",
       "      <th>2</th>\n",
       "      <td>2</td>\n",
       "      <td>1.0</td>\n",
       "      <td>0.5425</td>\n",
       "      <td>taste, water, try, drink, bad, bottle, smell, would, squeeze, really</td>\n",
       "      <td>[poor, taste, love, eat, good, watch, tv, look, movie, sweet, transfer, lock, baggie, stay, fresh, take, time, eat]</td>\n",
       "    </tr>\n",
       "    <tr>\n",
       "      <th>3</th>\n",
       "      <td>3</td>\n",
       "      <td>3.0</td>\n",
       "      <td>0.5564</td>\n",
       "      <td>use, hair, product, price, good, buy, food, make, well, go</td>\n",
       "      <td>[plan, would, never, buy]</td>\n",
       "    </tr>\n",
       "    <tr>\n",
       "      <th>4</th>\n",
       "      <td>4</td>\n",
       "      <td>1.0</td>\n",
       "      <td>0.4931</td>\n",
       "      <td>taste, water, try, drink, bad, bottle, smell, would, squeeze, really</td>\n",
       "      <td>[stuff, stuff, buy, store, healthy, sugar, save, money, get, least, taste]</td>\n",
       "    </tr>\n",
       "    <tr>\n",
       "      <th>5</th>\n",
       "      <td>5</td>\n",
       "      <td>1.0</td>\n",
       "      <td>0.9232</td>\n",
       "      <td>taste, water, try, drink, bad, bottle, smell, would, squeeze, really</td>\n",
       "      <td>[purchase, flavor, take, sweetness, unfortunately, hint, aftertaste, almost, licorice, consume, various, sport, nutrition, product, decade, familiar, come, taste, product, try, least, appeal, taste, terrible, bad, enough, notice, bad, taste, sip, take]</td>\n",
       "    </tr>\n",
       "    <tr>\n",
       "      <th>6</th>\n",
       "      <td>6</td>\n",
       "      <td>3.0</td>\n",
       "      <td>0.3391</td>\n",
       "      <td>use, hair, product, price, good, buy, food, make, well, go</td>\n",
       "      <td>[warn, warn, alcohol, buyer, beware, sweeten, sugar, undigestible, body, know, short, time, consume, unsuspecte, many, can, digest, extreme, intestinal, bloating, cramp, massive, amount, gas, person, experience, also, experience, learn, lesson, hard, way, year, ago, fall, love, sugar, chocolate, sommer, use, sell, thought, find, sugar, first, short, live, terrible, side, effect, kick, discomfort, ever, feel, blew, balloon, painful, abdominal, cramping, symptom, pass, unpleasant, believe, low...</td>\n",
       "    </tr>\n",
       "    <tr>\n",
       "      <th>7</th>\n",
       "      <td>7</td>\n",
       "      <td>0.0</td>\n",
       "      <td>0.7093</td>\n",
       "      <td>tea, coffee, flavor, taste, cup, strong, good, bean, bag, drink</td>\n",
       "      <td>[order, cold, weather, taste, great, berry, melt, may, order, winter, order, cold, weather, enjoy, flavor]</td>\n",
       "    </tr>\n",
       "    <tr>\n",
       "      <th>8</th>\n",
       "      <td>8</td>\n",
       "      <td>1.0</td>\n",
       "      <td>0.6357</td>\n",
       "      <td>taste, water, try, drink, bad, bottle, smell, would, squeeze, really</td>\n",
       "      <td>[bad, hate, eat, give, terrible, diarrhea, buying, also, super, expensive]</td>\n",
       "    </tr>\n",
       "    <tr>\n",
       "      <th>9</th>\n",
       "      <td>9</td>\n",
       "      <td>3.0</td>\n",
       "      <td>0.4645</td>\n",
       "      <td>use, hair, product, price, good, buy, food, make, well, go</td>\n",
       "      <td>[love, raman, reason, thing, burn, stomach, badly, burn, sensation, go, away, hour, sure, healthy, buy, cheap]</td>\n",
       "    </tr>\n",
       "  </tbody>\n",
       "</table>\n",
       "</div>"
      ],
      "text/plain": [
       "   Document_No  Dominant_Topic  Topic_Perc_Contrib  \\\n",
       "0            0             2.0              0.3879   \n",
       "1            1             3.0              0.9489   \n",
       "2            2             1.0              0.5425   \n",
       "3            3             3.0              0.5564   \n",
       "4            4             1.0              0.4931   \n",
       "5            5             1.0              0.9232   \n",
       "6            6             3.0              0.3391   \n",
       "7            7             0.0              0.7093   \n",
       "8            8             1.0              0.6357   \n",
       "9            9             3.0              0.4645   \n",
       "\n",
       "                                                                   Keywords  \\\n",
       "0  oil, product, ingredient, natural, contain, list, food, make, corn, weak   \n",
       "1                use, hair, product, price, good, buy, food, make, well, go   \n",
       "2      taste, water, try, drink, bad, bottle, smell, would, squeeze, really   \n",
       "3                use, hair, product, price, good, buy, food, make, well, go   \n",
       "4      taste, water, try, drink, bad, bottle, smell, would, squeeze, really   \n",
       "5      taste, water, try, drink, bad, bottle, smell, would, squeeze, really   \n",
       "6                use, hair, product, price, good, buy, food, make, well, go   \n",
       "7           tea, coffee, flavor, taste, cup, strong, good, bean, bag, drink   \n",
       "8      taste, water, try, drink, bad, bottle, smell, would, squeeze, really   \n",
       "9                use, hair, product, price, good, buy, food, make, well, go   \n",
       "\n",
       "                                                                                                                                                                                                                                                                                                                                                                                                                                                                                                                  Text  \n",
       "0                                                                                                                                                                                                                                                                                                                                                                  [advertise, product, arrive, label, salt, peanut, peanut, actually, small, sized, unsalted, sure, error, vendor, intend, represent, product, jumbo]  \n",
       "1                                                                                                                                                                                                                                    [cat, fan, new, food, cat, happily, eat, felidae, platinum, year, get, new, bag, shape, food, different, try, new, food, first, put, bowl, bowl, sit, full, kitty, touch, food, notice, similar, review, relate, formula, change, unfortunately, need, find, new, food, cat, eat]  \n",
       "2                                                                                                                                                                                                                                                                                                                                                                                                  [poor, taste, love, eat, good, watch, tv, look, movie, sweet, transfer, lock, baggie, stay, fresh, take, time, eat]  \n",
       "3                                                                                                                                                                                                                                                                                                                                                                                                                                                                                            [plan, would, never, buy]  \n",
       "4                                                                                                                                                                                                                                                                                                                                                                                                                                           [stuff, stuff, buy, store, healthy, sugar, save, money, get, least, taste]  \n",
       "5                                                                                                                                                                                                                                                         [purchase, flavor, take, sweetness, unfortunately, hint, aftertaste, almost, licorice, consume, various, sport, nutrition, product, decade, familiar, come, taste, product, try, least, appeal, taste, terrible, bad, enough, notice, bad, taste, sip, take]  \n",
       "6  [warn, warn, alcohol, buyer, beware, sweeten, sugar, undigestible, body, know, short, time, consume, unsuspecte, many, can, digest, extreme, intestinal, bloating, cramp, massive, amount, gas, person, experience, also, experience, learn, lesson, hard, way, year, ago, fall, love, sugar, chocolate, sommer, use, sell, thought, find, sugar, first, short, live, terrible, side, effect, kick, discomfort, ever, feel, blew, balloon, painful, abdominal, cramping, symptom, pass, unpleasant, believe, low...  \n",
       "7                                                                                                                                                                                                                                                                                                                                                                                                           [order, cold, weather, taste, great, berry, melt, may, order, winter, order, cold, weather, enjoy, flavor]  \n",
       "8                                                                                                                                                                                                                                                                                                                                                                                                                                           [bad, hate, eat, give, terrible, diarrhea, buying, also, super, expensive]  \n",
       "9                                                                                                                                                                                                                                                                                                                                                                                                       [love, raman, reason, thing, burn, stomach, badly, burn, sensation, go, away, hour, sure, healthy, buy, cheap]  "
      ]
     },
     "execution_count": 33,
     "metadata": {},
     "output_type": "execute_result"
    }
   ],
   "source": [
    "def format_topics_sentences(ldamodel, corpus, texts):\n",
    "    # Initialise output\n",
    "    sent_topics_df = pd.DataFrame()\n",
    "\n",
    "    # Get main topic in each document\n",
    "    for i, row_list in enumerate(ldamodel[corpus]):\n",
    "        row = row_list[0] if ldamodel.per_word_topics else row_list            \n",
    "        # print(row)\n",
    "        row = sorted(row, key=lambda x: (x[1]), reverse=True)\n",
    "        # Get the Dominant topic, Perc Contribution and Keywords for each document\n",
    "        for j, (topic_num, prop_topic) in enumerate(row):\n",
    "            if j == 0:  # => dominant topic\n",
    "                wp = ldamodel.show_topic(topic_num)\n",
    "                topic_keywords = \", \".join([word for word, prop in wp])\n",
    "                sent_topics_df = sent_topics_df.append(pd.Series([int(topic_num), round(prop_topic,4), topic_keywords]), ignore_index=True)\n",
    "            else:\n",
    "                break\n",
    "    sent_topics_df.columns = ['Dominant_Topic', 'Perc_Contribution', 'Topic_Keywords']\n",
    "\n",
    "    # Add original text to the end of the output\n",
    "    contents = pd.Series(texts)\n",
    "    sent_topics_df = pd.concat([sent_topics_df, contents], axis=1)\n",
    "    return(sent_topics_df)\n",
    "\n",
    "\n",
    "df_topic_sents_keywords = format_topics_sentences(ldamodel=lda_model, corpus=corpus, texts=lem_words)\n",
    "\n",
    "# Format\n",
    "df_dominant_topic = df_topic_sents_keywords.reset_index()\n",
    "df_dominant_topic.columns = ['Document_No', 'Dominant_Topic', 'Topic_Perc_Contrib', 'Keywords', 'Text']\n",
    "df_dominant_topic.head(10)"
   ]
  },
  {
   "cell_type": "markdown",
   "id": "158e5395",
   "metadata": {},
   "source": [
    "#### The most representative sentence for each topic"
   ]
  },
  {
   "cell_type": "code",
   "execution_count": 34,
   "id": "e736408f",
   "metadata": {},
   "outputs": [
    {
     "data": {
      "text/html": [
       "<div>\n",
       "<style scoped>\n",
       "    .dataframe tbody tr th:only-of-type {\n",
       "        vertical-align: middle;\n",
       "    }\n",
       "\n",
       "    .dataframe tbody tr th {\n",
       "        vertical-align: top;\n",
       "    }\n",
       "\n",
       "    .dataframe thead th {\n",
       "        text-align: right;\n",
       "    }\n",
       "</style>\n",
       "<table border=\"1\" class=\"dataframe\">\n",
       "  <thead>\n",
       "    <tr style=\"text-align: right;\">\n",
       "      <th></th>\n",
       "      <th>Topic_Num</th>\n",
       "      <th>Topic_Perc_Contrib</th>\n",
       "      <th>Keywords</th>\n",
       "      <th>Representative Text</th>\n",
       "    </tr>\n",
       "  </thead>\n",
       "  <tbody>\n",
       "    <tr>\n",
       "      <th>0</th>\n",
       "      <td>0.0</td>\n",
       "      <td>0.9635</td>\n",
       "      <td>tea, coffee, flavor, taste, cup, strong, good, bean, bag, drink</td>\n",
       "      <td>[tea, tea, strong, taste, spearmint, mint, expect, think, would, well, less, intense, would, make, second, cup, drink, may, ok, order, prefer, mint]</td>\n",
       "    </tr>\n",
       "    <tr>\n",
       "      <th>1</th>\n",
       "      <td>1.0</td>\n",
       "      <td>0.9679</td>\n",
       "      <td>taste, water, try, drink, bad, bottle, smell, would, squeeze, really</td>\n",
       "      <td>[water, coconut, taste, highly, diluted, coconut, water, taste, taste, coconut, water, water, finally, naked, water, coconut, water, stay, away, way, taste, coconut, water, go, good]</td>\n",
       "    </tr>\n",
       "    <tr>\n",
       "      <th>2</th>\n",
       "      <td>2.0</td>\n",
       "      <td>0.8955</td>\n",
       "      <td>oil, product, ingredient, natural, contain, list, food, make, corn, weak</td>\n",
       "      <td>[contain, ingredient, list, see, ingredient, list, see]</td>\n",
       "    </tr>\n",
       "    <tr>\n",
       "      <th>3</th>\n",
       "      <td>3.0</td>\n",
       "      <td>0.9651</td>\n",
       "      <td>use, hair, product, price, good, buy, food, make, well, go</td>\n",
       "      <td>[double, price, double, price, sale, exact, product, greedy, people, go, could, almost, buy, year, membership, extra, price, charge, people, probably, buy, charge, double]</td>\n",
       "    </tr>\n",
       "    <tr>\n",
       "      <th>4</th>\n",
       "      <td>4.0</td>\n",
       "      <td>0.9535</td>\n",
       "      <td>taste, cookie, vitamin, flavor, good, chocolate, sugar, eat, fruit, much</td>\n",
       "      <td>[low, sodium, option, well, extremely, good, vitamin, taste, bit, low, sodium, option, well, almost, taste, much, healthy]</td>\n",
       "    </tr>\n",
       "    <tr>\n",
       "      <th>5</th>\n",
       "      <td>5.0</td>\n",
       "      <td>0.9601</td>\n",
       "      <td>order, product, bag, dog, box, package, receive, get, buy, item</td>\n",
       "      <td>[outdated, order, pack, sell, date, exactly, month, day, receive, probably, would, purchase, know, prior, purchase, bone, racid, little, disappointing, know, could]</td>\n",
       "    </tr>\n",
       "  </tbody>\n",
       "</table>\n",
       "</div>"
      ],
      "text/plain": [
       "   Topic_Num  Topic_Perc_Contrib  \\\n",
       "0        0.0              0.9635   \n",
       "1        1.0              0.9679   \n",
       "2        2.0              0.8955   \n",
       "3        3.0              0.9651   \n",
       "4        4.0              0.9535   \n",
       "5        5.0              0.9601   \n",
       "\n",
       "                                                                   Keywords  \\\n",
       "0           tea, coffee, flavor, taste, cup, strong, good, bean, bag, drink   \n",
       "1      taste, water, try, drink, bad, bottle, smell, would, squeeze, really   \n",
       "2  oil, product, ingredient, natural, contain, list, food, make, corn, weak   \n",
       "3                use, hair, product, price, good, buy, food, make, well, go   \n",
       "4  taste, cookie, vitamin, flavor, good, chocolate, sugar, eat, fruit, much   \n",
       "5           order, product, bag, dog, box, package, receive, get, buy, item   \n",
       "\n",
       "                                                                                                                                                                      Representative Text  \n",
       "0                                    [tea, tea, strong, taste, spearmint, mint, expect, think, would, well, less, intense, would, make, second, cup, drink, may, ok, order, prefer, mint]  \n",
       "1  [water, coconut, taste, highly, diluted, coconut, water, taste, taste, coconut, water, water, finally, naked, water, coconut, water, stay, away, way, taste, coconut, water, go, good]  \n",
       "2                                                                                                                                 [contain, ingredient, list, see, ingredient, list, see]  \n",
       "3             [double, price, double, price, sale, exact, product, greedy, people, go, could, almost, buy, year, membership, extra, price, charge, people, probably, buy, charge, double]  \n",
       "4                                                              [low, sodium, option, well, extremely, good, vitamin, taste, bit, low, sodium, option, well, almost, taste, much, healthy]  \n",
       "5                    [outdated, order, pack, sell, date, exactly, month, day, receive, probably, would, purchase, know, prior, purchase, bone, racid, little, disappointing, know, could]  "
      ]
     },
     "execution_count": 34,
     "metadata": {},
     "output_type": "execute_result"
    }
   ],
   "source": [
    "# Display setting to show more characters in column\n",
    "pd.options.display.max_colwidth = 500\n",
    "\n",
    "sent_topics_sorteddf_mallet = pd.DataFrame()\n",
    "sent_topics_outdf_grpd = df_topic_sents_keywords.groupby('Dominant_Topic')\n",
    "\n",
    "for i, grp in sent_topics_outdf_grpd:\n",
    "    sent_topics_sorteddf_mallet = pd.concat([sent_topics_sorteddf_mallet, grp.sort_values(['Perc_Contribution'], ascending=False).head(1)], axis=0)\n",
    "\n",
    "# Reset Index    \n",
    "sent_topics_sorteddf_mallet.reset_index(drop=True, inplace=True)\n",
    "\n",
    "# Format\n",
    "sent_topics_sorteddf_mallet.columns = ['Topic_Num', \"Topic_Perc_Contrib\", \"Keywords\", \"Representative Text\"]\n",
    "\n",
    "# Show\n",
    "sent_topics_sorteddf_mallet"
   ]
  },
  {
   "cell_type": "markdown",
   "id": "89f100cb",
   "metadata": {},
   "source": [
    "#### Using pyLDAVis to visualise"
   ]
  },
  {
   "cell_type": "code",
   "execution_count": 35,
   "id": "04c90e3c",
   "metadata": {
    "scrolled": true
   },
   "outputs": [
    {
     "data": {
      "text/html": [
       "<style>.container { max-width:100% !important; }</style>"
      ],
      "text/plain": [
       "<IPython.core.display.HTML object>"
      ]
     },
     "metadata": {},
     "output_type": "display_data"
    },
    {
     "data": {
      "text/html": [
       "<style>.output_result { max-width:100% !important; }</style>"
      ],
      "text/plain": [
       "<IPython.core.display.HTML object>"
      ]
     },
     "metadata": {},
     "output_type": "display_data"
    },
    {
     "data": {
      "text/html": [
       "<style>.output_area { max-width:100% !important; }</style>"
      ],
      "text/plain": [
       "<IPython.core.display.HTML object>"
      ]
     },
     "metadata": {},
     "output_type": "display_data"
    },
    {
     "data": {
      "text/html": [
       "<style>.input_area { max-width:100% !important; }</style>"
      ],
      "text/plain": [
       "<IPython.core.display.HTML object>"
      ]
     },
     "metadata": {},
     "output_type": "display_data"
    },
    {
     "name": "stderr",
     "output_type": "stream",
     "text": [
      "C:\\Users\\piggy\\anaconda3\\envs\\nlpdsi\\lib\\site-packages\\pyLDAvis\\_prepare.py:246: FutureWarning: In a future version of pandas all arguments of DataFrame.drop except for the argument 'labels' will be keyword-only\n",
      "  default_term_info = default_term_info.sort_values(\n"
     ]
    },
    {
     "data": {
      "text/html": [
       "\n",
       "<link rel=\"stylesheet\" type=\"text/css\" href=\"https://cdn.jsdelivr.net/gh/bmabey/pyLDAvis@3.3.1/pyLDAvis/js/ldavis.v1.0.0.css\">\n",
       "\n",
       "\n",
       "<div id=\"ldavis_el861624447483167364261922254\"></div>\n",
       "<script type=\"text/javascript\">\n",
       "\n",
       "var ldavis_el861624447483167364261922254_data = {\"mdsDat\": {\"x\": [0.03037203539547816, 0.09551072636088641, -0.016297070686689737, 0.13836711739860227, 0.1624982562447767, -0.41045106471305465], \"y\": [-0.09180715846233443, -0.05831289934741272, -0.27171703415124177, 0.1892156763121425, 0.1278091504405414, 0.10481226520830537], \"topics\": [1, 2, 3, 4, 5, 6], \"cluster\": [1, 1, 1, 1, 1, 1], \"Freq\": [30.195924929373064, 19.597690773640178, 18.260936679895277, 13.850293207456858, 10.594266748782472, 7.500887660852147]}, \"tinfo\": {\"Term\": [\"tea\", \"taste\", \"coffee\", \"product\", \"flavor\", \"oil\", \"ingredient\", \"water\", \"order\", \"food\", \"cookie\", \"bag\", \"vitamin\", \"hair\", \"dog\", \"drink\", \"chocolate\", \"sugar\", \"bottle\", \"cup\", \"price\", \"natural\", \"strong\", \"contain\", \"list\", \"receive\", \"smell\", \"item\", \"use\", \"good\", \"hair\", \"price\", \"store\", \"cat\", \"sauce\", \"change\", \"expensive\", \"cost\", \"local\", \"formula\", \"snack\", \"shampoo\", \"grocery\", \"rice\", \"baby\", \"liquid\", \"soup\", \"skin\", \"close\", \"happen\", \"deal\", \"seal\", \"weight\", \"scalp\", \"figure\", \"popcorn\", \"happy\", \"bowl\", \"reviewer\", \"stop\", \"wet\", \"cheap\", \"use\", \"food\", \"work\", \"result\", \"dry\", \"go\", \"well\", \"find\", \"time\", \"less\", \"buy\", \"product\", \"long\", \"good\", \"year\", \"eat\", \"much\", \"make\", \"seem\", \"brand\", \"get\", \"would\", \"try\", \"look\", \"think\", \"give\", \"great\", \"see\", \"really\", \"even\", \"water\", \"smell\", \"squeeze\", \"hot\", \"energy\", \"start\", \"horrible\", \"awful\", \"waste\", \"coconut\", \"sweetener\", \"oatmeal\", \"spice\", \"poor\", \"perhaps\", \"rest\", \"instruction\", \"soda\", \"head\", \"understand\", \"drinking\", \"burn\", \"ice\", \"sweetness\", \"hate\", \"nasty\", \"thin\", \"boost\", \"beverage\", \"pour\", \"bottle\", \"drink\", \"bad\", \"taste\", \"aftertaste\", \"line\", \"ever\", \"stuff\", \"try\", \"terrible\", \"even\", \"add\", \"really\", \"give\", \"would\", \"money\", \"say\", \"go\", \"use\", \"first\", \"could\", \"think\", \"flavor\", \"make\", \"get\", \"product\", \"buy\", \"good\", \"dog\", \"receive\", \"item\", \"treat\", \"arrive\", \"return\", \"date\", \"send\", \"picture\", \"ship\", \"pop\", \"break\", \"stale\", \"chew\", \"customer\", \"leak\", \"greasy\", \"seller\", \"wrap\", \"gift\", \"pet\", \"bone\", \"beware\", \"damage\", \"expiration\", \"remove\", \"salmon\", \"daughter\", \"delivery\", \"paper\", \"order\", \"shipping\", \"package\", \"bag\", \"box\", \"open\", \"packaging\", \"plastic\", \"candy\", \"purchase\", \"product\", \"pack\", \"get\", \"company\", \"buy\", \"small\", \"would\", \"time\", \"can\", \"never\", \"say\", \"look\", \"come\", \"make\", \"cookie\", \"vitamin\", \"chocolate\", \"sugar\", \"fruit\", \"milk\", \"texture\", \"bar\", \"calorie\", \"salt\", \"butter\", \"syrup\", \"cake\", \"cereal\", \"peanut\", \"vanilla\", \"fat\", \"chip\", \"mineral\", \"child\", \"flour\", \"salty\", \"cheese\", \"gluten\", \"raisin\", \"protein\", \"almond\", \"sodium\", \"cracker\", \"wheat\", \"serve\", \"soft\", \"sweet\", \"kid\", \"flavor\", \"taste\", \"eat\", \"good\", \"healthy\", \"add\", \"dry\", \"much\", \"mix\", \"little\", \"well\", \"really\", \"would\", \"love\", \"make\", \"tea\", \"coffee\", \"cup\", \"strong\", \"bean\", \"bitter\", \"caffeine\", \"seed\", \"green\", \"roast\", \"punch\", \"blend\", \"mild\", \"difference\", \"pod\", \"bergamot\", \"cherry\", \"machine\", \"honey\", \"cold\", \"french\", \"pomegranate\", \"medium\", \"bold\", \"berry\", \"tree\", \"slight\", \"iced\", \"tough\", \"ginger\", \"aroma\", \"black\", \"flavor\", \"bag\", \"taste\", \"drink\", \"good\", \"prefer\", \"dark\", \"try\", \"find\", \"well\", \"pack\", \"much\", \"would\", \"order\", \"brand\", \"use\", \"get\", \"really\", \"oil\", \"ingredient\", \"natural\", \"contain\", \"list\", \"corn\", \"weak\", \"label\", \"juice\", \"brew\", \"shipment\", \"sucralose\", \"main\", \"otherwise\", \"apply\", \"arsenic\", \"produce\", \"source\", \"switch\", \"tasty\", \"research\", \"website\", \"additive\", \"information\", \"msg\", \"hear\", \"maker\", \"preservative\", \"intend\", \"filler\", \"pure\", \"organic\", \"grain\", \"claim\", \"health\", \"product\", \"food\", \"read\", \"make\", \"company\", \"know\", \"include\", \"also\", \"color\", \"use\", \"say\"], \"Freq\": [9292.0, 22371.0, 8000.0, 19865.0, 12260.0, 5132.0, 4362.0, 6617.0, 7381.0, 6799.0, 4624.0, 7147.0, 4436.0, 6879.0, 4831.0, 6456.0, 3244.0, 3230.0, 4393.0, 2774.0, 5086.0, 2293.0, 2636.0, 2191.0, 2102.0, 3201.0, 3248.0, 3106.0, 13211.0, 13280.0, 6879.0770844190465, 5085.7045970497475, 2868.4147355821983, 2335.4942211260977, 1666.9997478918117, 1570.8745037527278, 1410.7741098583094, 1309.1588820821412, 1278.6068961748708, 1194.9581063941257, 1107.8877205982506, 1069.3843277528636, 994.0719480160238, 955.8647329601704, 911.9210463496738, 918.7776882700923, 867.3297101672365, 870.1883722380214, 855.711993934716, 853.2876512336346, 818.9911785454138, 761.9967552874123, 683.2175729601876, 760.4189150481857, 660.2672968469112, 649.4471404203906, 639.9174262329724, 629.1384600950624, 625.0486193636863, 603.3333046926082, 826.0979510619757, 1620.0295557895931, 8841.48031913999, 4553.356076533446, 2258.3949674404835, 1003.1048568857101, 2732.490332443771, 3986.2044707996174, 4027.935370272985, 3298.1764605624057, 3458.323929072379, 1792.5970638408514, 4558.548854958832, 6713.165217151948, 1667.5853785257993, 5083.1386568939415, 1623.9029373512299, 2899.039014649071, 3436.885924983806, 4054.571383299783, 1910.752667647575, 1894.040245105408, 3457.799756964255, 3913.383403008607, 3219.7508982639333, 2432.1210340856783, 2437.519670552102, 2358.0459508414115, 2163.6937304219377, 1917.6207046138222, 2072.1272518304872, 1804.4208249184398, 6616.27431514924, 3247.7135158861606, 2983.807940838867, 2217.8906597080727, 2187.1584805254397, 1539.3293226910916, 1339.5226322657065, 1291.950216931494, 1247.1345368951888, 1049.3933974976183, 1017.2204125149882, 984.1826894501908, 848.3832874853289, 828.7703124709147, 771.1517804925302, 718.6771822470863, 705.7856438826998, 638.9122624305974, 589.6203125405657, 567.8732257713177, 559.8496808839992, 539.8006693448721, 536.832796105136, 526.7406085922328, 519.6970395784732, 502.3174105453569, 503.31717870660094, 475.6583811150542, 472.76449405332625, 472.5397773291345, 4099.805387065204, 4803.536452061195, 4759.283685297305, 13304.20289491401, 952.0104925218942, 736.1773229736726, 1509.872215420152, 1898.7963060514403, 4982.545054993626, 1095.5256132274749, 2653.9031790736417, 2109.550647278586, 2946.801879248102, 2638.0390391435176, 3247.156058374516, 1286.8129513506065, 2164.133957681497, 2238.930013066223, 2861.640605833678, 1794.8067172605674, 1667.4986007397717, 1939.9619608929704, 2468.1825355236215, 2211.332350305091, 2054.4945042755407, 2277.5073337589706, 1865.299268549308, 1793.1036712261887, 4830.466827299583, 3200.4265642805854, 3105.7536594049834, 1955.1240448976175, 1838.475647809435, 1837.830366399658, 1572.1116834344725, 1499.095245088467, 1461.2843753664204, 1220.4259720928185, 1166.1947691295443, 1106.1878908588026, 1098.892437749212, 1088.992248388706, 949.1759667069562, 865.071578366272, 1104.4962865468278, 758.734635864837, 716.8161975049248, 697.513053749798, 619.9808881991333, 608.3310282373277, 564.9382257879552, 558.3853207712326, 545.251437833318, 541.5515193997908, 518.4441864231071, 501.9004905594221, 492.3693158566608, 487.716839151558, 6374.357729274855, 1319.211642200272, 3291.9544001001314, 5226.28642058083, 3427.7292002631893, 2711.845508955219, 1292.340280635991, 994.7402676259946, 1335.3401753922255, 2246.9939092822437, 6143.25344588297, 2038.6746570704574, 3149.524118673839, 1403.678888364521, 3112.448905909157, 1735.1348241646872, 2599.2872832119915, 2022.592102438339, 1421.3189525898806, 1478.66901570041, 1522.5188924817078, 1462.8335252215097, 1384.0556457167818, 1380.0041099184207, 4623.4161474705625, 4435.736863910558, 3243.444660823747, 3229.234234404651, 2246.9373942999714, 2148.8768151179047, 1903.084969165438, 1779.3596305330805, 1581.82743735231, 1403.5495117077219, 1372.520455091388, 1299.3248661721886, 1031.6677213520243, 956.2396505195699, 943.6888265636417, 948.2739185667932, 792.25894861429, 770.634248833617, 837.7608800128098, 756.019567965596, 740.1186073630985, 734.9219069969911, 728.462575524619, 716.4622676420995, 713.9803184062405, 699.6048228485573, 665.3127696396081, 577.7530382179361, 547.3406024455376, 507.0518654744684, 1236.3205507607418, 1324.6127898729308, 1994.7453384456617, 1156.3647958269542, 4244.102432965565, 5904.738923833697, 2621.2216625050555, 3514.8760752964536, 1130.4090554295356, 1682.3483307027593, 1663.9742034165465, 2161.2702386027277, 1192.8821335405723, 1445.9718947491394, 1491.2646728814816, 1411.1982149489636, 1551.8529724607254, 1188.5122783275226, 1251.8418480603173, 9291.83059760114, 7999.621698255961, 2773.5329280947462, 2635.4496185489875, 2096.0813117804773, 1586.1005149560372, 1409.0469086745409, 1288.1872119111088, 1084.093816841565, 1072.2509363522263, 1111.1380623739415, 1017.5517402336832, 772.5629970397001, 735.2412369231923, 651.9762758664199, 626.9186241187002, 623.3415624718064, 617.0783948016742, 571.1448938343609, 548.2477472106661, 528.585508796077, 457.5166252167175, 437.3985863839502, 412.0528847637893, 399.591696539158, 397.24738348174026, 394.4545122156791, 352.1893378434677, 349.4933679963836, 344.4642924930621, 518.9552707853768, 938.3368455858997, 5547.774740699237, 1920.7334588505523, 3161.9465855338813, 1652.7089184059919, 2355.711049958483, 684.0075527626022, 643.3204918951865, 1400.5853863237662, 1177.4765706305598, 1220.7532621145624, 963.8900479787908, 1154.7587096555712, 1257.7032117813867, 1006.5992910451378, 813.6318960315397, 890.894474501785, 786.8590531207285, 765.6207657226138, 5131.879439449105, 4361.659233368388, 2292.4552331569034, 2190.272168325236, 2101.8408680395178, 1371.9973520781532, 1280.5114034130388, 1013.6626146981821, 835.4505080781098, 674.0202205381937, 641.6044188959698, 572.7153879971694, 549.8845966841559, 533.7231457480135, 527.6212271427783, 492.1514731733809, 491.500385924622, 477.3436581957267, 465.86765959239654, 460.3914455315463, 452.65278332726433, 421.45623316113927, 402.47544590022693, 381.4143441607235, 376.1132336372685, 345.26081168985877, 327.3249612268353, 289.02747190251864, 290.7233799404627, 286.85100941028423, 523.278232503348, 1179.7293524944591, 918.8444320274104, 603.4051657419634, 789.3582083369106, 4730.942222556726, 2087.7405205406303, 870.2609149790434, 1373.75010438092, 754.1598683307369, 698.9521614929865, 550.997120152832, 634.708258301585, 550.8546150611822, 617.2574866322971, 567.884739170781], \"Total\": [9292.0, 22371.0, 8000.0, 19865.0, 12260.0, 5132.0, 4362.0, 6617.0, 7381.0, 6799.0, 4624.0, 7147.0, 4436.0, 6879.0, 4831.0, 6456.0, 3244.0, 3230.0, 4393.0, 2774.0, 5086.0, 2293.0, 2636.0, 2191.0, 2102.0, 3201.0, 3248.0, 3106.0, 13211.0, 13280.0, 6879.959320347055, 5086.544495658946, 2869.2551013191087, 2336.332353733684, 1667.8392203653266, 1571.7164451962863, 1411.6150390536313, 1309.999662258004, 1279.4472335088778, 1195.798993006015, 1108.7377210934094, 1070.2346599012003, 994.9132232282782, 956.704964089172, 912.761712676819, 919.6254443784904, 868.1711969633109, 871.0427344182697, 856.5565601907776, 854.130300886562, 819.8341129872114, 762.8436728670355, 684.0592244535994, 761.388860116474, 661.1164242835367, 650.2916071679724, 640.7606692274912, 629.978267094156, 625.8923687609631, 604.1742943289474, 840.8095147277947, 1760.7870732977462, 13211.615584033954, 6799.519297532644, 3180.3788737076948, 1129.6897922386597, 4397.145281836107, 7367.159512872684, 8036.363055630611, 6231.581509283289, 6837.846770216925, 2605.326415766556, 10930.695246171215, 19865.208361856563, 2365.3719749384686, 13280.979622710442, 2289.0996907988974, 5970.1072485732575, 7998.074736651773, 10793.914876696737, 3029.4859954181443, 3036.1490379760626, 9781.583571148492, 12569.549041269584, 10329.362359146591, 5851.851318362663, 6198.8649065457885, 6172.607583559458, 4935.225449315252, 3638.152466828948, 7205.585115162132, 5822.644443004734, 6617.119708561407, 3248.5622091400105, 2984.6605202686246, 2218.7378060280403, 2188.0061812672197, 1540.1843511324983, 1340.3695867260801, 1292.8051729177034, 1247.9809042696725, 1050.2407793675404, 1018.067221015214, 985.1080762829877, 849.2345250019425, 829.6263115986799, 772.0083450583749, 719.5249373567653, 706.6459520939596, 639.7595108846057, 590.4886564082152, 568.7363544859658, 560.7012062540581, 540.6471434646733, 537.6794951358489, 527.5880924526548, 520.5422051944475, 503.1616696803657, 504.1707744948902, 476.5048711562514, 473.6120707184423, 473.3887125511833, 4393.962117431857, 6456.912434785982, 6398.705112670411, 22371.394302074903, 1049.8576032637404, 794.8830173215791, 1979.4109436676256, 2679.205086709021, 10329.362359146591, 1439.5463524106628, 5822.644443004734, 4130.38286798274, 7205.585115162132, 6172.607583559458, 12569.549041269584, 2280.3380582837717, 6541.594488214595, 7367.159512872684, 13211.615584033954, 4738.826412345785, 4010.746914201454, 6198.8649065457885, 12260.565401426622, 10793.914876696737, 9781.583571148492, 19865.208361856563, 10930.695246171215, 13280.979622710442, 4831.285101237621, 3201.2469320804294, 3106.5741212158173, 1955.9469273877116, 1839.2935157989582, 1838.6505190304892, 1572.93092940309, 1499.9129826361527, 1462.1020357654509, 1221.2432146211195, 1167.0241017026906, 1107.011520800899, 1099.7134084664879, 1089.811405644608, 949.9946674888944, 865.8980434177001, 1105.6683269663008, 759.552646522297, 717.6461068366484, 698.3319177986443, 620.8028749756758, 609.1486173551241, 565.7596273059555, 559.2060989334876, 546.0685765881284, 542.3946266488608, 519.2692875056294, 502.73436809880434, 493.19024333967985, 488.5383888735226, 7381.5996747208355, 1435.5391532982937, 4018.0791393152763, 7147.661896114059, 4592.457689410626, 3523.888425085109, 1558.2553253217498, 1228.4042305139112, 1946.6076866679919, 4317.241560931214, 19865.208361856563, 3776.7743277727236, 9781.583571148492, 2317.190495952487, 10930.695246171215, 3525.453040467184, 12569.549041269584, 6837.846770216925, 2498.7121272923923, 2867.9083267438405, 6541.594488214595, 5851.851318362663, 4149.476601386675, 10793.914876696737, 4624.256325678266, 4436.593583616505, 3244.2813674776376, 3230.073934637224, 2247.780098735707, 2149.719657376267, 1903.9245242481404, 1780.1944796589287, 1582.66534446598, 1404.3876282614951, 1373.3598858164607, 1300.1653287929817, 1032.5050214099472, 957.076318197869, 944.5248255641952, 949.1155770477897, 793.0965982505512, 771.4696580482073, 838.6872953232382, 756.8658324088024, 740.9549445586991, 735.7592436816225, 729.2992301641193, 717.3041064332155, 714.8239874656318, 700.4466207561478, 666.1506341756202, 578.591849831187, 548.1775690212535, 507.89122122047974, 1361.534031486757, 1663.1275671193619, 2919.838559298132, 1485.6763501346338, 12260.565401426622, 22371.394302074903, 5970.1072485732575, 13280.979622710442, 1682.647647144072, 4130.38286798274, 4397.145281836107, 7998.074736651773, 2598.4302403939882, 4839.780576610629, 8036.363055630611, 7205.585115162132, 12569.549041269584, 5134.276280686716, 10793.914876696737, 9292.649037614565, 8000.440227690332, 2774.353074454729, 2636.273972510195, 2096.9041769837036, 1586.925484964616, 1409.8883455623752, 1289.0137756837917, 1084.9138834387481, 1073.0705808356004, 1112.0250622820583, 1018.3780112465851, 773.3907591270857, 736.0796613049587, 652.794205138935, 627.7412916573636, 624.1671862675737, 617.8987374018207, 571.9715972547012, 549.0731762565798, 529.4105940917459, 458.3529555348839, 438.22754106062035, 412.87123093270606, 400.41907178691446, 398.0747876696493, 395.2899463332699, 353.0107646383713, 350.3216460392597, 345.2899346972319, 528.886505237882, 1069.2271546496743, 12260.565401426622, 7147.661896114059, 22371.394302074903, 6456.912434785982, 13280.979622710442, 1189.8324767992763, 1044.692366874378, 10329.362359146591, 6231.581509283289, 8036.363055630611, 3776.7743277727236, 7998.074736651773, 12569.549041269584, 7381.5996747208355, 3036.1490379760626, 13211.615584033954, 9781.583571148492, 7205.585115162132, 5132.7192005949455, 4362.493064259227, 2293.2896994865637, 2191.108373124881, 2102.6748905211584, 1372.8312888570601, 1281.3593053155441, 1014.4991380981733, 836.2857534510425, 674.8716722438027, 642.4520798918114, 573.5560847578791, 550.7223494053326, 534.5695363623644, 528.4737686009477, 492.9834844599724, 492.34167322437565, 478.1805738933005, 466.7067326874148, 461.2349243442442, 453.48612036124484, 422.2936034812747, 403.3224788217263, 382.2485731660031, 376.943363025026, 346.10014086228296, 328.16729039018196, 289.8629987859949, 291.5676225201738, 287.6841448005058, 557.3805741081902, 1391.853339322093, 1189.7960916961833, 714.7545824049976, 1112.7728268200271, 19865.208361856563, 6799.519297532644, 2096.8401253634734, 10793.914876696737, 2317.190495952487, 3990.5062022451, 1146.2072382913082, 4800.281376430634, 1660.687377949219, 13211.615584033954, 6541.594488214595], \"Category\": [\"Default\", \"Default\", \"Default\", \"Default\", \"Default\", \"Default\", \"Default\", \"Default\", \"Default\", \"Default\", \"Default\", \"Default\", \"Default\", \"Default\", \"Default\", \"Default\", \"Default\", \"Default\", \"Default\", \"Default\", \"Default\", \"Default\", \"Default\", \"Default\", \"Default\", \"Default\", \"Default\", \"Default\", \"Default\", \"Default\", \"Topic1\", \"Topic1\", \"Topic1\", \"Topic1\", \"Topic1\", \"Topic1\", \"Topic1\", \"Topic1\", \"Topic1\", \"Topic1\", \"Topic1\", \"Topic1\", \"Topic1\", \"Topic1\", \"Topic1\", \"Topic1\", \"Topic1\", \"Topic1\", \"Topic1\", \"Topic1\", \"Topic1\", \"Topic1\", \"Topic1\", \"Topic1\", \"Topic1\", \"Topic1\", \"Topic1\", \"Topic1\", \"Topic1\", \"Topic1\", \"Topic1\", \"Topic1\", \"Topic1\", \"Topic1\", \"Topic1\", \"Topic1\", \"Topic1\", \"Topic1\", \"Topic1\", \"Topic1\", \"Topic1\", \"Topic1\", \"Topic1\", \"Topic1\", \"Topic1\", \"Topic1\", \"Topic1\", \"Topic1\", \"Topic1\", \"Topic1\", \"Topic1\", \"Topic1\", \"Topic1\", \"Topic1\", \"Topic1\", \"Topic1\", \"Topic1\", \"Topic1\", \"Topic1\", \"Topic1\", \"Topic1\", \"Topic1\", \"Topic2\", \"Topic2\", \"Topic2\", \"Topic2\", \"Topic2\", \"Topic2\", \"Topic2\", \"Topic2\", \"Topic2\", \"Topic2\", \"Topic2\", \"Topic2\", \"Topic2\", \"Topic2\", \"Topic2\", \"Topic2\", \"Topic2\", \"Topic2\", \"Topic2\", \"Topic2\", \"Topic2\", \"Topic2\", \"Topic2\", \"Topic2\", \"Topic2\", \"Topic2\", \"Topic2\", \"Topic2\", \"Topic2\", \"Topic2\", \"Topic2\", \"Topic2\", \"Topic2\", \"Topic2\", \"Topic2\", \"Topic2\", \"Topic2\", \"Topic2\", \"Topic2\", \"Topic2\", \"Topic2\", \"Topic2\", \"Topic2\", \"Topic2\", \"Topic2\", \"Topic2\", \"Topic2\", \"Topic2\", \"Topic2\", \"Topic2\", \"Topic2\", \"Topic2\", \"Topic2\", \"Topic2\", \"Topic2\", \"Topic2\", \"Topic2\", \"Topic2\", \"Topic3\", \"Topic3\", \"Topic3\", \"Topic3\", \"Topic3\", \"Topic3\", \"Topic3\", \"Topic3\", \"Topic3\", \"Topic3\", \"Topic3\", \"Topic3\", \"Topic3\", \"Topic3\", \"Topic3\", \"Topic3\", \"Topic3\", \"Topic3\", \"Topic3\", \"Topic3\", \"Topic3\", \"Topic3\", \"Topic3\", \"Topic3\", \"Topic3\", \"Topic3\", \"Topic3\", \"Topic3\", \"Topic3\", \"Topic3\", \"Topic3\", \"Topic3\", \"Topic3\", \"Topic3\", \"Topic3\", \"Topic3\", \"Topic3\", \"Topic3\", \"Topic3\", \"Topic3\", \"Topic3\", \"Topic3\", \"Topic3\", \"Topic3\", \"Topic3\", \"Topic3\", \"Topic3\", \"Topic3\", \"Topic3\", \"Topic3\", \"Topic3\", \"Topic3\", \"Topic3\", \"Topic3\", \"Topic4\", \"Topic4\", \"Topic4\", \"Topic4\", \"Topic4\", \"Topic4\", \"Topic4\", \"Topic4\", \"Topic4\", \"Topic4\", \"Topic4\", \"Topic4\", \"Topic4\", \"Topic4\", \"Topic4\", \"Topic4\", \"Topic4\", \"Topic4\", \"Topic4\", \"Topic4\", \"Topic4\", \"Topic4\", \"Topic4\", \"Topic4\", \"Topic4\", \"Topic4\", \"Topic4\", \"Topic4\", \"Topic4\", \"Topic4\", \"Topic4\", \"Topic4\", \"Topic4\", \"Topic4\", \"Topic4\", \"Topic4\", \"Topic4\", \"Topic4\", \"Topic4\", \"Topic4\", \"Topic4\", \"Topic4\", \"Topic4\", \"Topic4\", \"Topic4\", \"Topic4\", \"Topic4\", \"Topic4\", \"Topic4\", \"Topic5\", \"Topic5\", \"Topic5\", \"Topic5\", \"Topic5\", \"Topic5\", \"Topic5\", \"Topic5\", \"Topic5\", \"Topic5\", \"Topic5\", \"Topic5\", \"Topic5\", \"Topic5\", \"Topic5\", \"Topic5\", \"Topic5\", \"Topic5\", \"Topic5\", \"Topic5\", \"Topic5\", \"Topic5\", \"Topic5\", \"Topic5\", \"Topic5\", \"Topic5\", \"Topic5\", \"Topic5\", \"Topic5\", \"Topic5\", \"Topic5\", \"Topic5\", \"Topic5\", \"Topic5\", \"Topic5\", \"Topic5\", \"Topic5\", \"Topic5\", \"Topic5\", \"Topic5\", \"Topic5\", \"Topic5\", \"Topic5\", \"Topic5\", \"Topic5\", \"Topic5\", \"Topic5\", \"Topic5\", \"Topic5\", \"Topic5\", \"Topic6\", \"Topic6\", \"Topic6\", \"Topic6\", \"Topic6\", \"Topic6\", \"Topic6\", \"Topic6\", \"Topic6\", \"Topic6\", \"Topic6\", \"Topic6\", \"Topic6\", \"Topic6\", \"Topic6\", \"Topic6\", \"Topic6\", \"Topic6\", \"Topic6\", \"Topic6\", \"Topic6\", \"Topic6\", \"Topic6\", \"Topic6\", \"Topic6\", \"Topic6\", \"Topic6\", \"Topic6\", \"Topic6\", \"Topic6\", \"Topic6\", \"Topic6\", \"Topic6\", \"Topic6\", \"Topic6\", \"Topic6\", \"Topic6\", \"Topic6\", \"Topic6\", \"Topic6\", \"Topic6\", \"Topic6\", \"Topic6\", \"Topic6\", \"Topic6\", \"Topic6\"], \"logprob\": [30.0, 29.0, 28.0, 27.0, 26.0, 25.0, 24.0, 23.0, 22.0, 21.0, 20.0, 19.0, 18.0, 17.0, 16.0, 15.0, 14.0, 13.0, 12.0, 11.0, 10.0, 9.0, 8.0, 7.0, 6.0, 5.0, 4.0, 3.0, 2.0, 1.0, -4.0659, -4.3679, -4.9406, -5.1461, -5.4833, -5.5427, -5.6502, -5.725, -5.7486, -5.8162, -5.8919, -5.9273, -6.0003, -6.0395, -6.0866, -6.0791, -6.1367, -6.1334, -6.1502, -6.153, -6.194, -6.2662, -6.3753, -6.2682, -6.4095, -6.426, -6.4408, -6.4578, -6.4643, -6.4996, -6.1854, -5.5119, -3.8149, -4.4785, -5.1797, -5.9913, -4.9891, -4.6115, -4.6011, -4.801, -4.7536, -5.4107, -4.4774, -4.0903, -5.483, -4.3684, -5.5095, -4.93, -4.7598, -4.5945, -5.3469, -5.3556, -4.7537, -4.63, -4.8251, -5.1056, -5.1034, -5.1365, -5.2225, -5.3433, -5.2658, -5.4041, -3.6725, -4.3841, -4.4689, -4.7655, -4.7795, -5.1307, -5.2697, -5.3059, -5.3412, -5.5138, -5.545, -5.578, -5.7265, -5.7499, -5.8219, -5.8924, -5.9105, -6.01, -6.0903, -6.1279, -6.1421, -6.1786, -6.1841, -6.2031, -6.2166, -6.2506, -6.2486, -6.3051, -6.3112, -6.3117, -4.1511, -3.9927, -4.002, -2.974, -5.6112, -5.8683, -5.15, -4.9208, -3.9561, -5.4708, -4.586, -4.8156, -4.4813, -4.592, -4.3843, -5.3099, -4.79, -4.7561, -4.5107, -4.9772, -5.0507, -4.8994, -4.6586, -4.7685, -4.842, -4.739, -4.9386, -4.9781, -3.9165, -4.3281, -4.3582, -4.821, -4.8825, -4.8828, -5.039, -5.0866, -5.1121, -5.2922, -5.3377, -5.3905, -5.3971, -5.4062, -5.5436, -5.6364, -5.392, -5.7675, -5.8243, -5.8516, -5.9695, -5.9885, -6.0625, -6.0741, -6.0979, -6.1047, -6.1483, -6.1808, -6.1999, -6.2094, -3.6391, -5.2144, -4.2999, -3.8377, -4.2595, -4.4938, -5.235, -5.4967, -5.2022, -4.6818, -3.6761, -4.7791, -4.3442, -5.1523, -4.356, -4.9403, -4.5362, -4.787, -5.1398, -5.1003, -5.071, -5.111, -5.1664, -5.1693, -3.6838, -3.7253, -4.0383, -4.0427, -4.4054, -4.45, -4.5715, -4.6387, -4.7564, -4.876, -4.8983, -4.9531, -5.1838, -5.2597, -5.2729, -5.2681, -5.4478, -5.4755, -5.392, -5.4946, -5.5159, -5.5229, -5.5318, -5.5484, -5.5519, -5.5722, -5.6225, -5.7636, -5.8176, -5.8941, -5.0028, -4.9338, -4.5244, -5.0697, -3.7694, -3.4392, -4.2513, -3.958, -5.0924, -4.6948, -4.7057, -4.4443, -5.0386, -4.8462, -4.8153, -4.8705, -4.7755, -5.0423, -4.9903, -2.7178, -2.8676, -3.9268, -3.9779, -4.2069, -4.4857, -4.604, -4.6937, -4.8662, -4.8772, -4.8416, -4.9296, -5.205, -5.2545, -5.3747, -5.4139, -5.4196, -5.4297, -5.5071, -5.548, -5.5845, -5.7289, -5.7739, -5.8336, -5.8643, -5.8702, -5.8772, -5.9905, -5.9982, -6.0127, -5.6029, -5.0106, -3.2336, -4.2943, -3.7958, -4.4445, -4.0901, -5.3267, -5.3881, -4.6101, -4.7836, -4.7475, -4.9837, -4.8031, -4.7177, -4.9404, -5.1532, -5.0625, -5.1867, -5.214, -2.9662, -3.1288, -3.772, -3.8176, -3.8589, -4.2854, -4.3544, -4.5881, -4.7815, -4.9962, -5.0455, -5.159, -5.1997, -5.2295, -5.241, -5.3106, -5.312, -5.3412, -5.3655, -5.3773, -5.3943, -5.4657, -5.5118, -5.5655, -5.5795, -5.6651, -5.7185, -5.8429, -5.8371, -5.8505, -5.2493, -4.4364, -4.6863, -5.1068, -4.8382, -3.0475, -3.8656, -4.7406, -4.2841, -4.8838, -4.9598, -5.1977, -5.0563, -5.198, -5.0841, -5.1675], \"loglift\": [30.0, 29.0, 28.0, 27.0, 26.0, 25.0, 24.0, 23.0, 22.0, 21.0, 20.0, 19.0, 18.0, 17.0, 16.0, 15.0, 14.0, 13.0, 12.0, 11.0, 10.0, 9.0, 8.0, 7.0, 6.0, 5.0, 4.0, 3.0, 2.0, 1.0, 1.1973, 1.1973, 1.1972, 1.1971, 1.197, 1.1969, 1.1969, 1.1968, 1.1968, 1.1968, 1.1967, 1.1967, 1.1966, 1.1966, 1.1965, 1.1965, 1.1965, 1.1965, 1.1965, 1.1965, 1.1964, 1.1964, 1.1962, 1.1962, 1.1962, 1.1962, 1.1961, 1.1961, 1.1961, 1.1961, 1.1798, 1.1141, 0.7958, 0.7965, 0.8551, 1.0786, 0.7217, 0.5833, 0.5067, 0.5612, 0.5158, 0.8236, 0.3229, 0.1126, 0.8479, 0.2371, 0.8541, 0.4751, 0.3528, 0.2183, 0.7366, 0.7256, 0.1576, 0.0306, 0.0318, 0.3195, 0.2641, 0.2352, 0.3729, 0.5571, -0.0488, 0.0259, 1.6296, 1.6295, 1.6295, 1.6294, 1.6294, 1.6292, 1.6291, 1.6291, 1.6291, 1.629, 1.6289, 1.6288, 1.6288, 1.6287, 1.6286, 1.6286, 1.6285, 1.6284, 1.6283, 1.6282, 1.6282, 1.6282, 1.6282, 1.6282, 1.6281, 1.6281, 1.6281, 1.628, 1.628, 1.628, 1.5605, 1.334, 1.3338, 1.1101, 1.5319, 1.553, 1.359, 1.2855, 0.9007, 1.3567, 0.844, 0.9579, 0.7356, 0.7797, 0.2763, 1.0576, 0.5236, 0.4387, 0.1001, 0.6589, 0.7521, 0.4681, 0.0269, 0.0444, 0.0693, -0.5361, -0.1384, -0.3726, 1.7002, 1.7001, 1.7001, 1.7, 1.7, 1.7, 1.6999, 1.6999, 1.6998, 1.6997, 1.6997, 1.6997, 1.6997, 1.6997, 1.6995, 1.6995, 1.6993, 1.6993, 1.6992, 1.6992, 1.6991, 1.6991, 1.699, 1.6989, 1.6989, 1.6989, 1.6988, 1.6987, 1.6987, 1.6987, 1.5537, 1.6159, 1.5011, 1.3873, 1.4079, 1.4385, 1.5133, 1.4894, 1.3235, 1.0474, 0.5268, 1.0838, 0.5672, 1.1991, 0.4442, 0.9915, 0.1244, 0.4823, 1.1362, 1.038, 0.2426, 0.314, 0.6024, -0.3565, 1.9767, 1.9767, 1.9766, 1.9766, 1.9765, 1.9765, 1.9764, 1.9764, 1.9763, 1.9763, 1.9763, 1.9762, 1.9761, 1.976, 1.976, 1.976, 1.9758, 1.9758, 1.9758, 1.9757, 1.9757, 1.9757, 1.9757, 1.9757, 1.9757, 1.9757, 1.9756, 1.9754, 1.9753, 1.9752, 1.8804, 1.7493, 1.5959, 1.7263, 0.916, 0.6448, 1.1537, 0.6475, 1.5791, 1.0787, 1.0051, 0.6684, 1.1983, 0.7688, 0.2925, 0.3464, -0.115, 0.5136, -0.1775, 2.2448, 2.2448, 2.2446, 2.2445, 2.2445, 2.2443, 2.2443, 2.2442, 2.2441, 2.2441, 2.2441, 2.244, 2.2438, 2.2437, 2.2436, 2.2435, 2.2435, 2.2435, 2.2434, 2.2434, 2.2433, 2.243, 2.243, 2.2429, 2.2428, 2.2428, 2.2427, 2.2425, 2.2425, 2.2425, 2.2259, 2.1143, 1.4519, 0.9308, 0.2883, 0.8821, 0.5154, 1.6913, 1.76, 0.2468, 0.5786, 0.3603, 0.8792, 0.3095, -0.0571, 0.2524, 0.928, -0.4518, -0.2754, 0.0029, 2.59, 2.59, 2.5898, 2.5898, 2.5898, 2.5895, 2.5895, 2.5893, 2.5891, 2.5889, 2.5888, 2.5887, 2.5886, 2.5886, 2.5885, 2.5885, 2.5884, 2.5884, 2.5883, 2.5883, 2.5883, 2.5882, 2.588, 2.588, 2.5879, 2.5877, 2.5876, 2.5873, 2.5872, 2.5872, 2.527, 2.4248, 2.3317, 2.4208, 2.2468, 1.1553, 1.4094, 1.7108, 0.5287, 1.4676, 0.8481, 1.8577, 0.5669, 1.4866, -0.4734, 0.1461]}, \"token.table\": {\"Topic\": [2, 4, 5, 6, 6, 2, 5, 4, 1, 2, 3, 4, 5, 6, 6, 2, 5, 3, 6, 2, 1, 1, 2, 3, 4, 5, 3, 5, 4, 5, 5, 5, 2, 3, 5, 3, 5, 5, 5, 3, 2, 1, 2, 1, 3, 4, 5, 1, 2, 5, 3, 6, 2, 4, 1, 2, 3, 4, 5, 5, 4, 4, 1, 2, 3, 3, 4, 1, 4, 1, 1, 5, 4, 5, 3, 4, 4, 4, 1, 4, 6, 1, 2, 5, 5, 1, 3, 4, 5, 6, 1, 2, 3, 4, 5, 1, 3, 6, 6, 4, 6, 1, 1, 2, 3, 4, 5, 4, 5, 3, 3, 4, 5, 3, 3, 1, 3, 5, 3, 2, 5, 2, 1, 4, 1, 3, 4, 2, 1, 2, 3, 4, 5, 2, 3, 1, 3, 4, 1, 6, 1, 2, 3, 4, 5, 6, 1, 2, 3, 5, 6, 2, 4, 5, 4, 1, 3, 6, 1, 5, 4, 1, 2, 3, 4, 5, 3, 5, 1, 2, 3, 4, 4, 1, 2, 3, 4, 5, 1, 2, 3, 4, 5, 4, 6, 3, 1, 2, 3, 4, 5, 5, 1, 1, 1, 1, 2, 2, 1, 4, 6, 1, 4, 6, 6, 5, 2, 2, 2, 5, 1, 3, 6, 6, 6, 2, 6, 3, 6, 1, 4, 1, 2, 3, 6, 6, 3, 1, 4, 5, 2, 5, 1, 6, 1, 2, 3, 4, 5, 1, 1, 2, 3, 5, 1, 2, 3, 4, 5, 6, 1, 2, 3, 4, 5, 5, 6, 1, 2, 3, 4, 5, 6, 6, 5, 5, 4, 4, 1, 2, 4, 5, 1, 2, 3, 6, 1, 2, 4, 5, 2, 6, 1, 2, 3, 2, 6, 2, 3, 3, 5, 4, 6, 6, 1, 3, 4, 5, 3, 4, 5, 2, 3, 5, 6, 3, 4, 2, 3, 3, 2, 3, 5, 5, 2, 3, 1, 2, 1, 4, 5, 6, 1, 6, 1, 2, 3, 6, 4, 5, 1, 2, 3, 4, 5, 5, 6, 4, 1, 2, 3, 6, 1, 2, 3, 4, 5, 3, 3, 6, 2, 1, 2, 6, 3, 1, 1, 5, 3, 4, 4, 1, 1, 2, 3, 4, 5, 6, 1, 1, 1, 2, 3, 4, 6, 5, 1, 2, 3, 4, 5, 3, 3, 4, 5, 1, 3, 6, 1, 3, 1, 5, 1, 3, 4, 5, 2, 1, 2, 4, 3, 4, 1, 6, 2, 2, 3, 2, 1, 1, 5, 1, 2, 6, 6, 4, 2, 4, 5, 2, 2, 6, 4, 2, 4, 5, 6, 5, 2, 3, 4, 2, 1, 2, 3, 4, 5, 1, 2, 3, 5, 5, 3, 5, 1, 2, 4, 5, 2, 1, 2, 5, 6, 4, 4, 2, 2, 6, 6, 1, 1, 2, 4, 5, 1, 3, 4, 1, 2, 1, 2, 3, 4, 5, 3, 1, 3, 5], \"Freq\": [0.5108485260182464, 0.4072261709775784, 0.04430582002907066, 0.03752678745631668, 0.9967210386448337, 0.9067896417956816, 0.09239348240985411, 0.9982727117312675, 0.2993574516393279, 0.14374157385604472, 0.09082800898729783, 0.2145707551764146, 0.11936800263697628, 0.13228391217186725, 0.9991035153888491, 0.01701688341613479, 0.9813069436637728, 0.9992967322573328, 0.9980050356838025, 0.9993771892822132, 0.9991654857272824, 0.008282925852459105, 0.7437442289028846, 0.157375591196723, 0.07860965478843264, 0.011877403109186642, 0.7311481818748587, 0.26875921496012317, 0.9993290173222211, 0.9995688038616032, 0.9988191127981936, 0.9989534170162168, 0.9987076538874657, 0.9986573320730348, 0.9994168062877655, 0.12158314483005597, 0.8772691526968653, 0.9996288104786136, 0.9978898240724163, 0.9981143889645333, 0.9989404701046889, 0.0666824137690222, 0.9330986227064539, 0.9984471415201855, 0.7464412808645676, 0.1550368121282299, 0.0984222459016291, 0.6238165440200412, 0.10803158734877165, 0.268102780798476, 0.999086259915193, 0.9987083881578486, 0.9988030206531266, 0.9997379522875413, 0.41708234447364345, 0.1706204370351711, 0.2847028418517171, 0.05781882906500169, 0.06971194263849886, 0.9993699177915959, 0.9995108775265252, 0.999579605083092, 0.3293696744857936, 0.10165236612319753, 0.568692961657731, 0.6858084498192439, 0.31387937291352663, 0.9994297242292798, 0.9988754102704206, 0.9995441638353559, 0.920043101501155, 0.07950989766059365, 0.9982185225071101, 0.9981300102067953, 0.9992554623300827, 0.9988560292039518, 0.9993912164356593, 0.999605038117075, 0.1357109172684358, 0.019587142698537126, 0.8436462176584205, 0.9993502353298728, 0.9988185762808719, 0.9999449745666734, 0.9980454768089448, 0.29325206325190223, 0.02709721323682875, 0.21737986618878175, 0.130066623536778, 0.3317903220776142, 0.26099677237319097, 0.2583458356270182, 0.3335360415184638, 0.06482745315640662, 0.0821790391313556, 0.06861757817396996, 0.6059061619890178, 0.3253940499570651, 0.9994941495644507, 0.999728318330606, 0.9993944712188544, 0.9992368988429501, 0.23935691294825506, 0.41563330612993876, 0.20220672541774465, 0.12341840823894401, 0.019198419059391292, 0.9978518474892069, 0.9998727362937401, 0.9989529757135126, 0.9978431942430744, 0.38384505593714113, 0.6154921969266378, 0.9994081562097306, 0.9985392522465064, 0.998982583215314, 0.9975866445945483, 0.9985332276359266, 0.9997340042637326, 0.7440088507502318, 0.25600471071817926, 0.9987494119038146, 0.6213121980038842, 0.37842734168318565, 0.4855859165164589, 0.07520802915346328, 0.4390205888891476, 0.9995401378314951, 0.309824860105842, 0.45580664008919325, 0.14203168476027236, 0.04705765613580971, 0.04534022343012322, 0.7628532138971305, 0.2369391770316253, 0.9995643011468314, 0.998043145799004, 0.9986173206984242, 0.9983113045712839, 0.997621889100005, 0.529239647284869, 0.03899491640091667, 0.083766857453821, 0.12837832559972567, 0.1888766115385964, 0.030489852329934848, 0.37519838147434176, 0.3787857675739277, 0.17092839650968325, 0.02553374812058231, 0.049590337258982174, 0.20129577382400546, 0.3461504311625118, 0.45250767956871246, 0.9987111975354076, 0.6696061590195291, 0.02323693677247652, 0.3070805315248796, 0.9993318333510162, 0.999224431667352, 0.9996529470404397, 0.35352149013986117, 0.20998644903044386, 0.3220337460788209, 0.03404356744261821, 0.08045732005207368, 0.9995246990862302, 0.9962641983805205, 0.3820103526879721, 0.4273720569935837, 0.1812848111356407, 0.009234346947928079, 0.998181933685421, 0.5410497754304406, 0.303916318913386, 0.12664311100767714, 0.024297017010047384, 0.004072125755873863, 0.38272779150327757, 0.13500510135065447, 0.040207877368237305, 0.26466421151564445, 0.177396552583459, 0.22692964104049604, 0.7724012596896884, 0.9984911144457956, 0.43848047515240635, 0.09563899458037699, 0.12501961791545044, 0.19370948902296695, 0.1469031166753672, 0.9991576442584996, 0.999082107658279, 0.9998605630785901, 0.998676664572854, 0.9988128652958549, 0.9989583837985913, 0.9991724541988874, 0.2165761008818899, 0.07368979366105798, 0.7090395999826188, 0.16283860763425745, 0.6715606811193829, 0.16462151209740625, 0.9968213221192512, 0.9983013190526162, 0.9997242650611143, 0.9996674658781062, 0.998736245027017, 0.9971367313985262, 0.17797828628626533, 0.3411250487153419, 0.48071586148888334, 0.9967336093483314, 0.9998869764944117, 0.9990858900527972, 0.9980532045524549, 0.9998151915282186, 0.9984625429217984, 0.2214479620478482, 0.7780967906605243, 0.3573481477607321, 0.25485488518419674, 0.2125043683738435, 0.17516574704400542, 0.9995079955424023, 0.9989628762594779, 0.6882055120423182, 0.24795357544859872, 0.06409945371504024, 0.9259224111744265, 0.07296671175015862, 0.9993198922644935, 0.9996790323962107, 0.3093115434271137, 0.19277733468102676, 0.04834929937337649, 0.29877387561496754, 0.1508332843699352, 0.9996504478675128, 0.7051745001093921, 0.03678068435822369, 0.2388630650850159, 0.019447258396302177, 0.4155949745969399, 0.09501266688976093, 0.25000635190597165, 0.1647341922333265, 0.07279747499107582, 0.001879747006811817, 0.25767993923050964, 0.142765982959912, 0.25164208729086807, 0.23158083729786544, 0.11647211160985999, 0.9985454940309479, 0.9986883601035756, 0.37567463207945473, 0.20483763539523414, 0.12784981313678115, 0.11599127974438406, 0.04836058149086939, 0.12729394438401254, 0.9964430020164591, 0.9971988500365601, 0.9994947455442488, 0.9996652319879024, 0.9991805106300397, 0.182032980007299, 0.3321235977723024, 0.4591233512657668, 0.026939341650128817, 0.13462916118281795, 0.5643900014406733, 0.30083258818049874, 0.9974973348318025, 0.42972841754649926, 0.15566246140395448, 0.270190023368631, 0.14440975335065656, 0.997691259588387, 0.9994376203377827, 0.17852732433093962, 0.3057977801528009, 0.5157068607137885, 0.9988751728773063, 0.9998598792244738, 0.23014349552807217, 0.7696043894847493, 0.8634984665760892, 0.13642029429590866, 0.1515964319220359, 0.8477904723602008, 0.9989345888165645, 0.12338571478132614, 0.5398786962212961, 0.08155107328894516, 0.2552442683459193, 0.8192969540567566, 0.12518419437744488, 0.05525028061986633, 0.1167972905611091, 0.8291324143129284, 0.027594964253448855, 0.026311477543986116, 0.9988979599438153, 0.999444349634874, 0.9986938676701758, 0.9987067151135419, 0.999246266171243, 0.1896769762039348, 0.8099939541756015, 0.9987833759358112, 0.9992299481641348, 0.9992450678215918, 0.9991224673927501, 0.9980138031096581, 0.9991788723708928, 0.13447271201607305, 0.29079723973475796, 0.5748708438687123, 0.9970227356040292, 0.9998929537214486, 0.9993060241637926, 0.3379274899975233, 0.11467284704518965, 0.30923410860342404, 0.2381550655710238, 0.9993623771706319, 0.9990782021765277, 0.23765174719079082, 0.09890574663788274, 0.5204712241108255, 0.025479232154958082, 0.11743609729603406, 0.059205507929299565, 0.9383175953643538, 0.9988472862129973, 0.1096888585915109, 0.26086872021546287, 0.2146086363746952, 0.41491003032441076, 0.2875547185807378, 0.4089882990624683, 0.001387812348362634, 0.19582032235396768, 0.10630642588457778, 0.999610485505528, 0.9992724362862904, 0.9989280369576524, 0.9992704389667247, 0.8878543533728814, 0.08940507446725925, 0.023015167684640993, 0.9996461975651402, 0.9985742456602728, 0.9992631332379015, 0.9990023202064056, 0.9975556276171722, 0.9997239876984854, 0.9989680813552225, 0.9994968217828918, 0.24046125189109982, 0.3308061977700827, 0.23281785545463765, 0.057172605344737025, 0.05197509576794275, 0.08682898351821024, 0.9981758859510217, 0.9988940422565679, 0.5271906599537729, 0.17976157018236052, 0.20065129393443912, 0.030784856055694768, 0.061844576897601096, 0.9992135261058371, 0.6308000772706113, 0.09473554274027494, 0.056115129846155895, 0.11487097168507206, 0.10364794571584088, 0.9992724052442877, 0.999391309598142, 0.9077995638862751, 0.09180820832183204, 0.998846365243568, 0.9989820089837673, 0.9992963212261877, 0.08080587682577552, 0.918818547699982, 0.998802889482838, 0.9967367084712487, 0.2654977925549006, 0.49213533128499204, 0.18579172449087594, 0.056446646066693605, 0.9998269360092816, 0.9993346297511355, 0.9988128181423118, 0.9989770857792766, 0.2032315540204992, 0.7966917428318386, 0.9986509608157844, 0.9975311128101914, 0.9985463085100789, 0.9997786950093188, 0.9993512778320284, 0.9992310328749754, 0.9980563649596319, 0.9995625689334727, 0.9995167526124069, 0.26798993610524574, 0.7087923240443756, 0.023141192254213423, 0.9990304614096913, 0.9996675201066738, 0.2678230265538984, 0.6832569539322599, 0.04897531048236249, 0.9989517185180072, 0.9988853189428123, 0.9984857028238157, 0.9991037072230933, 0.5946880118583436, 0.2639531501821647, 0.1413412126801024, 0.9973225697381873, 0.9999301558025125, 0.7613509618253275, 0.23826950721358334, 0.9995144112929027, 0.9976778215753122, 0.39329781125340474, 0.3129605224904041, 0.09195231846367544, 0.14680106982797306, 0.05517139107820526, 0.5057147543963314, 0.17373890347681947, 0.2958533684626311, 0.024715382733655294, 0.9962273354952449, 0.9995158726576614, 0.9973000358150257, 0.31173269830627137, 0.48241119119880443, 0.07028507421439535, 0.13563276718232492, 0.9987052797308319, 0.669183866557866, 0.21662755639504722, 0.06744065434940148, 0.046701328544983975, 0.9988246141199583, 0.9998662073491028, 0.9992140069881545, 0.9998307861107669, 0.9997195905051349, 0.9969367201619664, 0.9984515603097882, 0.5012217556768811, 0.16126697997945333, 0.18553168761525068, 0.15193440011953124, 0.9823865994991872, 0.0166506203304947, 0.9982452517719481, 0.70997830436712, 0.28958813920377213, 0.31130790668403874, 0.2583227122420326, 0.20676955008224296, 0.12347300566665681, 0.1000831450571226, 0.9990996860005324, 0.7094492243075804, 0.26953828288040466, 0.020968942590371836], \"Term\": [\"add\", \"add\", \"add\", \"add\", \"additive\", \"aftertaste\", \"aftertaste\", \"almond\", \"also\", \"also\", \"also\", \"also\", \"also\", \"also\", \"apply\", \"aroma\", \"aroma\", \"arrive\", \"arsenic\", \"awful\", \"baby\", \"bad\", \"bad\", \"bad\", \"bad\", \"bad\", \"bag\", \"bag\", \"bar\", \"bean\", \"bergamot\", \"berry\", \"beverage\", \"beware\", \"bitter\", \"black\", \"black\", \"blend\", \"bold\", \"bone\", \"boost\", \"bottle\", \"bottle\", \"bowl\", \"box\", \"box\", \"box\", \"brand\", \"brand\", \"brand\", \"break\", \"brew\", \"burn\", \"butter\", \"buy\", \"buy\", \"buy\", \"buy\", \"buy\", \"caffeine\", \"cake\", \"calorie\", \"can\", \"can\", \"can\", \"candy\", \"candy\", \"cat\", \"cereal\", \"change\", \"cheap\", \"cheap\", \"cheese\", \"cherry\", \"chew\", \"child\", \"chip\", \"chocolate\", \"claim\", \"claim\", \"claim\", \"close\", \"coconut\", \"coffee\", \"cold\", \"color\", \"color\", \"color\", \"color\", \"color\", \"come\", \"come\", \"come\", \"come\", \"come\", \"company\", \"company\", \"company\", \"contain\", \"cookie\", \"corn\", \"cost\", \"could\", \"could\", \"could\", \"could\", \"could\", \"cracker\", \"cup\", \"customer\", \"damage\", \"dark\", \"dark\", \"date\", \"daughter\", \"deal\", \"delivery\", \"difference\", \"dog\", \"drink\", \"drink\", \"drinking\", \"dry\", \"dry\", \"eat\", \"eat\", \"eat\", \"energy\", \"even\", \"even\", \"even\", \"even\", \"even\", \"ever\", \"ever\", \"expensive\", \"expiration\", \"fat\", \"figure\", \"filler\", \"find\", \"find\", \"find\", \"find\", \"find\", \"find\", \"first\", \"first\", \"first\", \"first\", \"first\", \"flavor\", \"flavor\", \"flavor\", \"flour\", \"food\", \"food\", \"food\", \"formula\", \"french\", \"fruit\", \"get\", \"get\", \"get\", \"get\", \"get\", \"gift\", \"ginger\", \"give\", \"give\", \"give\", \"give\", \"gluten\", \"go\", \"go\", \"go\", \"go\", \"go\", \"good\", \"good\", \"good\", \"good\", \"good\", \"grain\", \"grain\", \"greasy\", \"great\", \"great\", \"great\", \"great\", \"great\", \"green\", \"grocery\", \"hair\", \"happen\", \"happy\", \"hate\", \"head\", \"health\", \"health\", \"health\", \"healthy\", \"healthy\", \"healthy\", \"hear\", \"honey\", \"horrible\", \"hot\", \"ice\", \"iced\", \"include\", \"include\", \"include\", \"information\", \"ingredient\", \"instruction\", \"intend\", \"item\", \"juice\", \"kid\", \"kid\", \"know\", \"know\", \"know\", \"know\", \"label\", \"leak\", \"less\", \"less\", \"less\", \"line\", \"line\", \"liquid\", \"list\", \"little\", \"little\", \"little\", \"little\", \"little\", \"local\", \"long\", \"long\", \"long\", \"long\", \"look\", \"look\", \"look\", \"look\", \"look\", \"look\", \"love\", \"love\", \"love\", \"love\", \"love\", \"machine\", \"main\", \"make\", \"make\", \"make\", \"make\", \"make\", \"make\", \"maker\", \"medium\", \"mild\", \"milk\", \"mineral\", \"mix\", \"mix\", \"mix\", \"mix\", \"money\", \"money\", \"money\", \"msg\", \"much\", \"much\", \"much\", \"much\", \"nasty\", \"natural\", \"never\", \"never\", \"never\", \"oatmeal\", \"oil\", \"open\", \"open\", \"order\", \"order\", \"organic\", \"organic\", \"otherwise\", \"pack\", \"pack\", \"pack\", \"pack\", \"package\", \"package\", \"package\", \"packaging\", \"packaging\", \"packaging\", \"packaging\", \"paper\", \"peanut\", \"perhaps\", \"pet\", \"picture\", \"plastic\", \"plastic\", \"pod\", \"pomegranate\", \"poor\", \"pop\", \"popcorn\", \"pour\", \"prefer\", \"prefer\", \"prefer\", \"preservative\", \"price\", \"produce\", \"product\", \"product\", \"product\", \"product\", \"protein\", \"punch\", \"purchase\", \"purchase\", \"purchase\", \"purchase\", \"purchase\", \"pure\", \"pure\", \"raisin\", \"read\", \"read\", \"read\", \"read\", \"really\", \"really\", \"really\", \"really\", \"really\", \"receive\", \"remove\", \"research\", \"rest\", \"result\", \"result\", \"result\", \"return\", \"reviewer\", \"rice\", \"roast\", \"salmon\", \"salt\", \"salty\", \"sauce\", \"say\", \"say\", \"say\", \"say\", \"say\", \"say\", \"scalp\", \"seal\", \"see\", \"see\", \"see\", \"see\", \"see\", \"seed\", \"seem\", \"seem\", \"seem\", \"seem\", \"seem\", \"seller\", \"send\", \"serve\", \"serve\", \"shampoo\", \"ship\", \"shipment\", \"shipping\", \"shipping\", \"skin\", \"slight\", \"small\", \"small\", \"small\", \"small\", \"smell\", \"snack\", \"soda\", \"sodium\", \"soft\", \"soft\", \"soup\", \"source\", \"spice\", \"squeeze\", \"stale\", \"start\", \"stop\", \"store\", \"strong\", \"stuff\", \"stuff\", \"stuff\", \"sucralose\", \"sugar\", \"sweet\", \"sweet\", \"sweet\", \"sweetener\", \"sweetness\", \"switch\", \"syrup\", \"taste\", \"taste\", \"taste\", \"tasty\", \"tea\", \"terrible\", \"terrible\", \"texture\", \"thin\", \"think\", \"think\", \"think\", \"think\", \"think\", \"time\", \"time\", \"time\", \"time\", \"tough\", \"treat\", \"tree\", \"try\", \"try\", \"try\", \"try\", \"understand\", \"use\", \"use\", \"use\", \"use\", \"vanilla\", \"vitamin\", \"waste\", \"water\", \"weak\", \"website\", \"weight\", \"well\", \"well\", \"well\", \"well\", \"wet\", \"wet\", \"wheat\", \"work\", \"work\", \"would\", \"would\", \"would\", \"would\", \"would\", \"wrap\", \"year\", \"year\", \"year\"]}, \"R\": 30, \"lambda.step\": 0.01, \"plot.opts\": {\"xlab\": \"PC1\", \"ylab\": \"PC2\"}, \"topic.order\": [4, 2, 6, 5, 1, 3]};\n",
       "\n",
       "function LDAvis_load_lib(url, callback){\n",
       "  var s = document.createElement('script');\n",
       "  s.src = url;\n",
       "  s.async = true;\n",
       "  s.onreadystatechange = s.onload = callback;\n",
       "  s.onerror = function(){console.warn(\"failed to load library \" + url);};\n",
       "  document.getElementsByTagName(\"head\")[0].appendChild(s);\n",
       "}\n",
       "\n",
       "if(typeof(LDAvis) !== \"undefined\"){\n",
       "   // already loaded: just create the visualization\n",
       "   !function(LDAvis){\n",
       "       new LDAvis(\"#\" + \"ldavis_el861624447483167364261922254\", ldavis_el861624447483167364261922254_data);\n",
       "   }(LDAvis);\n",
       "}else if(typeof define === \"function\" && define.amd){\n",
       "   // require.js is available: use it to load d3/LDAvis\n",
       "   require.config({paths: {d3: \"https://d3js.org/d3.v5\"}});\n",
       "   require([\"d3\"], function(d3){\n",
       "      window.d3 = d3;\n",
       "      LDAvis_load_lib(\"https://cdn.jsdelivr.net/gh/bmabey/pyLDAvis@3.3.1/pyLDAvis/js/ldavis.v3.0.0.js\", function(){\n",
       "        new LDAvis(\"#\" + \"ldavis_el861624447483167364261922254\", ldavis_el861624447483167364261922254_data);\n",
       "      });\n",
       "    });\n",
       "}else{\n",
       "    // require.js not available: dynamically load d3 & LDAvis\n",
       "    LDAvis_load_lib(\"https://d3js.org/d3.v5.js\", function(){\n",
       "         LDAvis_load_lib(\"https://cdn.jsdelivr.net/gh/bmabey/pyLDAvis@3.3.1/pyLDAvis/js/ldavis.v3.0.0.js\", function(){\n",
       "                 new LDAvis(\"#\" + \"ldavis_el861624447483167364261922254\", ldavis_el861624447483167364261922254_data);\n",
       "            })\n",
       "         });\n",
       "}\n",
       "</script>"
      ],
      "text/plain": [
       "PreparedData(topic_coordinates=              x         y  topics  cluster       Freq\n",
       "topic                                                \n",
       "3      0.030372 -0.091807       1        1  30.195925\n",
       "1      0.095511 -0.058313       2        1  19.597691\n",
       "5     -0.016297 -0.271717       3        1  18.260937\n",
       "4      0.138367  0.189216       4        1  13.850293\n",
       "0      0.162498  0.127809       5        1  10.594267\n",
       "2     -0.410451  0.104812       6        1   7.500888, topic_info=        Term          Freq         Total Category  logprob  loglift\n",
       "512      tea   9292.000000   9292.000000  Default  30.0000  30.0000\n",
       "57     taste  22371.000000  22371.000000  Default  29.0000  29.0000\n",
       "316   coffee   8000.000000   8000.000000  Default  28.0000  28.0000\n",
       "8    product  19865.000000  19865.000000  Default  27.0000  27.0000\n",
       "82    flavor  12260.000000  12260.000000  Default  26.0000  26.0000\n",
       "..       ...           ...           ...      ...      ...      ...\n",
       "439  include    550.997120   1146.207238   Topic6  -5.1977   1.8577\n",
       "95      also    634.708258   4800.281376   Topic6  -5.0563   0.5669\n",
       "478    color    550.854615   1660.687378   Topic6  -5.1980   1.4866\n",
       "179      use    617.257487  13211.615584   Topic6  -5.0841  -0.4734\n",
       "379      say    567.884739   6541.594488   Topic6  -5.1675   0.1461\n",
       "\n",
       "[349 rows x 6 columns], token_table=      Topic      Freq      Term\n",
       "term                           \n",
       "345       2  0.510849       add\n",
       "345       4  0.407226       add\n",
       "345       5  0.044306       add\n",
       "345       6  0.037527       add\n",
       "1103      6  0.996721  additive\n",
       "...     ...       ...       ...\n",
       "65        5  0.100083     would\n",
       "313       3  0.999100      wrap\n",
       "45        1  0.709449      year\n",
       "45        3  0.269538      year\n",
       "45        5  0.020969      year\n",
       "\n",
       "[478 rows x 3 columns], R=30, lambda_step=0.01, plot_opts={'xlab': 'PC1', 'ylab': 'PC2'}, topic_order=[4, 2, 6, 5, 1, 3])"
      ]
     },
     "execution_count": 35,
     "metadata": {},
     "output_type": "execute_result"
    }
   ],
   "source": [
    "# set better display\n",
    "from IPython.core.display import display, HTML\n",
    "display(HTML(\"<style>.container { max-width:100% !important; }</style>\"))\n",
    "display(HTML(\"<style>.output_result { max-width:100% !important; }</style>\"))\n",
    "display(HTML(\"<style>.output_area { max-width:100% !important; }</style>\"))\n",
    "display(HTML(\"<style>.input_area { max-width:100% !important; }</style>\"))\n",
    "\n",
    "pyLDAvis.enable_notebook()\n",
    "vis = gensimvis.prepare(lda_model, corpus, dictionary=lda_model.id2word)\n",
    "vis"
   ]
  },
  {
   "cell_type": "markdown",
   "id": "e6b32809",
   "metadata": {},
   "source": [
    "#### WordClouds"
   ]
  },
  {
   "cell_type": "code",
   "execution_count": 44,
   "id": "9356e6f4",
   "metadata": {},
   "outputs": [
    {
     "data": {
      "image/png": "[encoded data removed]",
      "text/plain": [
       "<Figure size 1080x720 with 6 Axes>"
      ]
     },
     "metadata": {
      "needs_background": "light"
     },
     "output_type": "display_data"
    }
   ],
   "source": [
    "# 1. Wordcloud of Top N words in each topic\n",
    "\n",
    "cols = [color for name, color in mcolors.XKCD_COLORS.items()] \n",
    "\n",
    "cloud = WordCloud(stopwords=sw,\n",
    "                  background_color='white',\n",
    "                  width=2500,\n",
    "                  height=1800,\n",
    "                  max_words=10,\n",
    "                  colormap='tab10',\n",
    "                  color_func=lambda *args, **kwargs: cols[i],\n",
    "                  prefer_horizontal=1.0)\n",
    "\n",
    "topics = lda_model.show_topics(formatted=False)\n",
    "\n",
    "fig, axes = plt.subplots(2, 3, figsize=(15,10), sharex=True, sharey=True)\n",
    "\n",
    "topic = ['Instant coffee and tea', 'Bottled drinks', 'Ingredients quality', 'Pricey products', 'Sugary snacks', 'Pet food']\n",
    "\n",
    "for i, ax in enumerate(axes.flatten()):\n",
    "    fig.add_subplot(ax)\n",
    "    topic_words = dict(topics[i][1])\n",
    "    cloud.generate_from_frequencies(topic_words, max_font_size=300)\n",
    "    plt.gca().imshow(cloud)\n",
    "    plt.gca().set_title(topic[i], fontdict=dict(size=20))\n",
    "    plt.gca().axis('off')\n",
    "\n",
    "\n",
    "plt.subplots_adjust(wspace=0, hspace=0)\n",
    "plt.axis('off')\n",
    "plt.margins(x=0, y=0)\n",
    "plt.tight_layout()\n",
    "plt.show()"
   ]
  },
  {
   "cell_type": "markdown",
   "id": "64d6a185",
   "metadata": {
    "id": "5f32b923"
   },
   "source": [
    "## Recommendations and conclusions"
   ]
  },
  {
   "cell_type": "markdown",
   "id": "9d4abaa4",
   "metadata": {},
   "source": [
    "The model that performed the best was Bidirectional LSTM, consisting of 3 layer neural network - Bidirectional LSTM with 50 nodes, followed by a dense layer with 10 nodes and then an output layer with 1 node. With an accuracy of 0.89 and recall of 0.83 on validation set, the model serves as a good start for group the reviews into positive or negative sentiment and understand customers' preferences. Furthermore, on unseen data, with an even more unbalanced dataset, the model did well on the minority class, with a recall score of 0.79\n",
    "\n",
    "We can further improve the neural network by tuning it further using keras tuner or trying out with other layers.\n",
    "\n",
    "We realised that when using a bigger dataset, neural network outperformed classical machine learning models. While on a smaller dataset, classical machine learning models outperformed neural network.\n",
    "\n",
    "Misclassification occurs when there are a mix of polarity in a review, at one point indicating it was good and another point indicating it as bad or in a particular review, customers may be talking about different things, with some good and some bad.\n",
    "\n",
    "Topics that customers were dissatisfied about - Instant coffee and tea, bottled drinks, ingredient quality, pricey products, sugary snacks and pet food. Manufacturers could focus on improving their products, focuses on qualities that customers are concerned about and offering discounts to low quality products.\n",
    "\n",
    "Further enhancement to this project can be made, we can do further in-depth analysis in topic modeling and further tuning of the neural network."
   ]
  }
 ],
 "metadata": {
  "colab": {
   "collapsed_sections": [
    "37b75c22",
    "b2da3b55",
    "623de6d2",
    "ed527f2d",
    "63490ee0",
    "e033053b",
    "902608e6",
    "4f2e285f",
    "a32a4e9f",
    "59951734",
    "bf97ef59",
    "c0526ef4",
    "dab85568",
    "7a35ca3b",
    "2973d597",
    "d039889f",
    "1398bb16",
    "5ff10fd2",
    "c95f97a2"
   ],
   "name": "Part 2 100000.ipynb",
   "provenance": []
  },
  "kernelspec": {
   "display_name": "Python 3",
   "language": "python",
   "name": "python3"
  },
  "language_info": {
   "codemirror_mode": {
    "name": "ipython",
    "version": 3
   },
   "file_extension": ".py",
   "mimetype": "text/x-python",
   "name": "python",
   "nbconvert_exporter": "python",
   "pygments_lexer": "ipython3",
   "version": "3.8.8"
  }
 },
 "nbformat": 4,
 "nbformat_minor": 5
}
