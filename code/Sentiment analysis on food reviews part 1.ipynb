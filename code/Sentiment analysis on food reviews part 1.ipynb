{
 "cells": [
  {
   "cell_type": "markdown",
   "id": "1a54e3ef",
   "metadata": {},
   "source": [
    "# Sentiment Analysis on Food reviews\n",
    "# Part 1"
   ]
  },
  {
   "cell_type": "markdown",
   "id": "6eee4102",
   "metadata": {},
   "source": [
    "## Problem Statement"
   ]
  },
  {
   "cell_type": "markdown",
   "id": "9fbcff08",
   "metadata": {},
   "source": [
    "Many e-commerce prompt users to leave a review after purchasing an item from their website to understand a customer's experience. Reviews can affect another customers' decision on whether to purchase or not. Customers would judge the quality of an item based on previous customers' feedback. As part of the data scientist team in Consultancy of food product, we aim to classify the sentiment of reviews and to see if there are any potential roadblocks to customers' satisfaction."
   ]
  },
  {
   "cell_type": "markdown",
   "id": "8f67c933",
   "metadata": {},
   "source": [
    "## Background"
   ]
  },
  {
   "cell_type": "markdown",
   "id": "412a589a",
   "metadata": {},
   "source": [
    "Amazon.com Inc. is an American multinational technology company. It started out as an online bookseller and expanded its offerings to include music, clothings and a vast assortment of merchandise. It grown into an e-commerce behemoth. Currently, it is one of the prime site that shoppers would browse to buy anything from food to electronics.\n",
    "\n",
    "With an increase in online shopping, giving reviews and ratings are how customers give feedback for businesses to understand the needs and wants of users. Using the wide range of food products that Amazon sell, we will conduct an analysis on its fine food dataset to categorize the sentiments of reviews.\n",
    "\n",
    "https://www.kaggle.com/snap/amazon-fine-food-reviews"
   ]
  },
  {
   "cell_type": "markdown",
   "id": "efefcbbf",
   "metadata": {},
   "source": [
    "## Executive Summary"
   ]
  },
  {
   "cell_type": "markdown",
   "id": "1a1d87f3",
   "metadata": {},
   "source": [
    "We started by cleaning the dataset, keeping the reviews of the latest year that the dataset has and to overcome the unbalanced dataset, we did abit of undersampling from the majority class.\n",
    "\n",
    "We pre-processed our text by removing html tags, stopwords, non-letters, convert to lowercase and stem them, followed by splitting the dataset into train and test set.\n",
    "\n",
    "We did some exploratory data analysis on train dataset and here are our findings:\n",
    "- The average length of reviews were longer for negative sentiment.\n",
    "- Customers found extreme ends of the review (Rating 1 and 5) to be the most helpful\n",
    "- Food reviews were made up of text of people comparing it against a benchmark to express their likes/dislikes.\n",
    "\n",
    "Next, we fit the dataset into logisitic regression, naive bayes, support vector classifier and long short term memory recurrent neural network to classify the reviews' sentiment.\n",
    "\n",
    "Our machine learning and deep learning models outperformed VADER when determining a review sentiment, with deep learning being the winner.\n",
    "\n",
    "Some topics in reviews that customers were dissatisfied about were Instant coffee and tea, bottled drinks, ingredient quality, pricey products, sugary snacks and pet food. Manufacturers could focus on improving their products, focuses on qualities that customers are concerned about and offering discounts to low quality products."
   ]
  },
  {
   "cell_type": "markdown",
   "id": "43c14ecc",
   "metadata": {},
   "source": [
    "## Data Dictionary"
   ]
  },
  {
   "cell_type": "markdown",
   "id": "453e69bf",
   "metadata": {},
   "source": [
    "|Feature|Type|Dataset|Description|\n",
    "|---|---|---|---|\n",
    "|Id|int|reviews|asin, e.g. amazon.com/dp/(id)| \n",
    "|UserId|object|reviews|id of user| \n",
    "|ProfileName|object|reviews|name of user| \n",
    "|HelpfulnessNumerator|object|reviews|number of users who found review helpful| \n",
    "|HelpfulnessDenominator|int|reviews|total number of users who indicated if they found the review helpful or not| \n",
    "|Score|int|reviews|rating of product| \n",
    "|Time|int|reviews|time of review (Unix)| \n",
    "|Summary|object|reviews|review summary| \n",
    "|Text|object|reviews|review text|"
   ]
  },
  {
   "cell_type": "markdown",
   "id": "034b6073",
   "metadata": {},
   "source": [
    "## Contents\n",
    "- [Import libraries](#Import-libraries)\n",
    "- [Data cleaning](#Data-cleaning)\n",
    "- [Pre-processing](#Pre-processing)\n",
    "- [Train-test-split](#Train-test-split)\n",
    "- [Exploratory data analysis](#Exploratory-data-analysis)\n",
    "- [Benchmark model](#Benchmark-model)"
   ]
  },
  {
   "cell_type": "markdown",
   "id": "6463d877",
   "metadata": {},
   "source": [
    "## Import libraries"
   ]
  },
  {
   "cell_type": "code",
   "execution_count": 1,
   "id": "de6eeb25",
   "metadata": {},
   "outputs": [],
   "source": [
    "import pandas as pd\n",
    "import numpy as np\n",
    "import matplotlib.pyplot as plt\n",
    "\n",
    "from sklearn.model_selection import train_test_split\n",
    "from sklearn.feature_extraction.text import CountVectorizer\n",
    "\n",
    "from datetime import datetime\n",
    "\n",
    "import re\n",
    "from bs4 import BeautifulSoup\n",
    "from nltk.stem.porter import PorterStemmer\n",
    "from nltk.stem import WordNetLemmatizer\n",
    "from nltk.corpus import stopwords"
   ]
  },
  {
   "cell_type": "code",
   "execution_count": 1,
   "id": "ef0bacf7",
   "metadata": {},
   "outputs": [],
   "source": [
    "from vaderSentiment.vaderSentiment import SentimentIntensityAnalyzer\n",
    "from sklearn.metrics import classification_report, accuracy_score, confusion_matrix"
   ]
  },
  {
   "cell_type": "markdown",
   "id": "a622d3bb",
   "metadata": {},
   "source": [
    "## Data cleaning"
   ]
  },
  {
   "cell_type": "code",
   "execution_count": 40,
   "id": "c715ecb6",
   "metadata": {},
   "outputs": [],
   "source": [
    "reviews = pd.read_csv('../datasets/Reviews.csv', parse_dates=['Time'])"
   ]
  },
  {
   "cell_type": "code",
   "execution_count": 41,
   "id": "f18c5d54",
   "metadata": {},
   "outputs": [
    {
     "data": {
      "text/plain": [
       "(568454, 10)"
      ]
     },
     "execution_count": 41,
     "metadata": {},
     "output_type": "execute_result"
    }
   ],
   "source": [
    "reviews.shape"
   ]
  },
  {
   "cell_type": "code",
   "execution_count": 42,
   "id": "1f43133b",
   "metadata": {
    "scrolled": false
   },
   "outputs": [
    {
     "data": {
      "text/html": [
       "<div>\n",
       "<style scoped>\n",
       "    .dataframe tbody tr th:only-of-type {\n",
       "        vertical-align: middle;\n",
       "    }\n",
       "\n",
       "    .dataframe tbody tr th {\n",
       "        vertical-align: top;\n",
       "    }\n",
       "\n",
       "    .dataframe thead th {\n",
       "        text-align: right;\n",
       "    }\n",
       "</style>\n",
       "<table border=\"1\" class=\"dataframe\">\n",
       "  <thead>\n",
       "    <tr style=\"text-align: right;\">\n",
       "      <th></th>\n",
       "      <th>Id</th>\n",
       "      <th>ProductId</th>\n",
       "      <th>UserId</th>\n",
       "      <th>ProfileName</th>\n",
       "      <th>HelpfulnessNumerator</th>\n",
       "      <th>HelpfulnessDenominator</th>\n",
       "      <th>Score</th>\n",
       "      <th>Time</th>\n",
       "      <th>Summary</th>\n",
       "      <th>Text</th>\n",
       "    </tr>\n",
       "  </thead>\n",
       "  <tbody>\n",
       "    <tr>\n",
       "      <th>0</th>\n",
       "      <td>1</td>\n",
       "      <td>B001E4KFG0</td>\n",
       "      <td>A3SGXH7AUHU8GW</td>\n",
       "      <td>delmartian</td>\n",
       "      <td>1</td>\n",
       "      <td>1</td>\n",
       "      <td>5</td>\n",
       "      <td>1303862400</td>\n",
       "      <td>Good Quality Dog Food</td>\n",
       "      <td>I have bought several of the Vitality canned d...</td>\n",
       "    </tr>\n",
       "    <tr>\n",
       "      <th>1</th>\n",
       "      <td>2</td>\n",
       "      <td>B00813GRG4</td>\n",
       "      <td>A1D87F6ZCVE5NK</td>\n",
       "      <td>dll pa</td>\n",
       "      <td>0</td>\n",
       "      <td>0</td>\n",
       "      <td>1</td>\n",
       "      <td>1346976000</td>\n",
       "      <td>Not as Advertised</td>\n",
       "      <td>Product arrived labeled as Jumbo Salted Peanut...</td>\n",
       "    </tr>\n",
       "    <tr>\n",
       "      <th>2</th>\n",
       "      <td>3</td>\n",
       "      <td>B000LQOCH0</td>\n",
       "      <td>ABXLMWJIXXAIN</td>\n",
       "      <td>Natalia Corres \"Natalia Corres\"</td>\n",
       "      <td>1</td>\n",
       "      <td>1</td>\n",
       "      <td>4</td>\n",
       "      <td>1219017600</td>\n",
       "      <td>\"Delight\" says it all</td>\n",
       "      <td>This is a confection that has been around a fe...</td>\n",
       "    </tr>\n",
       "    <tr>\n",
       "      <th>3</th>\n",
       "      <td>4</td>\n",
       "      <td>B000UA0QIQ</td>\n",
       "      <td>A395BORC6FGVXV</td>\n",
       "      <td>Karl</td>\n",
       "      <td>3</td>\n",
       "      <td>3</td>\n",
       "      <td>2</td>\n",
       "      <td>1307923200</td>\n",
       "      <td>Cough Medicine</td>\n",
       "      <td>If you are looking for the secret ingredient i...</td>\n",
       "    </tr>\n",
       "    <tr>\n",
       "      <th>4</th>\n",
       "      <td>5</td>\n",
       "      <td>B006K2ZZ7K</td>\n",
       "      <td>A1UQRSCLF8GW1T</td>\n",
       "      <td>Michael D. Bigham \"M. Wassir\"</td>\n",
       "      <td>0</td>\n",
       "      <td>0</td>\n",
       "      <td>5</td>\n",
       "      <td>1350777600</td>\n",
       "      <td>Great taffy</td>\n",
       "      <td>Great taffy at a great price.  There was a wid...</td>\n",
       "    </tr>\n",
       "  </tbody>\n",
       "</table>\n",
       "</div>"
      ],
      "text/plain": [
       "   Id   ProductId          UserId                      ProfileName  \\\n",
       "0   1  B001E4KFG0  A3SGXH7AUHU8GW                       delmartian   \n",
       "1   2  B00813GRG4  A1D87F6ZCVE5NK                           dll pa   \n",
       "2   3  B000LQOCH0   ABXLMWJIXXAIN  Natalia Corres \"Natalia Corres\"   \n",
       "3   4  B000UA0QIQ  A395BORC6FGVXV                             Karl   \n",
       "4   5  B006K2ZZ7K  A1UQRSCLF8GW1T    Michael D. Bigham \"M. Wassir\"   \n",
       "\n",
       "   HelpfulnessNumerator  HelpfulnessDenominator  Score        Time  \\\n",
       "0                     1                       1      5  1303862400   \n",
       "1                     0                       0      1  1346976000   \n",
       "2                     1                       1      4  1219017600   \n",
       "3                     3                       3      2  1307923200   \n",
       "4                     0                       0      5  1350777600   \n",
       "\n",
       "                 Summary                                               Text  \n",
       "0  Good Quality Dog Food  I have bought several of the Vitality canned d...  \n",
       "1      Not as Advertised  Product arrived labeled as Jumbo Salted Peanut...  \n",
       "2  \"Delight\" says it all  This is a confection that has been around a fe...  \n",
       "3         Cough Medicine  If you are looking for the secret ingredient i...  \n",
       "4            Great taffy  Great taffy at a great price.  There was a wid...  "
      ]
     },
     "execution_count": 42,
     "metadata": {},
     "output_type": "execute_result"
    }
   ],
   "source": [
    "reviews.head()"
   ]
  },
  {
   "cell_type": "code",
   "execution_count": 43,
   "id": "2faca6d3",
   "metadata": {},
   "outputs": [],
   "source": [
    "# rename columns\n",
    "reviews.rename(columns={'Id': 'id', \n",
    "                        'ProductId': 'product_id', \n",
    "                        'UserId': 'user_id', \n",
    "                        'ProfileName': 'profile_name', \n",
    "                        'HelpfulnessNumerator': 'help_num', \n",
    "                        'HelpfulnessDenominator': 'help_denom',\n",
    "                        'Score': 'score',\n",
    "                        'Time': 'date',\n",
    "                        'Summary': 'summary',\n",
    "                        'Text': 'text'}, inplace=True)"
   ]
  },
  {
   "cell_type": "markdown",
   "id": "4804d198",
   "metadata": {},
   "source": [
    "I realised that there were duplicated reviews when analysing the product id. I realised for different product id and same count of reviews, they each contain the same exact reviews. It appears that the product were similar in terms of brand name but different packaging and name of product."
   ]
  },
  {
   "cell_type": "code",
   "execution_count": 44,
   "id": "64da781d",
   "metadata": {},
   "outputs": [],
   "source": [
    "# only want unique reviews\n",
    "reviews.drop_duplicates(['summary', 'text'], inplace=True)\n",
    "reviews.reset_index(drop=True, inplace=True)"
   ]
  },
  {
   "cell_type": "code",
   "execution_count": 45,
   "id": "19160c47",
   "metadata": {
    "scrolled": false
   },
   "outputs": [
    {
     "data": {
      "text/plain": [
       "(394970, 10)"
      ]
     },
     "execution_count": 45,
     "metadata": {},
     "output_type": "execute_result"
    }
   ],
   "source": [
    "reviews.shape"
   ]
  },
  {
   "cell_type": "markdown",
   "id": "0f4c6ff1",
   "metadata": {},
   "source": [
    "#### We will keep only 100,000 reviews . We first drop reviews that were before 2012 (latest year in dataset) and then undersample the majority class (imbalance dataset)."
   ]
  },
  {
   "cell_type": "code",
   "execution_count": 53,
   "id": "3330933c",
   "metadata": {},
   "outputs": [],
   "source": [
    "# convert to datetime format\n",
    "reviews['date'] = pd.to_datetime(reviews['date'], unit='s')\n",
    "reviews['year'] = reviews['date'].dt.year"
   ]
  },
  {
   "cell_type": "code",
   "execution_count": 54,
   "id": "e063db4c",
   "metadata": {},
   "outputs": [
    {
     "data": {
      "text/plain": [
       "255421"
      ]
     },
     "execution_count": 54,
     "metadata": {},
     "output_type": "execute_result"
    }
   ],
   "source": [
    "# count of reviews for years below 2012 -> unseen dataset\n",
    "reviews[reviews['year'] < 2012]['id'].count()"
   ]
  },
  {
   "cell_type": "code",
   "execution_count": 31,
   "id": "dba1e7dc",
   "metadata": {},
   "outputs": [],
   "source": [
    "reviews.drop(reviews[reviews.year < 2012].index, inplace=True)\n",
    "reviews.reset_index(drop=True, inplace=True)\n",
    "\n",
    "# drop reviews of score 5 to lessen the unbalance dataset\n",
    "reviews.drop(reviews[reviews['score']==5][:39549].index.to_list(), inplace=True)\n",
    "reviews.reset_index(drop=True, inplace=True)"
   ]
  },
  {
   "cell_type": "code",
   "execution_count": 32,
   "id": "504d1d5c",
   "metadata": {},
   "outputs": [
    {
     "data": {
      "text/plain": [
       "(100000, 13)"
      ]
     },
     "execution_count": 32,
     "metadata": {},
     "output_type": "execute_result"
    }
   ],
   "source": [
    "reviews.shape"
   ]
  },
  {
   "cell_type": "markdown",
   "id": "7e2b5a7f",
   "metadata": {},
   "source": [
    "#### Null values"
   ]
  },
  {
   "cell_type": "code",
   "execution_count": 12,
   "id": "6cb2cd7f",
   "metadata": {
    "scrolled": true
   },
   "outputs": [
    {
     "data": {
      "text/plain": [
       "id              0\n",
       "product_id      0\n",
       "user_id         0\n",
       "profile_name    2\n",
       "help_num        0\n",
       "help_denom      0\n",
       "score           0\n",
       "date            0\n",
       "summary         2\n",
       "text            0\n",
       "year            0\n",
       "dtype: int64"
      ]
     },
     "execution_count": 12,
     "metadata": {},
     "output_type": "execute_result"
    }
   ],
   "source": [
    "# null values\n",
    "reviews.isnull().sum()"
   ]
  },
  {
   "cell_type": "code",
   "execution_count": 13,
   "id": "2e5cfdce",
   "metadata": {
    "scrolled": true
   },
   "outputs": [
    {
     "data": {
      "text/html": [
       "<div>\n",
       "<style scoped>\n",
       "    .dataframe tbody tr th:only-of-type {\n",
       "        vertical-align: middle;\n",
       "    }\n",
       "\n",
       "    .dataframe tbody tr th {\n",
       "        vertical-align: top;\n",
       "    }\n",
       "\n",
       "    .dataframe thead th {\n",
       "        text-align: right;\n",
       "    }\n",
       "</style>\n",
       "<table border=\"1\" class=\"dataframe\">\n",
       "  <thead>\n",
       "    <tr style=\"text-align: right;\">\n",
       "      <th></th>\n",
       "      <th>id</th>\n",
       "      <th>product_id</th>\n",
       "      <th>user_id</th>\n",
       "      <th>profile_name</th>\n",
       "      <th>help_num</th>\n",
       "      <th>help_denom</th>\n",
       "      <th>score</th>\n",
       "      <th>date</th>\n",
       "      <th>summary</th>\n",
       "      <th>text</th>\n",
       "      <th>year</th>\n",
       "    </tr>\n",
       "  </thead>\n",
       "  <tbody>\n",
       "    <tr>\n",
       "      <th>26526</th>\n",
       "      <td>237566</td>\n",
       "      <td>B000ELGPAO</td>\n",
       "      <td>A15AMT9T9A1309</td>\n",
       "      <td>Film-Friend</td>\n",
       "      <td>1</td>\n",
       "      <td>1</td>\n",
       "      <td>3</td>\n",
       "      <td>2012-02-07</td>\n",
       "      <td>NaN</td>\n",
       "      <td>This is a cool system only problem is that the...</td>\n",
       "      <td>2012</td>\n",
       "    </tr>\n",
       "    <tr>\n",
       "      <th>60910</th>\n",
       "      <td>392530</td>\n",
       "      <td>B001H9XOEW</td>\n",
       "      <td>A22R17YPXEULEZ</td>\n",
       "      <td>Liz Wong</td>\n",
       "      <td>0</td>\n",
       "      <td>0</td>\n",
       "      <td>3</td>\n",
       "      <td>2012-04-16</td>\n",
       "      <td>NaN</td>\n",
       "      <td>I like the product and tried it before I pucha...</td>\n",
       "      <td>2012</td>\n",
       "    </tr>\n",
       "  </tbody>\n",
       "</table>\n",
       "</div>"
      ],
      "text/plain": [
       "           id  product_id         user_id profile_name  help_num  help_denom  \\\n",
       "26526  237566  B000ELGPAO  A15AMT9T9A1309  Film-Friend         1           1   \n",
       "60910  392530  B001H9XOEW  A22R17YPXEULEZ     Liz Wong         0           0   \n",
       "\n",
       "       score       date summary  \\\n",
       "26526      3 2012-02-07     NaN   \n",
       "60910      3 2012-04-16     NaN   \n",
       "\n",
       "                                                    text  year  \n",
       "26526  This is a cool system only problem is that the...  2012  \n",
       "60910  I like the product and tried it before I pucha...  2012  "
      ]
     },
     "execution_count": 13,
     "metadata": {},
     "output_type": "execute_result"
    }
   ],
   "source": [
    "reviews[reviews['summary'].isnull()]"
   ]
  },
  {
   "cell_type": "code",
   "execution_count": 14,
   "id": "88c9e867",
   "metadata": {},
   "outputs": [],
   "source": [
    "# fill nan help_ratio to 0\n",
    "reviews['summary'] = reviews['summary'].fillna('')\n",
    "# merge summary and text into 1 column\n",
    "reviews['merge'] = reviews['summary'] + str(' ') + reviews['text']"
   ]
  },
  {
   "cell_type": "code",
   "execution_count": 15,
   "id": "900a2ccf",
   "metadata": {
    "scrolled": false
   },
   "outputs": [
    {
     "data": {
      "text/html": [
       "<div>\n",
       "<style scoped>\n",
       "    .dataframe tbody tr th:only-of-type {\n",
       "        vertical-align: middle;\n",
       "    }\n",
       "\n",
       "    .dataframe tbody tr th {\n",
       "        vertical-align: top;\n",
       "    }\n",
       "\n",
       "    .dataframe thead th {\n",
       "        text-align: right;\n",
       "    }\n",
       "</style>\n",
       "<table border=\"1\" class=\"dataframe\">\n",
       "  <thead>\n",
       "    <tr style=\"text-align: right;\">\n",
       "      <th></th>\n",
       "      <th>id</th>\n",
       "      <th>product_id</th>\n",
       "      <th>user_id</th>\n",
       "      <th>profile_name</th>\n",
       "      <th>help_num</th>\n",
       "      <th>help_denom</th>\n",
       "      <th>score</th>\n",
       "      <th>date</th>\n",
       "      <th>summary</th>\n",
       "      <th>text</th>\n",
       "      <th>year</th>\n",
       "      <th>merge</th>\n",
       "    </tr>\n",
       "  </thead>\n",
       "  <tbody>\n",
       "    <tr>\n",
       "      <th>71882</th>\n",
       "      <td>440826</td>\n",
       "      <td>B008LFAS08</td>\n",
       "      <td>AC0E8TXIYABB5</td>\n",
       "      <td>NaN</td>\n",
       "      <td>1</td>\n",
       "      <td>1</td>\n",
       "      <td>5</td>\n",
       "      <td>2012-10-17</td>\n",
       "      <td>The perfect grinder for dog and cat food!</td>\n",
       "      <td>this grinder is super easy to assemble and ope...</td>\n",
       "      <td>2012</td>\n",
       "      <td>The perfect grinder for dog and cat food! this...</td>\n",
       "    </tr>\n",
       "    <tr>\n",
       "      <th>87631</th>\n",
       "      <td>515437</td>\n",
       "      <td>B004S04X4W</td>\n",
       "      <td>A2H7605OSHVIQ5</td>\n",
       "      <td>NaN</td>\n",
       "      <td>0</td>\n",
       "      <td>0</td>\n",
       "      <td>5</td>\n",
       "      <td>2012-09-27</td>\n",
       "      <td>Hormel Roast Beef Hash, 15-Ounce</td>\n",
       "      <td>I've been buying this in the grocery stores fr...</td>\n",
       "      <td>2012</td>\n",
       "      <td>Hormel Roast Beef Hash, 15-Ounce I've been buy...</td>\n",
       "    </tr>\n",
       "  </tbody>\n",
       "</table>\n",
       "</div>"
      ],
      "text/plain": [
       "           id  product_id         user_id profile_name  help_num  help_denom  \\\n",
       "71882  440826  B008LFAS08   AC0E8TXIYABB5          NaN         1           1   \n",
       "87631  515437  B004S04X4W  A2H7605OSHVIQ5          NaN         0           0   \n",
       "\n",
       "       score       date                                    summary  \\\n",
       "71882      5 2012-10-17  The perfect grinder for dog and cat food!   \n",
       "87631      5 2012-09-27           Hormel Roast Beef Hash, 15-Ounce   \n",
       "\n",
       "                                                    text  year  \\\n",
       "71882  this grinder is super easy to assemble and ope...  2012   \n",
       "87631  I've been buying this in the grocery stores fr...  2012   \n",
       "\n",
       "                                                   merge  \n",
       "71882  The perfect grinder for dog and cat food! this...  \n",
       "87631  Hormel Roast Beef Hash, 15-Ounce I've been buy...  "
      ]
     },
     "execution_count": 15,
     "metadata": {},
     "output_type": "execute_result"
    }
   ],
   "source": [
    "reviews[reviews['profile_name'].isnull()]"
   ]
  },
  {
   "cell_type": "markdown",
   "id": "d8eaa019",
   "metadata": {},
   "source": [
    "Some people prefer to remain anonymous, hence profile name appears to be empty."
   ]
  },
  {
   "cell_type": "code",
   "execution_count": 16,
   "id": "7a203bdb",
   "metadata": {},
   "outputs": [],
   "source": [
    "reviews['help_ratio'] = reviews['help_num']/reviews['help_denom']"
   ]
  },
  {
   "cell_type": "code",
   "execution_count": 17,
   "id": "0a63c3a5",
   "metadata": {
    "scrolled": false
   },
   "outputs": [
    {
     "data": {
      "text/plain": [
       "id                  0\n",
       "product_id          0\n",
       "user_id             0\n",
       "profile_name        2\n",
       "help_num            0\n",
       "help_denom          0\n",
       "score               0\n",
       "date                0\n",
       "summary             0\n",
       "text                0\n",
       "year                0\n",
       "merge               0\n",
       "help_ratio      64374\n",
       "dtype: int64"
      ]
     },
     "execution_count": 17,
     "metadata": {},
     "output_type": "execute_result"
    }
   ],
   "source": [
    "# null values\n",
    "reviews.isnull().sum()"
   ]
  },
  {
   "cell_type": "code",
   "execution_count": 18,
   "id": "8bea4283",
   "metadata": {},
   "outputs": [],
   "source": [
    "# fill nan help_ratio to 0\n",
    "reviews['help_ratio'] = reviews['help_ratio'].fillna(0)"
   ]
  },
  {
   "cell_type": "code",
   "execution_count": 19,
   "id": "9e0e7a1f",
   "metadata": {},
   "outputs": [
    {
     "data": {
      "text/html": [
       "<div>\n",
       "<style scoped>\n",
       "    .dataframe tbody tr th:only-of-type {\n",
       "        vertical-align: middle;\n",
       "    }\n",
       "\n",
       "    .dataframe tbody tr th {\n",
       "        vertical-align: top;\n",
       "    }\n",
       "\n",
       "    .dataframe thead th {\n",
       "        text-align: right;\n",
       "    }\n",
       "</style>\n",
       "<table border=\"1\" class=\"dataframe\">\n",
       "  <thead>\n",
       "    <tr style=\"text-align: right;\">\n",
       "      <th></th>\n",
       "      <th>id</th>\n",
       "      <th>product_id</th>\n",
       "      <th>user_id</th>\n",
       "      <th>profile_name</th>\n",
       "      <th>help_num</th>\n",
       "      <th>help_denom</th>\n",
       "      <th>score</th>\n",
       "      <th>date</th>\n",
       "      <th>summary</th>\n",
       "      <th>text</th>\n",
       "      <th>year</th>\n",
       "      <th>merge</th>\n",
       "      <th>help_ratio</th>\n",
       "    </tr>\n",
       "  </thead>\n",
       "  <tbody>\n",
       "    <tr>\n",
       "      <th>0</th>\n",
       "      <td>2</td>\n",
       "      <td>B00813GRG4</td>\n",
       "      <td>A1D87F6ZCVE5NK</td>\n",
       "      <td>dll pa</td>\n",
       "      <td>0</td>\n",
       "      <td>0</td>\n",
       "      <td>1</td>\n",
       "      <td>2012-09-07</td>\n",
       "      <td>Not as Advertised</td>\n",
       "      <td>Product arrived labeled as Jumbo Salted Peanut...</td>\n",
       "      <td>2012</td>\n",
       "      <td>Not as Advertised Product arrived labeled as J...</td>\n",
       "      <td>0.0</td>\n",
       "    </tr>\n",
       "    <tr>\n",
       "      <th>1</th>\n",
       "      <td>6</td>\n",
       "      <td>B006K2ZZ7K</td>\n",
       "      <td>ADT0SRK1MGOEU</td>\n",
       "      <td>Twoapennything</td>\n",
       "      <td>0</td>\n",
       "      <td>0</td>\n",
       "      <td>4</td>\n",
       "      <td>2012-07-12</td>\n",
       "      <td>Nice Taffy</td>\n",
       "      <td>I got a wild hair for taffy and ordered this f...</td>\n",
       "      <td>2012</td>\n",
       "      <td>Nice Taffy I got a wild hair for taffy and ord...</td>\n",
       "      <td>0.0</td>\n",
       "    </tr>\n",
       "    <tr>\n",
       "      <th>2</th>\n",
       "      <td>13</td>\n",
       "      <td>B0009XLVG0</td>\n",
       "      <td>A327PCT23YH90</td>\n",
       "      <td>LT</td>\n",
       "      <td>1</td>\n",
       "      <td>1</td>\n",
       "      <td>1</td>\n",
       "      <td>2012-06-13</td>\n",
       "      <td>My Cats Are Not Fans of the New Food</td>\n",
       "      <td>My cats have been happily eating Felidae Plati...</td>\n",
       "      <td>2012</td>\n",
       "      <td>My Cats Are Not Fans of the New Food My cats h...</td>\n",
       "      <td>1.0</td>\n",
       "    </tr>\n",
       "    <tr>\n",
       "      <th>3</th>\n",
       "      <td>17</td>\n",
       "      <td>B001GVISJM</td>\n",
       "      <td>A3KLWF6WQ5BNYO</td>\n",
       "      <td>Erica Neathery</td>\n",
       "      <td>0</td>\n",
       "      <td>0</td>\n",
       "      <td>2</td>\n",
       "      <td>2012-09-20</td>\n",
       "      <td>poor taste</td>\n",
       "      <td>I love eating them and they are good for watch...</td>\n",
       "      <td>2012</td>\n",
       "      <td>poor taste I love eating them and they are goo...</td>\n",
       "      <td>0.0</td>\n",
       "    </tr>\n",
       "    <tr>\n",
       "      <th>4</th>\n",
       "      <td>27</td>\n",
       "      <td>B001GVISJM</td>\n",
       "      <td>A3RXAU2N8KV45G</td>\n",
       "      <td>lady21</td>\n",
       "      <td>0</td>\n",
       "      <td>1</td>\n",
       "      <td>1</td>\n",
       "      <td>2012-03-25</td>\n",
       "      <td>Nasty No flavor</td>\n",
       "      <td>The candy is just red , No flavor . Just  plan...</td>\n",
       "      <td>2012</td>\n",
       "      <td>Nasty No flavor The candy is just red , No fla...</td>\n",
       "      <td>0.0</td>\n",
       "    </tr>\n",
       "    <tr>\n",
       "      <th>...</th>\n",
       "      <td>...</td>\n",
       "      <td>...</td>\n",
       "      <td>...</td>\n",
       "      <td>...</td>\n",
       "      <td>...</td>\n",
       "      <td>...</td>\n",
       "      <td>...</td>\n",
       "      <td>...</td>\n",
       "      <td>...</td>\n",
       "      <td>...</td>\n",
       "      <td>...</td>\n",
       "      <td>...</td>\n",
       "      <td>...</td>\n",
       "    </tr>\n",
       "    <tr>\n",
       "      <th>99995</th>\n",
       "      <td>568447</td>\n",
       "      <td>B001EO7N10</td>\n",
       "      <td>A2P9W8T7NTLG2Z</td>\n",
       "      <td>Andy</td>\n",
       "      <td>0</td>\n",
       "      <td>0</td>\n",
       "      <td>2</td>\n",
       "      <td>2012-02-11</td>\n",
       "      <td>Mixed wrong</td>\n",
       "      <td>I had ordered some of these a few months back ...</td>\n",
       "      <td>2012</td>\n",
       "      <td>Mixed wrong I had ordered some of these a few ...</td>\n",
       "      <td>0.0</td>\n",
       "    </tr>\n",
       "    <tr>\n",
       "      <th>99996</th>\n",
       "      <td>568451</td>\n",
       "      <td>B003S1WTCU</td>\n",
       "      <td>A3I8AFVPEE8KI5</td>\n",
       "      <td>R. Sawyer</td>\n",
       "      <td>0</td>\n",
       "      <td>0</td>\n",
       "      <td>2</td>\n",
       "      <td>2012-03-09</td>\n",
       "      <td>disappointed</td>\n",
       "      <td>I'm disappointed with the flavor. The chocolat...</td>\n",
       "      <td>2012</td>\n",
       "      <td>disappointed I'm disappointed with the flavor....</td>\n",
       "      <td>0.0</td>\n",
       "    </tr>\n",
       "    <tr>\n",
       "      <th>99997</th>\n",
       "      <td>568452</td>\n",
       "      <td>B004I613EE</td>\n",
       "      <td>A121AA1GQV751Z</td>\n",
       "      <td>pksd \"pk_007\"</td>\n",
       "      <td>2</td>\n",
       "      <td>2</td>\n",
       "      <td>5</td>\n",
       "      <td>2012-02-21</td>\n",
       "      <td>Perfect for our maltipoo</td>\n",
       "      <td>These stars are small, so you can give 10-15 o...</td>\n",
       "      <td>2012</td>\n",
       "      <td>Perfect for our maltipoo These stars are small...</td>\n",
       "      <td>1.0</td>\n",
       "    </tr>\n",
       "    <tr>\n",
       "      <th>99998</th>\n",
       "      <td>568453</td>\n",
       "      <td>B004I613EE</td>\n",
       "      <td>A3IBEVCTXKNOH</td>\n",
       "      <td>Kathy A. Welch \"katwel\"</td>\n",
       "      <td>1</td>\n",
       "      <td>1</td>\n",
       "      <td>5</td>\n",
       "      <td>2012-03-13</td>\n",
       "      <td>Favorite Training and reward treat</td>\n",
       "      <td>These are the BEST treats for training and rew...</td>\n",
       "      <td>2012</td>\n",
       "      <td>Favorite Training and reward treat These are t...</td>\n",
       "      <td>1.0</td>\n",
       "    </tr>\n",
       "    <tr>\n",
       "      <th>99999</th>\n",
       "      <td>568454</td>\n",
       "      <td>B001LR2CU2</td>\n",
       "      <td>A3LGQPJCZVL9UC</td>\n",
       "      <td>srfell17</td>\n",
       "      <td>0</td>\n",
       "      <td>0</td>\n",
       "      <td>5</td>\n",
       "      <td>2012-05-31</td>\n",
       "      <td>Great Honey</td>\n",
       "      <td>I am very satisfied ,product is as advertised,...</td>\n",
       "      <td>2012</td>\n",
       "      <td>Great Honey I am very satisfied ,product is as...</td>\n",
       "      <td>0.0</td>\n",
       "    </tr>\n",
       "  </tbody>\n",
       "</table>\n",
       "<p>100000 rows × 13 columns</p>\n",
       "</div>"
      ],
      "text/plain": [
       "           id  product_id         user_id             profile_name  help_num  \\\n",
       "0           2  B00813GRG4  A1D87F6ZCVE5NK                   dll pa         0   \n",
       "1           6  B006K2ZZ7K   ADT0SRK1MGOEU           Twoapennything         0   \n",
       "2          13  B0009XLVG0   A327PCT23YH90                       LT         1   \n",
       "3          17  B001GVISJM  A3KLWF6WQ5BNYO           Erica Neathery         0   \n",
       "4          27  B001GVISJM  A3RXAU2N8KV45G                   lady21         0   \n",
       "...       ...         ...             ...                      ...       ...   \n",
       "99995  568447  B001EO7N10  A2P9W8T7NTLG2Z                     Andy         0   \n",
       "99996  568451  B003S1WTCU  A3I8AFVPEE8KI5                R. Sawyer         0   \n",
       "99997  568452  B004I613EE  A121AA1GQV751Z            pksd \"pk_007\"         2   \n",
       "99998  568453  B004I613EE   A3IBEVCTXKNOH  Kathy A. Welch \"katwel\"         1   \n",
       "99999  568454  B001LR2CU2  A3LGQPJCZVL9UC                 srfell17         0   \n",
       "\n",
       "       help_denom  score       date                               summary  \\\n",
       "0               0      1 2012-09-07                     Not as Advertised   \n",
       "1               0      4 2012-07-12                            Nice Taffy   \n",
       "2               1      1 2012-06-13  My Cats Are Not Fans of the New Food   \n",
       "3               0      2 2012-09-20                            poor taste   \n",
       "4               1      1 2012-03-25                       Nasty No flavor   \n",
       "...           ...    ...        ...                                   ...   \n",
       "99995           0      2 2012-02-11                           Mixed wrong   \n",
       "99996           0      2 2012-03-09                          disappointed   \n",
       "99997           2      5 2012-02-21              Perfect for our maltipoo   \n",
       "99998           1      5 2012-03-13    Favorite Training and reward treat   \n",
       "99999           0      5 2012-05-31                           Great Honey   \n",
       "\n",
       "                                                    text  year  \\\n",
       "0      Product arrived labeled as Jumbo Salted Peanut...  2012   \n",
       "1      I got a wild hair for taffy and ordered this f...  2012   \n",
       "2      My cats have been happily eating Felidae Plati...  2012   \n",
       "3      I love eating them and they are good for watch...  2012   \n",
       "4      The candy is just red , No flavor . Just  plan...  2012   \n",
       "...                                                  ...   ...   \n",
       "99995  I had ordered some of these a few months back ...  2012   \n",
       "99996  I'm disappointed with the flavor. The chocolat...  2012   \n",
       "99997  These stars are small, so you can give 10-15 o...  2012   \n",
       "99998  These are the BEST treats for training and rew...  2012   \n",
       "99999  I am very satisfied ,product is as advertised,...  2012   \n",
       "\n",
       "                                                   merge  help_ratio  \n",
       "0      Not as Advertised Product arrived labeled as J...         0.0  \n",
       "1      Nice Taffy I got a wild hair for taffy and ord...         0.0  \n",
       "2      My Cats Are Not Fans of the New Food My cats h...         1.0  \n",
       "3      poor taste I love eating them and they are goo...         0.0  \n",
       "4      Nasty No flavor The candy is just red , No fla...         0.0  \n",
       "...                                                  ...         ...  \n",
       "99995  Mixed wrong I had ordered some of these a few ...         0.0  \n",
       "99996  disappointed I'm disappointed with the flavor....         0.0  \n",
       "99997  Perfect for our maltipoo These stars are small...         1.0  \n",
       "99998  Favorite Training and reward treat These are t...         1.0  \n",
       "99999  Great Honey I am very satisfied ,product is as...         0.0  \n",
       "\n",
       "[100000 rows x 13 columns]"
      ]
     },
     "execution_count": 19,
     "metadata": {},
     "output_type": "execute_result"
    }
   ],
   "source": [
    "reviews"
   ]
  },
  {
   "cell_type": "markdown",
   "id": "3f5457f1",
   "metadata": {},
   "source": [
    "### Analysing each score"
   ]
  },
  {
   "cell_type": "markdown",
   "id": "6a5ec032",
   "metadata": {},
   "source": [
    "#### Score rating of 1"
   ]
  },
  {
   "cell_type": "code",
   "execution_count": 20,
   "id": "f5b8aeba",
   "metadata": {},
   "outputs": [],
   "source": [
    "pd.set_option('display.max_colwidth', None)"
   ]
  },
  {
   "cell_type": "code",
   "execution_count": 21,
   "id": "6ef20072",
   "metadata": {
    "scrolled": false
   },
   "outputs": [
    {
     "data": {
      "text/html": [
       "<div>\n",
       "<style scoped>\n",
       "    .dataframe tbody tr th:only-of-type {\n",
       "        vertical-align: middle;\n",
       "    }\n",
       "\n",
       "    .dataframe tbody tr th {\n",
       "        vertical-align: top;\n",
       "    }\n",
       "\n",
       "    .dataframe thead th {\n",
       "        text-align: right;\n",
       "    }\n",
       "</style>\n",
       "<table border=\"1\" class=\"dataframe\">\n",
       "  <thead>\n",
       "    <tr style=\"text-align: right;\">\n",
       "      <th></th>\n",
       "      <th>merge</th>\n",
       "    </tr>\n",
       "  </thead>\n",
       "  <tbody>\n",
       "    <tr>\n",
       "      <th>0</th>\n",
       "      <td>Not as Advertised Product arrived labeled as Jumbo Salted Peanuts...the peanuts were actually small sized unsalted. Not sure if this was an error or if the vendor intended to represent the product as \"Jumbo\".</td>\n",
       "    </tr>\n",
       "    <tr>\n",
       "      <th>2</th>\n",
       "      <td>My Cats Are Not Fans of the New Food My cats have been happily eating Felidae Platinum for more than two years. I just got a new bag and the shape of the food is different. They tried the new food when I first put it in their bowls and now the bowls sit full and the kitties will not touch the food. I've noticed similar reviews related to formula changes in the past. Unfortunately, I now need to find a new food that my cats will eat.</td>\n",
       "    </tr>\n",
       "    <tr>\n",
       "      <th>4</th>\n",
       "      <td>Nasty No flavor The candy is just red , No flavor . Just  plan and chewy .  I would never buy them again</td>\n",
       "    </tr>\n",
       "    <tr>\n",
       "      <th>10</th>\n",
       "      <td>Warning!  WARNING!  -ALCOHOL SUGARS! Buyer Beware Please! This sweetener is not for everybody.  Maltitol is an alcohol sugar and can be undigestible in the body.  You will know a short time after consuming it if you are one of the unsuspecting many who cannot digest it by the extreme intestinal bloating and cramping and massive amounts of gas a person can experience. Nausea, diarrhea &amp; headaches can also be experienced. I learned my lesson the hard way years ago when I fell in love with the sugar-free chocolates suzanne sommers used to sell.  I thought I'd found sugar-free chocolate nirvana at first taste but the bliss was short lived when the terrible side effects of maltitol kicked in.  The discomfort was unlike anything I had ever felt before.  I blew up like a balloon and had very painful abdominal cramping.  As the symptoms passed, this too was very unpleasant.  Though hard for me to believe a low calorie sweetener could be the culprit, all symptoms were gone when I stopped eating the chocolate. My hunch it had something to do with the maltitol were unfortunately confirmed for me about a year later when I purchased some delicious sugar-free popcorn at my local market.  The taste was amazing and while I was looking at the label wondering what could possibly make this yummy, new sugarfree treat taste so good, my heart sank when I followed the little asterisk next to sugarfree sweetener* down to the very bottom of the label and read \"maltitol\" in tiny little letters! Thank goodness I'd eaten only a little. I still ended up with all the same side-effects but for a much shorter duration. Some people can use maltitol to their heart's content but others, like me, can have a bad reaction to it. In case you're like me, ... it's not you ...it's the maltitol!</td>\n",
       "    </tr>\n",
       "    <tr>\n",
       "      <th>12</th>\n",
       "      <td>Bad I fed this to my Golden Retriever and he hated it.  He wouldn't eat it, and when he did, it gave him terrible diarrhea.  We will not be buying this again.  It's also super expensive.</td>\n",
       "    </tr>\n",
       "  </tbody>\n",
       "</table>\n",
       "</div>"
      ],
      "text/plain": [
       "                                                                                                                                                                                                                                                                                                                                                                                                                                                                                                                                                                                                                                                                                                                                                                                                                                                                                                                                                                                                                                                                                                                                                                                                                                                                                                                                                                                                                                                                                                                                                                                                                                                                                                                                                                                                                                                      merge\n",
       "0                                                                                                                                                                                                                                                                                                                                                                                                                                                                                                                                                                                                                                                                                                                                                                                                                                                                                                                                                                                                                                                                                                                                                                                                                                                                                                                                                                                                                                                                                                                                                                                                                                          Not as Advertised Product arrived labeled as Jumbo Salted Peanuts...the peanuts were actually small sized unsalted. Not sure if this was an error or if the vendor intended to represent the product as \"Jumbo\".\n",
       "2                                                                                                                                                                                                                                                                                                                                                                                                                                                                                                                                                                                                                                                                                                                                                                                                                                                                                                                                                                                                                                                                                                                                                                                                                                                                                                                                                                                                      My Cats Are Not Fans of the New Food My cats have been happily eating Felidae Platinum for more than two years. I just got a new bag and the shape of the food is different. They tried the new food when I first put it in their bowls and now the bowls sit full and the kitties will not touch the food. I've noticed similar reviews related to formula changes in the past. Unfortunately, I now need to find a new food that my cats will eat.\n",
       "4                                                                                                                                                                                                                                                                                                                                                                                                                                                                                                                                                                                                                                                                                                                                                                                                                                                                                                                                                                                                                                                                                                                                                                                                                                                                                                                                                                                                                                                                                                                                                                                                                                                                                                                                                  Nasty No flavor The candy is just red , No flavor . Just  plan and chewy .  I would never buy them again\n",
       "10  Warning!  WARNING!  -ALCOHOL SUGARS! Buyer Beware Please! This sweetener is not for everybody.  Maltitol is an alcohol sugar and can be undigestible in the body.  You will know a short time after consuming it if you are one of the unsuspecting many who cannot digest it by the extreme intestinal bloating and cramping and massive amounts of gas a person can experience. Nausea, diarrhea & headaches can also be experienced. I learned my lesson the hard way years ago when I fell in love with the sugar-free chocolates suzanne sommers used to sell.  I thought I'd found sugar-free chocolate nirvana at first taste but the bliss was short lived when the terrible side effects of maltitol kicked in.  The discomfort was unlike anything I had ever felt before.  I blew up like a balloon and had very painful abdominal cramping.  As the symptoms passed, this too was very unpleasant.  Though hard for me to believe a low calorie sweetener could be the culprit, all symptoms were gone when I stopped eating the chocolate. My hunch it had something to do with the maltitol were unfortunately confirmed for me about a year later when I purchased some delicious sugar-free popcorn at my local market.  The taste was amazing and while I was looking at the label wondering what could possibly make this yummy, new sugarfree treat taste so good, my heart sank when I followed the little asterisk next to sugarfree sweetener* down to the very bottom of the label and read \"maltitol\" in tiny little letters! Thank goodness I'd eaten only a little. I still ended up with all the same side-effects but for a much shorter duration. Some people can use maltitol to their heart's content but others, like me, can have a bad reaction to it. In case you're like me, ... it's not you ...it's the maltitol!\n",
       "12                                                                                                                                                                                                                                                                                                                                                                                                                                                                                                                                                                                                                                                                                                                                                                                                                                                                                                                                                                                                                                                                                                                                                                                                                                                                                                                                                                                                                                                                                                                                                                                                                                                               Bad I fed this to my Golden Retriever and he hated it.  He wouldn't eat it, and when he did, it gave him terrible diarrhea.  We will not be buying this again.  It's also super expensive."
      ]
     },
     "execution_count": 21,
     "metadata": {},
     "output_type": "execute_result"
    }
   ],
   "source": [
    "reviews[reviews['score'] == 1][['merge']].head()"
   ]
  },
  {
   "cell_type": "markdown",
   "id": "f4df18f2",
   "metadata": {},
   "source": [
    "For score 1 review, they appear to be consistently negative"
   ]
  },
  {
   "cell_type": "markdown",
   "id": "b22fa6b6",
   "metadata": {},
   "source": [
    "#### Score rating of 2"
   ]
  },
  {
   "cell_type": "code",
   "execution_count": 22,
   "id": "6b453872",
   "metadata": {
    "scrolled": false
   },
   "outputs": [
    {
     "data": {
      "text/html": [
       "<div>\n",
       "<style scoped>\n",
       "    .dataframe tbody tr th:only-of-type {\n",
       "        vertical-align: middle;\n",
       "    }\n",
       "\n",
       "    .dataframe tbody tr th {\n",
       "        vertical-align: top;\n",
       "    }\n",
       "\n",
       "    .dataframe thead th {\n",
       "        text-align: right;\n",
       "    }\n",
       "</style>\n",
       "<table border=\"1\" class=\"dataframe\">\n",
       "  <thead>\n",
       "    <tr style=\"text-align: right;\">\n",
       "      <th></th>\n",
       "      <th>merge</th>\n",
       "    </tr>\n",
       "  </thead>\n",
       "  <tbody>\n",
       "    <tr>\n",
       "      <th>3</th>\n",
       "      <td>poor taste I love eating them and they are good for watching TV and looking at movies! It is not too sweet. I like to transfer them to a zip lock baggie so they stay fresh so I can take my time eating them.</td>\n",
       "    </tr>\n",
       "    <tr>\n",
       "      <th>9</th>\n",
       "      <td>Taste is not so good. I purchased the Mango flavor, and to me it doesn't take like Mango at all.  There is no hint of sweetness, and unfortunately there is a hint or aftertaste almost like licorice.  I've been consuming various sports nutrition products for decades, so I'm familiar and have come to like the taste of the most of the products I've tried.  The mango flavor is one of the least appealing I've tasted.  It's not terrible, but it's bad enough that I notice the bad taste every sip I take.</td>\n",
       "    </tr>\n",
       "    <tr>\n",
       "      <th>27</th>\n",
       "      <td>Altoids Smalls Even with small containers, they don't fill them up.  These little tins are less than half filled and at the price charged it seems a rip-off. Is there some exotic ingredient as costly as gold contained in those tiny squares?  Or how about the cereal ploy, they were filled at the factory but settled in transport.&lt;br /&gt;Can manufacturers be honest in their dealings?</td>\n",
       "    </tr>\n",
       "    <tr>\n",
       "      <th>36</th>\n",
       "      <td>Disappointed! This product has a strong after-taste of Crayola crayons!&lt;br /&gt;&lt;br /&gt;I am in the process of trying different brands of coconut oils for cooking purposes.  Upon opening the plastic container, the aroma of crayons immediately fills the room, and this flavor permeates the food that is cooked in it.&lt;br /&gt;&lt;br /&gt;I suspect the source of the problem is the plastic used in the plastic container as I have not experienced this with any of the other brands purchased.&lt;br /&gt;&lt;br /&gt;To date, my favorite coconut oil is distributed by Barleans.  The flavor is fantastic.  However, they do not supply a gallon-sized tub,and Dr. Mercola has the best product in that size category.</td>\n",
       "    </tr>\n",
       "    <tr>\n",
       "      <th>83</th>\n",
       "      <td>City Steam, not much steam in this brew. My husband and I were very disappointed in this coffee, very weak, watery cup of coffee. A definite waste of $13.00.</td>\n",
       "    </tr>\n",
       "  </tbody>\n",
       "</table>\n",
       "</div>"
      ],
      "text/plain": [
       "                                                                                                                                                                                                                                                                                                                                                                                                                                                                                                                                                                                                                                                                                                      merge\n",
       "3                                                                                                                                                                                                                                                                                                                                                                                                                                                                                            poor taste I love eating them and they are good for watching TV and looking at movies! It is not too sweet. I like to transfer them to a zip lock baggie so they stay fresh so I can take my time eating them.\n",
       "9                                                                                                                                                                                     Taste is not so good. I purchased the Mango flavor, and to me it doesn't take like Mango at all.  There is no hint of sweetness, and unfortunately there is a hint or aftertaste almost like licorice.  I've been consuming various sports nutrition products for decades, so I'm familiar and have come to like the taste of the most of the products I've tried.  The mango flavor is one of the least appealing I've tasted.  It's not terrible, but it's bad enough that I notice the bad taste every sip I take.\n",
       "27                                                                                                                                                                                                                                                                                                            Altoids Smalls Even with small containers, they don't fill them up.  These little tins are less than half filled and at the price charged it seems a rip-off. Is there some exotic ingredient as costly as gold contained in those tiny squares?  Or how about the cereal ploy, they were filled at the factory but settled in transport.<br />Can manufacturers be honest in their dealings?\n",
       "36  Disappointed! This product has a strong after-taste of Crayola crayons!<br /><br />I am in the process of trying different brands of coconut oils for cooking purposes.  Upon opening the plastic container, the aroma of crayons immediately fills the room, and this flavor permeates the food that is cooked in it.<br /><br />I suspect the source of the problem is the plastic used in the plastic container as I have not experienced this with any of the other brands purchased.<br /><br />To date, my favorite coconut oil is distributed by Barleans.  The flavor is fantastic.  However, they do not supply a gallon-sized tub,and Dr. Mercola has the best product in that size category.\n",
       "83                                                                                                                                                                                                                                                                                                                                                                                                                                                                                                                                            City Steam, not much steam in this brew. My husband and I were very disappointed in this coffee, very weak, watery cup of coffee. A definite waste of $13.00."
      ]
     },
     "execution_count": 22,
     "metadata": {},
     "output_type": "execute_result"
    }
   ],
   "source": [
    "reviews[reviews['score'] == 2][['merge']].head()"
   ]
  },
  {
   "cell_type": "markdown",
   "id": "72cd3ed3",
   "metadata": {},
   "source": [
    "For score 2 review, they appear to be negative, with some contradicting reviews. For example, in index 3, although the summary was 'poor taste', the reviewer wrote good feedback about the product. However, other reviews are negative still"
   ]
  },
  {
   "cell_type": "markdown",
   "id": "f7a3668e",
   "metadata": {},
   "source": [
    "#### Score rating of 3"
   ]
  },
  {
   "cell_type": "code",
   "execution_count": 23,
   "id": "4f3f0786",
   "metadata": {
    "scrolled": true
   },
   "outputs": [
    {
     "data": {
      "text/html": [
       "<div>\n",
       "<style scoped>\n",
       "    .dataframe tbody tr th:only-of-type {\n",
       "        vertical-align: middle;\n",
       "    }\n",
       "\n",
       "    .dataframe tbody tr th {\n",
       "        vertical-align: top;\n",
       "    }\n",
       "\n",
       "    .dataframe thead th {\n",
       "        text-align: right;\n",
       "    }\n",
       "</style>\n",
       "<table border=\"1\" class=\"dataframe\">\n",
       "  <thead>\n",
       "    <tr style=\"text-align: right;\">\n",
       "      <th></th>\n",
       "      <th>merge</th>\n",
       "    </tr>\n",
       "  </thead>\n",
       "  <tbody>\n",
       "    <tr>\n",
       "      <th>7</th>\n",
       "      <td>Same stuff This is the same stuff you can buy at the big box stores.  There is nothing healthy about it.  It is just carbs and sugars.  Save your money and get something that at least has some taste.</td>\n",
       "    </tr>\n",
       "    <tr>\n",
       "      <th>11</th>\n",
       "      <td>Order only in cold weather The taste was great, but the berries had melted.  May order again in winter. If you order in cold weather you should enjoy flavor.</td>\n",
       "    </tr>\n",
       "    <tr>\n",
       "      <th>15</th>\n",
       "      <td>It burns! I LOVE spicy ramen, but for whatever reasons this thing burns my stomach badly and the burning sensation doesn't go away for like 3 hours! Not sure if that is healthy or not .... and you can buy this at Walmart for $0.28, way cheaper than Amazon.</td>\n",
       "    </tr>\n",
       "    <tr>\n",
       "      <th>17</th>\n",
       "      <td>Ehhh... These remind me of dog treats I made once using pumpkin and cinnamon. They're kind of bland and not my favorite Back To Nature product. But my finace really loves them so that's where the three stars come from.</td>\n",
       "    </tr>\n",
       "    <tr>\n",
       "      <th>19</th>\n",
       "      <td>Not the greatest tasting.. I have always purchased Star-Kist tuna but thought I would try this brand for a change of pace. The taste of the tuna was not pleasant, too much basil and other spices for me.</td>\n",
       "    </tr>\n",
       "  </tbody>\n",
       "</table>\n",
       "</div>"
      ],
      "text/plain": [
       "                                                                                                                                                                                                                                                               merge\n",
       "7                                                            Same stuff This is the same stuff you can buy at the big box stores.  There is nothing healthy about it.  It is just carbs and sugars.  Save your money and get something that at least has some taste.\n",
       "11                                                                                                     Order only in cold weather The taste was great, but the berries had melted.  May order again in winter. If you order in cold weather you should enjoy flavor.\n",
       "15  It burns! I LOVE spicy ramen, but for whatever reasons this thing burns my stomach badly and the burning sensation doesn't go away for like 3 hours! Not sure if that is healthy or not .... and you can buy this at Walmart for $0.28, way cheaper than Amazon.\n",
       "17                                        Ehhh... These remind me of dog treats I made once using pumpkin and cinnamon. They're kind of bland and not my favorite Back To Nature product. But my finace really loves them so that's where the three stars come from.\n",
       "19                                                        Not the greatest tasting.. I have always purchased Star-Kist tuna but thought I would try this brand for a change of pace. The taste of the tuna was not pleasant, too much basil and other spices for me."
      ]
     },
     "execution_count": 23,
     "metadata": {},
     "output_type": "execute_result"
    }
   ],
   "source": [
    "reviews[reviews['score'] == 3][['merge']].head()"
   ]
  },
  {
   "cell_type": "markdown",
   "id": "b318c32b",
   "metadata": {},
   "source": [
    "For score 3 reviews, they appear to be negative as well as feedback for improvements."
   ]
  },
  {
   "cell_type": "markdown",
   "id": "0899cc04",
   "metadata": {},
   "source": [
    "#### Score rating of 4"
   ]
  },
  {
   "cell_type": "code",
   "execution_count": 24,
   "id": "0065d2f5",
   "metadata": {
    "scrolled": false
   },
   "outputs": [
    {
     "data": {
      "text/html": [
       "<div>\n",
       "<style scoped>\n",
       "    .dataframe tbody tr th:only-of-type {\n",
       "        vertical-align: middle;\n",
       "    }\n",
       "\n",
       "    .dataframe tbody tr th {\n",
       "        vertical-align: top;\n",
       "    }\n",
       "\n",
       "    .dataframe thead th {\n",
       "        text-align: right;\n",
       "    }\n",
       "</style>\n",
       "<table border=\"1\" class=\"dataframe\">\n",
       "  <thead>\n",
       "    <tr style=\"text-align: right;\">\n",
       "      <th></th>\n",
       "      <th>merge</th>\n",
       "    </tr>\n",
       "  </thead>\n",
       "  <tbody>\n",
       "    <tr>\n",
       "      <th>1</th>\n",
       "      <td>Nice Taffy I got a wild hair for taffy and ordered this five pound bag. The taffy was all very enjoyable with many flavors: watermelon, root beer, melon, peppermint, grape, etc. My only complaint is there was a bit too much red/black licorice-flavored pieces (just not my particular favorites). Between me, my kids, and my husband, this lasted only two weeks! I would recommend this brand of taffy -- it was a delightful treat.</td>\n",
       "    </tr>\n",
       "    <tr>\n",
       "      <th>5</th>\n",
       "      <td>Great Bargain for the Price I was so glad Amazon carried these batteries.  I have a hard time finding them elsewhere because they are such a unique size.  I need them for my garage door opener.&lt;br /&gt;Great deal for the price.</td>\n",
       "    </tr>\n",
       "    <tr>\n",
       "      <th>6</th>\n",
       "      <td>GOOD WAY TO START THE DAY.... I WAS VISITING MY FRIEND NATE THE OTHER MORNING FOR COFFEE , HE CAME OUT OF HIS STORAGE ROOM WITH ( A PACKET OF McCANNS INSTANT IRISH OATMEAL .) HE SUGGESTED THAT I TRY IT FOR MY OWN USE ,IN MY STASH . SOMETIMES NATE DOSE NOT GIVE YOU A CHANCE TO SAY NO , SO I ENDED UP TRYING THE APPLE AND CINN . FOUND IT TO BE VERY TASTEFULL WHEN MADE WITH WATER OR POWDERED MILK . IT GOES GOOD WITH O.J. AND COFFEE AND A SLICE OF TOAST AND YOUR READY TO TAKE ON THE WORLD...OR THE DAY AT LEAST..  JERRY REITH...</td>\n",
       "    </tr>\n",
       "    <tr>\n",
       "      <th>8</th>\n",
       "      <td>You'll go nuts over Ass-Kickin' Peanuts. This wasn't in stock the last time I looked. I had to go to the Vermont Country Store in Weston to find it along with a jaw harp, Cranberry Horseradish Sauce, Fartless Black Bean Salsa, Apple Cider Jelly, Newton's Cradle Art in Motion and the staple Vermont Maple Syrup.&lt;br /&gt;&lt;br /&gt;Back to the Ass Kickin Peanuts. They are hot. They will activate the perspiration glands behind your ears and under your arms. It requires a beverage as advertised, a glass of very cold milk, and a box of Kleenex since it will make your nose run. They look like ordinary peanuts which is already giving me ideas for work. I suspect that some people have been hitting my goodies in my absence, especially my colleague Greg. I'm going to take this to work at earliest opportunity and empty the contents of this can into an ordinary Planters Peanuts can, and then see whose crying or whose nose is running when I return.&lt;br /&gt;&lt;br /&gt;The can should be shaken to ensure the spices are evenly distributed. It is important to wash your hands after consumption and not touch the eyes.&lt;br /&gt;&lt;br /&gt;You'll go nuts over these Ass-Kickin' Peanuts.&lt;br /&gt;&lt;br /&gt;P.S. I'm not sharing the peanuts, not deliberately, and I'll probably give Greg the jaw harp for Christmas. He'll be so insulted.</td>\n",
       "    </tr>\n",
       "    <tr>\n",
       "      <th>13</th>\n",
       "      <td>TART! The crust on these tarts are perfect.  My husband loves these, but I'm not so crazy about them.  They are just too sour/tart for my taste.  I'll eat the crust and hubby takes my filling.  My kids think they're great, so maybe it's just me.</td>\n",
       "    </tr>\n",
       "  </tbody>\n",
       "</table>\n",
       "</div>"
      ],
      "text/plain": [
       "                                                                                                                                                                                                                                                                                                                                                                                                                                                                                                                                                                                                                                                                                                                                                                                                                                                                                                                                                                                                                                                                                                                                                                                                                                                                                                                                                merge\n",
       "1                                                                                                                                                                                                                                                                                                                                                                                                                                                                                                                                                                                                                                                                                                                                                                                                                                                                                                         Nice Taffy I got a wild hair for taffy and ordered this five pound bag. The taffy was all very enjoyable with many flavors: watermelon, root beer, melon, peppermint, grape, etc. My only complaint is there was a bit too much red/black licorice-flavored pieces (just not my particular favorites). Between me, my kids, and my husband, this lasted only two weeks! I would recommend this brand of taffy -- it was a delightful treat.\n",
       "5                                                                                                                                                                                                                                                                                                                                                                                                                                                                                                                                                                                                                                                                                                                                                                                                                                                                                                                                                                                                                                                                                                                    Great Bargain for the Price I was so glad Amazon carried these batteries.  I have a hard time finding them elsewhere because they are such a unique size.  I need them for my garage door opener.<br />Great deal for the price.\n",
       "6                                                                                                                                                                                                                                                                                                                                                                                                                                                                                                                                                                                                                                                                                                                                                                                                    GOOD WAY TO START THE DAY.... I WAS VISITING MY FRIEND NATE THE OTHER MORNING FOR COFFEE , HE CAME OUT OF HIS STORAGE ROOM WITH ( A PACKET OF McCANNS INSTANT IRISH OATMEAL .) HE SUGGESTED THAT I TRY IT FOR MY OWN USE ,IN MY STASH . SOMETIMES NATE DOSE NOT GIVE YOU A CHANCE TO SAY NO , SO I ENDED UP TRYING THE APPLE AND CINN . FOUND IT TO BE VERY TASTEFULL WHEN MADE WITH WATER OR POWDERED MILK . IT GOES GOOD WITH O.J. AND COFFEE AND A SLICE OF TOAST AND YOUR READY TO TAKE ON THE WORLD...OR THE DAY AT LEAST..  JERRY REITH...\n",
       "8   You'll go nuts over Ass-Kickin' Peanuts. This wasn't in stock the last time I looked. I had to go to the Vermont Country Store in Weston to find it along with a jaw harp, Cranberry Horseradish Sauce, Fartless Black Bean Salsa, Apple Cider Jelly, Newton's Cradle Art in Motion and the staple Vermont Maple Syrup.<br /><br />Back to the Ass Kickin Peanuts. They are hot. They will activate the perspiration glands behind your ears and under your arms. It requires a beverage as advertised, a glass of very cold milk, and a box of Kleenex since it will make your nose run. They look like ordinary peanuts which is already giving me ideas for work. I suspect that some people have been hitting my goodies in my absence, especially my colleague Greg. I'm going to take this to work at earliest opportunity and empty the contents of this can into an ordinary Planters Peanuts can, and then see whose crying or whose nose is running when I return.<br /><br />The can should be shaken to ensure the spices are evenly distributed. It is important to wash your hands after consumption and not touch the eyes.<br /><br />You'll go nuts over these Ass-Kickin' Peanuts.<br /><br />P.S. I'm not sharing the peanuts, not deliberately, and I'll probably give Greg the jaw harp for Christmas. He'll be so insulted.\n",
       "13                                                                                                                                                                                                                                                                                                                                                                                                                                                                                                                                                                                                                                                                                                                                                                                                                                                                                                                                                                                                                                                                                              TART! The crust on these tarts are perfect.  My husband loves these, but I'm not so crazy about them.  They are just too sour/tart for my taste.  I'll eat the crust and hubby takes my filling.  My kids think they're great, so maybe it's just me."
      ]
     },
     "execution_count": 24,
     "metadata": {},
     "output_type": "execute_result"
    }
   ],
   "source": [
    "reviews[reviews['score'] == 4][['merge']].head()"
   ]
  },
  {
   "cell_type": "markdown",
   "id": "c25c3652",
   "metadata": {},
   "source": [
    "For score 4 reviews, most appear to be postive."
   ]
  },
  {
   "cell_type": "markdown",
   "id": "2e03f35f",
   "metadata": {},
   "source": [
    "#### Score rating of 5"
   ]
  },
  {
   "cell_type": "code",
   "execution_count": 25,
   "id": "244c6ce0",
   "metadata": {
    "scrolled": true
   },
   "outputs": [
    {
     "data": {
      "text/html": [
       "<div>\n",
       "<style scoped>\n",
       "    .dataframe tbody tr th:only-of-type {\n",
       "        vertical-align: middle;\n",
       "    }\n",
       "\n",
       "    .dataframe tbody tr th {\n",
       "        vertical-align: top;\n",
       "    }\n",
       "\n",
       "    .dataframe thead th {\n",
       "        text-align: right;\n",
       "    }\n",
       "</style>\n",
       "<table border=\"1\" class=\"dataframe\">\n",
       "  <thead>\n",
       "    <tr style=\"text-align: right;\">\n",
       "      <th></th>\n",
       "      <th>merge</th>\n",
       "    </tr>\n",
       "  </thead>\n",
       "  <tbody>\n",
       "    <tr>\n",
       "      <th>24623</th>\n",
       "      <td>good stuff This works very well to thicken gravies.  I have never had lumps with this product.  I love it and use it often.</td>\n",
       "    </tr>\n",
       "    <tr>\n",
       "      <th>24628</th>\n",
       "      <td>Love it People knocking this stuff are crazy.&lt;br /&gt;This is seriously one of the best \"cut corner\" ingredients out there.&lt;br /&gt;We make peanut sauces for thai cooking night.  Spread on bananas for breakfast.  Or even just dip pretzels or crackers in it.&lt;br /&gt;Love the taste.  It's almost sweeter than the real thing.  Obviously, it's not exactly the same consistency of real peanut butter, but for 1/5 of the fat per serving, it's worth checking out.&lt;br /&gt;&lt;br /&gt;give it a try.  good stuff!</td>\n",
       "    </tr>\n",
       "    <tr>\n",
       "      <th>24629</th>\n",
       "      <td>Totally Worth It! I have a husband and three little boys - all of whom would eat brown gravy with every meal.  However, my family only prescribes to McCormick's brown gravy, so I was spending *lots* of money on individual packs... until I found this 21 oz. container.  This is definitely a staple in my household and I hope they never stop selling this product... unless, of course, they start producing an even bigger one.</td>\n",
       "    </tr>\n",
       "    <tr>\n",
       "      <th>24630</th>\n",
       "      <td>Glad I gave it a try. This is a pleasant tasting product, especially for an instant gravy. I also use it to thicken certain recipes with great results.</td>\n",
       "    </tr>\n",
       "    <tr>\n",
       "      <th>24631</th>\n",
       "      <td>gravy love gravy on my bread or corn bread. tastes great with a variety of food. i do a lot of sunday afternoon cookouts and this stuff comes in handy on my mashed potatoes. easy to fix. no time at all.</td>\n",
       "    </tr>\n",
       "  </tbody>\n",
       "</table>\n",
       "</div>"
      ],
      "text/plain": [
       "                                                                                                                                                                                                                                                                                                                                                                                                                                                                                                         merge\n",
       "24623                                                                                                                                                                                                                                                                                                                                                                              good stuff This works very well to thicken gravies.  I have never had lumps with this product.  I love it and use it often.\n",
       "24628  Love it People knocking this stuff are crazy.<br />This is seriously one of the best \"cut corner\" ingredients out there.<br />We make peanut sauces for thai cooking night.  Spread on bananas for breakfast.  Or even just dip pretzels or crackers in it.<br />Love the taste.  It's almost sweeter than the real thing.  Obviously, it's not exactly the same consistency of real peanut butter, but for 1/5 of the fat per serving, it's worth checking out.<br /><br />give it a try.  good stuff!\n",
       "24629                                                                  Totally Worth It! I have a husband and three little boys - all of whom would eat brown gravy with every meal.  However, my family only prescribes to McCormick's brown gravy, so I was spending *lots* of money on individual packs... until I found this 21 oz. container.  This is definitely a staple in my household and I hope they never stop selling this product... unless, of course, they start producing an even bigger one.\n",
       "24630                                                                                                                                                                                                                                                                                                                                                  Glad I gave it a try. This is a pleasant tasting product, especially for an instant gravy. I also use it to thicken certain recipes with great results.\n",
       "24631                                                                                                                                                                                                                                                                                               gravy love gravy on my bread or corn bread. tastes great with a variety of food. i do a lot of sunday afternoon cookouts and this stuff comes in handy on my mashed potatoes. easy to fix. no time at all."
      ]
     },
     "execution_count": 25,
     "metadata": {},
     "output_type": "execute_result"
    }
   ],
   "source": [
    "reviews[reviews['score'] == 5][['merge']].head()"
   ]
  },
  {
   "cell_type": "markdown",
   "id": "4560cd86",
   "metadata": {},
   "source": [
    "For score 5 reviews, they appear to be postive sentiment."
   ]
  },
  {
   "cell_type": "code",
   "execution_count": 26,
   "id": "294cec40",
   "metadata": {},
   "outputs": [
    {
     "data": {
      "text/plain": [
       "5    0.46529\n",
       "4    0.19957\n",
       "1    0.14557\n",
       "3    0.11004\n",
       "2    0.07953\n",
       "Name: score, dtype: float64"
      ]
     },
     "execution_count": 26,
     "metadata": {},
     "output_type": "execute_result"
    }
   ],
   "source": [
    "reviews['score'].value_counts(normalize=True)"
   ]
  },
  {
   "cell_type": "markdown",
   "id": "02b80a70",
   "metadata": {},
   "source": [
    "To predict if a review is good or bad, we will binarize the score. As we are interested in bad reviews, 1 will indicate bad reviews while 0 indicates good reviews<br>\n",
    "1: score 1 to 3<br>\n",
    "0: score 4 to 5"
   ]
  },
  {
   "cell_type": "code",
   "execution_count": 27,
   "id": "218f223c",
   "metadata": {},
   "outputs": [],
   "source": [
    "reviews['label'] = reviews['score'].map(lambda x: 1 if x <= 3 else 0)"
   ]
  },
  {
   "cell_type": "code",
   "execution_count": 28,
   "id": "0b005a6d",
   "metadata": {
    "scrolled": false
   },
   "outputs": [
    {
     "data": {
      "text/plain": [
       "0    0.66486\n",
       "1    0.33514\n",
       "Name: label, dtype: float64"
      ]
     },
     "execution_count": 28,
     "metadata": {},
     "output_type": "execute_result"
    }
   ],
   "source": [
    "reviews['label'].value_counts(normalize=True)"
   ]
  },
  {
   "cell_type": "markdown",
   "id": "ebaf063e",
   "metadata": {},
   "source": [
    "## Pre-processing\n",
    "We will transform the text that we are interested in to be able to fit into the model easily.\n"
   ]
  },
  {
   "cell_type": "code",
   "execution_count": 29,
   "id": "3ae46cef",
   "metadata": {},
   "outputs": [
    {
     "name": "stdout",
     "output_type": "stream",
     "text": [
      "['i', 'me', 'my', 'myself', 'we', 'our', 'ours', 'ourselves', 'you', \"you're\", \"you've\", \"you'll\", \"you'd\", 'your', 'yours', 'yourself', 'yourselves', 'he', 'him', 'his', 'himself', 'she', \"she's\", 'her', 'hers', 'herself', 'it', \"it's\", 'its', 'itself', 'they', 'them', 'their', 'theirs', 'themselves', 'what', 'which', 'who', 'whom', 'this', 'that', \"that'll\", 'these', 'those', 'am', 'is', 'are', 'was', 'were', 'be', 'been', 'being', 'have', 'has', 'had', 'having', 'do', 'does', 'did', 'doing', 'a', 'an', 'the', 'and', 'but', 'if', 'or', 'because', 'as', 'until', 'while', 'of', 'at', 'by', 'for', 'with', 'about', 'against', 'between', 'into', 'through', 'during', 'before', 'after', 'above', 'below', 'to', 'from', 'up', 'down', 'in', 'out', 'on', 'off', 'over', 'under', 'again', 'further', 'then', 'once', 'here', 'there', 'when', 'where', 'why', 'how', 'all', 'any', 'both', 'each', 'few', 'more', 'most', 'other', 'some', 'such', 'no', 'nor', 'not', 'only', 'own', 'same', 'so', 'than', 'too', 'very', 's', 't', 'can', 'will', 'just', 'don', \"don't\", 'should', \"should've\", 'now', 'd', 'll', 'm', 'o', 're', 've', 'y', 'ain', 'aren', \"aren't\", 'couldn', \"couldn't\", 'didn', \"didn't\", 'doesn', \"doesn't\", 'hadn', \"hadn't\", 'hasn', \"hasn't\", 'haven', \"haven't\", 'isn', \"isn't\", 'ma', 'mightn', \"mightn't\", 'mustn', \"mustn't\", 'needn', \"needn't\", 'shan', \"shan't\", 'shouldn', \"shouldn't\", 'wasn', \"wasn't\", 'weren', \"weren't\", 'won', \"won't\", 'wouldn', \"wouldn't\"]\n"
     ]
    }
   ],
   "source": [
    "# NLTK english stopwords\n",
    "print(stopwords.words('english'))"
   ]
  },
  {
   "cell_type": "markdown",
   "id": "13132867",
   "metadata": {},
   "source": [
    "### Remove html tags, non-letters, stopwords, change to lower case and stem words."
   ]
  },
  {
   "cell_type": "code",
   "execution_count": 30,
   "id": "2780afd6",
   "metadata": {},
   "outputs": [],
   "source": [
    "# The input is a single string (a raw food review), output is a single string (a preprocessed food review)\n",
    "def review_stem(raw_review):\n",
    "    \"\"\"Function to preprocess original text into string of words\"\"\"\n",
    "    \n",
    "    # 1. Remove HTML.\n",
    "    review_text = BeautifulSoup(raw_review).get_text()\n",
    "    \n",
    "    # 2. Remove non-letters.\n",
    "    letters_only = re.sub(\"[^a-zA-Z]\", \" \", review_text)\n",
    "    \n",
    "    # 3. Convert to lower case, split into individual words.\n",
    "    words = letters_only.lower().split()\n",
    "    \n",
    "    # 4. Stopwords\n",
    "    stops = set(stopwords.words('english'))\n",
    "    \n",
    "    # 5. Remove stopwords.\n",
    "    meaningful_words = [w for w in words if not w in stops]\n",
    "    \n",
    "    # 6. Instantiate stemmer.\n",
    "    stemmer = PorterStemmer()\n",
    "    \n",
    "    # 7. Stem words.\n",
    "    stemmed_words = [stemmer.stem(i) for i in meaningful_words]\n",
    "    \n",
    "    # 8. Join the words back into one string separated by space, and return the result.\n",
    "    return(\" \".join(stemmed_words))"
   ]
  },
  {
   "cell_type": "markdown",
   "id": "b5d4808d",
   "metadata": {},
   "source": [
    "### Remove html tags, non-letters and change to lower case"
   ]
  },
  {
   "cell_type": "code",
   "execution_count": 57,
   "id": "d6fa6422",
   "metadata": {},
   "outputs": [],
   "source": [
    "def review_deeplearning(raw_review):\n",
    "    \"\"\"Function to preprocess original text into string of words\"\"\"\n",
    "    \n",
    "    review_text = BeautifulSoup(raw_review).get_text()\n",
    "    \n",
    "    letters_only = re.sub(\"[^a-zA-Z]\", \" \", review_text)\n",
    "    \n",
    "    words = letters_only.lower().split()\n",
    "    \n",
    "    meaningful_words = [w for w in words]\n",
    "\n",
    "    return(\" \".join(meaningful_words))"
   ]
  },
  {
   "cell_type": "code",
   "execution_count": 32,
   "id": "99569181",
   "metadata": {},
   "outputs": [],
   "source": [
    "# Maintain sequences\n",
    "#def review_deeplearning(raw_review):\n",
    "    #\"\"\"Function to preprocess original text into string of words\"\"\"\n",
    "    \n",
    "    # 1. Remove HTML.\n",
    "    #review_text = BeautifulSoup(raw_review).get_text()\n",
    "    \n",
    "    # 2. Convert to lower case, split into individual words.\n",
    "    #words = review_text.lower().split()\n",
    "\n",
    "    # 3. Join the words back into one string separated by space, and return the result.\n",
    "    #return(\" \".join(words))"
   ]
  },
  {
   "cell_type": "code",
   "execution_count": 33,
   "id": "fc3a67a1",
   "metadata": {},
   "outputs": [],
   "source": [
    "# used for deep learning and topic modeling\n",
    "reviews['merge_dl'] = reviews['merge'].map(review_deeplearning)"
   ]
  },
  {
   "cell_type": "code",
   "execution_count": 34,
   "id": "9bcea730",
   "metadata": {},
   "outputs": [],
   "source": [
    "# used for machine learning\n",
    "reviews['merge_processed'] = reviews['merge'].map(review_stem)"
   ]
  },
  {
   "cell_type": "code",
   "execution_count": 35,
   "id": "2e868ace",
   "metadata": {},
   "outputs": [
    {
     "data": {
      "text/html": [
       "<div>\n",
       "<style scoped>\n",
       "    .dataframe tbody tr th:only-of-type {\n",
       "        vertical-align: middle;\n",
       "    }\n",
       "\n",
       "    .dataframe tbody tr th {\n",
       "        vertical-align: top;\n",
       "    }\n",
       "\n",
       "    .dataframe thead th {\n",
       "        text-align: right;\n",
       "    }\n",
       "</style>\n",
       "<table border=\"1\" class=\"dataframe\">\n",
       "  <thead>\n",
       "    <tr style=\"text-align: right;\">\n",
       "      <th></th>\n",
       "      <th>id</th>\n",
       "      <th>product_id</th>\n",
       "      <th>user_id</th>\n",
       "      <th>profile_name</th>\n",
       "      <th>help_num</th>\n",
       "      <th>help_denom</th>\n",
       "      <th>score</th>\n",
       "      <th>date</th>\n",
       "      <th>summary</th>\n",
       "      <th>text</th>\n",
       "      <th>year</th>\n",
       "      <th>merge</th>\n",
       "      <th>help_ratio</th>\n",
       "      <th>label</th>\n",
       "      <th>merge_dl</th>\n",
       "      <th>merge_processed</th>\n",
       "    </tr>\n",
       "  </thead>\n",
       "  <tbody>\n",
       "    <tr>\n",
       "      <th>0</th>\n",
       "      <td>2</td>\n",
       "      <td>B00813GRG4</td>\n",
       "      <td>A1D87F6ZCVE5NK</td>\n",
       "      <td>dll pa</td>\n",
       "      <td>0</td>\n",
       "      <td>0</td>\n",
       "      <td>1</td>\n",
       "      <td>2012-09-07</td>\n",
       "      <td>Not as Advertised</td>\n",
       "      <td>Product arrived labeled as Jumbo Salted Peanuts...the peanuts were actually small sized unsalted. Not sure if this was an error or if the vendor intended to represent the product as \"Jumbo\".</td>\n",
       "      <td>2012</td>\n",
       "      <td>Not as Advertised Product arrived labeled as Jumbo Salted Peanuts...the peanuts were actually small sized unsalted. Not sure if this was an error or if the vendor intended to represent the product as \"Jumbo\".</td>\n",
       "      <td>0.0</td>\n",
       "      <td>1</td>\n",
       "      <td>not as advertised product arrived labeled as jumbo salted peanuts the peanuts were actually small sized unsalted not sure if this was an error or if the vendor intended to represent the product as jumbo</td>\n",
       "      <td>advertis product arriv label jumbo salt peanut peanut actual small size unsalt sure error vendor intend repres product jumbo</td>\n",
       "    </tr>\n",
       "    <tr>\n",
       "      <th>1</th>\n",
       "      <td>6</td>\n",
       "      <td>B006K2ZZ7K</td>\n",
       "      <td>ADT0SRK1MGOEU</td>\n",
       "      <td>Twoapennything</td>\n",
       "      <td>0</td>\n",
       "      <td>0</td>\n",
       "      <td>4</td>\n",
       "      <td>2012-07-12</td>\n",
       "      <td>Nice Taffy</td>\n",
       "      <td>I got a wild hair for taffy and ordered this five pound bag. The taffy was all very enjoyable with many flavors: watermelon, root beer, melon, peppermint, grape, etc. My only complaint is there was a bit too much red/black licorice-flavored pieces (just not my particular favorites). Between me, my kids, and my husband, this lasted only two weeks! I would recommend this brand of taffy -- it was a delightful treat.</td>\n",
       "      <td>2012</td>\n",
       "      <td>Nice Taffy I got a wild hair for taffy and ordered this five pound bag. The taffy was all very enjoyable with many flavors: watermelon, root beer, melon, peppermint, grape, etc. My only complaint is there was a bit too much red/black licorice-flavored pieces (just not my particular favorites). Between me, my kids, and my husband, this lasted only two weeks! I would recommend this brand of taffy -- it was a delightful treat.</td>\n",
       "      <td>0.0</td>\n",
       "      <td>0</td>\n",
       "      <td>nice taffy i got a wild hair for taffy and ordered this five pound bag the taffy was all very enjoyable with many flavors watermelon root beer melon peppermint grape etc my only complaint is there was a bit too much red black licorice flavored pieces just not my particular favorites between me my kids and my husband this lasted only two weeks i would recommend this brand of taffy it was a delightful treat</td>\n",
       "      <td>nice taffi got wild hair taffi order five pound bag taffi enjoy mani flavor watermelon root beer melon peppermint grape etc complaint bit much red black licoric flavor piec particular favorit kid husband last two week would recommend brand taffi delight treat</td>\n",
       "    </tr>\n",
       "    <tr>\n",
       "      <th>2</th>\n",
       "      <td>13</td>\n",
       "      <td>B0009XLVG0</td>\n",
       "      <td>A327PCT23YH90</td>\n",
       "      <td>LT</td>\n",
       "      <td>1</td>\n",
       "      <td>1</td>\n",
       "      <td>1</td>\n",
       "      <td>2012-06-13</td>\n",
       "      <td>My Cats Are Not Fans of the New Food</td>\n",
       "      <td>My cats have been happily eating Felidae Platinum for more than two years. I just got a new bag and the shape of the food is different. They tried the new food when I first put it in their bowls and now the bowls sit full and the kitties will not touch the food. I've noticed similar reviews related to formula changes in the past. Unfortunately, I now need to find a new food that my cats will eat.</td>\n",
       "      <td>2012</td>\n",
       "      <td>My Cats Are Not Fans of the New Food My cats have been happily eating Felidae Platinum for more than two years. I just got a new bag and the shape of the food is different. They tried the new food when I first put it in their bowls and now the bowls sit full and the kitties will not touch the food. I've noticed similar reviews related to formula changes in the past. Unfortunately, I now need to find a new food that my cats will eat.</td>\n",
       "      <td>1.0</td>\n",
       "      <td>1</td>\n",
       "      <td>my cats are not fans of the new food my cats have been happily eating felidae platinum for more than two years i just got a new bag and the shape of the food is different they tried the new food when i first put it in their bowls and now the bowls sit full and the kitties will not touch the food i ve noticed similar reviews related to formula changes in the past unfortunately i now need to find a new food that my cats will eat</td>\n",
       "      <td>cat fan new food cat happili eat felida platinum two year got new bag shape food differ tri new food first put bowl bowl sit full kitti touch food notic similar review relat formula chang past unfortun need find new food cat eat</td>\n",
       "    </tr>\n",
       "    <tr>\n",
       "      <th>3</th>\n",
       "      <td>17</td>\n",
       "      <td>B001GVISJM</td>\n",
       "      <td>A3KLWF6WQ5BNYO</td>\n",
       "      <td>Erica Neathery</td>\n",
       "      <td>0</td>\n",
       "      <td>0</td>\n",
       "      <td>2</td>\n",
       "      <td>2012-09-20</td>\n",
       "      <td>poor taste</td>\n",
       "      <td>I love eating them and they are good for watching TV and looking at movies! It is not too sweet. I like to transfer them to a zip lock baggie so they stay fresh so I can take my time eating them.</td>\n",
       "      <td>2012</td>\n",
       "      <td>poor taste I love eating them and they are good for watching TV and looking at movies! It is not too sweet. I like to transfer them to a zip lock baggie so they stay fresh so I can take my time eating them.</td>\n",
       "      <td>0.0</td>\n",
       "      <td>1</td>\n",
       "      <td>poor taste i love eating them and they are good for watching tv and looking at movies it is not too sweet i like to transfer them to a zip lock baggie so they stay fresh so i can take my time eating them</td>\n",
       "      <td>poor tast love eat good watch tv look movi sweet like transfer zip lock baggi stay fresh take time eat</td>\n",
       "    </tr>\n",
       "    <tr>\n",
       "      <th>4</th>\n",
       "      <td>27</td>\n",
       "      <td>B001GVISJM</td>\n",
       "      <td>A3RXAU2N8KV45G</td>\n",
       "      <td>lady21</td>\n",
       "      <td>0</td>\n",
       "      <td>1</td>\n",
       "      <td>1</td>\n",
       "      <td>2012-03-25</td>\n",
       "      <td>Nasty No flavor</td>\n",
       "      <td>The candy is just red , No flavor . Just  plan and chewy .  I would never buy them again</td>\n",
       "      <td>2012</td>\n",
       "      <td>Nasty No flavor The candy is just red , No flavor . Just  plan and chewy .  I would never buy them again</td>\n",
       "      <td>0.0</td>\n",
       "      <td>1</td>\n",
       "      <td>nasty no flavor the candy is just red no flavor just plan and chewy i would never buy them again</td>\n",
       "      <td>nasti flavor candi red flavor plan chewi would never buy</td>\n",
       "    </tr>\n",
       "  </tbody>\n",
       "</table>\n",
       "</div>"
      ],
      "text/plain": [
       "   id  product_id         user_id    profile_name  help_num  help_denom  \\\n",
       "0   2  B00813GRG4  A1D87F6ZCVE5NK          dll pa         0           0   \n",
       "1   6  B006K2ZZ7K   ADT0SRK1MGOEU  Twoapennything         0           0   \n",
       "2  13  B0009XLVG0   A327PCT23YH90              LT         1           1   \n",
       "3  17  B001GVISJM  A3KLWF6WQ5BNYO  Erica Neathery         0           0   \n",
       "4  27  B001GVISJM  A3RXAU2N8KV45G          lady21         0           1   \n",
       "\n",
       "   score       date                               summary  \\\n",
       "0      1 2012-09-07                     Not as Advertised   \n",
       "1      4 2012-07-12                            Nice Taffy   \n",
       "2      1 2012-06-13  My Cats Are Not Fans of the New Food   \n",
       "3      2 2012-09-20                            poor taste   \n",
       "4      1 2012-03-25                       Nasty No flavor   \n",
       "\n",
       "                                                                                                                                                                                                                                                                                                                                                                                                                               text  \\\n",
       "0                                                                                                                                                                                                                                    Product arrived labeled as Jumbo Salted Peanuts...the peanuts were actually small sized unsalted. Not sure if this was an error or if the vendor intended to represent the product as \"Jumbo\".   \n",
       "1  I got a wild hair for taffy and ordered this five pound bag. The taffy was all very enjoyable with many flavors: watermelon, root beer, melon, peppermint, grape, etc. My only complaint is there was a bit too much red/black licorice-flavored pieces (just not my particular favorites). Between me, my kids, and my husband, this lasted only two weeks! I would recommend this brand of taffy -- it was a delightful treat.   \n",
       "2                   My cats have been happily eating Felidae Platinum for more than two years. I just got a new bag and the shape of the food is different. They tried the new food when I first put it in their bowls and now the bowls sit full and the kitties will not touch the food. I've noticed similar reviews related to formula changes in the past. Unfortunately, I now need to find a new food that my cats will eat.   \n",
       "3                                                                                                                                                                                                                               I love eating them and they are good for watching TV and looking at movies! It is not too sweet. I like to transfer them to a zip lock baggie so they stay fresh so I can take my time eating them.   \n",
       "4                                                                                                                                                                                                                                                                                                                                          The candy is just red , No flavor . Just  plan and chewy .  I would never buy them again   \n",
       "\n",
       "   year  \\\n",
       "0  2012   \n",
       "1  2012   \n",
       "2  2012   \n",
       "3  2012   \n",
       "4  2012   \n",
       "\n",
       "                                                                                                                                                                                                                                                                                                                                                                                                                                                  merge  \\\n",
       "0                                                                                                                                                                                                                                      Not as Advertised Product arrived labeled as Jumbo Salted Peanuts...the peanuts were actually small sized unsalted. Not sure if this was an error or if the vendor intended to represent the product as \"Jumbo\".   \n",
       "1           Nice Taffy I got a wild hair for taffy and ordered this five pound bag. The taffy was all very enjoyable with many flavors: watermelon, root beer, melon, peppermint, grape, etc. My only complaint is there was a bit too much red/black licorice-flavored pieces (just not my particular favorites). Between me, my kids, and my husband, this lasted only two weeks! I would recommend this brand of taffy -- it was a delightful treat.   \n",
       "2  My Cats Are Not Fans of the New Food My cats have been happily eating Felidae Platinum for more than two years. I just got a new bag and the shape of the food is different. They tried the new food when I first put it in their bowls and now the bowls sit full and the kitties will not touch the food. I've noticed similar reviews related to formula changes in the past. Unfortunately, I now need to find a new food that my cats will eat.   \n",
       "3                                                                                                                                                                                                                                        poor taste I love eating them and they are good for watching TV and looking at movies! It is not too sweet. I like to transfer them to a zip lock baggie so they stay fresh so I can take my time eating them.   \n",
       "4                                                                                                                                                                                                                                                                                                                                              Nasty No flavor The candy is just red , No flavor . Just  plan and chewy .  I would never buy them again   \n",
       "\n",
       "   help_ratio  label  \\\n",
       "0         0.0      1   \n",
       "1         0.0      0   \n",
       "2         1.0      1   \n",
       "3         0.0      1   \n",
       "4         0.0      1   \n",
       "\n",
       "                                                                                                                                                                                                                                                                                                                                                                                                                                         merge_dl  \\\n",
       "0                                                                                                                                                                                                                                      not as advertised product arrived labeled as jumbo salted peanuts the peanuts were actually small sized unsalted not sure if this was an error or if the vendor intended to represent the product as jumbo   \n",
       "1                        nice taffy i got a wild hair for taffy and ordered this five pound bag the taffy was all very enjoyable with many flavors watermelon root beer melon peppermint grape etc my only complaint is there was a bit too much red black licorice flavored pieces just not my particular favorites between me my kids and my husband this lasted only two weeks i would recommend this brand of taffy it was a delightful treat   \n",
       "2  my cats are not fans of the new food my cats have been happily eating felidae platinum for more than two years i just got a new bag and the shape of the food is different they tried the new food when i first put it in their bowls and now the bowls sit full and the kitties will not touch the food i ve noticed similar reviews related to formula changes in the past unfortunately i now need to find a new food that my cats will eat   \n",
       "3                                                                                                                                                                                                                                     poor taste i love eating them and they are good for watching tv and looking at movies it is not too sweet i like to transfer them to a zip lock baggie so they stay fresh so i can take my time eating them   \n",
       "4                                                                                                                                                                                                                                                                                                                                                nasty no flavor the candy is just red no flavor just plan and chewy i would never buy them again   \n",
       "\n",
       "                                                                                                                                                                                                                                                       merge_processed  \n",
       "0                                                                                                                                         advertis product arriv label jumbo salt peanut peanut actual small size unsalt sure error vendor intend repres product jumbo  \n",
       "1  nice taffi got wild hair taffi order five pound bag taffi enjoy mani flavor watermelon root beer melon peppermint grape etc complaint bit much red black licoric flavor piec particular favorit kid husband last two week would recommend brand taffi delight treat  \n",
       "2                                 cat fan new food cat happili eat felida platinum two year got new bag shape food differ tri new food first put bowl bowl sit full kitti touch food notic similar review relat formula chang past unfortun need find new food cat eat  \n",
       "3                                                                                                                                                               poor tast love eat good watch tv look movi sweet like transfer zip lock baggi stay fresh take time eat  \n",
       "4                                                                                                                                                                                                             nasti flavor candi red flavor plan chewi would never buy  "
      ]
     },
     "execution_count": 35,
     "metadata": {},
     "output_type": "execute_result"
    }
   ],
   "source": [
    "reviews.head()"
   ]
  },
  {
   "cell_type": "markdown",
   "id": "029f9f46",
   "metadata": {},
   "source": [
    "### Remove reviews that do not contain text"
   ]
  },
  {
   "cell_type": "code",
   "execution_count": 36,
   "id": "f5453c81",
   "metadata": {
    "scrolled": true
   },
   "outputs": [
    {
     "data": {
      "text/html": [
       "<div>\n",
       "<style scoped>\n",
       "    .dataframe tbody tr th:only-of-type {\n",
       "        vertical-align: middle;\n",
       "    }\n",
       "\n",
       "    .dataframe tbody tr th {\n",
       "        vertical-align: top;\n",
       "    }\n",
       "\n",
       "    .dataframe thead th {\n",
       "        text-align: right;\n",
       "    }\n",
       "</style>\n",
       "<table border=\"1\" class=\"dataframe\">\n",
       "  <thead>\n",
       "    <tr style=\"text-align: right;\">\n",
       "      <th></th>\n",
       "      <th>id</th>\n",
       "      <th>product_id</th>\n",
       "      <th>user_id</th>\n",
       "      <th>profile_name</th>\n",
       "      <th>help_num</th>\n",
       "      <th>help_denom</th>\n",
       "      <th>score</th>\n",
       "      <th>date</th>\n",
       "      <th>summary</th>\n",
       "      <th>text</th>\n",
       "      <th>year</th>\n",
       "      <th>merge</th>\n",
       "      <th>help_ratio</th>\n",
       "      <th>label</th>\n",
       "      <th>merge_dl</th>\n",
       "      <th>merge_processed</th>\n",
       "      <th>len_mp</th>\n",
       "    </tr>\n",
       "  </thead>\n",
       "  <tbody>\n",
       "    <tr>\n",
       "      <th>25751</th>\n",
       "      <td>233939</td>\n",
       "      <td>B003E6COMO</td>\n",
       "      <td>A2ZE58VIDDCMR7</td>\n",
       "      <td>inna</td>\n",
       "      <td>1</td>\n",
       "      <td>2</td>\n",
       "      <td>5</td>\n",
       "      <td>2012-10-12</td>\n",
       "      <td>&amp;#1091;&amp;#1076;&amp;#1086;&amp;#1073;&amp;#1085;&amp;#1072;&amp;#1103; &amp;#1091;&amp;#1087;&amp;#1072;&amp;#1082;&amp;#1086;&amp;#1074;&amp;#1082;&amp;#1072;</td>\n",
       "      <td>&amp;#1056;&amp;#1077;&amp;#1096;&amp;#1080;&amp;#1083;&amp;#1072; &amp;#1079;&amp;#1072;&amp;#1082;&amp;#1072;&amp;#1079;&amp;#1072;&amp;#1090;&amp;#1100; &amp;#1101;&amp;#1090;&amp;#1080; &amp;#1078;&amp;#1077;&amp;#1083;&amp;#1072;&amp;#1090;&amp;#1080;&amp;#1085;&amp;#1082;&amp;#1080;, &amp;#1090;.&amp;#1082;. &amp;#1076;&amp;#1086;&amp;#1095;&amp;#1082;&amp;#1072; &amp;#1087;&amp;#1086;&amp;#1096;&amp;#1083;&amp;#1072; &amp;#1074; &amp;#1096;&amp;#1082;&amp;#1086;&amp;#1083;&amp;#1091; &amp;#1080; &amp;#1090;&amp;#1088;&amp;#1077;&amp;#1073;&amp;#1091;&amp;#1077;&amp;#1090; &amp;#1089;&amp;#1083;&amp;#1072;&amp;#1076;&amp;#1086;&amp;#1089;&amp;#1090;&amp;#1080;. &amp;#1054;&amp;#1095;&amp;#1077;&amp;#1085;&amp;#1100; &amp;#1091;&amp;#1076;&amp;#1086;&amp;#1073;&amp;#1085;&amp;#1072;&amp;#1103; &amp;#1091;&amp;#1087;&amp;#1072;&amp;#1082;&amp;#1086;&amp;#1074;&amp;#1082;&amp;#1072;. &amp;#1050;&amp;#1072;&amp;#1082; &amp;#1088;&amp;#1072;&amp;#1079; &amp;#1089;&amp;#1090;&amp;#1086;&amp;#1083;&amp;#1100;&amp;#1082;&amp;#1086; &amp;#1082;&amp;#1086;&amp;#1085;&amp;#1092;&amp;#1077;&amp;#1090;, &amp;#1082;&amp;#1072;&amp;#1082; &amp;#1080; &amp;#1090;&amp;#1088;&amp;#1077;&amp;#1073;&amp;#1091;&amp;#1077;&amp;#1090;&amp;#1089;&amp;#1103;, &amp;#1095;&amp;#1090;&amp;#1086;&amp;#1073;&amp;#1099; &amp;#1089;&amp;#1100;&amp;#1077;&amp;#1089;&amp;#1090;&amp;#1100; &amp;#1080;&amp;#1093; &amp;#1079;&amp;#1072; &amp;#1087;&amp;#1077;&amp;#1088;&amp;#1077;&amp;#1084;&amp;#1077;&amp;#1085;&amp;#1091;.</td>\n",
       "      <td>2012</td>\n",
       "      <td>&amp;#1091;&amp;#1076;&amp;#1086;&amp;#1073;&amp;#1085;&amp;#1072;&amp;#1103; &amp;#1091;&amp;#1087;&amp;#1072;&amp;#1082;&amp;#1086;&amp;#1074;&amp;#1082;&amp;#1072; &amp;#1056;&amp;#1077;&amp;#1096;&amp;#1080;&amp;#1083;&amp;#1072; &amp;#1079;&amp;#1072;&amp;#1082;&amp;#1072;&amp;#1079;&amp;#1072;&amp;#1090;&amp;#1100; &amp;#1101;&amp;#1090;&amp;#1080; &amp;#1078;&amp;#1077;&amp;#1083;&amp;#1072;&amp;#1090;&amp;#1080;&amp;#1085;&amp;#1082;&amp;#1080;, &amp;#1090;.&amp;#1082;. &amp;#1076;&amp;#1086;&amp;#1095;&amp;#1082;&amp;#1072; &amp;#1087;&amp;#1086;&amp;#1096;&amp;#1083;&amp;#1072; &amp;#1074; &amp;#1096;&amp;#1082;&amp;#1086;&amp;#1083;&amp;#1091; &amp;#1080; &amp;#1090;&amp;#1088;&amp;#1077;&amp;#1073;&amp;#1091;&amp;#1077;&amp;#1090; &amp;#1089;&amp;#1083;&amp;#1072;&amp;#1076;&amp;#1086;&amp;#1089;&amp;#1090;&amp;#1080;. &amp;#1054;&amp;#1095;&amp;#1077;&amp;#1085;&amp;#1100; &amp;#1091;&amp;#1076;&amp;#1086;&amp;#1073;&amp;#1085;&amp;#1072;&amp;#1103; &amp;#1091;&amp;#1087;&amp;#1072;&amp;#1082;&amp;#1086;&amp;#1074;&amp;#1082;&amp;#1072;. &amp;#1050;&amp;#1072;&amp;#1082; &amp;#1088;&amp;#1072;&amp;#1079; &amp;#1089;&amp;#1090;&amp;#1086;&amp;#1083;&amp;#1100;&amp;#1082;&amp;#1086; &amp;#1082;&amp;#1086;&amp;#1085;&amp;#1092;&amp;#1077;&amp;#1090;, &amp;#1082;&amp;#1072;&amp;#1082; &amp;#1080; &amp;#1090;&amp;#1088;&amp;#1077;&amp;#1073;&amp;#1091;&amp;#1077;&amp;#1090;&amp;#1089;&amp;#1103;, &amp;#1095;&amp;#1090;&amp;#1086;&amp;#1073;&amp;#1099; &amp;#1089;&amp;#1100;&amp;#1077;&amp;#1089;&amp;#1090;&amp;#1100; &amp;#1080;&amp;#1093; &amp;#1079;&amp;#1072; &amp;#1087;&amp;#1077;&amp;#1088;&amp;#1077;&amp;#1084;&amp;#1077;&amp;#1085;&amp;#1091;.</td>\n",
       "      <td>0.5</td>\n",
       "      <td>0</td>\n",
       "      <td></td>\n",
       "      <td></td>\n",
       "      <td>0</td>\n",
       "    </tr>\n",
       "  </tbody>\n",
       "</table>\n",
       "</div>"
      ],
      "text/plain": [
       "           id  product_id         user_id profile_name  help_num  help_denom  \\\n",
       "25751  233939  B003E6COMO  A2ZE58VIDDCMR7         inna         1           2   \n",
       "\n",
       "       score       date  \\\n",
       "25751      5 2012-10-12   \n",
       "\n",
       "                                                                                                          summary  \\\n",
       "25751  &#1091;&#1076;&#1086;&#1073;&#1085;&#1072;&#1103; &#1091;&#1087;&#1072;&#1082;&#1086;&#1074;&#1082;&#1072;   \n",
       "\n",
       "                                                                                                                                                                                                                                                                                                                                                                                                                                                                                                                                                                                                                                                                                                                                                                                                                                                                                                                                                                                                                      text  \\\n",
       "25751  &#1056;&#1077;&#1096;&#1080;&#1083;&#1072; &#1079;&#1072;&#1082;&#1072;&#1079;&#1072;&#1090;&#1100; &#1101;&#1090;&#1080; &#1078;&#1077;&#1083;&#1072;&#1090;&#1080;&#1085;&#1082;&#1080;, &#1090;.&#1082;. &#1076;&#1086;&#1095;&#1082;&#1072; &#1087;&#1086;&#1096;&#1083;&#1072; &#1074; &#1096;&#1082;&#1086;&#1083;&#1091; &#1080; &#1090;&#1088;&#1077;&#1073;&#1091;&#1077;&#1090; &#1089;&#1083;&#1072;&#1076;&#1086;&#1089;&#1090;&#1080;. &#1054;&#1095;&#1077;&#1085;&#1100; &#1091;&#1076;&#1086;&#1073;&#1085;&#1072;&#1103; &#1091;&#1087;&#1072;&#1082;&#1086;&#1074;&#1082;&#1072;. &#1050;&#1072;&#1082; &#1088;&#1072;&#1079; &#1089;&#1090;&#1086;&#1083;&#1100;&#1082;&#1086; &#1082;&#1086;&#1085;&#1092;&#1077;&#1090;, &#1082;&#1072;&#1082; &#1080; &#1090;&#1088;&#1077;&#1073;&#1091;&#1077;&#1090;&#1089;&#1103;, &#1095;&#1090;&#1086;&#1073;&#1099; &#1089;&#1100;&#1077;&#1089;&#1090;&#1100; &#1080;&#1093; &#1079;&#1072; &#1087;&#1077;&#1088;&#1077;&#1084;&#1077;&#1085;&#1091;.   \n",
       "\n",
       "       year  \\\n",
       "25751  2012   \n",
       "\n",
       "                                                                                                                                                                                                                                                                                                                                                                                                                                                                                                                                                                                                                                                                                                                                                                                                                                                                                                                                                                                                                                                                                                                                merge  \\\n",
       "25751  &#1091;&#1076;&#1086;&#1073;&#1085;&#1072;&#1103; &#1091;&#1087;&#1072;&#1082;&#1086;&#1074;&#1082;&#1072; &#1056;&#1077;&#1096;&#1080;&#1083;&#1072; &#1079;&#1072;&#1082;&#1072;&#1079;&#1072;&#1090;&#1100; &#1101;&#1090;&#1080; &#1078;&#1077;&#1083;&#1072;&#1090;&#1080;&#1085;&#1082;&#1080;, &#1090;.&#1082;. &#1076;&#1086;&#1095;&#1082;&#1072; &#1087;&#1086;&#1096;&#1083;&#1072; &#1074; &#1096;&#1082;&#1086;&#1083;&#1091; &#1080; &#1090;&#1088;&#1077;&#1073;&#1091;&#1077;&#1090; &#1089;&#1083;&#1072;&#1076;&#1086;&#1089;&#1090;&#1080;. &#1054;&#1095;&#1077;&#1085;&#1100; &#1091;&#1076;&#1086;&#1073;&#1085;&#1072;&#1103; &#1091;&#1087;&#1072;&#1082;&#1086;&#1074;&#1082;&#1072;. &#1050;&#1072;&#1082; &#1088;&#1072;&#1079; &#1089;&#1090;&#1086;&#1083;&#1100;&#1082;&#1086; &#1082;&#1086;&#1085;&#1092;&#1077;&#1090;, &#1082;&#1072;&#1082; &#1080; &#1090;&#1088;&#1077;&#1073;&#1091;&#1077;&#1090;&#1089;&#1103;, &#1095;&#1090;&#1086;&#1073;&#1099; &#1089;&#1100;&#1077;&#1089;&#1090;&#1100; &#1080;&#1093; &#1079;&#1072; &#1087;&#1077;&#1088;&#1077;&#1084;&#1077;&#1085;&#1091;.   \n",
       "\n",
       "       help_ratio  label merge_dl merge_processed  len_mp  \n",
       "25751         0.5      0                                0  "
      ]
     },
     "execution_count": 36,
     "metadata": {},
     "output_type": "execute_result"
    }
   ],
   "source": [
    "# count length of words in each review\n",
    "reviews['len_mp'] = reviews['merge_processed'].str.split().apply(len)\n",
    "\n",
    "# review with 0 text\n",
    "reviews[reviews['len_mp']==0]"
   ]
  },
  {
   "cell_type": "code",
   "execution_count": 37,
   "id": "241f235c",
   "metadata": {},
   "outputs": [],
   "source": [
    "reviews.drop([25751], inplace=True)\n",
    "reviews.reset_index(drop=True, inplace=True)"
   ]
  },
  {
   "cell_type": "code",
   "execution_count": 38,
   "id": "79436698",
   "metadata": {
    "scrolled": true
   },
   "outputs": [
    {
     "data": {
      "text/html": [
       "<div>\n",
       "<style scoped>\n",
       "    .dataframe tbody tr th:only-of-type {\n",
       "        vertical-align: middle;\n",
       "    }\n",
       "\n",
       "    .dataframe tbody tr th {\n",
       "        vertical-align: top;\n",
       "    }\n",
       "\n",
       "    .dataframe thead th {\n",
       "        text-align: right;\n",
       "    }\n",
       "</style>\n",
       "<table border=\"1\" class=\"dataframe\">\n",
       "  <thead>\n",
       "    <tr style=\"text-align: right;\">\n",
       "      <th></th>\n",
       "      <th>id</th>\n",
       "      <th>product_id</th>\n",
       "      <th>user_id</th>\n",
       "      <th>profile_name</th>\n",
       "      <th>help_num</th>\n",
       "      <th>help_denom</th>\n",
       "      <th>score</th>\n",
       "      <th>date</th>\n",
       "      <th>summary</th>\n",
       "      <th>text</th>\n",
       "      <th>year</th>\n",
       "      <th>merge</th>\n",
       "      <th>help_ratio</th>\n",
       "      <th>label</th>\n",
       "      <th>merge_dl</th>\n",
       "      <th>merge_processed</th>\n",
       "      <th>len_mp</th>\n",
       "      <th>len_dl</th>\n",
       "    </tr>\n",
       "  </thead>\n",
       "  <tbody>\n",
       "  </tbody>\n",
       "</table>\n",
       "</div>"
      ],
      "text/plain": [
       "Empty DataFrame\n",
       "Columns: [id, product_id, user_id, profile_name, help_num, help_denom, score, date, summary, text, year, merge, help_ratio, label, merge_dl, merge_processed, len_mp, len_dl]\n",
       "Index: []"
      ]
     },
     "execution_count": 38,
     "metadata": {},
     "output_type": "execute_result"
    }
   ],
   "source": [
    "# count length of words in each review\n",
    "reviews['len_dl'] = reviews['merge_dl'].str.split().apply(len)\n",
    "\n",
    "# review with 0 text\n",
    "reviews[reviews['len_dl']==0]"
   ]
  },
  {
   "cell_type": "code",
   "execution_count": 39,
   "id": "1b408725",
   "metadata": {},
   "outputs": [],
   "source": [
    "reviews[['label','merge_dl']].to_csv('../datasets/dl_reviews.csv', index=False)"
   ]
  },
  {
   "cell_type": "markdown",
   "id": "cfd23c81",
   "metadata": {},
   "source": [
    "## Train test split\n",
    "We will split our dataset into train and test set"
   ]
  },
  {
   "cell_type": "code",
   "execution_count": 41,
   "id": "0a3683d4",
   "metadata": {},
   "outputs": [],
   "source": [
    "X = reviews[[col for col in reviews.columns if col != 'label']]\n",
    "y = reviews['label']\n",
    "\n",
    "X_train, X_test, y_train, y_test = train_test_split(X, y, stratify=y, test_size=0.2, random_state=40)\n",
    "\n",
    "train = pd.concat([X_train, y_train], axis = 1)\n",
    "test = pd.concat([X_test, y_test], axis = 1)"
   ]
  },
  {
   "cell_type": "code",
   "execution_count": 42,
   "id": "23a784dd",
   "metadata": {
    "scrolled": true
   },
   "outputs": [
    {
     "data": {
      "text/plain": [
       "(79999, 18)"
      ]
     },
     "execution_count": 42,
     "metadata": {},
     "output_type": "execute_result"
    }
   ],
   "source": [
    "train.shape"
   ]
  },
  {
   "cell_type": "code",
   "execution_count": 43,
   "id": "7321ec93",
   "metadata": {},
   "outputs": [
    {
     "data": {
      "text/plain": [
       "0    0.664858\n",
       "1    0.335142\n",
       "Name: label, dtype: float64"
      ]
     },
     "execution_count": 43,
     "metadata": {},
     "output_type": "execute_result"
    }
   ],
   "source": [
    "train['label'].value_counts(normalize=True)"
   ]
  },
  {
   "cell_type": "code",
   "execution_count": 44,
   "id": "b54f16bd",
   "metadata": {
    "scrolled": true
   },
   "outputs": [
    {
     "data": {
      "text/plain": [
       "0    0.66485\n",
       "1    0.33515\n",
       "Name: label, dtype: float64"
      ]
     },
     "execution_count": 44,
     "metadata": {},
     "output_type": "execute_result"
    }
   ],
   "source": [
    "test['label'].value_counts(normalize=True)"
   ]
  },
  {
   "cell_type": "markdown",
   "id": "47b34b0a",
   "metadata": {},
   "source": [
    "**Distribution of labels are preserved.**"
   ]
  },
  {
   "cell_type": "markdown",
   "id": "54df8046",
   "metadata": {},
   "source": [
    "## Exploratory data analysis\n",
    "We will do exploratory data analysis on train dataset."
   ]
  },
  {
   "cell_type": "markdown",
   "id": "95471aac",
   "metadata": {},
   "source": [
    "### Average number of words in reviews"
   ]
  },
  {
   "cell_type": "markdown",
   "id": "dcebb372",
   "metadata": {},
   "source": [
    "#### Stemmed and no stopwords tokens"
   ]
  },
  {
   "cell_type": "code",
   "execution_count": 45,
   "id": "7e59dd1b",
   "metadata": {
    "scrolled": true
   },
   "outputs": [
    {
     "data": {
      "text/plain": [
       "44.21357766972087"
      ]
     },
     "execution_count": 45,
     "metadata": {},
     "output_type": "execute_result"
    }
   ],
   "source": [
    "# average number of words in each review\n",
    "np.mean(train['len_mp'])"
   ]
  },
  {
   "cell_type": "code",
   "execution_count": 46,
   "id": "b19edd80",
   "metadata": {
    "scrolled": true
   },
   "outputs": [
    {
     "data": {
      "text/html": [
       "<div>\n",
       "<style scoped>\n",
       "    .dataframe tbody tr th:only-of-type {\n",
       "        vertical-align: middle;\n",
       "    }\n",
       "\n",
       "    .dataframe tbody tr th {\n",
       "        vertical-align: top;\n",
       "    }\n",
       "\n",
       "    .dataframe thead th {\n",
       "        text-align: right;\n",
       "    }\n",
       "</style>\n",
       "<table border=\"1\" class=\"dataframe\">\n",
       "  <thead>\n",
       "    <tr style=\"text-align: right;\">\n",
       "      <th></th>\n",
       "      <th>len_mp</th>\n",
       "    </tr>\n",
       "    <tr>\n",
       "      <th>label</th>\n",
       "      <th></th>\n",
       "    </tr>\n",
       "  </thead>\n",
       "  <tbody>\n",
       "    <tr>\n",
       "      <th>0</th>\n",
       "      <td>42.698428</td>\n",
       "    </tr>\n",
       "    <tr>\n",
       "      <th>1</th>\n",
       "      <td>47.219350</td>\n",
       "    </tr>\n",
       "  </tbody>\n",
       "</table>\n",
       "</div>"
      ],
      "text/plain": [
       "          len_mp\n",
       "label           \n",
       "0      42.698428\n",
       "1      47.219350"
      ]
     },
     "execution_count": 46,
     "metadata": {},
     "output_type": "execute_result"
    }
   ],
   "source": [
    "# average number of words in each positive and negative review\n",
    "train.groupby('label')[['len_mp']].mean()"
   ]
  },
  {
   "cell_type": "markdown",
   "id": "e8990e6e",
   "metadata": {},
   "source": [
    "#### Non stemmed and with stopwords tokens"
   ]
  },
  {
   "cell_type": "code",
   "execution_count": 47,
   "id": "52810948",
   "metadata": {
    "scrolled": true
   },
   "outputs": [
    {
     "data": {
      "text/plain": [
       "89.39257392573926"
      ]
     },
     "execution_count": 47,
     "metadata": {},
     "output_type": "execute_result"
    }
   ],
   "source": [
    "# average number of words in each review\n",
    "np.mean(reviews['len_dl'])"
   ]
  },
  {
   "cell_type": "code",
   "execution_count": 48,
   "id": "e613c457",
   "metadata": {
    "scrolled": true
   },
   "outputs": [
    {
     "data": {
      "text/html": [
       "<div>\n",
       "<style scoped>\n",
       "    .dataframe tbody tr th:only-of-type {\n",
       "        vertical-align: middle;\n",
       "    }\n",
       "\n",
       "    .dataframe tbody tr th {\n",
       "        vertical-align: top;\n",
       "    }\n",
       "\n",
       "    .dataframe thead th {\n",
       "        text-align: right;\n",
       "    }\n",
       "</style>\n",
       "<table border=\"1\" class=\"dataframe\">\n",
       "  <thead>\n",
       "    <tr style=\"text-align: right;\">\n",
       "      <th></th>\n",
       "      <th>len_dl</th>\n",
       "    </tr>\n",
       "    <tr>\n",
       "      <th>label</th>\n",
       "      <th></th>\n",
       "    </tr>\n",
       "  </thead>\n",
       "  <tbody>\n",
       "    <tr>\n",
       "      <th>0</th>\n",
       "      <td>85.725968</td>\n",
       "    </tr>\n",
       "    <tr>\n",
       "      <th>1</th>\n",
       "      <td>96.666378</td>\n",
       "    </tr>\n",
       "  </tbody>\n",
       "</table>\n",
       "</div>"
      ],
      "text/plain": [
       "          len_dl\n",
       "label           \n",
       "0      85.725968\n",
       "1      96.666378"
      ]
     },
     "execution_count": 48,
     "metadata": {},
     "output_type": "execute_result"
    }
   ],
   "source": [
    "# average number of words in each positive and negative review\n",
    "reviews.groupby('label')[['len_dl']].mean()"
   ]
  },
  {
   "cell_type": "markdown",
   "id": "26b087be",
   "metadata": {},
   "source": [
    "#### Bar plot of helpfulness ratio for individual ratings"
   ]
  },
  {
   "cell_type": "code",
   "execution_count": 49,
   "id": "4c354dd3",
   "metadata": {
    "scrolled": true
   },
   "outputs": [
    {
     "data": {
      "image/png": "[encoded data removed]",
      "text/plain": [
       "<Figure size 1080x360 with 1 Axes>"
      ]
     },
     "metadata": {
      "needs_background": "light"
     },
     "output_type": "display_data"
    }
   ],
   "source": [
    "train.groupby('score')[['help_ratio']].mean().plot.barh(figsize=(15,5), title='Helpfulness ratio of individual ratings');"
   ]
  },
  {
   "cell_type": "markdown",
   "id": "d3c78202",
   "metadata": {},
   "source": [
    "Helpfulness ratio for lowest rating is the highest, followed by the highest rating. This shows that people could relate more towards the extreme ends of the ratings. This might be because reviewers tend to write more expressive reviews when it is on the extreme ends as they have to justify why they give a really bad or really good review."
   ]
  },
  {
   "cell_type": "markdown",
   "id": "ab6e5501",
   "metadata": {},
   "source": [
    "### Most frequent words"
   ]
  },
  {
   "cell_type": "markdown",
   "id": "c547c8ad",
   "metadata": {},
   "source": [
    "#### Uni-gram"
   ]
  },
  {
   "cell_type": "markdown",
   "id": "d9f54fd0",
   "metadata": {},
   "source": [
    "##### Negative sentiment"
   ]
  },
  {
   "cell_type": "code",
   "execution_count": 48,
   "id": "3471fe61",
   "metadata": {},
   "outputs": [],
   "source": [
    "A = train[train['label']==1]['merge_processed']"
   ]
  },
  {
   "cell_type": "code",
   "execution_count": 49,
   "id": "ca649436",
   "metadata": {
    "scrolled": false
   },
   "outputs": [
    {
     "data": {
      "image/png": "[encoded data removed]",
      "text/plain": [
       "<Figure size 1080x576 with 1 Axes>"
      ]
     },
     "metadata": {
      "needs_background": "light"
     },
     "output_type": "display_data"
    }
   ],
   "source": [
    "cvec = CountVectorizer(stop_words='english', ngram_range=(1,1))\n",
    "df = pd.DataFrame(cvec.fit_transform(A).toarray(), columns=cvec.get_feature_names())\n",
    "df.sum(axis=0).sort_values(ascending=False).head(20).plot.barh(figsize=(15,8))\n",
    "plt.title('Top 20 uni-gram words in negative reviews', fontsize=15);"
   ]
  },
  {
   "cell_type": "markdown",
   "id": "4c04a78f",
   "metadata": {},
   "source": [
    "Top words in negative reviews are 'tast', 'like', 'product'. They revolve around talking about the taste of products. Like may occur because 'not', 'no', 'didn't', 'doesn't' were removed as stopwords. Hence, the meaning of the sentence might change."
   ]
  },
  {
   "cell_type": "code",
   "execution_count": 50,
   "id": "e493e679",
   "metadata": {
    "scrolled": false
   },
   "outputs": [
    {
     "data": {
      "text/html": [
       "<div>\n",
       "<style scoped>\n",
       "    .dataframe tbody tr th:only-of-type {\n",
       "        vertical-align: middle;\n",
       "    }\n",
       "\n",
       "    .dataframe tbody tr th {\n",
       "        vertical-align: top;\n",
       "    }\n",
       "\n",
       "    .dataframe thead th {\n",
       "        text-align: right;\n",
       "    }\n",
       "</style>\n",
       "<table border=\"1\" class=\"dataframe\">\n",
       "  <thead>\n",
       "    <tr style=\"text-align: right;\">\n",
       "      <th></th>\n",
       "      <th>merge_processed</th>\n",
       "      <th>label</th>\n",
       "    </tr>\n",
       "  </thead>\n",
       "  <tbody>\n",
       "    <tr>\n",
       "      <th>4417</th>\n",
       "      <td>bland tast bought tri lower fat altern peanut found tast bland chalki go organ product pre portion one ounc bag conveni carri purs bag high protein low fat realli tast sea salt flavor though</td>\n",
       "      <td>1</td>\n",
       "    </tr>\n",
       "    <tr>\n",
       "      <th>15646</th>\n",
       "      <td>tast like salti tofu basic vienna sausag sinc childhood even occasion peopl hous much less flavor much saltier rememb bad basic tasteless much like tofu would suggest anyon think buy see compani market low sodium version pink slime scare bit exagger detail still unnerv howev heard mani time famili friend associ nativ american chines doctor etc health consum muscl tissu anim gave thought pink slime contain everi type anim part notabl contain highli benefici part normal eat u tendon ligament actual healthi item featur cuisin number cultur unlik sit nice bowl chines beef tendon think could even chew price product ethnic market expens case cheapo littl hotdog offer thing mayb warrant reconsider line thought anyway someth consid suffer ailment arthriti bone joint issu though serious look low salt one want tri salti sinc got lot order abl use rather like salti condiment ad dish bean</td>\n",
       "      <td>1</td>\n",
       "    </tr>\n",
       "    <tr>\n",
       "      <th>16641</th>\n",
       "      <td>bewar plastic jar purchas item local health food store glass jar fell love flavor place amazon order bother looka whether glass jar fault order came today andyou guess manna plastic jar product opinion tast asgood coconut manna glass jar will go back health foodstor pay littl bit plastic interf solov product</td>\n",
       "      <td>1</td>\n",
       "    </tr>\n",
       "    <tr>\n",
       "      <th>2080</th>\n",
       "      <td>tast like chemic shih tzu pekinges would eat ye tast tast like chemic guess expect joint supplement shih tzu pekinges would eat</td>\n",
       "      <td>1</td>\n",
       "    </tr>\n",
       "    <tr>\n",
       "      <th>19228</th>\n",
       "      <td>sour expect candi initi weird chemic tast thought would realli sour right bat took minut get sour core bad expect packag consist small box box contain dozen lemonhead make conveni carri around</td>\n",
       "      <td>1</td>\n",
       "    </tr>\n",
       "  </tbody>\n",
       "</table>\n",
       "</div>"
      ],
      "text/plain": [
       "                                                                                                                                                                                                                                                                                                                                                                                                                                                                                                                                                                                                                                                                                                                                                                                                                                                                                                                 merge_processed  \\\n",
       "4417                                                                                                                                                                                                                                                                                                                                                                                                                                                                                                                                                                                                                                                                                                                              bland tast bought tri lower fat altern peanut found tast bland chalki go organ product pre portion one ounc bag conveni carri purs bag high protein low fat realli tast sea salt flavor though   \n",
       "15646  tast like salti tofu basic vienna sausag sinc childhood even occasion peopl hous much less flavor much saltier rememb bad basic tasteless much like tofu would suggest anyon think buy see compani market low sodium version pink slime scare bit exagger detail still unnerv howev heard mani time famili friend associ nativ american chines doctor etc health consum muscl tissu anim gave thought pink slime contain everi type anim part notabl contain highli benefici part normal eat u tendon ligament actual healthi item featur cuisin number cultur unlik sit nice bowl chines beef tendon think could even chew price product ethnic market expens case cheapo littl hotdog offer thing mayb warrant reconsider line thought anyway someth consid suffer ailment arthriti bone joint issu though serious look low salt one want tri salti sinc got lot order abl use rather like salti condiment ad dish bean   \n",
       "16641                                                                                                                                                                                                                                                                                                                                                                                                                                                                                                                                                                                                      bewar plastic jar purchas item local health food store glass jar fell love flavor place amazon order bother looka whether glass jar fault order came today andyou guess manna plastic jar product opinion tast asgood coconut manna glass jar will go back health foodstor pay littl bit plastic interf solov product   \n",
       "2080                                                                                                                                                                                                                                                                                                                                                                                                                                                                                                                                                                                                                                                                                                                                                                                             tast like chemic shih tzu pekinges would eat ye tast tast like chemic guess expect joint supplement shih tzu pekinges would eat   \n",
       "19228                                                                                                                                                                                                                                                                                                                                                                                                                                                                                                                                                                                                                                                                                                                           sour expect candi initi weird chemic tast thought would realli sour right bat took minut get sour core bad expect packag consist small box box contain dozen lemonhead make conveni carri around   \n",
       "\n",
       "       label  \n",
       "4417       1  \n",
       "15646      1  \n",
       "16641      1  \n",
       "2080       1  \n",
       "19228      1  "
      ]
     },
     "execution_count": 50,
     "metadata": {},
     "output_type": "execute_result"
    }
   ],
   "source": [
    "train[(train['label']==1) & (train['merge_processed'].str.contains(\"tast\"))][['merge_processed', 'label']].head()"
   ]
  },
  {
   "cell_type": "code",
   "execution_count": 83,
   "id": "2d7ee3b5",
   "metadata": {},
   "outputs": [
    {
     "data": {
      "text/plain": [
       "'Not as sour as I expected These candies have an initial weird chemical taste. I thought they would be really sour right off the bat, but it took a few minutes to get to the sour core. Not bad, just not what I was expecting. The packaging consists of 24 small boxes, each box containing about a dozen lemonheads. This makes it convenient to carry around'"
      ]
     },
     "execution_count": 83,
     "metadata": {},
     "output_type": "execute_result"
    }
   ],
   "source": [
    "# an example\n",
    "train.loc[19228]['merge']"
   ]
  },
  {
   "cell_type": "markdown",
   "id": "072b7b9f",
   "metadata": {},
   "source": [
    "Customers used 'tast' to describe how the product taste like."
   ]
  },
  {
   "cell_type": "code",
   "execution_count": 51,
   "id": "bc339dfe",
   "metadata": {
    "scrolled": false
   },
   "outputs": [
    {
     "data": {
      "text/html": [
       "<div>\n",
       "<style scoped>\n",
       "    .dataframe tbody tr th:only-of-type {\n",
       "        vertical-align: middle;\n",
       "    }\n",
       "\n",
       "    .dataframe tbody tr th {\n",
       "        vertical-align: top;\n",
       "    }\n",
       "\n",
       "    .dataframe thead th {\n",
       "        text-align: right;\n",
       "    }\n",
       "</style>\n",
       "<table border=\"1\" class=\"dataframe\">\n",
       "  <thead>\n",
       "    <tr style=\"text-align: right;\">\n",
       "      <th></th>\n",
       "      <th>merge_processed</th>\n",
       "      <th>label</th>\n",
       "    </tr>\n",
       "  </thead>\n",
       "  <tbody>\n",
       "    <tr>\n",
       "      <th>15646</th>\n",
       "      <td>tast like salti tofu basic vienna sausag sinc childhood even occasion peopl hous much less flavor much saltier rememb bad basic tasteless much like tofu would suggest anyon think buy see compani market low sodium version pink slime scare bit exagger detail still unnerv howev heard mani time famili friend associ nativ american chines doctor etc health consum muscl tissu anim gave thought pink slime contain everi type anim part notabl contain highli benefici part normal eat u tendon ligament actual healthi item featur cuisin number cultur unlik sit nice bowl chines beef tendon think could even chew price product ethnic market expens case cheapo littl hotdog offer thing mayb warrant reconsider line thought anyway someth consid suffer ailment arthriti bone joint issu though serious look low salt one want tri salti sinc got lot order abl use rather like salti condiment ad dish bean</td>\n",
       "      <td>1</td>\n",
       "    </tr>\n",
       "    <tr>\n",
       "      <th>86663</th>\n",
       "      <td>like side dish add chees make great dip someon need substanc food consid entre like side dish flavor okay fan store bought microwav indian dish ad slice kraft american chees turn dip tostito scoop bad</td>\n",
       "      <td>1</td>\n",
       "    </tr>\n",
       "    <tr>\n",
       "      <th>20906</th>\n",
       "      <td>better option honest want like formula ga spit issu enfamil newborn pediatrician recommend week old son read ingredi saw first one corn syrup balk purchas three pack babi organ amazon hope would work us made babi terribl constip bought target brand gentl formula suppos compar still get spit up switch mix enfamil newborn enfamil ar back horribl scream ga issu final reluctantli admit four thing tri best us bought brand name target brand smell like malt mix mix well realli differ enfamil target smell color enfamil mix well either give son horribl green swamp poop runni explos appar normal gentl formula yuk son better suspect lactos sensit realli cut ga help pass scream pain day sleep well eat without pain would like eat someth make diaper nasti worth plu use cloth diaper poop explod diaper onto cloth make interest diaper chang still complet settl two month suppli wish could find someth would agre without gross diaper less ideal ingredi updat switch babi lactorelief saw huge improv reflux symptom feed stool improv drastic new babi come believ reflux</td>\n",
       "      <td>1</td>\n",
       "    </tr>\n",
       "    <tr>\n",
       "      <th>2080</th>\n",
       "      <td>tast like chemic shih tzu pekinges would eat ye tast tast like chemic guess expect joint supplement shih tzu pekinges would eat</td>\n",
       "      <td>1</td>\n",
       "    </tr>\n",
       "    <tr>\n",
       "      <th>13747</th>\n",
       "      <td>salti product salti tast strongli recommend like light flavor buy product</td>\n",
       "      <td>1</td>\n",
       "    </tr>\n",
       "  </tbody>\n",
       "</table>\n",
       "</div>"
      ],
      "text/plain": [
       "                                                                                                                                                                                                                                                                                                                                                                                                                                                                                                                                                                                                                                                                                                                                                                                                                                                                                                                                                                                                                                                                                             merge_processed  \\\n",
       "15646                                                                                                                                                                              tast like salti tofu basic vienna sausag sinc childhood even occasion peopl hous much less flavor much saltier rememb bad basic tasteless much like tofu would suggest anyon think buy see compani market low sodium version pink slime scare bit exagger detail still unnerv howev heard mani time famili friend associ nativ american chines doctor etc health consum muscl tissu anim gave thought pink slime contain everi type anim part notabl contain highli benefici part normal eat u tendon ligament actual healthi item featur cuisin number cultur unlik sit nice bowl chines beef tendon think could even chew price product ethnic market expens case cheapo littl hotdog offer thing mayb warrant reconsider line thought anyway someth consid suffer ailment arthriti bone joint issu though serious look low salt one want tri salti sinc got lot order abl use rather like salti condiment ad dish bean   \n",
       "86663                                                                                                                                                                                                                                                                                                                                                                                                                                                                                                                                                                                                                                                                                                                                                                                                                                                                                               like side dish add chees make great dip someon need substanc food consid entre like side dish flavor okay fan store bought microwav indian dish ad slice kraft american chees turn dip tostito scoop bad   \n",
       "20906  better option honest want like formula ga spit issu enfamil newborn pediatrician recommend week old son read ingredi saw first one corn syrup balk purchas three pack babi organ amazon hope would work us made babi terribl constip bought target brand gentl formula suppos compar still get spit up switch mix enfamil newborn enfamil ar back horribl scream ga issu final reluctantli admit four thing tri best us bought brand name target brand smell like malt mix mix well realli differ enfamil target smell color enfamil mix well either give son horribl green swamp poop runni explos appar normal gentl formula yuk son better suspect lactos sensit realli cut ga help pass scream pain day sleep well eat without pain would like eat someth make diaper nasti worth plu use cloth diaper poop explod diaper onto cloth make interest diaper chang still complet settl two month suppli wish could find someth would agre without gross diaper less ideal ingredi updat switch babi lactorelief saw huge improv reflux symptom feed stool improv drastic new babi come believ reflux   \n",
       "2080                                                                                                                                                                                                                                                                                                                                                                                                                                                                                                                                                                                                                                                                                                                                                                                                                                                                                                                                                                         tast like chemic shih tzu pekinges would eat ye tast tast like chemic guess expect joint supplement shih tzu pekinges would eat   \n",
       "13747                                                                                                                                                                                                                                                                                                                                                                                                                                                                                                                                                                                                                                                                                                                                                                                                                                                                                                                                                                                                                              salti product salti tast strongli recommend like light flavor buy product   \n",
       "\n",
       "       label  \n",
       "15646      1  \n",
       "86663      1  \n",
       "20906      1  \n",
       "2080       1  \n",
       "13747      1  "
      ]
     },
     "execution_count": 51,
     "metadata": {},
     "output_type": "execute_result"
    }
   ],
   "source": [
    "train[(train['label']==1) & (train['merge_processed'].str.contains(\"like\"))][['merge_processed', 'label']].head()"
   ]
  },
  {
   "cell_type": "code",
   "execution_count": 81,
   "id": "c163148e",
   "metadata": {},
   "outputs": [
    {
     "data": {
      "text/plain": [
       "'Too salty! This product is too salty for my taste.<br />I strongly do not recommend it to those who like light flavor.<br />I will not buy this product again...'"
      ]
     },
     "execution_count": 81,
     "metadata": {},
     "output_type": "execute_result"
    }
   ],
   "source": [
    "# an example\n",
    "train.loc[13747]['merge']"
   ]
  },
  {
   "cell_type": "markdown",
   "id": "bc3ad276",
   "metadata": {},
   "source": [
    "'Like' was used to describe whether or not one would like the item."
   ]
  },
  {
   "cell_type": "code",
   "execution_count": 52,
   "id": "39c6d440",
   "metadata": {
    "scrolled": false
   },
   "outputs": [
    {
     "data": {
      "text/html": [
       "<div>\n",
       "<style scoped>\n",
       "    .dataframe tbody tr th:only-of-type {\n",
       "        vertical-align: middle;\n",
       "    }\n",
       "\n",
       "    .dataframe tbody tr th {\n",
       "        vertical-align: top;\n",
       "    }\n",
       "\n",
       "    .dataframe thead th {\n",
       "        text-align: right;\n",
       "    }\n",
       "</style>\n",
       "<table border=\"1\" class=\"dataframe\">\n",
       "  <thead>\n",
       "    <tr style=\"text-align: right;\">\n",
       "      <th></th>\n",
       "      <th>merge_processed</th>\n",
       "      <th>label</th>\n",
       "    </tr>\n",
       "  </thead>\n",
       "  <tbody>\n",
       "    <tr>\n",
       "      <th>4417</th>\n",
       "      <td>bland tast bought tri lower fat altern peanut found tast bland chalki go organ product pre portion one ounc bag conveni carri purs bag high protein low fat realli tast sea salt flavor though</td>\n",
       "      <td>1</td>\n",
       "    </tr>\n",
       "    <tr>\n",
       "      <th>13557</th>\n",
       "      <td>contain palm fruit oil pleas buy product pure back natur good good environ product contain palm fruit oil cut forest could spell complet demis orangutan habitat palm fruit oil use soap cosmet lot thing thought high end peanut butter amazon need put inform product list least peopl know get</td>\n",
       "      <td>1</td>\n",
       "    </tr>\n",
       "    <tr>\n",
       "      <th>15646</th>\n",
       "      <td>tast like salti tofu basic vienna sausag sinc childhood even occasion peopl hous much less flavor much saltier rememb bad basic tasteless much like tofu would suggest anyon think buy see compani market low sodium version pink slime scare bit exagger detail still unnerv howev heard mani time famili friend associ nativ american chines doctor etc health consum muscl tissu anim gave thought pink slime contain everi type anim part notabl contain highli benefici part normal eat u tendon ligament actual healthi item featur cuisin number cultur unlik sit nice bowl chines beef tendon think could even chew price product ethnic market expens case cheapo littl hotdog offer thing mayb warrant reconsider line thought anyway someth consid suffer ailment arthriti bone joint issu though serious look low salt one want tri salti sinc got lot order abl use rather like salti condiment ad dish bean</td>\n",
       "      <td>1</td>\n",
       "    </tr>\n",
       "    <tr>\n",
       "      <th>16641</th>\n",
       "      <td>bewar plastic jar purchas item local health food store glass jar fell love flavor place amazon order bother looka whether glass jar fault order came today andyou guess manna plastic jar product opinion tast asgood coconut manna glass jar will go back health foodstor pay littl bit plastic interf solov product</td>\n",
       "      <td>1</td>\n",
       "    </tr>\n",
       "    <tr>\n",
       "      <th>69853</th>\n",
       "      <td>unit price list incorrect review product per se warn list say come cent ounc regular price cent ounc subscrib save realli ounc box ounc number complet wrong low subscrib save come cent ounc</td>\n",
       "      <td>1</td>\n",
       "    </tr>\n",
       "  </tbody>\n",
       "</table>\n",
       "</div>"
      ],
      "text/plain": [
       "                                                                                                                                                                                                                                                                                                                                                                                                                                                                                                                                                                                                                                                                                                                                                                                                                                                                                                                 merge_processed  \\\n",
       "4417                                                                                                                                                                                                                                                                                                                                                                                                                                                                                                                                                                                                                                                                                                                              bland tast bought tri lower fat altern peanut found tast bland chalki go organ product pre portion one ounc bag conveni carri purs bag high protein low fat realli tast sea salt flavor though   \n",
       "13557                                                                                                                                                                                                                                                                                                                                                                                                                                                                                                                                                                                                                          contain palm fruit oil pleas buy product pure back natur good good environ product contain palm fruit oil cut forest could spell complet demis orangutan habitat palm fruit oil use soap cosmet lot thing thought high end peanut butter amazon need put inform product list least peopl know get   \n",
       "15646  tast like salti tofu basic vienna sausag sinc childhood even occasion peopl hous much less flavor much saltier rememb bad basic tasteless much like tofu would suggest anyon think buy see compani market low sodium version pink slime scare bit exagger detail still unnerv howev heard mani time famili friend associ nativ american chines doctor etc health consum muscl tissu anim gave thought pink slime contain everi type anim part notabl contain highli benefici part normal eat u tendon ligament actual healthi item featur cuisin number cultur unlik sit nice bowl chines beef tendon think could even chew price product ethnic market expens case cheapo littl hotdog offer thing mayb warrant reconsider line thought anyway someth consid suffer ailment arthriti bone joint issu though serious look low salt one want tri salti sinc got lot order abl use rather like salti condiment ad dish bean   \n",
       "16641                                                                                                                                                                                                                                                                                                                                                                                                                                                                                                                                                                                                      bewar plastic jar purchas item local health food store glass jar fell love flavor place amazon order bother looka whether glass jar fault order came today andyou guess manna plastic jar product opinion tast asgood coconut manna glass jar will go back health foodstor pay littl bit plastic interf solov product   \n",
       "69853                                                                                                                                                                                                                                                                                                                                                                                                                                                                                                                                                                                                                                                                                                                              unit price list incorrect review product per se warn list say come cent ounc regular price cent ounc subscrib save realli ounc box ounc number complet wrong low subscrib save come cent ounc   \n",
       "\n",
       "       label  \n",
       "4417       1  \n",
       "13557      1  \n",
       "15646      1  \n",
       "16641      1  \n",
       "69853      1  "
      ]
     },
     "execution_count": 52,
     "metadata": {},
     "output_type": "execute_result"
    }
   ],
   "source": [
    "train[(train['label']==1) & (train['merge_processed'].str.contains(\"product\"))][['merge_processed', 'label']].head()"
   ]
  },
  {
   "cell_type": "code",
   "execution_count": 78,
   "id": "6ac6e651",
   "metadata": {},
   "outputs": [
    {
     "data": {
      "text/plain": [
       "\"Bland tasting I bought these to try as a lower fat alternative to peanuts. I found the taste to be bland and chalky. What it does have going for it: it's an organic product, and the pre-portioned one ounce bags are convenient to carry in a purse or bag. It's high in protein and low in fat. I couldn't really taste the sea salt flavor though.\""
      ]
     },
     "execution_count": 78,
     "metadata": {},
     "output_type": "execute_result"
    }
   ],
   "source": [
    "# an example\n",
    "train.loc[4417]['merge']"
   ]
  },
  {
   "cell_type": "markdown",
   "id": "74bb4eb9",
   "metadata": {},
   "source": [
    "'Product' is referring to food items that they bought."
   ]
  },
  {
   "cell_type": "markdown",
   "id": "eb96ea61",
   "metadata": {},
   "source": [
    "##### Positive sentiment"
   ]
  },
  {
   "cell_type": "code",
   "execution_count": 53,
   "id": "cff628c6",
   "metadata": {},
   "outputs": [],
   "source": [
    "B = train[train['label']==0]['merge_processed']"
   ]
  },
  {
   "cell_type": "code",
   "execution_count": 54,
   "id": "a8e8b0a2",
   "metadata": {
    "scrolled": false
   },
   "outputs": [
    {
     "data": {
      "image/png": "[encoded data removed]",
      "text/plain": [
       "<Figure size 1080x576 with 1 Axes>"
      ]
     },
     "metadata": {
      "needs_background": "light"
     },
     "output_type": "display_data"
    }
   ],
   "source": [
    "cvec = CountVectorizer(stop_words='english', ngram_range=(1,1))\n",
    "df = pd.DataFrame(cvec.fit_transform(B).toarray(), columns=cvec.get_feature_names())\n",
    "df.sum(axis=0).sort_values(ascending=False).head(20).plot.barh(figsize=(15,8))\n",
    "plt.title('Top 20 uni-gram words in positive reviews', fontsize=15);"
   ]
  },
  {
   "cell_type": "markdown",
   "id": "ff4fe1b3",
   "metadata": {},
   "source": [
    "Top positive sentiment words are 'like', 'good', tast'.\n",
    "\n",
    "'like' and 'tast' appeared in the top frequently occuring words for negative sentiment as well, because reviews are about food."
   ]
  },
  {
   "cell_type": "code",
   "execution_count": 55,
   "id": "aaf2080b",
   "metadata": {
    "scrolled": false
   },
   "outputs": [
    {
     "data": {
      "text/html": [
       "<div>\n",
       "<style scoped>\n",
       "    .dataframe tbody tr th:only-of-type {\n",
       "        vertical-align: middle;\n",
       "    }\n",
       "\n",
       "    .dataframe tbody tr th {\n",
       "        vertical-align: top;\n",
       "    }\n",
       "\n",
       "    .dataframe thead th {\n",
       "        text-align: right;\n",
       "    }\n",
       "</style>\n",
       "<table border=\"1\" class=\"dataframe\">\n",
       "  <thead>\n",
       "    <tr style=\"text-align: right;\">\n",
       "      <th></th>\n",
       "      <th>merge_processed</th>\n",
       "      <th>label</th>\n",
       "    </tr>\n",
       "  </thead>\n",
       "  <tbody>\n",
       "    <tr>\n",
       "      <th>81364</th>\n",
       "      <td>best cat food avail ton research cat food would best option cat lose cat liver kidney failur think happen due taint pet food want better surviv cat main problem good brand can plant poor qualiti product merrick facil use human grade food ingredi highli recommend varieti pack start cat food patient switch cat similar take child eaten noth fast food transit healthi meal sure break solid food thoroughli mix well broth still uninterest tri mix small amount regular food took day realli got tast want eat old food still taper gradual go favorit flavor old food popular flavor merrick cowboy cuisin new england boil recommend start flavor awar may see cook blood vessel one beef look almost like pasta good thing show food made whole cut beef meat sludg</td>\n",
       "      <td>0</td>\n",
       "    </tr>\n",
       "    <tr>\n",
       "      <th>35639</th>\n",
       "      <td>happi custom spaghetti gf favorit reason price boot throw back white pasta grew gave four star b c love like book thu far substitut textur flavor whole wheat pasta</td>\n",
       "      <td>0</td>\n",
       "    </tr>\n",
       "    <tr>\n",
       "      <th>45303</th>\n",
       "      <td>expect gaham cracker love graham cracker love crisp way crumbl mouth love subtl sweet hint spice graham cracker deliv thing exactli expect graham cracker noth noth less smaller size stack much conveni snack use someth like more take lot effort break tradit graham cracker half avoid annoy problem break evenli crumbl process would happi order</td>\n",
       "      <td>0</td>\n",
       "    </tr>\n",
       "    <tr>\n",
       "      <th>79863</th>\n",
       "      <td>great tast low fat peanut butter pb stapl kitchen also keep contain work make quick easi snack powder peanut butter peanut fat remov plu small amount sugar salt flavor amount sugar per tablespoon serv gram equival teaspoon dietitian recommend patient need follow low fat diet want give peanut butter favorit way eat appl slice although patient tell like dip fresh fruit directli powder amazon seem best price item</td>\n",
       "      <td>0</td>\n",
       "    </tr>\n",
       "    <tr>\n",
       "      <th>69338</th>\n",
       "      <td>love vinegar wish came bigger bottl use vinegar salad soup sandwhich fish replac splash wine saute veget perfect complement like regular vinegar tart sour mild pleasant flavor sour sweet either also make great condiment slice strawberri coupl tablespoon bowl slice strawberri let sit min serv delici</td>\n",
       "      <td>0</td>\n",
       "    </tr>\n",
       "  </tbody>\n",
       "</table>\n",
       "</div>"
      ],
      "text/plain": [
       "                                                                                                                                                                                                                                                                                                                                                                                                                                                                                                                                                                                                                                                                                                                                                                       merge_processed  \\\n",
       "81364  best cat food avail ton research cat food would best option cat lose cat liver kidney failur think happen due taint pet food want better surviv cat main problem good brand can plant poor qualiti product merrick facil use human grade food ingredi highli recommend varieti pack start cat food patient switch cat similar take child eaten noth fast food transit healthi meal sure break solid food thoroughli mix well broth still uninterest tri mix small amount regular food took day realli got tast want eat old food still taper gradual go favorit flavor old food popular flavor merrick cowboy cuisin new england boil recommend start flavor awar may see cook blood vessel one beef look almost like pasta good thing show food made whole cut beef meat sludg   \n",
       "35639                                                                                                                                                                                                                                                                                                                                                                                                                                                                                                                                                                                                              happi custom spaghetti gf favorit reason price boot throw back white pasta grew gave four star b c love like book thu far substitut textur flavor whole wheat pasta   \n",
       "45303                                                                                                                                                                                                                                                                                                                                                                                                                           expect gaham cracker love graham cracker love crisp way crumbl mouth love subtl sweet hint spice graham cracker deliv thing exactli expect graham cracker noth noth less smaller size stack much conveni snack use someth like more take lot effort break tradit graham cracker half avoid annoy problem break evenli crumbl process would happi order   \n",
       "79863                                                                                                                                                                                                                                                                                                                                                    great tast low fat peanut butter pb stapl kitchen also keep contain work make quick easi snack powder peanut butter peanut fat remov plu small amount sugar salt flavor amount sugar per tablespoon serv gram equival teaspoon dietitian recommend patient need follow low fat diet want give peanut butter favorit way eat appl slice although patient tell like dip fresh fruit directli powder amazon seem best price item   \n",
       "69338                                                                                                                                                                                                                                                                                                                                                                                                                                                                      love vinegar wish came bigger bottl use vinegar salad soup sandwhich fish replac splash wine saute veget perfect complement like regular vinegar tart sour mild pleasant flavor sour sweet either also make great condiment slice strawberri coupl tablespoon bowl slice strawberri let sit min serv delici   \n",
       "\n",
       "       label  \n",
       "81364      0  \n",
       "35639      0  \n",
       "45303      0  \n",
       "79863      0  \n",
       "69338      0  "
      ]
     },
     "execution_count": 55,
     "metadata": {},
     "output_type": "execute_result"
    }
   ],
   "source": [
    "train[(train['label']==0) & (train['merge_processed'].str.contains(\"like\"))][['merge_processed', 'label']].head()"
   ]
  },
  {
   "cell_type": "code",
   "execution_count": 77,
   "id": "7dbcfd7f",
   "metadata": {},
   "outputs": [
    {
     "data": {
      "text/plain": [
       "\"happy customer this spaghetti is our GF favorite, at a reasonable price to boot.  It is a throw back to the white pasta i grew up on.<br /><br />i only gave it four stars, b/c we don't love it, but we do like it.  in our book, thus far, there is no substitute for the texture and flavor of whole wheat pasta.\""
      ]
     },
     "execution_count": 77,
     "metadata": {},
     "output_type": "execute_result"
    }
   ],
   "source": [
    "# an example\n",
    "train.loc[35639]['merge']"
   ]
  },
  {
   "cell_type": "markdown",
   "id": "926d6a1d",
   "metadata": {},
   "source": [
    "'Like' was used to show that customer like the product"
   ]
  },
  {
   "cell_type": "code",
   "execution_count": 56,
   "id": "de2a880f",
   "metadata": {
    "scrolled": false
   },
   "outputs": [
    {
     "data": {
      "text/html": [
       "<div>\n",
       "<style scoped>\n",
       "    .dataframe tbody tr th:only-of-type {\n",
       "        vertical-align: middle;\n",
       "    }\n",
       "\n",
       "    .dataframe tbody tr th {\n",
       "        vertical-align: top;\n",
       "    }\n",
       "\n",
       "    .dataframe thead th {\n",
       "        text-align: right;\n",
       "    }\n",
       "</style>\n",
       "<table border=\"1\" class=\"dataframe\">\n",
       "  <thead>\n",
       "    <tr style=\"text-align: right;\">\n",
       "      <th></th>\n",
       "      <th>merge_processed</th>\n",
       "      <th>label</th>\n",
       "    </tr>\n",
       "  </thead>\n",
       "  <tbody>\n",
       "    <tr>\n",
       "      <th>5920</th>\n",
       "      <td>pretti good thumb banana nut bread good love banana bread soft bake bar alli</td>\n",
       "      <td>0</td>\n",
       "    </tr>\n",
       "    <tr>\n",
       "      <th>15683</th>\n",
       "      <td>tasti tasti flavor one could drink everyday honey flavor make littl sweet palett dessert coffe work wonder everyday repeat use good special treat flavor</td>\n",
       "      <td>0</td>\n",
       "    </tr>\n",
       "    <tr>\n",
       "      <th>43732</th>\n",
       "      <td>good cat ib order cat ib seem help put small amount pumpkin pure</td>\n",
       "      <td>0</td>\n",
       "    </tr>\n",
       "    <tr>\n",
       "      <th>81364</th>\n",
       "      <td>best cat food avail ton research cat food would best option cat lose cat liver kidney failur think happen due taint pet food want better surviv cat main problem good brand can plant poor qualiti product merrick facil use human grade food ingredi highli recommend varieti pack start cat food patient switch cat similar take child eaten noth fast food transit healthi meal sure break solid food thoroughli mix well broth still uninterest tri mix small amount regular food took day realli got tast want eat old food still taper gradual go favorit flavor old food popular flavor merrick cowboy cuisin new england boil recommend start flavor awar may see cook blood vessel one beef look almost like pasta good thing show food made whole cut beef meat sludg</td>\n",
       "      <td>0</td>\n",
       "    </tr>\n",
       "    <tr>\n",
       "      <th>36532</th>\n",
       "      <td>happi custom love em set discount price subscript three cheer good sens organ raw almond edit went order extra bunch almond subscript rate stock second time sever month</td>\n",
       "      <td>0</td>\n",
       "    </tr>\n",
       "  </tbody>\n",
       "</table>\n",
       "</div>"
      ],
      "text/plain": [
       "                                                                                                                                                                                                                                                                                                                                                                                                                                                                                                                                                                                                                                                                                                                                                                       merge_processed  \\\n",
       "5920                                                                                                                                                                                                                                                                                                                                                                                                                                                                                                                                                                                                                                                                                                      pretti good thumb banana nut bread good love banana bread soft bake bar alli   \n",
       "15683                                                                                                                                                                                                                                                                                                                                                                                                                                                                                                                                                                                                                         tasti tasti flavor one could drink everyday honey flavor make littl sweet palett dessert coffe work wonder everyday repeat use good special treat flavor   \n",
       "43732                                                                                                                                                                                                                                                                                                                                                                                                                                                                                                                                                                                                                                                                                                                 good cat ib order cat ib seem help put small amount pumpkin pure   \n",
       "81364  best cat food avail ton research cat food would best option cat lose cat liver kidney failur think happen due taint pet food want better surviv cat main problem good brand can plant poor qualiti product merrick facil use human grade food ingredi highli recommend varieti pack start cat food patient switch cat similar take child eaten noth fast food transit healthi meal sure break solid food thoroughli mix well broth still uninterest tri mix small amount regular food took day realli got tast want eat old food still taper gradual go favorit flavor old food popular flavor merrick cowboy cuisin new england boil recommend start flavor awar may see cook blood vessel one beef look almost like pasta good thing show food made whole cut beef meat sludg   \n",
       "36532                                                                                                                                                                                                                                                                                                                                                                                                                                                                                                                                                                                                         happi custom love em set discount price subscript three cheer good sens organ raw almond edit went order extra bunch almond subscript rate stock second time sever month   \n",
       "\n",
       "       label  \n",
       "5920       0  \n",
       "15683      0  \n",
       "43732      0  \n",
       "81364      0  \n",
       "36532      0  "
      ]
     },
     "execution_count": 56,
     "metadata": {},
     "output_type": "execute_result"
    }
   ],
   "source": [
    "train[(train['label']==0) & (train['merge_processed'].str.contains(\"good\"))][['merge_processed', 'label']].head()"
   ]
  },
  {
   "cell_type": "code",
   "execution_count": 76,
   "id": "6752443c",
   "metadata": {},
   "outputs": [
    {
     "data": {
      "text/plain": [
       "\"Any very happy customer :) Love 'em. Have them set up on the discounted price subscription now.  Three cheers for Good Sense Organic Raw Almonds :)<br /><br />Edit - Went to order an extra bunch of almonds under the subscription rate and they are out of stock for a second time in several months.\""
      ]
     },
     "execution_count": 76,
     "metadata": {},
     "output_type": "execute_result"
    }
   ],
   "source": [
    "# an example\n",
    "train.loc[36532]['merge']"
   ]
  },
  {
   "cell_type": "markdown",
   "id": "dacf3eb9",
   "metadata": {},
   "source": [
    "'Good' was used to compliment the product."
   ]
  },
  {
   "cell_type": "code",
   "execution_count": 57,
   "id": "517f3444",
   "metadata": {
    "scrolled": true
   },
   "outputs": [
    {
     "data": {
      "text/html": [
       "<div>\n",
       "<style scoped>\n",
       "    .dataframe tbody tr th:only-of-type {\n",
       "        vertical-align: middle;\n",
       "    }\n",
       "\n",
       "    .dataframe tbody tr th {\n",
       "        vertical-align: top;\n",
       "    }\n",
       "\n",
       "    .dataframe thead th {\n",
       "        text-align: right;\n",
       "    }\n",
       "</style>\n",
       "<table border=\"1\" class=\"dataframe\">\n",
       "  <thead>\n",
       "    <tr style=\"text-align: right;\">\n",
       "      <th></th>\n",
       "      <th>merge_processed</th>\n",
       "      <th>label</th>\n",
       "    </tr>\n",
       "  </thead>\n",
       "  <tbody>\n",
       "    <tr>\n",
       "      <th>15683</th>\n",
       "      <td>tasti tasti flavor one could drink everyday honey flavor make littl sweet palett dessert coffe work wonder everyday repeat use good special treat flavor</td>\n",
       "      <td>0</td>\n",
       "    </tr>\n",
       "    <tr>\n",
       "      <th>34179</th>\n",
       "      <td>best tast tast excel mix berri almond milk forget ice also tri peach cream lost pound powder shake</td>\n",
       "      <td>0</td>\n",
       "    </tr>\n",
       "    <tr>\n",
       "      <th>36189</th>\n",
       "      <td>know star rate order easi sprouter yeah babi day soak day quick rins effort easi sprouter much fresher store bought save money great shelf life want larg varieti differ seed spout chase fresh veggi winter tasti healthi cheap easi noth wrong pictur</td>\n",
       "      <td>0</td>\n",
       "    </tr>\n",
       "    <tr>\n",
       "      <th>81364</th>\n",
       "      <td>best cat food avail ton research cat food would best option cat lose cat liver kidney failur think happen due taint pet food want better surviv cat main problem good brand can plant poor qualiti product merrick facil use human grade food ingredi highli recommend varieti pack start cat food patient switch cat similar take child eaten noth fast food transit healthi meal sure break solid food thoroughli mix well broth still uninterest tri mix small amount regular food took day realli got tast want eat old food still taper gradual go favorit flavor old food popular flavor merrick cowboy cuisin new england boil recommend start flavor awar may see cook blood vessel one beef look almost like pasta good thing show food made whole cut beef meat sludg</td>\n",
       "      <td>0</td>\n",
       "    </tr>\n",
       "    <tr>\n",
       "      <th>87593</th>\n",
       "      <td>fun special treat pup alway get special treat leav home short period time purchas purpos arriv quickli pup love look forward bye bye treat keep busi clean teeth seem tast good complaint mani one bag think would buy come zip lock bag conveni</td>\n",
       "      <td>0</td>\n",
       "    </tr>\n",
       "  </tbody>\n",
       "</table>\n",
       "</div>"
      ],
      "text/plain": [
       "                                                                                                                                                                                                                                                                                                                                                                                                                                                                                                                                                                                                                                                                                                                                                                       merge_processed  \\\n",
       "15683                                                                                                                                                                                                                                                                                                                                                                                                                                                                                                                                                                                                                         tasti tasti flavor one could drink everyday honey flavor make littl sweet palett dessert coffe work wonder everyday repeat use good special treat flavor   \n",
       "34179                                                                                                                                                                                                                                                                                                                                                                                                                                                                                                                                                                                                                                                                               best tast tast excel mix berri almond milk forget ice also tri peach cream lost pound powder shake   \n",
       "36189                                                                                                                                                                                                                                                                                                                                                                                                                                                                                                                          know star rate order easi sprouter yeah babi day soak day quick rins effort easi sprouter much fresher store bought save money great shelf life want larg varieti differ seed spout chase fresh veggi winter tasti healthi cheap easi noth wrong pictur   \n",
       "81364  best cat food avail ton research cat food would best option cat lose cat liver kidney failur think happen due taint pet food want better surviv cat main problem good brand can plant poor qualiti product merrick facil use human grade food ingredi highli recommend varieti pack start cat food patient switch cat similar take child eaten noth fast food transit healthi meal sure break solid food thoroughli mix well broth still uninterest tri mix small amount regular food took day realli got tast want eat old food still taper gradual go favorit flavor old food popular flavor merrick cowboy cuisin new england boil recommend start flavor awar may see cook blood vessel one beef look almost like pasta good thing show food made whole cut beef meat sludg   \n",
       "87593                                                                                                                                                                                                                                                                                                                                                                                                                                                                                                                                 fun special treat pup alway get special treat leav home short period time purchas purpos arriv quickli pup love look forward bye bye treat keep busi clean teeth seem tast good complaint mani one bag think would buy come zip lock bag conveni   \n",
       "\n",
       "       label  \n",
       "15683      0  \n",
       "34179      0  \n",
       "36189      0  \n",
       "81364      0  \n",
       "87593      0  "
      ]
     },
     "execution_count": 57,
     "metadata": {},
     "output_type": "execute_result"
    }
   ],
   "source": [
    "train[(train['label']==0) & (train['merge_processed'].str.contains(\"tast\"))][['merge_processed', 'label']].head()"
   ]
  },
  {
   "cell_type": "code",
   "execution_count": 75,
   "id": "f18792ab",
   "metadata": {},
   "outputs": [
    {
     "data": {
      "text/plain": [
       "\"best taste Taste excellent with mix berries and almond milk don't forget the ice, also try the peaches and cream I've lost 20 pounds with this powder shake.\""
      ]
     },
     "execution_count": 75,
     "metadata": {},
     "output_type": "execute_result"
    }
   ],
   "source": [
    "# an example\n",
    "train.loc[34179]['merge']"
   ]
  },
  {
   "cell_type": "markdown",
   "id": "d9c58f92",
   "metadata": {},
   "source": [
    "'Tast' was used together with a postive/negative word. Hence, it appeared in both positive and negative sentiment."
   ]
  },
  {
   "cell_type": "markdown",
   "id": "aa4a977b",
   "metadata": {},
   "source": [
    "#### Bi-gram"
   ]
  },
  {
   "cell_type": "markdown",
   "id": "11cb33b7",
   "metadata": {},
   "source": [
    "##### Negative sentiment"
   ]
  },
  {
   "cell_type": "code",
   "execution_count": 58,
   "id": "8b23464d",
   "metadata": {
    "scrolled": true
   },
   "outputs": [
    {
     "data": {
      "image/png": "[encoded data removed]",
      "text/plain": [
       "<Figure size 1080x576 with 1 Axes>"
      ]
     },
     "metadata": {
      "needs_background": "light"
     },
     "output_type": "display_data"
    }
   ],
   "source": [
    "cvec = CountVectorizer(stop_words='english', ngram_range=(2,2), max_features=2000)\n",
    "df = pd.DataFrame(cvec.fit_transform(A).toarray(), columns=cvec.get_feature_names())\n",
    "df.sum(axis=0).sort_values(ascending=False).head(20).plot.barh(figsize=(15,8))\n",
    "plt.title('Top 20 bi-gram words in negative reviews', fontsize=15);"
   ]
  },
  {
   "cell_type": "markdown",
   "id": "3b0b5050",
   "metadata": {},
   "source": [
    "Top negative sentiment words are 'tast like', 'dog food' and 'tast good'."
   ]
  },
  {
   "cell_type": "code",
   "execution_count": 59,
   "id": "18cbe4d2",
   "metadata": {
    "scrolled": false
   },
   "outputs": [
    {
     "data": {
      "text/html": [
       "<div>\n",
       "<style scoped>\n",
       "    .dataframe tbody tr th:only-of-type {\n",
       "        vertical-align: middle;\n",
       "    }\n",
       "\n",
       "    .dataframe tbody tr th {\n",
       "        vertical-align: top;\n",
       "    }\n",
       "\n",
       "    .dataframe thead th {\n",
       "        text-align: right;\n",
       "    }\n",
       "</style>\n",
       "<table border=\"1\" class=\"dataframe\">\n",
       "  <thead>\n",
       "    <tr style=\"text-align: right;\">\n",
       "      <th></th>\n",
       "      <th>merge_processed</th>\n",
       "      <th>label</th>\n",
       "    </tr>\n",
       "  </thead>\n",
       "  <tbody>\n",
       "    <tr>\n",
       "      <th>15646</th>\n",
       "      <td>tast like salti tofu basic vienna sausag sinc childhood even occasion peopl hous much less flavor much saltier rememb bad basic tasteless much like tofu would suggest anyon think buy see compani market low sodium version pink slime scare bit exagger detail still unnerv howev heard mani time famili friend associ nativ american chines doctor etc health consum muscl tissu anim gave thought pink slime contain everi type anim part notabl contain highli benefici part normal eat u tendon ligament actual healthi item featur cuisin number cultur unlik sit nice bowl chines beef tendon think could even chew price product ethnic market expens case cheapo littl hotdog offer thing mayb warrant reconsider line thought anyway someth consid suffer ailment arthriti bone joint issu though serious look low salt one want tri salti sinc got lot order abl use rather like salti condiment ad dish bean</td>\n",
       "      <td>1</td>\n",
       "    </tr>\n",
       "    <tr>\n",
       "      <th>2080</th>\n",
       "      <td>tast like chemic shih tzu pekinges would eat ye tast tast like chemic guess expect joint supplement shih tzu pekinges would eat</td>\n",
       "      <td>1</td>\n",
       "    </tr>\n",
       "    <tr>\n",
       "      <th>7068</th>\n",
       "      <td>festiv realli excit tassimo get mocha line coffe love chocol mix peppermint realli high hope blend tast like ga x mix coffe like ga x stay rest day festiv holiday coffe must say regular mocha delight note way cheaper tassimo com thu feel guilti throw</td>\n",
       "      <td>1</td>\n",
       "    </tr>\n",
       "    <tr>\n",
       "      <th>82112</th>\n",
       "      <td>chang recip tate horribl avid fan cooki year famili went dozen box month use take function donat give gift dark rich wholesom deep tast experi may find shelf normal store week back took home open surpris find insid contain differ use three row ran short end box two row ran long end box big deal chang took cooki pop mouth expect dark rich wholesom experi cooki tast bad almost threw sickli sweet tast like combin oreo health food bar move middl ground like health food bar like oreo sweet tast like oreo like health food bar tast aw sad chang formul best cooki market turn mani peopl chang recip none us ever buy worst cooki ever tast</td>\n",
       "      <td>1</td>\n",
       "    </tr>\n",
       "    <tr>\n",
       "      <th>59154</th>\n",
       "      <td>way overpr whoa research notic one box south beach diet bar fiber granola bar mouth cost order amazon prime realiz everyon factor anoth coupl buck ship ridicul price sure much box cost store consider less would hope daresay unlik price worth product anyon could use good diet bar problem diet bar name diet bar suppos tast great otherwis danger eat whole box kind diet instead usual tast like mix cardboard well cardboard south beach diet bar granola bar aw take delici look beast packag truth real product much flatter tast well tast exactli would think chocol diet bar would tast like unfair bash diet bar base tast admit diet bar suppos tast good imag packag realli got hope effect bar effect enough ate one morn eat till later even realli prais diet bar pretti hectic schedul mayb notic hunger much guess could eat granola bar get better tast cheaper price level hungri take diet diet bar serious might bar realli anyth separ snack bar south beach name hey know</td>\n",
       "      <td>1</td>\n",
       "    </tr>\n",
       "  </tbody>\n",
       "</table>\n",
       "</div>"
      ],
      "text/plain": [
       "                                                                                                                                                                                                                                                                                                                                                                                                                                                                                                                                                                                                                                                                                                                                                                                                                                                                                                                                                                                             merge_processed  \\\n",
       "15646                                                                              tast like salti tofu basic vienna sausag sinc childhood even occasion peopl hous much less flavor much saltier rememb bad basic tasteless much like tofu would suggest anyon think buy see compani market low sodium version pink slime scare bit exagger detail still unnerv howev heard mani time famili friend associ nativ american chines doctor etc health consum muscl tissu anim gave thought pink slime contain everi type anim part notabl contain highli benefici part normal eat u tendon ligament actual healthi item featur cuisin number cultur unlik sit nice bowl chines beef tendon think could even chew price product ethnic market expens case cheapo littl hotdog offer thing mayb warrant reconsider line thought anyway someth consid suffer ailment arthriti bone joint issu though serious look low salt one want tri salti sinc got lot order abl use rather like salti condiment ad dish bean   \n",
       "2080                                                                                                                                                                                                                                                                                                                                                                                                                                                                                                                                                                                                                                                                                                                                                                                                                                                                         tast like chemic shih tzu pekinges would eat ye tast tast like chemic guess expect joint supplement shih tzu pekinges would eat   \n",
       "7068                                                                                                                                                                                                                                                                                                                                                                                                                                                                                                                                                                                                                                                                                                                                              festiv realli excit tassimo get mocha line coffe love chocol mix peppermint realli high hope blend tast like ga x mix coffe like ga x stay rest day festiv holiday coffe must say regular mocha delight note way cheaper tassimo com thu feel guilti throw   \n",
       "82112                                                                                                                                                                                                                                                                                                                                            chang recip tate horribl avid fan cooki year famili went dozen box month use take function donat give gift dark rich wholesom deep tast experi may find shelf normal store week back took home open surpris find insid contain differ use three row ran short end box two row ran long end box big deal chang took cooki pop mouth expect dark rich wholesom experi cooki tast bad almost threw sickli sweet tast like combin oreo health food bar move middl ground like health food bar like oreo sweet tast like oreo like health food bar tast aw sad chang formul best cooki market turn mani peopl chang recip none us ever buy worst cooki ever tast   \n",
       "59154  way overpr whoa research notic one box south beach diet bar fiber granola bar mouth cost order amazon prime realiz everyon factor anoth coupl buck ship ridicul price sure much box cost store consider less would hope daresay unlik price worth product anyon could use good diet bar problem diet bar name diet bar suppos tast great otherwis danger eat whole box kind diet instead usual tast like mix cardboard well cardboard south beach diet bar granola bar aw take delici look beast packag truth real product much flatter tast well tast exactli would think chocol diet bar would tast like unfair bash diet bar base tast admit diet bar suppos tast good imag packag realli got hope effect bar effect enough ate one morn eat till later even realli prais diet bar pretti hectic schedul mayb notic hunger much guess could eat granola bar get better tast cheaper price level hungri take diet diet bar serious might bar realli anyth separ snack bar south beach name hey know   \n",
       "\n",
       "       label  \n",
       "15646      1  \n",
       "2080       1  \n",
       "7068       1  \n",
       "82112      1  \n",
       "59154      1  "
      ]
     },
     "execution_count": 59,
     "metadata": {},
     "output_type": "execute_result"
    }
   ],
   "source": [
    "train[(train['label']==1) & (train['merge_processed'].str.contains(\"tast like\"))][['merge_processed', 'label']].head()"
   ]
  },
  {
   "cell_type": "code",
   "execution_count": 74,
   "id": "f9040bb3",
   "metadata": {},
   "outputs": [
    {
     "data": {
      "text/plain": [
       "\"Tastes like chemicals...my Shih tzu & Pekingese would not eat them. Yes, I tasted them - they taste like chemicals but I guess that's what you should expect from a joint supplement.  My Shih tzu & Pekingese would not eat them.\""
      ]
     },
     "execution_count": 74,
     "metadata": {},
     "output_type": "execute_result"
    }
   ],
   "source": [
    "# an example\n",
    "train.loc[2080]['merge']"
   ]
  },
  {
   "cell_type": "markdown",
   "id": "62c62acf",
   "metadata": {},
   "source": [
    "'Tast like' was used to compare it to another object."
   ]
  },
  {
   "cell_type": "code",
   "execution_count": 60,
   "id": "6f9ac232",
   "metadata": {
    "scrolled": false
   },
   "outputs": [
    {
     "data": {
      "text/html": [
       "<div>\n",
       "<style scoped>\n",
       "    .dataframe tbody tr th:only-of-type {\n",
       "        vertical-align: middle;\n",
       "    }\n",
       "\n",
       "    .dataframe tbody tr th {\n",
       "        vertical-align: top;\n",
       "    }\n",
       "\n",
       "    .dataframe thead th {\n",
       "        text-align: right;\n",
       "    }\n",
       "</style>\n",
       "<table border=\"1\" class=\"dataframe\">\n",
       "  <thead>\n",
       "    <tr style=\"text-align: right;\">\n",
       "      <th></th>\n",
       "      <th>merge_processed</th>\n",
       "      <th>label</th>\n",
       "    </tr>\n",
       "  </thead>\n",
       "  <tbody>\n",
       "    <tr>\n",
       "      <th>27223</th>\n",
       "      <td>updat dog like agre sensit stomach updat dog nervou tummi never know upset blue buffalo good qualiti food absolut agre also tri beaver dam tri variou food made blend food one agre well system ye top meat ingredi product meal corn consid poor qualiti thrive grow food go figur like reseal bag rememb seal howev cat crawl insid bag found mani minut hour complet insid munch coma bliss harm done either recommend howev cat mine stray glutton astonish capac nice soft kibbl dog food aroma fresh veget open bag realli varieti ingredi nourish dog howev first three ingredi concern corn chicken product meal corn gluten meal dog sensit corn chicken product meal ground chicken carcas offal innard bone attach meat less digest chicken meat exampl feed dog mix offal gizzard liver heart ground mix chicken thigh corn debat ingredi cheap chicken product meal possibl allergen certainli less digest rice dog digest may ok though feel corn involv variou dog diseas like diabet obes corn help kibbl process starchi bottom line top three ingredi cheap ingredi dog may benefit dog get allergi skin irrit corn dog enjoy make dog mash brown rice turkey thigh green bean supplement eat love groceri store dog food bad ingredi ground yellow corn chicken product meal corn gluten meal whole wheat flour beef tallow preserv mix tocopherol sourc vitamin e rice flour beef soy flour sugar sorbitol tricalcium phosphat water anim digest salt phosphor acid potassium chlorid dicalcium phosphat sorbic acid preserv l lysin monohydrochlorid dri pea dri carrot calcium carbon calcium propion preserv cholin chlorid vitamin supplement e b</td>\n",
       "      <td>1</td>\n",
       "    </tr>\n",
       "    <tr>\n",
       "      <th>27320</th>\n",
       "      <td>dog like first ingredi corn dog bag consid two dog weigh lb lot dog open bag easi quick snip scissor close bag especi nice zip lock zipper type close kind littl plastic tab let slide close nice bag plastic dog food stay nice fresh pooch bag anoth nice point pour cup dog gobbl look hmm usual dog food give pain look shuffl bowl suppos attitud check bag wonder gung ho main ingredi corn thrown bunch stuff basic made doggi junk food mean live stuff go keep healthi someth say meat first ingredi usual feed costco brand dog food way highli rate among rate dog food laugh keep famili canin give hairi eyebal mix bene usual kibbl cours pick bene bit leav rest behind know fur kid never know good heck eat cat poop litter box let think stick usual healthi yet tasti costco dog food might throw someben littl treat like movi night someth</td>\n",
       "      <td>1</td>\n",
       "    </tr>\n",
       "    <tr>\n",
       "      <th>64018</th>\n",
       "      <td>much flavor use person cook realli bland tast slight flavor water stock avail local discount store use dog food make scratch use carton lot fresh chicken rice vegi sodium high mg per cup serv carton hold cup virtual nutrit protein gram cup</td>\n",
       "      <td>1</td>\n",
       "    </tr>\n",
       "    <tr>\n",
       "      <th>27190</th>\n",
       "      <td>natur extrem disappoint product dog natur diet meat green mayb tinyamount fruit main ingredi dog food iscorn meal also wheat rice flour thisproduct also contain sugar differentartifici color color dogscar color shame purina natur food dog</td>\n",
       "      <td>1</td>\n",
       "    </tr>\n",
       "    <tr>\n",
       "      <th>80976</th>\n",
       "      <td>one worst dog food avail feed daughter dog bene sinc time restock decid check onlin better altern reason price shock find huge number websit list bene one worst dog food avail detail explan even purina one made compani consid better altern nutshel bene primarili compris cheap ingredi supplement addit make nutrit analysi look good food appet dog look care ingredi list actual add sugar salt amongst nasti thing bene appet dog despit junk made one websit even compar bene crack dog main ingredi corn easili digest dog real meat meat byproduct appear way list probabl explain dog constantli hungri despit fact feed prescrib alway itch problem replac better brand without break budget pleasant surpris research abl locat brand compar price pound pound much better ingredi list rate much higher variou independ dog food review site amaz bene cheap junk ingredi dupe peopl pay much dog food made real meat primari ingredi anyway found least two amazon look realli good other one save merrick whole earth farm adult dri fog food pound bagchicken soup dog lover soul dri dog food senior dog chicken flavor pound bagboth time review lb bag actual cheaper bene per pound elig super saver prime ship order latter updat see dog like</td>\n",
       "      <td>1</td>\n",
       "    </tr>\n",
       "  </tbody>\n",
       "</table>\n",
       "</div>"
      ],
      "text/plain": [
       "                                                                                                                                                                                                                                                                                                                                                                                                                                                                                                                                                                                                                                                                                                                                                                                                                                                                                                                                                                                                                                                                                                                                                                                                                                                                                                                                                                                                                                                                                                                                                                                                                                                                 merge_processed  \\\n",
       "27223  updat dog like agre sensit stomach updat dog nervou tummi never know upset blue buffalo good qualiti food absolut agre also tri beaver dam tri variou food made blend food one agre well system ye top meat ingredi product meal corn consid poor qualiti thrive grow food go figur like reseal bag rememb seal howev cat crawl insid bag found mani minut hour complet insid munch coma bliss harm done either recommend howev cat mine stray glutton astonish capac nice soft kibbl dog food aroma fresh veget open bag realli varieti ingredi nourish dog howev first three ingredi concern corn chicken product meal corn gluten meal dog sensit corn chicken product meal ground chicken carcas offal innard bone attach meat less digest chicken meat exampl feed dog mix offal gizzard liver heart ground mix chicken thigh corn debat ingredi cheap chicken product meal possibl allergen certainli less digest rice dog digest may ok though feel corn involv variou dog diseas like diabet obes corn help kibbl process starchi bottom line top three ingredi cheap ingredi dog may benefit dog get allergi skin irrit corn dog enjoy make dog mash brown rice turkey thigh green bean supplement eat love groceri store dog food bad ingredi ground yellow corn chicken product meal corn gluten meal whole wheat flour beef tallow preserv mix tocopherol sourc vitamin e rice flour beef soy flour sugar sorbitol tricalcium phosphat water anim digest salt phosphor acid potassium chlorid dicalcium phosphat sorbic acid preserv l lysin monohydrochlorid dri pea dri carrot calcium carbon calcium propion preserv cholin chlorid vitamin supplement e b   \n",
       "27320                                                                                                                                                                                                                                                                                                                                                                                                                                                                                                                                                                                                                                                                                                                                                                                                            dog like first ingredi corn dog bag consid two dog weigh lb lot dog open bag easi quick snip scissor close bag especi nice zip lock zipper type close kind littl plastic tab let slide close nice bag plastic dog food stay nice fresh pooch bag anoth nice point pour cup dog gobbl look hmm usual dog food give pain look shuffl bowl suppos attitud check bag wonder gung ho main ingredi corn thrown bunch stuff basic made doggi junk food mean live stuff go keep healthi someth say meat first ingredi usual feed costco brand dog food way highli rate among rate dog food laugh keep famili canin give hairi eyebal mix bene usual kibbl cours pick bene bit leav rest behind know fur kid never know good heck eat cat poop litter box let think stick usual healthi yet tasti costco dog food might throw someben littl treat like movi night someth   \n",
       "64018                                                                                                                                                                                                                                                                                                                                                                                                                                                                                                                                                                                                                                                                                                                                                                                                                                                                                                                                                                                                                                                                                                                                                                                                                                                                                                                                                                                                                            much flavor use person cook realli bland tast slight flavor water stock avail local discount store use dog food make scratch use carton lot fresh chicken rice vegi sodium high mg per cup serv carton hold cup virtual nutrit protein gram cup   \n",
       "27190                                                                                                                                                                                                                                                                                                                                                                                                                                                                                                                                                                                                                                                                                                                                                                                                                                                                                                                                                                                                                                                                                                                                                                                                                                                                                                                                                                                                                             natur extrem disappoint product dog natur diet meat green mayb tinyamount fruit main ingredi dog food iscorn meal also wheat rice flour thisproduct also contain sugar differentartifici color color dogscar color shame purina natur food dog   \n",
       "80976                                                                                                                                                                                                                                                                                                                                                                                                     one worst dog food avail feed daughter dog bene sinc time restock decid check onlin better altern reason price shock find huge number websit list bene one worst dog food avail detail explan even purina one made compani consid better altern nutshel bene primarili compris cheap ingredi supplement addit make nutrit analysi look good food appet dog look care ingredi list actual add sugar salt amongst nasti thing bene appet dog despit junk made one websit even compar bene crack dog main ingredi corn easili digest dog real meat meat byproduct appear way list probabl explain dog constantli hungri despit fact feed prescrib alway itch problem replac better brand without break budget pleasant surpris research abl locat brand compar price pound pound much better ingredi list rate much higher variou independ dog food review site amaz bene cheap junk ingredi dupe peopl pay much dog food made real meat primari ingredi anyway found least two amazon look realli good other one save merrick whole earth farm adult dri fog food pound bagchicken soup dog lover soul dri dog food senior dog chicken flavor pound bagboth time review lb bag actual cheaper bene per pound elig super saver prime ship order latter updat see dog like   \n",
       "\n",
       "       label  \n",
       "27223      1  \n",
       "27320      1  \n",
       "64018      1  \n",
       "27190      1  \n",
       "80976      1  "
      ]
     },
     "execution_count": 60,
     "metadata": {},
     "output_type": "execute_result"
    }
   ],
   "source": [
    "train[(train['label']==1) & (train['merge_processed'].str.contains(\"dog food\"))][['merge_processed', 'label']].head()"
   ]
  },
  {
   "cell_type": "code",
   "execution_count": 73,
   "id": "4afff41a",
   "metadata": {},
   "outputs": [
    {
     "data": {
      "text/plain": [
       "'Not \"Natural\" I was extremely disappointed with this product and here\\'s why:<br />A dog\\'s natural diet is meat and greens, and maybe a tiny<br />amount of fruit. The main ingredient in this dog food is<br />corn meal. (There are also wheat and rice flour in this<br />product.) It also contains sugar (!) and 4 different<br />artificial colors (!!!!). Who is the color for? Do dogs<br />care about color? No! Shame on you, Purina - this is not a<br />\"natural food\" for a dog.'"
      ]
     },
     "execution_count": 73,
     "metadata": {},
     "output_type": "execute_result"
    }
   ],
   "source": [
    "# an example\n",
    "train.loc[27190]['merge']"
   ]
  },
  {
   "cell_type": "markdown",
   "id": "1a537f22",
   "metadata": {},
   "source": [
    "'Dog food' that customers bought appears to be bad due to quality."
   ]
  },
  {
   "cell_type": "code",
   "execution_count": 61,
   "id": "03980dfc",
   "metadata": {
    "scrolled": false
   },
   "outputs": [
    {
     "data": {
      "text/html": [
       "<div>\n",
       "<style scoped>\n",
       "    .dataframe tbody tr th:only-of-type {\n",
       "        vertical-align: middle;\n",
       "    }\n",
       "\n",
       "    .dataframe tbody tr th {\n",
       "        vertical-align: top;\n",
       "    }\n",
       "\n",
       "    .dataframe thead th {\n",
       "        text-align: right;\n",
       "    }\n",
       "</style>\n",
       "<table border=\"1\" class=\"dataframe\">\n",
       "  <thead>\n",
       "    <tr style=\"text-align: right;\">\n",
       "      <th></th>\n",
       "      <th>merge_processed</th>\n",
       "      <th>label</th>\n",
       "    </tr>\n",
       "  </thead>\n",
       "  <tbody>\n",
       "    <tr>\n",
       "      <th>59154</th>\n",
       "      <td>way overpr whoa research notic one box south beach diet bar fiber granola bar mouth cost order amazon prime realiz everyon factor anoth coupl buck ship ridicul price sure much box cost store consider less would hope daresay unlik price worth product anyon could use good diet bar problem diet bar name diet bar suppos tast great otherwis danger eat whole box kind diet instead usual tast like mix cardboard well cardboard south beach diet bar granola bar aw take delici look beast packag truth real product much flatter tast well tast exactli would think chocol diet bar would tast like unfair bash diet bar base tast admit diet bar suppos tast good imag packag realli got hope effect bar effect enough ate one morn eat till later even realli prais diet bar pretti hectic schedul mayb notic hunger much guess could eat granola bar get better tast cheaper price level hungri take diet diet bar serious might bar realli anyth separ snack bar south beach name hey know</td>\n",
       "      <td>1</td>\n",
       "    </tr>\n",
       "    <tr>\n",
       "      <th>65288</th>\n",
       "      <td>cat eat use royal canin exclus sinc took first cat two year ago cat love seem high qualiti product tast good switch light one cat get fat howev cat eat nibbl littl cri someth els oh well guess everycat</td>\n",
       "      <td>1</td>\n",
       "    </tr>\n",
       "    <tr>\n",
       "      <th>4940</th>\n",
       "      <td>yuk mayb dont like couscou stuff tast good rather hardi made hard get tast</td>\n",
       "      <td>1</td>\n",
       "    </tr>\n",
       "    <tr>\n",
       "      <th>76031</th>\n",
       "      <td>tast good raw organ good tast good honey jelli enhanc fact raw organ realli good</td>\n",
       "      <td>1</td>\n",
       "    </tr>\n",
       "    <tr>\n",
       "      <th>33550</th>\n",
       "      <td>tast great bought base review state tast good better peanut butter tast like sunflow seed ground make butteri spread know shock son hate wish bought pack test</td>\n",
       "      <td>1</td>\n",
       "    </tr>\n",
       "  </tbody>\n",
       "</table>\n",
       "</div>"
      ],
      "text/plain": [
       "                                                                                                                                                                                                                                                                                                                                                                                                                                                                                                                                                                                                                                                                                                                                                                                                                                                                                                                                                                                             merge_processed  \\\n",
       "59154  way overpr whoa research notic one box south beach diet bar fiber granola bar mouth cost order amazon prime realiz everyon factor anoth coupl buck ship ridicul price sure much box cost store consider less would hope daresay unlik price worth product anyon could use good diet bar problem diet bar name diet bar suppos tast great otherwis danger eat whole box kind diet instead usual tast like mix cardboard well cardboard south beach diet bar granola bar aw take delici look beast packag truth real product much flatter tast well tast exactli would think chocol diet bar would tast like unfair bash diet bar base tast admit diet bar suppos tast good imag packag realli got hope effect bar effect enough ate one morn eat till later even realli prais diet bar pretti hectic schedul mayb notic hunger much guess could eat granola bar get better tast cheaper price level hungri take diet diet bar serious might bar realli anyth separ snack bar south beach name hey know   \n",
       "65288                                                                                                                                                                                                                                                                                                                                                                                                                                                                                                                                                                                                                                                                                                                                                                                              cat eat use royal canin exclus sinc took first cat two year ago cat love seem high qualiti product tast good switch light one cat get fat howev cat eat nibbl littl cri someth els oh well guess everycat   \n",
       "4940                                                                                                                                                                                                                                                                                                                                                                                                                                                                                                                                                                                                                                                                                                                                                                                                                                                                                                                              yuk mayb dont like couscou stuff tast good rather hardi made hard get tast   \n",
       "76031                                                                                                                                                                                                                                                                                                                                                                                                                                                                                                                                                                                                                                                                                                                                                                                                                                                                                                                       tast good raw organ good tast good honey jelli enhanc fact raw organ realli good   \n",
       "33550                                                                                                                                                                                                                                                                                                                                                                                                                                                                                                                                                                                                                                                                                                                                                                                                                                         tast great bought base review state tast good better peanut butter tast like sunflow seed ground make butteri spread know shock son hate wish bought pack test   \n",
       "\n",
       "       label  \n",
       "59154      1  \n",
       "65288      1  \n",
       "4940       1  \n",
       "76031      1  \n",
       "33550      1  "
      ]
     },
     "execution_count": 61,
     "metadata": {},
     "output_type": "execute_result"
    }
   ],
   "source": [
    "train[(train['label']==1) & (train['merge_processed'].str.contains(\"tast good\"))][['merge_processed', 'label']].head()"
   ]
  },
  {
   "cell_type": "code",
   "execution_count": 72,
   "id": "db14fad5",
   "metadata": {},
   "outputs": [
    {
     "data": {
      "text/plain": [
       "\"Cats won't eat it I have been using Royal Canin exclusively since I took in my first cat two years ago, and both of my cats love it.  It seems to be a high quality product that tastes good.  I switched to light because one cat is getting fat.  However, now my cats won't eat it.  They just nibble at it a little and cry for something else.  Oh well.  I guess it's not for everycat.\""
      ]
     },
     "execution_count": 72,
     "metadata": {},
     "output_type": "execute_result"
    }
   ],
   "source": [
    "# an example\n",
    "train.loc[65288]['merge']"
   ]
  },
  {
   "cell_type": "markdown",
   "id": "afd513fc",
   "metadata": {},
   "source": [
    "'Tast good' appeared as there were some feedbacks with 2 polarities in each review. At first, it seemed positive, however something happened down the line and negativity were brought in."
   ]
  },
  {
   "cell_type": "markdown",
   "id": "3b87b4f0",
   "metadata": {},
   "source": [
    "##### Positive sentiment"
   ]
  },
  {
   "cell_type": "code",
   "execution_count": 62,
   "id": "11d21728",
   "metadata": {
    "scrolled": false
   },
   "outputs": [
    {
     "data": {
      "image/png": "[encoded data removed]",
      "text/plain": [
       "<Figure size 1080x576 with 1 Axes>"
      ]
     },
     "metadata": {
      "needs_background": "light"
     },
     "output_type": "display_data"
    }
   ],
   "source": [
    "cvec = CountVectorizer(stop_words='english', ngram_range=(2,2), max_features=2000)\n",
    "df = pd.DataFrame(cvec.fit_transform(B).toarray(), columns=cvec.get_feature_names())\n",
    "df.sum(axis=0).sort_values(ascending=False).head(20).plot.barh(figsize=(15,8))\n",
    "plt.title('Top 20 bi-gram words in positive reviews', fontsize=15);"
   ]
  },
  {
   "cell_type": "markdown",
   "id": "fc26fb85",
   "metadata": {},
   "source": [
    "Top words were 'tast like', 'highli recommend' and 'tast great' which were all optimistic words."
   ]
  },
  {
   "cell_type": "code",
   "execution_count": 63,
   "id": "17d9ffdb",
   "metadata": {
    "scrolled": false
   },
   "outputs": [
    {
     "data": {
      "text/html": [
       "<div>\n",
       "<style scoped>\n",
       "    .dataframe tbody tr th:only-of-type {\n",
       "        vertical-align: middle;\n",
       "    }\n",
       "\n",
       "    .dataframe tbody tr th {\n",
       "        vertical-align: top;\n",
       "    }\n",
       "\n",
       "    .dataframe thead th {\n",
       "        text-align: right;\n",
       "    }\n",
       "</style>\n",
       "<table border=\"1\" class=\"dataframe\">\n",
       "  <thead>\n",
       "    <tr style=\"text-align: right;\">\n",
       "      <th></th>\n",
       "      <th>merge_processed</th>\n",
       "      <th>label</th>\n",
       "    </tr>\n",
       "  </thead>\n",
       "  <tbody>\n",
       "    <tr>\n",
       "      <th>55596</th>\n",
       "      <td>tell differ oreo golden tast like oreo golden cooki love vanilla sandwich cooki look healthier choic organ cooki perfect solut healthier cooki unnam ingredi delici</td>\n",
       "      <td>0</td>\n",
       "    </tr>\n",
       "    <tr>\n",
       "      <th>43026</th>\n",
       "      <td>perfect exactli sister look forev tast like name brand cereal marshmallow order individu size bag tast test order larger qti plan know perfect</td>\n",
       "      <td>0</td>\n",
       "    </tr>\n",
       "    <tr>\n",
       "      <th>5871</th>\n",
       "      <td>yum bar delici realli recommend heat suggest packag tast like warm banana bread straight oven yum wait eat nice hot breakfast cold winter morn</td>\n",
       "      <td>0</td>\n",
       "    </tr>\n",
       "    <tr>\n",
       "      <th>21375</th>\n",
       "      <td>much cocont flavor purchas emuls decid reorder amazon emuls amaz use frost well homemad whip cream good let smell fool ye agre previou review said smell slightli like pina colada tast like pineappl husband start use smoothi reason reorder highli recommend product</td>\n",
       "      <td>0</td>\n",
       "    </tr>\n",
       "    <tr>\n",
       "      <th>83978</th>\n",
       "      <td>never go back tradit peanut butter pb recommend weight watcher leader order pack love much alreadi order pound tradit varieti even husband bare toler peanut butter like pb say tast like peanut tradit peanut butter think right chocol varieti origin describ similar nutella unfortun think slightli sweeter vagu chocolatey version origin pb good never satisfi nutella overal love varieti pb best mix ingredi like pbj sandwich bake good favorit use put tablespoon berri smoothi add protein make tast like pbj tri eat pb solo spoon might disappoint lack bit rich make peanut butter addict lastli stuff pricier regular peanut butter especi consid powder fluffi lose volum mix water think well worth cost</td>\n",
       "      <td>0</td>\n",
       "    </tr>\n",
       "  </tbody>\n",
       "</table>\n",
       "</div>"
      ],
      "text/plain": [
       "                                                                                                                                                                                                                                                                                                                                                                                                                                                                                                                                                                                                                                                                                                                 merge_processed  \\\n",
       "55596                                                                                                                                                                                                                                                                                                                                                                                                                                                                                                                                                        tell differ oreo golden tast like oreo golden cooki love vanilla sandwich cooki look healthier choic organ cooki perfect solut healthier cooki unnam ingredi delici   \n",
       "43026                                                                                                                                                                                                                                                                                                                                                                                                                                                                                                                                                                             perfect exactli sister look forev tast like name brand cereal marshmallow order individu size bag tast test order larger qti plan know perfect   \n",
       "5871                                                                                                                                                                                                                                                                                                                                                                                                                                                                                                                                                                              yum bar delici realli recommend heat suggest packag tast like warm banana bread straight oven yum wait eat nice hot breakfast cold winter morn   \n",
       "21375                                                                                                                                                                                                                                                                                                                                                                                                                                                    much cocont flavor purchas emuls decid reorder amazon emuls amaz use frost well homemad whip cream good let smell fool ye agre previou review said smell slightli like pina colada tast like pineappl husband start use smoothi reason reorder highli recommend product   \n",
       "83978  never go back tradit peanut butter pb recommend weight watcher leader order pack love much alreadi order pound tradit varieti even husband bare toler peanut butter like pb say tast like peanut tradit peanut butter think right chocol varieti origin describ similar nutella unfortun think slightli sweeter vagu chocolatey version origin pb good never satisfi nutella overal love varieti pb best mix ingredi like pbj sandwich bake good favorit use put tablespoon berri smoothi add protein make tast like pbj tri eat pb solo spoon might disappoint lack bit rich make peanut butter addict lastli stuff pricier regular peanut butter especi consid powder fluffi lose volum mix water think well worth cost   \n",
       "\n",
       "       label  \n",
       "55596      0  \n",
       "43026      0  \n",
       "5871       0  \n",
       "21375      0  \n",
       "83978      0  "
      ]
     },
     "execution_count": 63,
     "metadata": {},
     "output_type": "execute_result"
    }
   ],
   "source": [
    "train[(train['label']==0) & (train['merge_processed'].str.contains(\"tast like\"))][['merge_processed', 'label']].head()"
   ]
  },
  {
   "cell_type": "code",
   "execution_count": 84,
   "id": "beae4f67",
   "metadata": {},
   "outputs": [
    {
     "data": {
      "text/plain": [
       "\"Yum! These bars are so delicious! I really recommend heating them up, as suggested on the packaging. It tastes like warm banana bread straight out of the oven! Yum! I can't wait to eat these as a nice hot breakfast on a cold winter morning.\""
      ]
     },
     "execution_count": 84,
     "metadata": {},
     "output_type": "execute_result"
    }
   ],
   "source": [
    "# an example\n",
    "train.loc[5871]['merge']"
   ]
  },
  {
   "cell_type": "markdown",
   "id": "e3e80617",
   "metadata": {},
   "source": [
    "Similarly, 'tast like' was used to compare food items that customer previously encountered as a gauge of how well the product was."
   ]
  },
  {
   "cell_type": "code",
   "execution_count": 64,
   "id": "e30ca54f",
   "metadata": {
    "scrolled": false
   },
   "outputs": [
    {
     "data": {
      "text/html": [
       "<div>\n",
       "<style scoped>\n",
       "    .dataframe tbody tr th:only-of-type {\n",
       "        vertical-align: middle;\n",
       "    }\n",
       "\n",
       "    .dataframe tbody tr th {\n",
       "        vertical-align: top;\n",
       "    }\n",
       "\n",
       "    .dataframe thead th {\n",
       "        text-align: right;\n",
       "    }\n",
       "</style>\n",
       "<table border=\"1\" class=\"dataframe\">\n",
       "  <thead>\n",
       "    <tr style=\"text-align: right;\">\n",
       "      <th></th>\n",
       "      <th>merge_processed</th>\n",
       "      <th>label</th>\n",
       "    </tr>\n",
       "  </thead>\n",
       "  <tbody>\n",
       "    <tr>\n",
       "      <th>60833</th>\n",
       "      <td>quick simpl sour someon develop starter learn patienc failur worri within hour starter bubbl away strong sour nose time began also start commerci dri starter day away readi start wait week starter highli recommend live one</td>\n",
       "      <td>0</td>\n",
       "    </tr>\n",
       "    <tr>\n",
       "      <th>81364</th>\n",
       "      <td>best cat food avail ton research cat food would best option cat lose cat liver kidney failur think happen due taint pet food want better surviv cat main problem good brand can plant poor qualiti product merrick facil use human grade food ingredi highli recommend varieti pack start cat food patient switch cat similar take child eaten noth fast food transit healthi meal sure break solid food thoroughli mix well broth still uninterest tri mix small amount regular food took day realli got tast want eat old food still taper gradual go favorit flavor old food popular flavor merrick cowboy cuisin new england boil recommend start flavor awar may see cook blood vessel one beef look almost like pasta good thing show food made whole cut beef meat sludg</td>\n",
       "      <td>0</td>\n",
       "    </tr>\n",
       "    <tr>\n",
       "      <th>90291</th>\n",
       "      <td>expens oh good got dairi allergi mom gluten free grandma dairi gluten free alway look someth good cooki addict small side fairli expens gluten diari free food incred good made date past tast sweeten juic concentr lower sugar fiber oh chocolati hit spot highli recommend</td>\n",
       "      <td>0</td>\n",
       "    </tr>\n",
       "    <tr>\n",
       "      <th>43033</th>\n",
       "      <td>tast great gener care much healthi altern especi come coffe howev tri truvia hotel hook usual get groceri store good see avail amazon prime might get onlin instead sweeten tast realli good addit coffe dessert tast great think even tast better sugar definit tast better splenda cannot comment health aspect relat artifici sweeten sure plenti inform avail internet relat casual coffe drinker highli recommend truvia howev may better purchas larger box count instead pack six unless realli like size count box never tri definit purchas smaller box tri first</td>\n",
       "      <td>0</td>\n",
       "    </tr>\n",
       "    <tr>\n",
       "      <th>83458</th>\n",
       "      <td>delici mildli stimul tea arriv promptli obvious hand fill plastic bag aluminum foil wrap around nice handwritten note seller tea form super fine talcum like green powder tast great much like green tea receiv good sushi restaur better opinon great hot also fine ice cold bother bag pinch near boil water littl goe long way ounc exampl last week longer stimul smoothli even smoother strong coffe normal tea say never felt jumpi wire drink tea even sever cup done sever time cool winter day notic feel sooth aromat tea experi find best drink within hour want go bed howev plan buy fresh delici tea would recommend anyon interest tri particularli enjoy tast green tea five star highli recommend</td>\n",
       "      <td>0</td>\n",
       "    </tr>\n",
       "  </tbody>\n",
       "</table>\n",
       "</div>"
      ],
      "text/plain": [
       "                                                                                                                                                                                                                                                                                                                                                                                                                                                                                                                                                                                                                                                                                                                                                                       merge_processed  \\\n",
       "60833                                                                                                                                                                                                                                                                                                                                                                                                                                                                                                                                                   quick simpl sour someon develop starter learn patienc failur worri within hour starter bubbl away strong sour nose time began also start commerci dri starter day away readi start wait week starter highli recommend live one   \n",
       "81364  best cat food avail ton research cat food would best option cat lose cat liver kidney failur think happen due taint pet food want better surviv cat main problem good brand can plant poor qualiti product merrick facil use human grade food ingredi highli recommend varieti pack start cat food patient switch cat similar take child eaten noth fast food transit healthi meal sure break solid food thoroughli mix well broth still uninterest tri mix small amount regular food took day realli got tast want eat old food still taper gradual go favorit flavor old food popular flavor merrick cowboy cuisin new england boil recommend start flavor awar may see cook blood vessel one beef look almost like pasta good thing show food made whole cut beef meat sludg   \n",
       "90291                                                                                                                                                                                                                                                                                                                                                                                                                                                                                                    expens oh good got dairi allergi mom gluten free grandma dairi gluten free alway look someth good cooki addict small side fairli expens gluten diari free food incred good made date past tast sweeten juic concentr lower sugar fiber oh chocolati hit spot highli recommend   \n",
       "43033                                                                                                                                                                                                       tast great gener care much healthi altern especi come coffe howev tri truvia hotel hook usual get groceri store good see avail amazon prime might get onlin instead sweeten tast realli good addit coffe dessert tast great think even tast better sugar definit tast better splenda cannot comment health aspect relat artifici sweeten sure plenti inform avail internet relat casual coffe drinker highli recommend truvia howev may better purchas larger box count instead pack six unless realli like size count box never tri definit purchas smaller box tri first   \n",
       "83458                                                               delici mildli stimul tea arriv promptli obvious hand fill plastic bag aluminum foil wrap around nice handwritten note seller tea form super fine talcum like green powder tast great much like green tea receiv good sushi restaur better opinon great hot also fine ice cold bother bag pinch near boil water littl goe long way ounc exampl last week longer stimul smoothli even smoother strong coffe normal tea say never felt jumpi wire drink tea even sever cup done sever time cool winter day notic feel sooth aromat tea experi find best drink within hour want go bed howev plan buy fresh delici tea would recommend anyon interest tri particularli enjoy tast green tea five star highli recommend   \n",
       "\n",
       "       label  \n",
       "60833      0  \n",
       "81364      0  \n",
       "90291      0  \n",
       "43033      0  \n",
       "83458      0  "
      ]
     },
     "execution_count": 64,
     "metadata": {},
     "output_type": "execute_result"
    }
   ],
   "source": [
    "train[(train['label']==0) & (train['merge_processed'].str.contains(\"highli recommend\"))][['merge_processed', 'label']].head()"
   ]
  },
  {
   "cell_type": "code",
   "execution_count": 85,
   "id": "87f0321f",
   "metadata": {},
   "outputs": [
    {
     "data": {
      "text/plain": [
       "\"Expensive BUT OH SO GOOD. I've got a dairy allergy, my mom is gluten free, and my grandma is dairy and gluten free. We're always on the look out for something good. And these are it! This cookies are addicting! They're on the small side and fairly expensive, but so is most gluten and diary free food. They're incredibly good for you, made with date paste (which you can't taste), and sweetened with juice concentrates. Lower in sugar, and they have fiber! But they're oh so chocolaty and hit the spot. I highly recommend.\""
      ]
     },
     "execution_count": 85,
     "metadata": {},
     "output_type": "execute_result"
    }
   ],
   "source": [
    "# an example\n",
    "train.loc[90291]['merge']"
   ]
  },
  {
   "cell_type": "markdown",
   "id": "c6957d9d",
   "metadata": {},
   "source": [
    "Customers use 'highli recommend', aim to influence potential buyers on deciding whether they should try the products out."
   ]
  },
  {
   "cell_type": "code",
   "execution_count": 65,
   "id": "7e9622bc",
   "metadata": {
    "scrolled": false
   },
   "outputs": [
    {
     "data": {
      "text/html": [
       "<div>\n",
       "<style scoped>\n",
       "    .dataframe tbody tr th:only-of-type {\n",
       "        vertical-align: middle;\n",
       "    }\n",
       "\n",
       "    .dataframe tbody tr th {\n",
       "        vertical-align: top;\n",
       "    }\n",
       "\n",
       "    .dataframe thead th {\n",
       "        text-align: right;\n",
       "    }\n",
       "</style>\n",
       "<table border=\"1\" class=\"dataframe\">\n",
       "  <thead>\n",
       "    <tr style=\"text-align: right;\">\n",
       "      <th></th>\n",
       "      <th>merge_processed</th>\n",
       "      <th>label</th>\n",
       "    </tr>\n",
       "  </thead>\n",
       "  <tbody>\n",
       "    <tr>\n",
       "      <th>70532</th>\n",
       "      <td>work well cough drop tast great excel drop sooth realli good flavor could eat day even without cough remind kind candi use get corner store child</td>\n",
       "      <td>0</td>\n",
       "    </tr>\n",
       "    <tr>\n",
       "      <th>43033</th>\n",
       "      <td>tast great gener care much healthi altern especi come coffe howev tri truvia hotel hook usual get groceri store good see avail amazon prime might get onlin instead sweeten tast realli good addit coffe dessert tast great think even tast better sugar definit tast better splenda cannot comment health aspect relat artifici sweeten sure plenti inform avail internet relat casual coffe drinker highli recommend truvia howev may better purchas larger box count instead pack six unless realli like size count box never tri definit purchas smaller box tri first</td>\n",
       "      <td>0</td>\n",
       "    </tr>\n",
       "    <tr>\n",
       "      <th>29347</th>\n",
       "      <td>work diet recent start diet decid buy gummi bear cannot salti meal without someth sweet afterward like fact gummi bear fat free even though serv gram carb could eat satisfi bear bigger regular one friend said lot bigger use also flavor one flavor like one yellow one might banana rest tast great two bag last month multipl peopl eat everi day end semest start give away still half bag eat work diet lost lot weight even though ate gummi everi day perfect</td>\n",
       "      <td>0</td>\n",
       "    </tr>\n",
       "    <tr>\n",
       "      <th>83458</th>\n",
       "      <td>delici mildli stimul tea arriv promptli obvious hand fill plastic bag aluminum foil wrap around nice handwritten note seller tea form super fine talcum like green powder tast great much like green tea receiv good sushi restaur better opinon great hot also fine ice cold bother bag pinch near boil water littl goe long way ounc exampl last week longer stimul smoothli even smoother strong coffe normal tea say never felt jumpi wire drink tea even sever cup done sever time cool winter day notic feel sooth aromat tea experi find best drink within hour want go bed howev plan buy fresh delici tea would recommend anyon interest tri particularli enjoy tast green tea five star highli recommend</td>\n",
       "      <td>0</td>\n",
       "    </tr>\n",
       "    <tr>\n",
       "      <th>69841</th>\n",
       "      <td>fast easi make even tast pretti good use buy local retail sadli although still carri brand stop get banana nut flavor kept get lemon bar pecan someth flavor bought brand avail tast good textur ideal either glad amazon krusteaz banana nut flavor muffin moist soggi fluffi enough dri need add cup water cup oil egg usual cook cupcak pan cupcak paper instead degre f like box say put minut come perfect busi tire bake banana nut muffin bread scratch mix conveni tast great</td>\n",
       "      <td>0</td>\n",
       "    </tr>\n",
       "  </tbody>\n",
       "</table>\n",
       "</div>"
      ],
      "text/plain": [
       "                                                                                                                                                                                                                                                                                                                                                                                                                                                                                                                                                                                                                                                                                                          merge_processed  \\\n",
       "70532                                                                                                                                                                                                                                                                                                                                                                                                                                                                                                                                                                   work well cough drop tast great excel drop sooth realli good flavor could eat day even without cough remind kind candi use get corner store child   \n",
       "43033                                                                                                                                          tast great gener care much healthi altern especi come coffe howev tri truvia hotel hook usual get groceri store good see avail amazon prime might get onlin instead sweeten tast realli good addit coffe dessert tast great think even tast better sugar definit tast better splenda cannot comment health aspect relat artifici sweeten sure plenti inform avail internet relat casual coffe drinker highli recommend truvia howev may better purchas larger box count instead pack six unless realli like size count box never tri definit purchas smaller box tri first   \n",
       "29347                                                                                                                                                                                                                                              work diet recent start diet decid buy gummi bear cannot salti meal without someth sweet afterward like fact gummi bear fat free even though serv gram carb could eat satisfi bear bigger regular one friend said lot bigger use also flavor one flavor like one yellow one might banana rest tast great two bag last month multipl peopl eat everi day end semest start give away still half bag eat work diet lost lot weight even though ate gummi everi day perfect   \n",
       "83458  delici mildli stimul tea arriv promptli obvious hand fill plastic bag aluminum foil wrap around nice handwritten note seller tea form super fine talcum like green powder tast great much like green tea receiv good sushi restaur better opinon great hot also fine ice cold bother bag pinch near boil water littl goe long way ounc exampl last week longer stimul smoothli even smoother strong coffe normal tea say never felt jumpi wire drink tea even sever cup done sever time cool winter day notic feel sooth aromat tea experi find best drink within hour want go bed howev plan buy fresh delici tea would recommend anyon interest tri particularli enjoy tast green tea five star highli recommend   \n",
       "69841                                                                                                                                                                                                                               fast easi make even tast pretti good use buy local retail sadli although still carri brand stop get banana nut flavor kept get lemon bar pecan someth flavor bought brand avail tast good textur ideal either glad amazon krusteaz banana nut flavor muffin moist soggi fluffi enough dri need add cup water cup oil egg usual cook cupcak pan cupcak paper instead degre f like box say put minut come perfect busi tire bake banana nut muffin bread scratch mix conveni tast great   \n",
       "\n",
       "       label  \n",
       "70532      0  \n",
       "43033      0  \n",
       "29347      0  \n",
       "83458      0  \n",
       "69841      0  "
      ]
     },
     "execution_count": 65,
     "metadata": {},
     "output_type": "execute_result"
    }
   ],
   "source": [
    "train[(train['label']==0) & (train['merge_processed'].str.contains(\"tast great\"))][['merge_processed', 'label']].head()"
   ]
  },
  {
   "cell_type": "code",
   "execution_count": 86,
   "id": "f22bce77",
   "metadata": {
    "scrolled": true
   },
   "outputs": [
    {
     "data": {
      "text/plain": [
       "'Works well as a cough drop, and tastes great! These are excellent drops. Very soothing and a really good flavor. I could eat them all day even without having a cough! Reminds me of the kind of candy I used to get in the corner stores when I was a child.'"
      ]
     },
     "execution_count": 86,
     "metadata": {},
     "output_type": "execute_result"
    }
   ],
   "source": [
    "# an example\n",
    "train.loc[70532]['merge']"
   ]
  },
  {
   "cell_type": "markdown",
   "id": "99eaaf72",
   "metadata": {},
   "source": [
    "'Tast great' was used to compliment a product"
   ]
  },
  {
   "cell_type": "markdown",
   "id": "98c257f8",
   "metadata": {},
   "source": [
    "## Save to csv"
   ]
  },
  {
   "cell_type": "code",
   "execution_count": 66,
   "id": "3db3b13b",
   "metadata": {
    "scrolled": true
   },
   "outputs": [
    {
     "data": {
      "text/plain": [
       "(79999, 17)"
      ]
     },
     "execution_count": 66,
     "metadata": {},
     "output_type": "execute_result"
    }
   ],
   "source": [
    "train.shape"
   ]
  },
  {
   "cell_type": "code",
   "execution_count": 67,
   "id": "aacc37ae",
   "metadata": {},
   "outputs": [
    {
     "data": {
      "text/plain": [
       "(20000, 17)"
      ]
     },
     "execution_count": 67,
     "metadata": {},
     "output_type": "execute_result"
    }
   ],
   "source": [
    "test.shape"
   ]
  },
  {
   "cell_type": "code",
   "execution_count": 68,
   "id": "c79c0ffd",
   "metadata": {},
   "outputs": [],
   "source": [
    "train[['merge_processed', 'merge', 'score', 'label']].to_csv('../datasets/train_stem.csv', index=False)\n",
    "test[['merge_processed', 'merge', 'score', 'label']].to_csv('../datasets/test_stem.csv', index=False)"
   ]
  },
  {
   "cell_type": "markdown",
   "id": "a59b33ef",
   "metadata": {},
   "source": [
    "## Benchmark model\n",
    "### Valence Aware Dictionary for Sentiment Reasoning (VADER)\n",
    "A popular rule-based sentiment analyzer, trained with NLTK lexicon to predict the polarity and intensity of emotion from text.\n",
    "\n",
    "As vader is does not require pre-processing, we will plug in the raw dataset."
   ]
  },
  {
   "cell_type": "code",
   "execution_count": 100,
   "id": "fd2b5e48",
   "metadata": {},
   "outputs": [],
   "source": [
    "analyzer = SentimentIntensityAnalyzer()"
   ]
  },
  {
   "cell_type": "code",
   "execution_count": 109,
   "id": "91f24879",
   "metadata": {},
   "outputs": [
    {
     "data": {
      "text/plain": [
       "'Deceiving size I expected the size of the lifesavers to be the size of the normal sized ones. They are very small and thin. No where in the description does it mention mini size life savers. I noticed it on the bottle when they arrived. Very disappointed.'"
      ]
     },
     "execution_count": 109,
     "metadata": {},
     "output_type": "execute_result"
    }
   ],
   "source": [
    "# A negative review example\n",
    "train.loc[44619]['merge']"
   ]
  },
  {
   "cell_type": "code",
   "execution_count": 110,
   "id": "9fd92805",
   "metadata": {},
   "outputs": [
    {
     "data": {
      "text/plain": [
       "{'neg': 0.154, 'neu': 0.846, 'pos': 0.0, 'compound': -0.7902}"
      ]
     },
     "execution_count": 110,
     "metadata": {},
     "output_type": "execute_result"
    }
   ],
   "source": [
    "# generate polarity score for the above example\n",
    "analyzer.polarity_scores(train.loc[44619]['merge'])"
   ]
  },
  {
   "cell_type": "markdown",
   "id": "ea742b8d",
   "metadata": {},
   "source": [
    "For the above sentence, VADER's sentiment intensity analyser will return a dictionary of scores for 4 categories:\n",
    "- Negative\n",
    "- Neutral\n",
    "- Positive\n",
    "- Compound\n",
    "\n",
    "Compound is computed by normalizing the scores and is the aggregate. It ranges from -1(most extreme negative) and +1 (most extreme positive). The closer it is to +1, the higher the positivity of the text."
   ]
  },
  {
   "cell_type": "code",
   "execution_count": 111,
   "id": "18317016",
   "metadata": {},
   "outputs": [],
   "source": [
    "# calculate the polarity scores for each review\n",
    "list = []\n",
    "for reviews in train['merge']:\n",
    "    d = {}\n",
    "    d['neg'] = analyzer.polarity_scores(reviews)['neg'] \n",
    "    d['neu'] = analyzer.polarity_scores(reviews)['neu'] \n",
    "    d['pos'] = analyzer.polarity_scores(reviews)['pos'] \n",
    "    d['comp'] = analyzer.polarity_scores(reviews)['compound'] \n",
    "    list.append(d)"
   ]
  },
  {
   "cell_type": "code",
   "execution_count": 119,
   "id": "e214b862",
   "metadata": {},
   "outputs": [],
   "source": [
    "# reset train indext to match new dataframe\n",
    "train.reset_index(drop=True, inplace=True)"
   ]
  },
  {
   "cell_type": "code",
   "execution_count": 120,
   "id": "e42480ed",
   "metadata": {},
   "outputs": [],
   "source": [
    "# create a df of polarity scores with the reviews and labels\n",
    "vader = pd.DataFrame(list)\n",
    "vader['reviews'] = train['merge']\n",
    "vader['label'] = train['label']"
   ]
  },
  {
   "cell_type": "code",
   "execution_count": 130,
   "id": "72513dfe",
   "metadata": {
    "scrolled": true
   },
   "outputs": [
    {
     "data": {
      "text/html": [
       "<div>\n",
       "<style scoped>\n",
       "    .dataframe tbody tr th:only-of-type {\n",
       "        vertical-align: middle;\n",
       "    }\n",
       "\n",
       "    .dataframe tbody tr th {\n",
       "        vertical-align: top;\n",
       "    }\n",
       "\n",
       "    .dataframe thead th {\n",
       "        text-align: right;\n",
       "    }\n",
       "</style>\n",
       "<table border=\"1\" class=\"dataframe\">\n",
       "  <thead>\n",
       "    <tr style=\"text-align: right;\">\n",
       "      <th></th>\n",
       "      <th>neg</th>\n",
       "      <th>neu</th>\n",
       "      <th>pos</th>\n",
       "      <th>comp</th>\n",
       "      <th>reviews</th>\n",
       "      <th>label</th>\n",
       "      <th>pred</th>\n",
       "    </tr>\n",
       "  </thead>\n",
       "  <tbody>\n",
       "    <tr>\n",
       "      <th>0</th>\n",
       "      <td>0.000</td>\n",
       "      <td>0.585</td>\n",
       "      <td>0.415</td>\n",
       "      <td>0.9259</td>\n",
       "      <td>Pretty Good Thumbs up!&lt;br /&gt;&lt;br /&gt;Banana Nut Bread is good, if you love banana bread this soft bake bar is up your ally.</td>\n",
       "      <td>0</td>\n",
       "      <td>0</td>\n",
       "    </tr>\n",
       "    <tr>\n",
       "      <th>1</th>\n",
       "      <td>0.000</td>\n",
       "      <td>0.684</td>\n",
       "      <td>0.316</td>\n",
       "      <td>0.9677</td>\n",
       "      <td>Tasty This is a tasty flavor but not one I could drink everyday.  The honey flavor makes it a little sweet for my palette but for a dessert coffee it works wonderfully.  I won't but this for everyday repeated use but it is a good special treat flavor.</td>\n",
       "      <td>0</td>\n",
       "      <td>0</td>\n",
       "    </tr>\n",
       "    <tr>\n",
       "      <th>2</th>\n",
       "      <td>0.063</td>\n",
       "      <td>0.812</td>\n",
       "      <td>0.125</td>\n",
       "      <td>0.6625</td>\n",
       "      <td>Quick simple and sour As someone who develops his own starters I have learned about patience and failure. No such worries here within 24 hours starter was bubbling away with a strong sour nose to it. At the same time as I began this I also started 2 other \"commercial\" dried starters.  Both are days away from being ready.  If just starting out or can't wait a week for a starter I highly recommend this live one.</td>\n",
       "      <td>0</td>\n",
       "      <td>0</td>\n",
       "    </tr>\n",
       "    <tr>\n",
       "      <th>3</th>\n",
       "      <td>0.109</td>\n",
       "      <td>0.629</td>\n",
       "      <td>0.262</td>\n",
       "      <td>0.7626</td>\n",
       "      <td>best taste Taste excellent with mix berries and almond milk don't forget the ice, also try the peaches and cream I've lost 20 pounds with this powder shake.</td>\n",
       "      <td>0</td>\n",
       "      <td>0</td>\n",
       "    </tr>\n",
       "    <tr>\n",
       "      <th>4</th>\n",
       "      <td>0.063</td>\n",
       "      <td>0.937</td>\n",
       "      <td>0.000</td>\n",
       "      <td>-0.5106</td>\n",
       "      <td>Bland tasting I bought these to try as a lower fat alternative to peanuts. I found the taste to be bland and chalky. What it does have going for it: it's an organic product, and the pre-portioned one ounce bags are convenient to carry in a purse or bag. It's high in protein and low in fat. I couldn't really taste the sea salt flavor though.</td>\n",
       "      <td>1</td>\n",
       "      <td>1</td>\n",
       "    </tr>\n",
       "  </tbody>\n",
       "</table>\n",
       "</div>"
      ],
      "text/plain": [
       "     neg    neu    pos    comp  \\\n",
       "0  0.000  0.585  0.415  0.9259   \n",
       "1  0.000  0.684  0.316  0.9677   \n",
       "2  0.063  0.812  0.125  0.6625   \n",
       "3  0.109  0.629  0.262  0.7626   \n",
       "4  0.063  0.937  0.000 -0.5106   \n",
       "\n",
       "                                                                                                                                                                                                                                                                                                                                                                                                                         reviews  \\\n",
       "0                                                                                                                                                                                                                                                                                                       Pretty Good Thumbs up!<br /><br />Banana Nut Bread is good, if you love banana bread this soft bake bar is up your ally.   \n",
       "1                                                                                                                                                                    Tasty This is a tasty flavor but not one I could drink everyday.  The honey flavor makes it a little sweet for my palette but for a dessert coffee it works wonderfully.  I won't but this for everyday repeated use but it is a good special treat flavor.   \n",
       "2  Quick simple and sour As someone who develops his own starters I have learned about patience and failure. No such worries here within 24 hours starter was bubbling away with a strong sour nose to it. At the same time as I began this I also started 2 other \"commercial\" dried starters.  Both are days away from being ready.  If just starting out or can't wait a week for a starter I highly recommend this live one.   \n",
       "3                                                                                                                                                                                                                                                                   best taste Taste excellent with mix berries and almond milk don't forget the ice, also try the peaches and cream I've lost 20 pounds with this powder shake.   \n",
       "4                                                                         Bland tasting I bought these to try as a lower fat alternative to peanuts. I found the taste to be bland and chalky. What it does have going for it: it's an organic product, and the pre-portioned one ounce bags are convenient to carry in a purse or bag. It's high in protein and low in fat. I couldn't really taste the sea salt flavor though.   \n",
       "\n",
       "   label  pred  \n",
       "0      0     0  \n",
       "1      0     0  \n",
       "2      0     0  \n",
       "3      0     0  \n",
       "4      1     1  "
      ]
     },
     "execution_count": 130,
     "metadata": {},
     "output_type": "execute_result"
    }
   ],
   "source": [
    "vader.head()"
   ]
  },
  {
   "cell_type": "code",
   "execution_count": 128,
   "id": "24d61ff3",
   "metadata": {},
   "outputs": [],
   "source": [
    "# add a column of predicted label based on compound score\n",
    "vader['pred'] = vader['comp'].map(lambda x: 0 if x >= 0 else 1)"
   ]
  },
  {
   "cell_type": "code",
   "execution_count": 138,
   "id": "83f669c5",
   "metadata": {},
   "outputs": [
    {
     "data": {
      "text/plain": [
       "(18530, 7)"
      ]
     },
     "execution_count": 138,
     "metadata": {},
     "output_type": "execute_result"
    }
   ],
   "source": [
    "# number of misclassification\n",
    "vader[vader['pred'] != vader['label']].shape"
   ]
  },
  {
   "cell_type": "code",
   "execution_count": 140,
   "id": "e88cccf9",
   "metadata": {
    "scrolled": false
   },
   "outputs": [
    {
     "data": {
      "text/html": [
       "<div>\n",
       "<style scoped>\n",
       "    .dataframe tbody tr th:only-of-type {\n",
       "        vertical-align: middle;\n",
       "    }\n",
       "\n",
       "    .dataframe tbody tr th {\n",
       "        vertical-align: top;\n",
       "    }\n",
       "\n",
       "    .dataframe thead th {\n",
       "        text-align: right;\n",
       "    }\n",
       "</style>\n",
       "<table border=\"1\" class=\"dataframe\">\n",
       "  <thead>\n",
       "    <tr style=\"text-align: right;\">\n",
       "      <th></th>\n",
       "      <th>neg</th>\n",
       "      <th>neu</th>\n",
       "      <th>pos</th>\n",
       "      <th>comp</th>\n",
       "      <th>reviews</th>\n",
       "      <th>label</th>\n",
       "      <th>pred</th>\n",
       "    </tr>\n",
       "  </thead>\n",
       "  <tbody>\n",
       "    <tr>\n",
       "      <th>54</th>\n",
       "      <td>0.174</td>\n",
       "      <td>0.734</td>\n",
       "      <td>0.092</td>\n",
       "      <td>-0.8103</td>\n",
       "      <td>Don't use on hardwood floors Our corgi really loved this food toy/game.&lt;br /&gt;&lt;br /&gt;The only problem, we have hardwood floors and the toy was going to destroy our floors. So we're pretty bummed, but the dog won't be using this after just one day. Hardwood floors are too expensive to ruin for this toy. If you have wall to wall carpet or another type of flooring that a hard object won't damage it's great!</td>\n",
       "      <td>0</td>\n",
       "      <td>1</td>\n",
       "    </tr>\n",
       "    <tr>\n",
       "      <th>94</th>\n",
       "      <td>0.293</td>\n",
       "      <td>0.471</td>\n",
       "      <td>0.236</td>\n",
       "      <td>-0.2965</td>\n",
       "      <td>Super fresh! No one likes stale Nerds! I ordered these hoping it they wouldn't be, and they.......wait for it...WEREN'T! WOOT! be confident, order these today</td>\n",
       "      <td>0</td>\n",
       "      <td>1</td>\n",
       "    </tr>\n",
       "    <tr>\n",
       "      <th>232</th>\n",
       "      <td>0.132</td>\n",
       "      <td>0.770</td>\n",
       "      <td>0.098</td>\n",
       "      <td>-0.7533</td>\n",
       "      <td>Review ICV K1V-1116&lt;br /&gt;Saccharomyces cerevisiae&lt;br /&gt;&lt;br /&gt;Origin&lt;br /&gt;Selected by the Institut coop&amp;eacute;ratif du vin in Montpellier among numerous killer strains isolated and studied by Pierre Barre at INRA, the K1V-1116 strain was the first competitive factor yeast to go into commercial production and has become one of the most widely used active dried wine yeasts in the world.&lt;br /&gt;&lt;br /&gt;Oenological properties and applications&lt;br /&gt;The K1V-1116 strain is a rapid starter with a constant and complete fermentation between 10° and 35°C (50° and 95°F), capable of surviving a number of difficult conditions, such as low nutrient musts and high levels of sulfur dioxide (SO2) or sugar. Wines fermented with the K1V-1116 have very low volatile acidity, hydrogen sulfide (H2S) and foam production.&lt;br /&gt;&lt;br /&gt;The K1V-1116 strain tends to express the freshness of white grape varieties such as Sauvignon Blanc, Chenin Blanc and Seyval. The natural fresh fruit aromas are retained longer than with other standard yeast strains. Fruit wines and wines made from concentrates poor in nutrient balance benefit from the capacity of K1V-1116 to adapt to difficult fermentation conditions. Restarts stuck fermentations.&lt;br /&gt;&lt;br /&gt;Highly recommended for dry whites, aged reds, and late harvest wines.</td>\n",
       "      <td>0</td>\n",
       "      <td>1</td>\n",
       "    </tr>\n",
       "    <tr>\n",
       "      <th>468</th>\n",
       "      <td>0.171</td>\n",
       "      <td>0.707</td>\n",
       "      <td>0.122</td>\n",
       "      <td>-0.4174</td>\n",
       "      <td>It really is as good as they say it is! This flour makes dough that is so easy to form into a thin, flat pizza that it makes me cry that I've wasted years struggling with dough made from King Arthur's bread flour. What difference!</td>\n",
       "      <td>0</td>\n",
       "      <td>1</td>\n",
       "    </tr>\n",
       "    <tr>\n",
       "      <th>543</th>\n",
       "      <td>0.057</td>\n",
       "      <td>0.914</td>\n",
       "      <td>0.029</td>\n",
       "      <td>-0.3769</td>\n",
       "      <td>My Every Day Breakfast I have an obsession with Udi's Cranberry Granola. So much so that I have Amazon deliver it to my house in 6 packs every month! I literally eat this every morning for breakfast. Some people look forward to their morning cup of coffee...I look forward to my morning bowl of Udi's!!</td>\n",
       "      <td>0</td>\n",
       "      <td>1</td>\n",
       "    </tr>\n",
       "  </tbody>\n",
       "</table>\n",
       "</div>"
      ],
      "text/plain": [
       "       neg    neu    pos    comp  \\\n",
       "54   0.174  0.734  0.092 -0.8103   \n",
       "94   0.293  0.471  0.236 -0.2965   \n",
       "232  0.132  0.770  0.098 -0.7533   \n",
       "468  0.171  0.707  0.122 -0.4174   \n",
       "543  0.057  0.914  0.029 -0.3769   \n",
       "\n",
       "                                                                                                                                                                                                                                                                                                                                                                                                                                                                                                                                                                                                                                                                                                                                                                                                                                                                                                                                                                                                                                                                                                                                                                                                                                                                                                                                               reviews  \\\n",
       "54                                                                                                                                                                                                                                                                                                                                                                                                                                                                                                                                                                                                                                                                                                                                                                                                                                                                                                                               Don't use on hardwood floors Our corgi really loved this food toy/game.<br /><br />The only problem, we have hardwood floors and the toy was going to destroy our floors. So we're pretty bummed, but the dog won't be using this after just one day. Hardwood floors are too expensive to ruin for this toy. If you have wall to wall carpet or another type of flooring that a hard object won't damage it's great!   \n",
       "94                                                                                                                                                                                                                                                                                                                                                                                                                                                                                                                                                                                                                                                                                                                                                                                                                                                                                                                                                                                                                                                                                                                                                                                      Super fresh! No one likes stale Nerds! I ordered these hoping it they wouldn't be, and they.......wait for it...WEREN'T! WOOT! be confident, order these today   \n",
       "232  Review ICV K1V-1116<br />Saccharomyces cerevisiae<br /><br />Origin<br />Selected by the Institut coop&eacute;ratif du vin in Montpellier among numerous killer strains isolated and studied by Pierre Barre at INRA, the K1V-1116 strain was the first competitive factor yeast to go into commercial production and has become one of the most widely used active dried wine yeasts in the world.<br /><br />Oenological properties and applications<br />The K1V-1116 strain is a rapid starter with a constant and complete fermentation between 10° and 35°C (50° and 95°F), capable of surviving a number of difficult conditions, such as low nutrient musts and high levels of sulfur dioxide (SO2) or sugar. Wines fermented with the K1V-1116 have very low volatile acidity, hydrogen sulfide (H2S) and foam production.<br /><br />The K1V-1116 strain tends to express the freshness of white grape varieties such as Sauvignon Blanc, Chenin Blanc and Seyval. The natural fresh fruit aromas are retained longer than with other standard yeast strains. Fruit wines and wines made from concentrates poor in nutrient balance benefit from the capacity of K1V-1116 to adapt to difficult fermentation conditions. Restarts stuck fermentations.<br /><br />Highly recommended for dry whites, aged reds, and late harvest wines.   \n",
       "468                                                                                                                                                                                                                                                                                                                                                                                                                                                                                                                                                                                                                                                                                                                                                                                                                                                                                                                                                                                                                                                                                                             It really is as good as they say it is! This flour makes dough that is so easy to form into a thin, flat pizza that it makes me cry that I've wasted years struggling with dough made from King Arthur's bread flour. What difference!   \n",
       "543                                                                                                                                                                                                                                                                                                                                                                                                                                                                                                                                                                                                                                                                                                                                                                                                                                                                                                                                                                                                                                     My Every Day Breakfast I have an obsession with Udi's Cranberry Granola. So much so that I have Amazon deliver it to my house in 6 packs every month! I literally eat this every morning for breakfast. Some people look forward to their morning cup of coffee...I look forward to my morning bowl of Udi's!!   \n",
       "\n",
       "     label  pred  \n",
       "54       0     1  \n",
       "94       0     1  \n",
       "232      0     1  \n",
       "468      0     1  \n",
       "543      0     1  "
      ]
     },
     "execution_count": 140,
     "metadata": {},
     "output_type": "execute_result"
    }
   ],
   "source": [
    "# false positive (predicted as negative sentiment when it is actually positive)\n",
    "vader[(vader['label']==0) & (vader['pred']==1)].head()"
   ]
  },
  {
   "cell_type": "markdown",
   "id": "3beb7678",
   "metadata": {},
   "source": [
    "It predicted negative as maybe it focused on exclamation marks, words like \"don't\", \"wont't\", \"wasted\" or words that are used during negative feedbacks."
   ]
  },
  {
   "cell_type": "code",
   "execution_count": 141,
   "id": "8d0118a7",
   "metadata": {
    "scrolled": false
   },
   "outputs": [
    {
     "data": {
      "text/html": [
       "<div>\n",
       "<style scoped>\n",
       "    .dataframe tbody tr th:only-of-type {\n",
       "        vertical-align: middle;\n",
       "    }\n",
       "\n",
       "    .dataframe tbody tr th {\n",
       "        vertical-align: top;\n",
       "    }\n",
       "\n",
       "    .dataframe thead th {\n",
       "        text-align: right;\n",
       "    }\n",
       "</style>\n",
       "<table border=\"1\" class=\"dataframe\">\n",
       "  <thead>\n",
       "    <tr style=\"text-align: right;\">\n",
       "      <th></th>\n",
       "      <th>neg</th>\n",
       "      <th>neu</th>\n",
       "      <th>pos</th>\n",
       "      <th>comp</th>\n",
       "      <th>reviews</th>\n",
       "      <th>label</th>\n",
       "      <th>pred</th>\n",
       "    </tr>\n",
       "  </thead>\n",
       "  <tbody>\n",
       "    <tr>\n",
       "      <th>5</th>\n",
       "      <td>0.000</td>\n",
       "      <td>0.893</td>\n",
       "      <td>0.107</td>\n",
       "      <td>0.5719</td>\n",
       "      <td>NOT metallic There is nothing metallic about this color. It is gold in the fact that it is yellow, but that is it. There isn't any sheen or sparkle. I was bummed.</td>\n",
       "      <td>1</td>\n",
       "      <td>0</td>\n",
       "    </tr>\n",
       "    <tr>\n",
       "      <th>6</th>\n",
       "      <td>0.013</td>\n",
       "      <td>0.919</td>\n",
       "      <td>0.068</td>\n",
       "      <td>0.6407</td>\n",
       "      <td>Contains Palm Fruit Oil ! Please do not buy into this product being a pure back-to-nature good for you...good for the environment product.  IT IS NOT.  It contains palm fruit oil.  Cutting down of these forests could spell the complete demise of the orangutans as this is their habitat.  Palm fruit oil is used in soaps, cosmetics, and lots of other things - but who thought it was in this high-end peanut butter???  Amazon needs to put this information in the product listing so at least people will know what they're getting.</td>\n",
       "      <td>1</td>\n",
       "      <td>0</td>\n",
       "    </tr>\n",
       "    <tr>\n",
       "      <th>8</th>\n",
       "      <td>0.040</td>\n",
       "      <td>0.899</td>\n",
       "      <td>0.061</td>\n",
       "      <td>0.5744</td>\n",
       "      <td>Tastes Like Salty Tofu, Basically I haven't had vienna sausage since childhood, and even then I only had them occasionally, at other people's houses.  These were much less flavorful and much saltier than I remembered.  They aren't bad; they are basically tasteless, much like tofu.  I would suggest to anyone thinking about buying these to see if the company markets a low sodium version.&lt;br /&gt;&lt;br /&gt;The \"pink slime\" scare is a bit exaggerated in its details.  Still it's unnerving.  However, I had heard so many times from family friends and associates who are Native American and Chinese doctors etc. about how healthful it is to consume more than just the muscle tissue of animals, that I gave it some thought.  \"Pink slime\" does not contain every type of animal part.  Notably it will contain some highly beneficial parts we don't normally eat in the U.S., such as tendons and ligaments.  These actually are very healthy items featured in the cuisines of a number of cultures.  Not only am I unlikely to sit down to a nice bowl of Chinese beef tendons (which I don't think I could even chew up), but have you priced these products in the ethnic markets?  Very expensive.  So, if that's the case, and these cheapo little hotdogs offer the same thing, then maybe they warranted my reconsideration.  That was my line of thought, anyway.&lt;br /&gt;&lt;br /&gt;So - something to consider for those who are suffering from ailments such as arthritis or other bone and joint issues.  Again though - seriously - look for low salt ones if you want to try them.  These are too salty.  For me, since I got a lot of them with the order, I will be able to use them rather like a salty condiment added to dishes such as beans.</td>\n",
       "      <td>1</td>\n",
       "      <td>0</td>\n",
       "    </tr>\n",
       "    <tr>\n",
       "      <th>10</th>\n",
       "      <td>0.063</td>\n",
       "      <td>0.842</td>\n",
       "      <td>0.095</td>\n",
       "      <td>0.6304</td>\n",
       "      <td>Beware plastic jar I purchased this item from the local health food store - and it was in a glass jar.&lt;br /&gt;Fell in love with the flavor.  But when I placed my Amazon order, I didn't bother to look&lt;br /&gt;as to whether or not it was the same glass jar (my fault).  My order came today, and&lt;br /&gt;you guessed it, the manna was in plastic jars.&lt;br /&gt;&lt;br /&gt;It is the same product, but in my opinion it doesn't taste as&lt;br /&gt;good as the coconut manna from the glass jar.  I'm willing to go back to the health food&lt;br /&gt;store and pay a little bit more, so I won't have the plastic interfering with so&lt;br /&gt;lovely a product.</td>\n",
       "      <td>1</td>\n",
       "      <td>0</td>\n",
       "    </tr>\n",
       "    <tr>\n",
       "      <th>20</th>\n",
       "      <td>0.024</td>\n",
       "      <td>0.803</td>\n",
       "      <td>0.173</td>\n",
       "      <td>0.9095</td>\n",
       "      <td>More like a side dish, Add cheese and it makes a great dip I'm someone who needs some substance to her food to consider it an entree. To me this was more like a side dish. The flavor was okay, then again I'm just not a fan of most store-bought microwavable Indian dishes. I added 3 slices of Kraft American cheese and turned this into a dip for some Tostitos Scoops. Not bad.</td>\n",
       "      <td>1</td>\n",
       "      <td>0</td>\n",
       "    </tr>\n",
       "  </tbody>\n",
       "</table>\n",
       "</div>"
      ],
      "text/plain": [
       "      neg    neu    pos    comp  \\\n",
       "5   0.000  0.893  0.107  0.5719   \n",
       "6   0.013  0.919  0.068  0.6407   \n",
       "8   0.040  0.899  0.061  0.5744   \n",
       "10  0.063  0.842  0.095  0.6304   \n",
       "20  0.024  0.803  0.173  0.9095   \n",
       "\n",
       "                                                                                                                                                                                                                                                                                                                                                                                                                                                                                                                                                                                                                                                                                                                                                                                                                                                                                                                                                                                                                                                                                                                                                                                                                                                                                                                                                                                                                                                                                                                                                                                                                                                                                                                                                                     reviews  \\\n",
       "5                                                                                                                                                                                                                                                                                                                                                                                                                                                                                                                                                                                                                                                                                                                                                                                                                                                                                                                                                                                                                                                                                                                                                                                                                                                                                                                                                                                                                                                                                                                                                                                                         NOT metallic There is nothing metallic about this color. It is gold in the fact that it is yellow, but that is it. There isn't any sheen or sparkle. I was bummed.   \n",
       "6                                                                                                                                                                                                                                                                                                                                                                                                                                                                                                                                                                                                                                                                                                                                                                                                                                                                                                                                                                                                                                                                                                                                                                                                                            Contains Palm Fruit Oil ! Please do not buy into this product being a pure back-to-nature good for you...good for the environment product.  IT IS NOT.  It contains palm fruit oil.  Cutting down of these forests could spell the complete demise of the orangutans as this is their habitat.  Palm fruit oil is used in soaps, cosmetics, and lots of other things - but who thought it was in this high-end peanut butter???  Amazon needs to put this information in the product listing so at least people will know what they're getting.   \n",
       "8   Tastes Like Salty Tofu, Basically I haven't had vienna sausage since childhood, and even then I only had them occasionally, at other people's houses.  These were much less flavorful and much saltier than I remembered.  They aren't bad; they are basically tasteless, much like tofu.  I would suggest to anyone thinking about buying these to see if the company markets a low sodium version.<br /><br />The \"pink slime\" scare is a bit exaggerated in its details.  Still it's unnerving.  However, I had heard so many times from family friends and associates who are Native American and Chinese doctors etc. about how healthful it is to consume more than just the muscle tissue of animals, that I gave it some thought.  \"Pink slime\" does not contain every type of animal part.  Notably it will contain some highly beneficial parts we don't normally eat in the U.S., such as tendons and ligaments.  These actually are very healthy items featured in the cuisines of a number of cultures.  Not only am I unlikely to sit down to a nice bowl of Chinese beef tendons (which I don't think I could even chew up), but have you priced these products in the ethnic markets?  Very expensive.  So, if that's the case, and these cheapo little hotdogs offer the same thing, then maybe they warranted my reconsideration.  That was my line of thought, anyway.<br /><br />So - something to consider for those who are suffering from ailments such as arthritis or other bone and joint issues.  Again though - seriously - look for low salt ones if you want to try them.  These are too salty.  For me, since I got a lot of them with the order, I will be able to use them rather like a salty condiment added to dishes such as beans.   \n",
       "10                                                                                                                                                                                                                                                                                                                                                                                                                                                                                                                                                                                                                                                                                                                                                                                                                                                                                                                                                                                                                                                                                                                                   Beware plastic jar I purchased this item from the local health food store - and it was in a glass jar.<br />Fell in love with the flavor.  But when I placed my Amazon order, I didn't bother to look<br />as to whether or not it was the same glass jar (my fault).  My order came today, and<br />you guessed it, the manna was in plastic jars.<br /><br />It is the same product, but in my opinion it doesn't taste as<br />good as the coconut manna from the glass jar.  I'm willing to go back to the health food<br />store and pay a little bit more, so I won't have the plastic interfering with so<br />lovely a product.   \n",
       "20                                                                                                                                                                                                                                                                                                                                                                                                                                                                                                                                                                                                                                                                                                                                                                                                                                                                                                                                                                                                                                                                                                                                                                                                                                                                                                                                                                                   More like a side dish, Add cheese and it makes a great dip I'm someone who needs some substance to her food to consider it an entree. To me this was more like a side dish. The flavor was okay, then again I'm just not a fan of most store-bought microwavable Indian dishes. I added 3 slices of Kraft American cheese and turned this into a dip for some Tostitos Scoops. Not bad.   \n",
       "\n",
       "    label  pred  \n",
       "5       1     0  \n",
       "6       1     0  \n",
       "8       1     0  \n",
       "10      1     0  \n",
       "20      1     0  "
      ]
     },
     "execution_count": 141,
     "metadata": {},
     "output_type": "execute_result"
    }
   ],
   "source": [
    "# false negative (predicted as positive sentiment when it is actually negative)\n",
    "vader[(vader['label']==1) & (vader['pred']==0)].head()"
   ]
  },
  {
   "cell_type": "markdown",
   "id": "02386d91",
   "metadata": {},
   "source": [
    "It predicted positive as maybe it focus on positive words like \"love\" and within a sentence, there were multiple polarities."
   ]
  },
  {
   "cell_type": "code",
   "execution_count": 135,
   "id": "a741f770",
   "metadata": {},
   "outputs": [
    {
     "name": "stdout",
     "output_type": "stream",
     "text": [
      "              precision    recall  f1-score   support\n",
      "\n",
      "           0       0.75      0.97      0.85     53188\n",
      "           1       0.86      0.37      0.52     26811\n",
      "\n",
      "    accuracy                           0.77     79999\n",
      "   macro avg       0.81      0.67      0.68     79999\n",
      "weighted avg       0.79      0.77      0.74     79999\n",
      "\n"
     ]
    }
   ],
   "source": [
    "# classification report\n",
    "print(classification_report(vader['label'], vader['pred']))"
   ]
  },
  {
   "cell_type": "code",
   "execution_count": 137,
   "id": "4e6af057",
   "metadata": {
    "scrolled": true
   },
   "outputs": [
    {
     "data": {
      "text/plain": [
       "0.7683721046513081"
      ]
     },
     "execution_count": 137,
     "metadata": {},
     "output_type": "execute_result"
    }
   ],
   "source": [
    "# accuracy score\n",
    "accuracy_score(vader['label'], vader['pred'])"
   ]
  },
  {
   "cell_type": "markdown",
   "id": "10895249",
   "metadata": {},
   "source": [
    "VADER is able to classify 77% of sentiments and 37% of negative sentiment. We will build models and see if it can outperform VADER's accuracy and recall."
   ]
  },
  {
   "cell_type": "code",
   "execution_count": 144,
   "id": "00398c88",
   "metadata": {},
   "outputs": [
    {
     "data": {
      "text/html": [
       "<div>\n",
       "<style scoped>\n",
       "    .dataframe tbody tr th:only-of-type {\n",
       "        vertical-align: middle;\n",
       "    }\n",
       "\n",
       "    .dataframe tbody tr th {\n",
       "        vertical-align: top;\n",
       "    }\n",
       "\n",
       "    .dataframe thead th {\n",
       "        text-align: right;\n",
       "    }\n",
       "</style>\n",
       "<table border=\"1\" class=\"dataframe\">\n",
       "  <thead>\n",
       "    <tr style=\"text-align: right;\">\n",
       "      <th></th>\n",
       "      <th>Pred Positive Sentiment</th>\n",
       "      <th>Pred Negative Sentiment</th>\n",
       "    </tr>\n",
       "  </thead>\n",
       "  <tbody>\n",
       "    <tr>\n",
       "      <th>Actual Positive Sentiment</th>\n",
       "      <td>51628</td>\n",
       "      <td>1560</td>\n",
       "    </tr>\n",
       "    <tr>\n",
       "      <th>Actual Negative Sentiment</th>\n",
       "      <td>16970</td>\n",
       "      <td>9841</td>\n",
       "    </tr>\n",
       "  </tbody>\n",
       "</table>\n",
       "</div>"
      ],
      "text/plain": [
       "                           Pred Positive Sentiment  Pred Negative Sentiment\n",
       "Actual Positive Sentiment                    51628                     1560\n",
       "Actual Negative Sentiment                    16970                     9841"
      ]
     },
     "execution_count": 144,
     "metadata": {},
     "output_type": "execute_result"
    }
   ],
   "source": [
    "# confusion matrix\n",
    "cm = confusion_matrix(vader['label'], vader['pred'])\n",
    "cm_df = pd.DataFrame(\n",
    "    cm,\n",
    "    columns = ['Pred Positive Sentiment', 'Pred Negative Sentiment'],\n",
    "    index=['Actual Positive Sentiment', 'Actual Negative Sentiment']\n",
    ")\n",
    "cm_df"
   ]
  },
  {
   "cell_type": "markdown",
   "id": "e33626c0",
   "metadata": {},
   "source": [
    "Some issues that we noticed about VADER.\n",
    "\n",
    "- Not able to capture misspellings and grammatical errors that caused the analysis to overlook words. \n",
    "- Sarcasm may be misinterpreted as well. \n",
    "- There was some turns of phrase that weren't recognized."
   ]
  }
 ],
 "metadata": {
  "kernelspec": {
   "display_name": "Python 3",
   "language": "python",
   "name": "python3"
  },
  "language_info": {
   "codemirror_mode": {
    "name": "ipython",
    "version": 3
   },
   "file_extension": ".py",
   "mimetype": "text/x-python",
   "name": "python",
   "nbconvert_exporter": "python",
   "pygments_lexer": "ipython3",
   "version": "3.8.8"
  }
 },
 "nbformat": 4,
 "nbformat_minor": 5
}
